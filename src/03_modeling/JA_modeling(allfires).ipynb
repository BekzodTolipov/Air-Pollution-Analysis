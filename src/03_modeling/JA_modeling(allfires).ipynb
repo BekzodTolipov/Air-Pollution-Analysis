{
 "cells": [
  {
   "cell_type": "markdown",
   "id": "ad04f99f-ee30-4525-ba22-2ead3ab17406",
   "metadata": {},
   "source": [
    "# Modeling All the Fire Data"
   ]
  },
  {
   "cell_type": "code",
   "execution_count": 1,
   "id": "fb8fad32-9541-4cec-8c21-0584e8bf6bc9",
   "metadata": {},
   "outputs": [],
   "source": [
    "import pandas as pd\n",
    "import numpy as np\n",
    "import seaborn as sns\n",
    "import matplotlib.pyplot as plt\n",
    "\n",
    "from sklearn.preprocessing import StandardScaler\n",
    "from sklearn.tree import DecisionTreeRegressor\n",
    "from sklearn.ensemble import StackingRegressor, VotingRegressor, RandomForestRegressor, AdaBoostRegressor\n",
    "from sklearn.pipeline import Pipeline\n",
    "from sklearn.model_selection import cross_val_score, train_test_split, GridSearchCV\n",
    "from sklearn.linear_model import LinearRegression, ridge_regression, Lasso\n",
    "from sklearn.neighbors import KNeighborsRegressor\n",
    "from sklearn.decomposition import PCA\n",
    "from sklearn.metrics import mean_squared_error"
   ]
  },
  {
   "cell_type": "code",
   "execution_count": 2,
   "id": "5100cfd2-2493-499b-afd3-c0d90a1074db",
   "metadata": {},
   "outputs": [
    {
     "data": {
      "text/html": [
       "<div>\n",
       "<style scoped>\n",
       "    .dataframe tbody tr th:only-of-type {\n",
       "        vertical-align: middle;\n",
       "    }\n",
       "\n",
       "    .dataframe tbody tr th {\n",
       "        vertical-align: top;\n",
       "    }\n",
       "\n",
       "    .dataframe thead th {\n",
       "        text-align: right;\n",
       "    }\n",
       "</style>\n",
       "<table border=\"1\" class=\"dataframe\">\n",
       "  <thead>\n",
       "    <tr style=\"text-align: right;\">\n",
       "      <th></th>\n",
       "      <th>id</th>\n",
       "      <th>x</th>\n",
       "      <th>y</th>\n",
       "      <th>containmentdatetime</th>\n",
       "      <th>controldatetime</th>\n",
       "      <th>dailyacres</th>\n",
       "      <th>discoveryacres</th>\n",
       "      <th>firecause</th>\n",
       "      <th>firediscoverydatetime</th>\n",
       "      <th>incidenttypecategory</th>\n",
       "      <th>...</th>\n",
       "      <th>surface_soil_wetness_5cm_below</th>\n",
       "      <th>surface_soil_wetness_to_bedrock</th>\n",
       "      <th>wind_speed_2m_mean</th>\n",
       "      <th>wind_speed_2m_max_mean</th>\n",
       "      <th>wind_speed_10m_mean</th>\n",
       "      <th>wind_speed_10m_max_mean</th>\n",
       "      <th>humidity_mean</th>\n",
       "      <th>temp_2m_mean</th>\n",
       "      <th>rain_sum</th>\n",
       "      <th>land_cover_class</th>\n",
       "    </tr>\n",
       "  </thead>\n",
       "  <tbody>\n",
       "    <tr>\n",
       "      <th>0</th>\n",
       "      <td>0</td>\n",
       "      <td>-111.348611</td>\n",
       "      <td>33.195755</td>\n",
       "      <td>2020-07-23 05:29:59+00:00</td>\n",
       "      <td>2020-07-23 05:29:59+00:00</td>\n",
       "      <td>8.0</td>\n",
       "      <td>2.5</td>\n",
       "      <td>Human</td>\n",
       "      <td>2020-07-22 21:51:00+00:00</td>\n",
       "      <td>WF</td>\n",
       "      <td>...</td>\n",
       "      <td>0.12</td>\n",
       "      <td>0.38</td>\n",
       "      <td>1.410000</td>\n",
       "      <td>3.090000</td>\n",
       "      <td>1.895000</td>\n",
       "      <td>4.180000</td>\n",
       "      <td>13.210000</td>\n",
       "      <td>29.900000</td>\n",
       "      <td>2.60</td>\n",
       "      <td>474</td>\n",
       "    </tr>\n",
       "    <tr>\n",
       "      <th>1</th>\n",
       "      <td>1</td>\n",
       "      <td>-115.748812</td>\n",
       "      <td>40.617506</td>\n",
       "      <td>2020-08-03 23:00:00+00:00</td>\n",
       "      <td>2020-09-02 15:00:00+00:00</td>\n",
       "      <td>5985.9</td>\n",
       "      <td>5.0</td>\n",
       "      <td>Natural</td>\n",
       "      <td>2020-07-19 23:00:00+00:00</td>\n",
       "      <td>WF</td>\n",
       "      <td>...</td>\n",
       "      <td>0.31</td>\n",
       "      <td>0.37</td>\n",
       "      <td>1.933913</td>\n",
       "      <td>3.914783</td>\n",
       "      <td>2.865217</td>\n",
       "      <td>5.237174</td>\n",
       "      <td>5.657391</td>\n",
       "      <td>23.396304</td>\n",
       "      <td>12.62</td>\n",
       "      <td>489</td>\n",
       "    </tr>\n",
       "    <tr>\n",
       "      <th>2</th>\n",
       "      <td>2</td>\n",
       "      <td>-108.193611</td>\n",
       "      <td>39.858486</td>\n",
       "      <td>2020-08-30 00:00:00+00:00</td>\n",
       "      <td>2020-09-10 14:00:00+00:00</td>\n",
       "      <td>0.1</td>\n",
       "      <td>1.0</td>\n",
       "      <td>Natural</td>\n",
       "      <td>2020-08-29 21:46:00+00:00</td>\n",
       "      <td>WF</td>\n",
       "      <td>...</td>\n",
       "      <td>0.26</td>\n",
       "      <td>0.35</td>\n",
       "      <td>1.733846</td>\n",
       "      <td>2.986154</td>\n",
       "      <td>2.993846</td>\n",
       "      <td>4.754615</td>\n",
       "      <td>4.731538</td>\n",
       "      <td>16.121538</td>\n",
       "      <td>27.78</td>\n",
       "      <td>187</td>\n",
       "    </tr>\n",
       "    <tr>\n",
       "      <th>3</th>\n",
       "      <td>3</td>\n",
       "      <td>-109.703111</td>\n",
       "      <td>40.227646</td>\n",
       "      <td>2020-10-28 20:15:00+00:00</td>\n",
       "      <td>2020-10-28 20:15:00+00:00</td>\n",
       "      <td>0.1</td>\n",
       "      <td>0.1</td>\n",
       "      <td>Human</td>\n",
       "      <td>2020-10-28 19:37:00+00:00</td>\n",
       "      <td>WF</td>\n",
       "      <td>...</td>\n",
       "      <td>0.17</td>\n",
       "      <td>0.34</td>\n",
       "      <td>1.250000</td>\n",
       "      <td>2.980000</td>\n",
       "      <td>1.880000</td>\n",
       "      <td>4.020000</td>\n",
       "      <td>2.560000</td>\n",
       "      <td>5.480000</td>\n",
       "      <td>0.00</td>\n",
       "      <td>557</td>\n",
       "    </tr>\n",
       "    <tr>\n",
       "      <th>4</th>\n",
       "      <td>4</td>\n",
       "      <td>-110.385511</td>\n",
       "      <td>31.961145</td>\n",
       "      <td>2020-07-10 18:14:59+00:00</td>\n",
       "      <td>2020-07-10 18:14:59+00:00</td>\n",
       "      <td>0.1</td>\n",
       "      <td>0.1</td>\n",
       "      <td>Human</td>\n",
       "      <td>2020-07-09 16:34:59+00:00</td>\n",
       "      <td>WF</td>\n",
       "      <td>...</td>\n",
       "      <td>0.15</td>\n",
       "      <td>0.36</td>\n",
       "      <td>3.090000</td>\n",
       "      <td>5.055000</td>\n",
       "      <td>4.265000</td>\n",
       "      <td>6.800000</td>\n",
       "      <td>9.950000</td>\n",
       "      <td>31.235000</td>\n",
       "      <td>0.58</td>\n",
       "      <td>462</td>\n",
       "    </tr>\n",
       "  </tbody>\n",
       "</table>\n",
       "<p>5 rows × 38 columns</p>\n",
       "</div>"
      ],
      "text/plain": [
       "   id           x          y        containmentdatetime  \\\n",
       "0   0 -111.348611  33.195755  2020-07-23 05:29:59+00:00   \n",
       "1   1 -115.748812  40.617506  2020-08-03 23:00:00+00:00   \n",
       "2   2 -108.193611  39.858486  2020-08-30 00:00:00+00:00   \n",
       "3   3 -109.703111  40.227646  2020-10-28 20:15:00+00:00   \n",
       "4   4 -110.385511  31.961145  2020-07-10 18:14:59+00:00   \n",
       "\n",
       "             controldatetime  dailyacres  discoveryacres firecause  \\\n",
       "0  2020-07-23 05:29:59+00:00         8.0             2.5     Human   \n",
       "1  2020-09-02 15:00:00+00:00      5985.9             5.0   Natural   \n",
       "2  2020-09-10 14:00:00+00:00         0.1             1.0   Natural   \n",
       "3  2020-10-28 20:15:00+00:00         0.1             0.1     Human   \n",
       "4  2020-07-10 18:14:59+00:00         0.1             0.1     Human   \n",
       "\n",
       "       firediscoverydatetime incidenttypecategory  ...  \\\n",
       "0  2020-07-22 21:51:00+00:00                   WF  ...   \n",
       "1  2020-07-19 23:00:00+00:00                   WF  ...   \n",
       "2  2020-08-29 21:46:00+00:00                   WF  ...   \n",
       "3  2020-10-28 19:37:00+00:00                   WF  ...   \n",
       "4  2020-07-09 16:34:59+00:00                   WF  ...   \n",
       "\n",
       "  surface_soil_wetness_5cm_below  surface_soil_wetness_to_bedrock  \\\n",
       "0                           0.12                             0.38   \n",
       "1                           0.31                             0.37   \n",
       "2                           0.26                             0.35   \n",
       "3                           0.17                             0.34   \n",
       "4                           0.15                             0.36   \n",
       "\n",
       "   wind_speed_2m_mean wind_speed_2m_max_mean  wind_speed_10m_mean  \\\n",
       "0            1.410000               3.090000             1.895000   \n",
       "1            1.933913               3.914783             2.865217   \n",
       "2            1.733846               2.986154             2.993846   \n",
       "3            1.250000               2.980000             1.880000   \n",
       "4            3.090000               5.055000             4.265000   \n",
       "\n",
       "  wind_speed_10m_max_mean humidity_mean  temp_2m_mean rain_sum  \\\n",
       "0                4.180000     13.210000     29.900000     2.60   \n",
       "1                5.237174      5.657391     23.396304    12.62   \n",
       "2                4.754615      4.731538     16.121538    27.78   \n",
       "3                4.020000      2.560000      5.480000     0.00   \n",
       "4                6.800000      9.950000     31.235000     0.58   \n",
       "\n",
       "  land_cover_class  \n",
       "0              474  \n",
       "1              489  \n",
       "2              187  \n",
       "3              557  \n",
       "4              462  \n",
       "\n",
       "[5 rows x 38 columns]"
      ]
     },
     "execution_count": 2,
     "metadata": {},
     "output_type": "execute_result"
    }
   ],
   "source": [
    "df1 = pd.read_csv('../../data/processed/wildfire_weather.csv')\n",
    "df2 = pd.read_csv('../../data/cleaned/land_cover.csv', index_col = 'Unnamed: 0')\n",
    "df2.rename(columns = {'fire_id': 'id'}, inplace = True)\n",
    "df = pd.merge(df1, df2, on = 'id')\n",
    "df.head()"
   ]
  },
  {
   "cell_type": "code",
   "execution_count": 3,
   "id": "9c521583-b088-471f-b0c1-d7d5c8a92cc4",
   "metadata": {},
   "outputs": [
    {
     "name": "stdout",
     "output_type": "stream",
     "text": [
      "id\n",
      "x\n",
      "y\n",
      "containmentdatetime\n",
      "controldatetime\n",
      "dailyacres\n",
      "discoveryacres\n",
      "firecause\n",
      "firediscoverydatetime\n",
      "incidenttypecategory\n",
      "incidenttypekind\n",
      "initiallatitude\n",
      "initiallongitude\n",
      "irwinid\n",
      "localincidentidentifier\n",
      "poocounty\n",
      "poodispatchcenterid\n",
      "poofips\n",
      "poostate\n",
      "uniquefireidentifier\n",
      "temp_2m\n",
      "temp_2m_max\n",
      "humidity\n",
      "rain\n",
      "wind_speed_2m\n",
      "wind_speed_2m_max\n",
      "wind_speed_10m\n",
      "wind_speed_10m_max\n",
      "surface_soil_wetness_5cm_below\n",
      "surface_soil_wetness_to_bedrock\n",
      "wind_speed_2m_mean\n",
      "wind_speed_2m_max_mean\n",
      "wind_speed_10m_mean\n",
      "wind_speed_10m_max_mean\n",
      "humidity_mean\n",
      "temp_2m_mean\n",
      "rain_sum\n",
      "land_cover_class\n"
     ]
    }
   ],
   "source": [
    "for i in df.columns:\n",
    "    print(i)"
   ]
  },
  {
   "cell_type": "code",
   "execution_count": 4,
   "id": "b7323d66-612b-4131-96a6-0c66d0ca646a",
   "metadata": {},
   "outputs": [],
   "source": [
    "df['firediscoverydatetime'] = pd.to_datetime(df['firediscoverydatetime'])\n",
    "df['controldatetime'] = pd.to_datetime(df['controldatetime'])\n",
    "df['containmentdatetime'] = pd.to_datetime(df['containmentdatetime'])"
   ]
  },
  {
   "cell_type": "code",
   "execution_count": 5,
   "id": "d946ffd0-5e23-45f0-89ae-bbf5fbb01b79",
   "metadata": {},
   "outputs": [],
   "source": [
    "df['time_to_control'] = df['controldatetime'] - df['firediscoverydatetime']\n",
    "df['time_to_contain'] = df['containmentdatetime'] - df['firediscoverydatetime']\n",
    "\n",
    "df['minutes_to_control'] = df['time_to_control'].map(lambda x: x.total_seconds()/60)\n",
    "df['minutes_to_contain'] = df['time_to_contain'].map(lambda x: x.total_seconds()/60)"
   ]
  },
  {
   "cell_type": "code",
   "execution_count": 6,
   "id": "85e7512c-312d-4db3-b46b-2b7681c6306d",
   "metadata": {},
   "outputs": [
    {
     "data": {
      "text/plain": [
       "Human           9573\n",
       "Natural         6320\n",
       "Undetermined    4984\n",
       "Unknown          641\n",
       "Name: firecause, dtype: int64"
      ]
     },
     "execution_count": 6,
     "metadata": {},
     "output_type": "execute_result"
    }
   ],
   "source": [
    "df['firecause'].value_counts()"
   ]
  },
  {
   "cell_type": "code",
   "execution_count": 7,
   "id": "0aaffb2d-70e8-49ae-ab7e-d1cf808e1b1f",
   "metadata": {},
   "outputs": [],
   "source": [
    "df['firecause'] = df['firecause'].map({'Undetermined': 0, 'Unknown': 0, 'Natural': 1, 'Human' : 2})"
   ]
  },
  {
   "cell_type": "markdown",
   "id": "526889da-a60a-43ff-9bcf-710ceb5d1db0",
   "metadata": {},
   "source": [
    "---\n",
    "######\n",
    "### Investigating Correlation Between the Features and Target (DailyAcres) \n",
    "######\n",
    "___"
   ]
  },
  {
   "cell_type": "code",
   "execution_count": 8,
   "id": "02ea4d04-4036-467e-bb91-315ade08b160",
   "metadata": {},
   "outputs": [],
   "source": [
    "heatmap_cols = ['dailyacres', 'discoveryacres', 'minutes_to_control','minutes_to_contain', 'firecause', 'temp_2m', 'temp_2m_max', 'humidity', 'rain', 'wind_speed_2m',\n",
    "                'wind_speed_2m_max', 'wind_speed_10m', 'wind_speed_10m_max', 'surface_soil_wetness_5cm_below', 'surface_soil_wetness_to_bedrock', 'wind_speed_2m_mean',\n",
    "                'wind_speed_2m_max_mean', 'wind_speed_10m_mean', 'wind_speed_10m_max_mean', 'humidity_mean', 'temp_2m_mean', 'rain_sum', 'land_cover_class']"
   ]
  },
  {
   "cell_type": "code",
   "execution_count": 9,
   "id": "7fa5d062-9009-435f-88bb-04ece4d8da07",
   "metadata": {},
   "outputs": [
    {
     "data": {
      "image/png": "[encoded data removed]",
      "text/plain": [
       "<Figure size 600x1200 with 2 Axes>"
      ]
     },
     "metadata": {},
     "output_type": "display_data"
    }
   ],
   "source": [
    "plt.figure(figsize = (6, 12))\n",
    "sns.heatmap(df[heatmap_cols].corr()[['dailyacres']].sort_values(by = 'dailyacres', ascending=False),\n",
    "            vmin = -1,\n",
    "            vmax = 1, \n",
    "            cmap = 'coolwarm',\n",
    "            annot = True);"
   ]
  },
  {
   "cell_type": "markdown",
   "id": "ab0c1d2b-7162-4a9f-a5c6-7bde3e07fc60",
   "metadata": {},
   "source": [
    "---\n",
    "######\n",
    "### Briefly Investigating Correlation Between the Features and Target (DailyAcres) for Fires Equal to / Over 1 Acre\n",
    "######\n",
    "___"
   ]
  },
  {
   "cell_type": "code",
   "execution_count": 10,
   "id": "2e2f9342-dbab-4da6-a44e-18950c191312",
   "metadata": {},
   "outputs": [
    {
     "data": {
      "image/png": "[encoded data removed]",
      "text/plain": [
       "<Figure size 600x1200 with 2 Axes>"
      ]
     },
     "metadata": {},
     "output_type": "display_data"
    }
   ],
   "source": [
    "df_over_1_acre = df[df['dailyacres'] >=1.0]\n",
    "plt.figure(figsize = (6, 12))\n",
    "sns.heatmap(df_over_1_acre[heatmap_cols].corr()[['dailyacres']].sort_values(by = 'dailyacres', ascending=False),\n",
    "            vmin = -1,\n",
    "            vmax = 1, \n",
    "            cmap = 'coolwarm',\n",
    "            annot = True);"
   ]
  },
  {
   "cell_type": "code",
   "execution_count": 11,
   "id": "5af970b5-9355-4726-8871-52cb5a041c8c",
   "metadata": {},
   "outputs": [
    {
     "data": {
      "text/plain": [
       "(4905, 42)"
      ]
     },
     "execution_count": 11,
     "metadata": {},
     "output_type": "execute_result"
    }
   ],
   "source": [
    "df_over_1_acre.shape"
   ]
  },
  {
   "cell_type": "code",
   "execution_count": 12,
   "id": "c3bf0711-797f-4c33-a6ad-98ddf161036b",
   "metadata": {},
   "outputs": [
    {
     "data": {
      "text/plain": [
       "(21518, 42)"
      ]
     },
     "execution_count": 12,
     "metadata": {},
     "output_type": "execute_result"
    }
   ],
   "source": [
    "df.shape"
   ]
  },
  {
   "cell_type": "markdown",
   "id": "8cc95356-f575-4c22-baef-2529a23da2d0",
   "metadata": {},
   "source": [
    "---\n",
    "######\n",
    "### Feature Selection, Train/Test Splitting Data, and Standard Scaling\n",
    "######\n",
    "___"
   ]
  },
  {
   "cell_type": "code",
   "execution_count": 35,
   "id": "a046d9da-ced0-48e5-aa3a-d7a9178b2f20",
   "metadata": {},
   "outputs": [],
   "source": [
    "cols = ['dailyacres', 'discoveryacres', 'temp_2m', 'temp_2m_max', 'humidity', 'rain', 'wind_speed_2m', 'wind_speed_2m_max', 'wind_speed_10m', 'wind_speed_10m_max',\n",
    "        'surface_soil_wetness_5cm_below', 'surface_soil_wetness_to_bedrock', 'wind_speed_2m_mean', 'wind_speed_2m_max_mean', 'wind_speed_10m_mean', 'wind_speed_10m_max_mean',\n",
    "        'humidity_mean', 'temp_2m_mean', 'rain_sum', 'land_cover_class']\n"
   ]
  },
  {
   "cell_type": "code",
   "execution_count": 36,
   "id": "32658916-ab88-4be9-a83a-37279504b72d",
   "metadata": {},
   "outputs": [],
   "source": [
    "df = df[cols]\n",
    "\n",
    "X_train, X_test, y_train, y_test = train_test_split(df.drop(columns = 'dailyacres'), df['dailyacres'], random_state= 42)"
   ]
  },
  {
   "cell_type": "code",
   "execution_count": 37,
   "id": "1b167691-24fb-47ca-869e-924bc2d431cf",
   "metadata": {},
   "outputs": [],
   "source": [
    "ss = StandardScaler()\n",
    "X_train = ss.fit_transform(X_train)\n",
    "X_test = ss.transform(X_test)"
   ]
  },
  {
   "cell_type": "markdown",
   "id": "a7471dd0-269f-4f71-980e-3d9fc6584734",
   "metadata": {},
   "source": [
    "---\n",
    "######\n",
    "### Using PCA For Feature Elimination\n",
    "######\n",
    "___"
   ]
  },
  {
   "cell_type": "code",
   "execution_count": 38,
   "id": "fd82c3b0-46e2-4136-b8fa-01b17e7e6773",
   "metadata": {},
   "outputs": [],
   "source": [
    "pca = PCA(random_state = 42)\n",
    "\n",
    "Z_train = pca.fit_transform(X_train)\n",
    "Z_test = pca.transform(X_test)"
   ]
  },
  {
   "cell_type": "code",
   "execution_count": 39,
   "id": "c7382fc2-6aac-4c9c-8b6c-fcc359b18e9a",
   "metadata": {},
   "outputs": [
    {
     "data": {
      "text/plain": [
       "array([0.667, 0.773, 0.852, 0.905, 0.958, 0.99 , 0.997, 0.999, 1.   ,\n",
       "       1.   , 1.   , 1.   , 1.   , 1.   , 1.   , 1.   , 1.   , 1.   ,\n",
       "       1.   ])"
      ]
     },
     "execution_count": 39,
     "metadata": {},
     "output_type": "execute_result"
    }
   ],
   "source": [
    "explained = pca.explained_variance_ratio_\n",
    "cumulative = np.cumsum(explained)\n",
    "np.round(cumulative[:20], 3)"
   ]
  },
  {
   "cell_type": "code",
   "execution_count": 41,
   "id": "44fb8881-3751-409b-b7ab-e1324f6c4a99",
   "metadata": {},
   "outputs": [],
   "source": [
    "Z_train = Z_train[:,:9]\n",
    "Z_test = Z_test[:,:9]"
   ]
  },
  {
   "cell_type": "code",
   "execution_count": 69,
   "id": "22f87b3a-da6c-4081-9da3-cfdc22451e52",
   "metadata": {},
   "outputs": [],
   "source": [
    "#Saving the PCA data for investigations in Neural Nets\n",
    "#np.savetxt('../../data/processed/Neural_Net_Data/X_train_allfires.csv', X_train, delimiter=',')\n",
    "#np.savetxt('../../data/processed/Neural_Net_Data/X_test_allfires.csv', X_test, delimiter=',')\n",
    "#np.savetxt('../../data/processed/Neural_Net_Data/Z_train_allfires.csv', Z_train, delimiter=',')\n",
    "#np.savetxt('../../data/processed/Neural_Net_Data/Z_test_allfires.csv', Z_test, delimiter=',')\n",
    "#np.savetxt('../../data/processed/Neural_Net_Data/y_train.csv', y_train, delimiter=',')\n",
    "#np.savetxt('../../data/processed/Neural_Net_Data/y_test.csv', y_test, delimiter=',')"
   ]
  },
  {
   "cell_type": "markdown",
   "id": "a56bc06b-1b97-4390-9168-465ad7a6707b",
   "metadata": {},
   "source": [
    "---\n",
    "######\n",
    "### Modeling / Simple Models\n",
    "######\n",
    "---"
   ]
  },
  {
   "cell_type": "markdown",
   "id": "7e9c59b4-b2a4-4e23-8c4c-0d16644b696c",
   "metadata": {},
   "source": [
    "#### Linear Regression (Baseline) with DF"
   ]
  },
  {
   "cell_type": "code",
   "execution_count": 44,
   "id": "82e0d232-ff13-4963-ae9f-2793a14d914b",
   "metadata": {},
   "outputs": [
    {
     "name": "stdout",
     "output_type": "stream",
     "text": [
      "Training R-Squared: 0.05302631951946635\n",
      "Testing R-Squared: 0.03748600879230257\n",
      "==================================================\n",
      "RMSE: 9514.356635159562\n"
     ]
    }
   ],
   "source": [
    "#Linear Regression - Baseline\n",
    "# With X data\n",
    "lr = LinearRegression()\n",
    "\n",
    "lr.fit(X_train, y_train)\n",
    "print(f'Training R-Squared: {lr.score(X_train, y_train)}')\n",
    "print(f'Testing R-Squared: {lr.score(X_test, y_test)}')\n",
    "print('='*50)\n",
    "print(f'RMSE: {mean_squared_error(y_test, lr.predict(X_test), squared = False)}')"
   ]
  },
  {
   "cell_type": "markdown",
   "id": "473fccc5-6158-4d80-8ede-98f82d617e5a",
   "metadata": {},
   "source": [
    "#### Linear Regression (Baseline) with PCA"
   ]
  },
  {
   "cell_type": "code",
   "execution_count": 45,
   "id": "43c3e0f2-ffd7-426e-9ca4-db68c06c7cd9",
   "metadata": {},
   "outputs": [
    {
     "name": "stdout",
     "output_type": "stream",
     "text": [
      "Training R-Squared: 0.01094521157588535\n",
      "Testing R-Squared: 0.007833991080405056\n",
      "==================================================\n",
      "RMSE: 9659.79862673702\n"
     ]
    }
   ],
   "source": [
    "#Linear Regression - Baseline\n",
    "# With PCA Data\n",
    "lr = LinearRegression()\n",
    "\n",
    "lr.fit(Z_train, y_train)\n",
    "print(f'Training R-Squared: {lr.score(Z_train, y_train)}')\n",
    "print(f'Testing R-Squared: {lr.score(Z_test, y_test)}')\n",
    "print('='*50)\n",
    "print(f'RMSE: {mean_squared_error(y_test, lr.predict(Z_test), squared = False)}')"
   ]
  },
  {
   "cell_type": "code",
   "execution_count": 46,
   "id": "3b15c720-05e0-4c5a-a85c-e0c5567b5276",
   "metadata": {},
   "outputs": [],
   "source": [
    "def model_eval(model, param_dict, training_data):\n",
    "    '''\n",
    "    d\n",
    "    '''\n",
    "    \n",
    "    gs_model = GridSearchCV(model,\n",
    "                            param_grid = param_dict,\n",
    "                            n_jobs = -1)\n",
    "    if training_data == 'X_train':\n",
    "        gs_model.fit(X_train, y_train)\n",
    "        print(f'Best Score: {gs_model.best_score_}')\n",
    "        print(f'Best Params: {gs_model.best_params_}')\n",
    "        print('='*50)\n",
    "        print(f'RMSE: {mean_squared_error(y_test, gs_model.predict(X_test), squared = False)}')\n",
    "        print('='*50)\n",
    "        print(f'Training R-Squared: {gs_model.score(X_train, y_train)}')\n",
    "        print(f'Testing R-Squared: {gs_model.score(X_test, y_test)}')\n",
    "        \n",
    "    elif training_data == 'Z_train':\n",
    "        gs_model.fit(Z_train, y_train)\n",
    "        print(f'Best Score: {gs_model.best_score_}')\n",
    "        print(f'Best Params: {gs_model.best_params_}')\n",
    "        print('='*50)\n",
    "        print(f'RMSE: {mean_squared_error(y_test, gs_model.predict(Z_test), squared = False)}')\n",
    "        print('='*50)\n",
    "        print(f'Training R-Squared: {gs_model.score(Z_train, y_train)}')\n",
    "        print(f'Testing R-Squared: {gs_model.score(Z_test, y_test)}')\n",
    "    else:\n",
    "        return 'Try Again'"
   ]
  },
  {
   "cell_type": "markdown",
   "id": "e39808b7-347c-4582-ae20-150656d85c08",
   "metadata": {},
   "source": [
    "#### KNN Regression with DF"
   ]
  },
  {
   "cell_type": "code",
   "execution_count": 47,
   "id": "8ad4cdb7-7491-4c82-938e-3c839299206f",
   "metadata": {},
   "outputs": [
    {
     "name": "stdout",
     "output_type": "stream",
     "text": [
      "Best Score: 0.022053459421078614\n",
      "Best Params: {'n_neighbors': 1000, 'weights': 'distance'}\n",
      "==================================================\n",
      "RMSE: 9596.874908033386\n",
      "==================================================\n",
      "Training R-Squared: 0.9994216487641527\n",
      "Testing R-Squared: 0.020717787296154477\n"
     ]
    }
   ],
   "source": [
    "#KNN Regressor with X Data\n",
    "    #Using high n_neighbors trying to combat high variance\n",
    "\n",
    "knn_model = KNeighborsRegressor(n_jobs=-1)\n",
    "\n",
    "knn_params = {\n",
    "    'n_neighbors': range(1000, 2001, 100),\n",
    "    'weights': ['uniform', 'distance']\n",
    "}\n",
    "\n",
    "model_eval(model = knn_model,\n",
    "           param_dict = knn_params,\n",
    "           training_data = 'X_train')"
   ]
  },
  {
   "cell_type": "markdown",
   "id": "ce8089ea-2a6c-4485-b23f-6e2a99f361f2",
   "metadata": {},
   "source": [
    "#### KNN Regression with PCA Data"
   ]
  },
  {
   "cell_type": "code",
   "execution_count": 48,
   "id": "5e69d66e-20a9-4f00-bbb8-c53f85d37d48",
   "metadata": {},
   "outputs": [
    {
     "name": "stdout",
     "output_type": "stream",
     "text": [
      "Best Score: 0.022592615109049863\n",
      "Best Params: {'n_neighbors': 1000, 'weights': 'distance'}\n",
      "==================================================\n",
      "RMSE: 9591.074253201468\n",
      "==================================================\n",
      "Training R-Squared: 0.9994216487628944\n",
      "Testing R-Squared: 0.02190124783367442\n"
     ]
    }
   ],
   "source": [
    "#KNN Regressor with PCA Data\n",
    "    #Using high n_neighbors trying to combat high variance\n",
    "\n",
    "knn_model = KNeighborsRegressor(n_jobs=-1)\n",
    "\n",
    "knn_params = {\n",
    "    'n_neighbors': range(1000, 2001, 100),\n",
    "    'weights': ['uniform', 'distance']\n",
    "}\n",
    "\n",
    "model_eval(model = knn_model,\n",
    "           param_dict = knn_params,\n",
    "           training_data = 'Z_train')"
   ]
  },
  {
   "cell_type": "markdown",
   "id": "e067b313-408b-44bf-9388-1f1d5f55f211",
   "metadata": {},
   "source": [
    "#### Lasso Regression with DF"
   ]
  },
  {
   "cell_type": "code",
   "execution_count": 59,
   "id": "ef184bcc-6786-400d-b2de-5614b88b6e44",
   "metadata": {},
   "outputs": [
    {
     "name": "stdout",
     "output_type": "stream",
     "text": [
      "Best Score: 0.03280887726152004\n",
      "Best Params: {'alpha': 1}\n",
      "==================================================\n",
      "RMSE: 9537.76278570635\n",
      "==================================================\n",
      "Training R-Squared: 0.04046841171774218\n",
      "Testing R-Squared: 0.03274444620592554\n"
     ]
    },
    {
     "name": "stderr",
     "output_type": "stream",
     "text": [
      "C:\\Users\\jeffr\\anaconda3\\lib\\site-packages\\sklearn\\linear_model\\_coordinate_descent.py:647: ConvergenceWarning: Objective did not converge. You might want to increase the number of iterations, check the scale of the features or consider increasing regularisation. Duality gap: 1.570e+11, tolerance: 4.706e+07\n",
      "  model = cd_fast.enet_coordinate_descent(\n"
     ]
    }
   ],
   "source": [
    "# Lasso Regression with X Data\n",
    "\n",
    "lasso = Lasso()\n",
    "lasso_params = {\n",
    "    'alpha': range(1, 10)\n",
    "}\n",
    "\n",
    "model_eval(model = lasso,\n",
    "           param_dict = lasso_params,\n",
    "           training_data = 'X_train')"
   ]
  },
  {
   "cell_type": "markdown",
   "id": "0f3bcff3-f1d8-4f9e-8df8-b3b41c7631ef",
   "metadata": {},
   "source": [
    "#### Lasso Regression with PCA"
   ]
  },
  {
   "cell_type": "code",
   "execution_count": 60,
   "id": "f5bb0b0a-933d-44b6-9592-93355e1b02ad",
   "metadata": {},
   "outputs": [
    {
     "name": "stdout",
     "output_type": "stream",
     "text": [
      "Best Score: 0.005758451308905998\n",
      "Best Params: {'alpha': 114}\n",
      "==================================================\n",
      "RMSE: 9645.323993344986\n",
      "==================================================\n",
      "Training R-Squared: 0.008444970739030833\n",
      "Testing R-Squared: 0.01080516678840393\n"
     ]
    }
   ],
   "source": [
    "# Lasso Regression with PCA Data\n",
    "\n",
    "lasso = Lasso()\n",
    "lasso_params = {\n",
    "    'alpha': range(90, 200, 2)\n",
    "}\n",
    "\n",
    "model_eval(model = lasso,\n",
    "           param_dict = lasso_params,\n",
    "           training_data = 'Z_train')"
   ]
  },
  {
   "cell_type": "markdown",
   "id": "51afb486-8b6a-4b54-a052-614076848a81",
   "metadata": {},
   "source": [
    "#### Adaboost Regression with DF"
   ]
  },
  {
   "cell_type": "code",
   "execution_count": 63,
   "id": "1e2d2b7d-fc0e-4548-b44e-bcbd0ac0cf9b",
   "metadata": {},
   "outputs": [
    {
     "name": "stdout",
     "output_type": "stream",
     "text": [
      "Best Score: -0.04029986624788111\n",
      "Best Params: {'learning_rate': 0.08999999999999998, 'n_estimators': 40}\n",
      "==================================================\n",
      "RMSE: 9163.81142250772\n",
      "==================================================\n",
      "Training R-Squared: 0.7298694428500847\n",
      "Testing R-Squared: 0.10710480625283525\n"
     ]
    }
   ],
   "source": [
    "# Adaboost with X Data\n",
    "\n",
    "ada = AdaBoostRegressor()\n",
    "ada_params = {\n",
    "    'n_estimators': range(40, 81, 10),\n",
    "    'learning_rate': np.linspace(0.01, .25, 10) \n",
    "}\n",
    "\n",
    "model_eval(model = ada,\n",
    "           param_dict = ada_params,\n",
    "           training_data = 'X_train')"
   ]
  },
  {
   "cell_type": "markdown",
   "id": "2e1cd76a-402b-4751-b1a4-ad8b9d4a4515",
   "metadata": {},
   "source": [
    "#### Adaboost Regression with PCA"
   ]
  },
  {
   "cell_type": "code",
   "execution_count": 62,
   "id": "8cb35fcb-f898-414c-84d5-1e421283e166",
   "metadata": {},
   "outputs": [
    {
     "name": "stdout",
     "output_type": "stream",
     "text": [
      "Best Score: 0.025035429384642493\n",
      "Best Params: {'learning_rate': 0.4444444444444445, 'n_estimators': 20}\n",
      "==================================================\n",
      "RMSE: 9058.74473272461\n",
      "==================================================\n",
      "Training R-Squared: 0.7408167584447627\n",
      "Testing R-Squared: 0.12746221727163864\n"
     ]
    }
   ],
   "source": [
    "# Adaboost with PCA Data\n",
    "\n",
    "ada = AdaBoostRegressor()\n",
    "ada_params = {\n",
    "    'n_estimators': range(10, 101, 10),\n",
    "    'learning_rate': np.linspace(0.2, .75, 10) \n",
    "}\n",
    "\n",
    "model_eval(model = ada,\n",
    "           param_dict = ada_params,\n",
    "           training_data = 'Z_train')"
   ]
  },
  {
   "cell_type": "markdown",
   "id": "28d2900f-7605-403b-8dcd-7a5fb5acd34c",
   "metadata": {},
   "source": [
    "---\n",
    "######\n",
    "### Modeling / Ensemble Models\n",
    "######\n",
    "---"
   ]
  },
  {
   "cell_type": "markdown",
   "id": "31cdfde2-5de9-495b-95d0-7244405a124a",
   "metadata": {},
   "source": [
    "#### Stacking Regression with DF and with DecisionTreeRegressor Final Estimator"
   ]
  },
  {
   "cell_type": "code",
   "execution_count": 54,
   "id": "50e00118-1024-483f-994a-4e95c0a4b4a5",
   "metadata": {},
   "outputs": [
    {
     "name": "stdout",
     "output_type": "stream",
     "text": [
      "Training R-Squared: -0.5050915692869558\n",
      "Testing R-Squared: -0.19302000971306454\n",
      "==================================================\n",
      "RMSE: 10592.531514659491\n"
     ]
    }
   ],
   "source": [
    "# Stacking Regressor with X_train\n",
    "\n",
    "lvl1_est = ([\n",
    "    ('rf', RandomForestRegressor(n_jobs=-1)),\n",
    "    ('ada', AdaBoostRegressor()),\n",
    "    ('lasso', Lasso())\n",
    "])\n",
    "\n",
    "stack = StackingRegressor(estimators=lvl1_est, \n",
    "                          final_estimator=DecisionTreeRegressor(),\n",
    "                         n_jobs=-1)\n",
    "\n",
    "stack.fit(X_train, y_train)\n",
    "\n",
    "print(f'Training R-Squared: {stack.score(X_train, y_train)}')\n",
    "print(f'Testing R-Squared: {stack.score(X_test, y_test)}')\n",
    "print('='*50)\n",
    "print(f'RMSE: {mean_squared_error(y_test, stack.predict(X_test), squared = False)}')"
   ]
  },
  {
   "cell_type": "markdown",
   "id": "b774d8cf-b331-41f6-93bc-f6b889bca99c",
   "metadata": {},
   "source": [
    "#### Stacking Regression with PCA and with DecisionTreeRegressor Final Estimator"
   ]
  },
  {
   "cell_type": "code",
   "execution_count": 53,
   "id": "3009254b-0e37-4f30-be03-58039d6b0348",
   "metadata": {},
   "outputs": [
    {
     "name": "stdout",
     "output_type": "stream",
     "text": [
      "Training R-Squared: -0.3673501265838599\n",
      "Testing R-Squared: -0.4501559079356432\n",
      "==================================================\n",
      "RMSE: 11678.397382640584\n"
     ]
    }
   ],
   "source": [
    "# Stacking Regressor with Z_train\n",
    "\n",
    "lvl1_est = ([\n",
    "    ('rf', RandomForestRegressor(n_jobs=-1)),\n",
    "    ('ada', AdaBoostRegressor()),\n",
    "    ('lasso', Lasso())\n",
    "])\n",
    "\n",
    "stack = StackingRegressor(estimators=lvl1_est, \n",
    "                          final_estimator=DecisionTreeRegressor(),\n",
    "                         n_jobs=-1)\n",
    "\n",
    "stack.fit(Z_train, y_train)\n",
    "\n",
    "print(f'Training R-Squared: {stack.score(Z_train, y_train)}')\n",
    "print(f'Testing R-Squared: {stack.score(Z_test, y_test)}')\n",
    "print('='*50)\n",
    "print(f'RMSE: {mean_squared_error(y_test, stack.predict(Z_test), squared = False)}')"
   ]
  },
  {
   "cell_type": "markdown",
   "id": "e447d577-52c8-43bb-8498-f19667dd9f2e",
   "metadata": {},
   "source": [
    "#### Stacking Regression with DF and with LinearRegression Final Estimator"
   ]
  },
  {
   "cell_type": "code",
   "execution_count": 66,
   "id": "984b103b-9c0e-4409-bc10-4056a751dae0",
   "metadata": {},
   "outputs": [
    {
     "name": "stdout",
     "output_type": "stream",
     "text": [
      "Training R-Squared: 0.40313037814022934\n",
      "Testing R-Squared: 0.05359503716353908\n",
      "==================================================\n",
      "RMSE: 9434.402603024637\n"
     ]
    }
   ],
   "source": [
    "# Stacking Regressor\n",
    "\n",
    "lvl1_est = ([\n",
    "    ('rf', RandomForestRegressor(n_jobs=-1)),\n",
    "    ('ada', AdaBoostRegressor()),\n",
    "    ('lasso', Lasso())\n",
    "])\n",
    "\n",
    "stack = StackingRegressor(estimators=lvl1_est, \n",
    "                          final_estimator=LinearRegression(),\n",
    "                         n_jobs=-1)\n",
    "\n",
    "stack.fit(X_train, y_train)\n",
    "\n",
    "print(f'Training R-Squared: {stack.score(X_train, y_train)}')\n",
    "print(f'Testing R-Squared: {stack.score(X_test, y_test)}')\n",
    "print('='*50)\n",
    "print(f'RMSE: {mean_squared_error(y_test, stack.predict(X_test), squared = False)}')"
   ]
  },
  {
   "cell_type": "markdown",
   "id": "1d3ad4ae-6c03-408c-be21-196d32817f2a",
   "metadata": {},
   "source": [
    "#### Stacking Regression with PCA and with LinearRegression Final Estimator"
   ]
  },
  {
   "cell_type": "code",
   "execution_count": 55,
   "id": "3140c54f-70db-45f3-b270-257e6b904644",
   "metadata": {},
   "outputs": [
    {
     "name": "stdout",
     "output_type": "stream",
     "text": [
      "Training R-Squared: 0.4180682684983795\n",
      "Testing R-Squared: 0.054591009218659114\n",
      "==================================================\n",
      "RMSE: 9429.437035877161\n"
     ]
    }
   ],
   "source": [
    "# Stacking Regressor\n",
    "\n",
    "lvl1_est = ([\n",
    "    ('rf', RandomForestRegressor(n_jobs=-1)),\n",
    "    ('ada', AdaBoostRegressor()),\n",
    "    ('lasso', Lasso())\n",
    "])\n",
    "\n",
    "stack = StackingRegressor(estimators=lvl1_est, \n",
    "                          final_estimator=LinearRegression(),\n",
    "                         n_jobs=-1)\n",
    "\n",
    "stack.fit(Z_train, y_train)\n",
    "\n",
    "print(f'Training R-Squared: {stack.score(Z_train, y_train)}')\n",
    "print(f'Testing R-Squared: {stack.score(Z_test, y_test)}')\n",
    "print('='*50)\n",
    "print(f'RMSE: {mean_squared_error(y_test, stack.predict(Z_test), squared = False)}')"
   ]
  },
  {
   "cell_type": "markdown",
   "id": "a4c28af5-4605-480f-bd8e-85da30b1b13e",
   "metadata": {},
   "source": [
    "#### Stacking Regression with PCA and with Lasso Final Estimator"
   ]
  },
  {
   "cell_type": "code",
   "execution_count": 56,
   "id": "c0ee9cc4-909b-4959-ba3d-c12da5b0e80b",
   "metadata": {},
   "outputs": [
    {
     "name": "stdout",
     "output_type": "stream",
     "text": [
      "Training R-Squared: 0.3954483144549096\n",
      "Testing R-Squared: 0.05667177730731299\n",
      "==================================================\n",
      "RMSE: 9419.054609048755\n"
     ]
    }
   ],
   "source": [
    "# Stacking Regressor\n",
    "\n",
    "lvl1_est = ([\n",
    "    ('rf', RandomForestRegressor(n_jobs=-1)),\n",
    "    ('ada', AdaBoostRegressor()),\n",
    "    ('lasso', Lasso())\n",
    "])\n",
    "\n",
    "stack = StackingRegressor(estimators=lvl1_est, \n",
    "                          final_estimator=Lasso(),\n",
    "                         n_jobs=-1)\n",
    "\n",
    "stack.fit(Z_train, y_train)\n",
    "\n",
    "print(f'Training R-Squared: {stack.score(Z_train, y_train)}')\n",
    "print(f'Testing R-Squared: {stack.score(Z_test, y_test)}')\n",
    "print('='*50)\n",
    "print(f'RMSE: {mean_squared_error(y_test, stack.predict(Z_test), squared = False)}')"
   ]
  },
  {
   "cell_type": "markdown",
   "id": "0c400215-ffcd-4523-bc6a-c7e5d8242d89",
   "metadata": {},
   "source": [
    "#### Stacking Regression (different base estimators) with PCA and with LinearRegression Final Estimator"
   ]
  },
  {
   "cell_type": "code",
   "execution_count": 57,
   "id": "3b17bbb5-0520-4cee-b373-335bb8590e74",
   "metadata": {},
   "outputs": [
    {
     "name": "stdout",
     "output_type": "stream",
     "text": [
      "Training R-Squared: 0.28413288442380635\n",
      "Testing R-Squared: 0.041269829078196874\n",
      "==================================================\n",
      "RMSE: 9495.636872664436\n"
     ]
    }
   ],
   "source": [
    "# Stacking Regressor\n",
    "\n",
    "lvl1_est = ([\n",
    "    ('ada', AdaBoostRegressor()),\n",
    "    ('lasso', Lasso())\n",
    "])\n",
    "\n",
    "stack = StackingRegressor(estimators=lvl1_est, \n",
    "                          final_estimator=Lasso(),\n",
    "                         n_jobs=-1)\n",
    "\n",
    "stack.fit(Z_train, y_train)\n",
    "\n",
    "print(f'Training R-Squared: {stack.score(Z_train, y_train)}')\n",
    "print(f'Testing R-Squared: {stack.score(Z_test, y_test)}')\n",
    "print('='*50)\n",
    "print(f'RMSE: {mean_squared_error(y_test, stack.predict(Z_test), squared = False)}')"
   ]
  },
  {
   "cell_type": "markdown",
   "id": "9a6b2331-b35b-4059-b5f0-c7668a66d171",
   "metadata": {},
   "source": [
    "#### Voting Regression with PCA"
   ]
  },
  {
   "cell_type": "code",
   "execution_count": 67,
   "id": "a1fae710-f36b-48d4-bb47-24392289fad0",
   "metadata": {},
   "outputs": [
    {
     "name": "stdout",
     "output_type": "stream",
     "text": [
      "Training R-Squared: 0.6160830205117735\n",
      "Testing R-Squared: 0.09392815875503135\n",
      "==================================================\n",
      "RMSE: 9231.179963320672\n"
     ]
    }
   ],
   "source": [
    "#Voting Regression\n",
    "\n",
    "lvl1_est = ([\n",
    "    ('rf', RandomForestRegressor(n_jobs=-1)),\n",
    "    ('ada', AdaBoostRegressor()),\n",
    "    ('lasso', Lasso())\n",
    "])\n",
    "\n",
    "vote = VotingRegressor(estimators = lvl1_est, n_jobs = -1)\n",
    "\n",
    "vote.fit(Z_train, y_train)\n",
    "print(f'Training R-Squared: {vote.score(Z_train, y_train)}')\n",
    "print(f'Testing R-Squared: {vote.score(Z_test, y_test)}')\n",
    "print('='*50)\n",
    "print(f'RMSE: {mean_squared_error(y_test, vote.predict(Z_test), squared = False)}')"
   ]
  }
 ],
 "metadata": {
  "kernelspec": {
   "display_name": "Python 3 (ipykernel)",
   "language": "python",
   "name": "python3"
  },
  "language_info": {
   "codemirror_mode": {
    "name": "ipython",
    "version": 3
   },
   "file_extension": ".py",
   "mimetype": "text/x-python",
   "name": "python",
   "nbconvert_exporter": "python",
   "pygments_lexer": "ipython3",
   "version": "3.9.13"
  }
 },
 "nbformat": 4,
 "nbformat_minor": 5
}
