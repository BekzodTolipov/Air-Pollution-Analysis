{
 "cells": [
  {
   "cell_type": "markdown",
   "id": "932a06dc-07d2-4a38-b6da-6a8624a8ca0b",
   "metadata": {},
   "source": [
    "# Modeling the Fire Data for Fires Over 1 Acre and Lasting Longer than 24 Hours"
   ]
  },
  {
   "cell_type": "markdown",
   "id": "893efcdf-7ea8-41a4-94b3-c51eb6fb5d93",
   "metadata": {},
   "source": [
    "## Focusing on Removing Outliers and Polynomial Features"
   ]
  },
  {
   "cell_type": "code",
   "execution_count": 1,
   "id": "fb8fad32-9541-4cec-8c21-0584e8bf6bc9",
   "metadata": {},
   "outputs": [],
   "source": [
    "import pandas as pd\n",
    "import numpy as np\n",
    "import seaborn as sns\n",
    "import matplotlib.pyplot as plt\n",
    "\n",
    "from sklearn.preprocessing import StandardScaler, PolynomialFeatures\n",
    "from sklearn.tree import DecisionTreeRegressor\n",
    "from sklearn.ensemble import StackingRegressor, VotingRegressor, RandomForestRegressor, AdaBoostRegressor\n",
    "from sklearn.pipeline import Pipeline\n",
    "from sklearn.model_selection import cross_val_score, train_test_split, GridSearchCV\n",
    "from sklearn.linear_model import LinearRegression, ridge_regression, Lasso\n",
    "from sklearn.neighbors import KNeighborsRegressor\n",
    "from sklearn.decomposition import PCA\n",
    "from sklearn.metrics import mean_squared_error\n",
    "from datetime import datetime, timedelta"
   ]
  },
  {
   "cell_type": "code",
   "execution_count": 2,
   "id": "5100cfd2-2493-499b-afd3-c0d90a1074db",
   "metadata": {},
   "outputs": [
    {
     "data": {
      "text/html": [
       "<div>\n",
       "<style scoped>\n",
       "    .dataframe tbody tr th:only-of-type {\n",
       "        vertical-align: middle;\n",
       "    }\n",
       "\n",
       "    .dataframe tbody tr th {\n",
       "        vertical-align: top;\n",
       "    }\n",
       "\n",
       "    .dataframe thead th {\n",
       "        text-align: right;\n",
       "    }\n",
       "</style>\n",
       "<table border=\"1\" class=\"dataframe\">\n",
       "  <thead>\n",
       "    <tr style=\"text-align: right;\">\n",
       "      <th></th>\n",
       "      <th>id</th>\n",
       "      <th>dailyacres</th>\n",
       "      <th>discoveryacres</th>\n",
       "      <th>temp_2m</th>\n",
       "      <th>temp_2m_max</th>\n",
       "      <th>humidity</th>\n",
       "      <th>rain</th>\n",
       "      <th>wind_speed_2m</th>\n",
       "      <th>wind_speed_2m_max</th>\n",
       "      <th>wind_speed_10m</th>\n",
       "      <th>...</th>\n",
       "      <th>rain_sum</th>\n",
       "      <th>dew_frost_point_2m</th>\n",
       "      <th>wet_bulb_temp_2m</th>\n",
       "      <th>relative_humidity</th>\n",
       "      <th>clear_sky_photosynthetically_active_radiation</th>\n",
       "      <th>all_sky_photosynthetically_active_radiation</th>\n",
       "      <th>all_sky_surface_uv_index</th>\n",
       "      <th>sum_rain</th>\n",
       "      <th>sum_snow</th>\n",
       "      <th>land_cover_class</th>\n",
       "    </tr>\n",
       "  </thead>\n",
       "  <tbody>\n",
       "    <tr>\n",
       "      <th>0</th>\n",
       "      <td>1</td>\n",
       "      <td>5985.90</td>\n",
       "      <td>5.0</td>\n",
       "      <td>24.80</td>\n",
       "      <td>33.19</td>\n",
       "      <td>5.92</td>\n",
       "      <td>0.00</td>\n",
       "      <td>1.76</td>\n",
       "      <td>3.42</td>\n",
       "      <td>2.61</td>\n",
       "      <td>...</td>\n",
       "      <td>12.62</td>\n",
       "      <td>3.02</td>\n",
       "      <td>13.91</td>\n",
       "      <td>27.31</td>\n",
       "      <td>155.74</td>\n",
       "      <td>135.50</td>\n",
       "      <td>2.55</td>\n",
       "      <td>84.37</td>\n",
       "      <td>1.32</td>\n",
       "      <td>489</td>\n",
       "    </tr>\n",
       "    <tr>\n",
       "      <th>1</th>\n",
       "      <td>5</td>\n",
       "      <td>135.00</td>\n",
       "      <td>1.0</td>\n",
       "      <td>22.72</td>\n",
       "      <td>31.95</td>\n",
       "      <td>2.69</td>\n",
       "      <td>0.00</td>\n",
       "      <td>2.65</td>\n",
       "      <td>4.88</td>\n",
       "      <td>3.88</td>\n",
       "      <td>...</td>\n",
       "      <td>0.00</td>\n",
       "      <td>-6.50</td>\n",
       "      <td>8.11</td>\n",
       "      <td>13.62</td>\n",
       "      <td>97.43</td>\n",
       "      <td>97.50</td>\n",
       "      <td>1.37</td>\n",
       "      <td>10.54</td>\n",
       "      <td>0.00</td>\n",
       "      <td>470</td>\n",
       "    </tr>\n",
       "    <tr>\n",
       "      <th>2</th>\n",
       "      <td>10</td>\n",
       "      <td>132.00</td>\n",
       "      <td>15.0</td>\n",
       "      <td>26.21</td>\n",
       "      <td>35.48</td>\n",
       "      <td>7.57</td>\n",
       "      <td>0.01</td>\n",
       "      <td>1.62</td>\n",
       "      <td>4.30</td>\n",
       "      <td>2.66</td>\n",
       "      <td>...</td>\n",
       "      <td>0.16</td>\n",
       "      <td>7.16</td>\n",
       "      <td>16.69</td>\n",
       "      <td>33.44</td>\n",
       "      <td>160.50</td>\n",
       "      <td>160.38</td>\n",
       "      <td>2.82</td>\n",
       "      <td>68.55</td>\n",
       "      <td>0.66</td>\n",
       "      <td>183</td>\n",
       "    </tr>\n",
       "    <tr>\n",
       "      <th>3</th>\n",
       "      <td>12</td>\n",
       "      <td>1.88</td>\n",
       "      <td>1.0</td>\n",
       "      <td>-0.55</td>\n",
       "      <td>3.97</td>\n",
       "      <td>2.14</td>\n",
       "      <td>0.00</td>\n",
       "      <td>0.06</td>\n",
       "      <td>0.10</td>\n",
       "      <td>5.79</td>\n",
       "      <td>...</td>\n",
       "      <td>0.00</td>\n",
       "      <td>-9.35</td>\n",
       "      <td>-4.95</td>\n",
       "      <td>51.38</td>\n",
       "      <td>59.11</td>\n",
       "      <td>57.91</td>\n",
       "      <td>0.37</td>\n",
       "      <td>700.02</td>\n",
       "      <td>14.17</td>\n",
       "      <td>163</td>\n",
       "    </tr>\n",
       "    <tr>\n",
       "      <th>4</th>\n",
       "      <td>15</td>\n",
       "      <td>13.00</td>\n",
       "      <td>0.1</td>\n",
       "      <td>22.30</td>\n",
       "      <td>32.40</td>\n",
       "      <td>8.00</td>\n",
       "      <td>0.00</td>\n",
       "      <td>0.16</td>\n",
       "      <td>0.45</td>\n",
       "      <td>1.83</td>\n",
       "      <td>...</td>\n",
       "      <td>1.61</td>\n",
       "      <td>8.76</td>\n",
       "      <td>15.53</td>\n",
       "      <td>48.62</td>\n",
       "      <td>142.94</td>\n",
       "      <td>114.08</td>\n",
       "      <td>1.96</td>\n",
       "      <td>295.31</td>\n",
       "      <td>0.66</td>\n",
       "      <td>301</td>\n",
       "    </tr>\n",
       "  </tbody>\n",
       "</table>\n",
       "<p>5 rows × 29 columns</p>\n",
       "</div>"
      ],
      "text/plain": [
       "   id  dailyacres  discoveryacres  temp_2m  temp_2m_max  humidity  rain  \\\n",
       "0   1     5985.90             5.0    24.80        33.19      5.92  0.00   \n",
       "1   5      135.00             1.0    22.72        31.95      2.69  0.00   \n",
       "2  10      132.00            15.0    26.21        35.48      7.57  0.01   \n",
       "3  12        1.88             1.0    -0.55         3.97      2.14  0.00   \n",
       "4  15       13.00             0.1    22.30        32.40      8.00  0.00   \n",
       "\n",
       "   wind_speed_2m  wind_speed_2m_max  wind_speed_10m  ...  rain_sum  \\\n",
       "0           1.76               3.42            2.61  ...     12.62   \n",
       "1           2.65               4.88            3.88  ...      0.00   \n",
       "2           1.62               4.30            2.66  ...      0.16   \n",
       "3           0.06               0.10            5.79  ...      0.00   \n",
       "4           0.16               0.45            1.83  ...      1.61   \n",
       "\n",
       "   dew_frost_point_2m  wet_bulb_temp_2m  relative_humidity  \\\n",
       "0                3.02             13.91              27.31   \n",
       "1               -6.50              8.11              13.62   \n",
       "2                7.16             16.69              33.44   \n",
       "3               -9.35             -4.95              51.38   \n",
       "4                8.76             15.53              48.62   \n",
       "\n",
       "   clear_sky_photosynthetically_active_radiation  \\\n",
       "0                                         155.74   \n",
       "1                                          97.43   \n",
       "2                                         160.50   \n",
       "3                                          59.11   \n",
       "4                                         142.94   \n",
       "\n",
       "   all_sky_photosynthetically_active_radiation  all_sky_surface_uv_index  \\\n",
       "0                                       135.50                      2.55   \n",
       "1                                        97.50                      1.37   \n",
       "2                                       160.38                      2.82   \n",
       "3                                        57.91                      0.37   \n",
       "4                                       114.08                      1.96   \n",
       "\n",
       "   sum_rain  sum_snow  land_cover_class  \n",
       "0     84.37      1.32               489  \n",
       "1     10.54      0.00               470  \n",
       "2     68.55      0.66               183  \n",
       "3    700.02     14.17               163  \n",
       "4    295.31      0.66               301  \n",
       "\n",
       "[5 rows x 29 columns]"
      ]
     },
     "execution_count": 2,
     "metadata": {},
     "output_type": "execute_result"
    }
   ],
   "source": [
    "df = pd.read_csv('../../data/cleaned/final_all.csv')\n",
    "\n",
    "df.head()"
   ]
  },
  {
   "cell_type": "code",
   "execution_count": 3,
   "id": "58b3b524-6a0f-4233-a010-e0cd0515b737",
   "metadata": {},
   "outputs": [
    {
     "data": {
      "text/plain": [
       "(2053, 29)"
      ]
     },
     "execution_count": 3,
     "metadata": {},
     "output_type": "execute_result"
    }
   ],
   "source": [
    "df.shape"
   ]
  },
  {
   "cell_type": "code",
   "execution_count": 4,
   "id": "076c1840-361c-4259-a328-3629810bf4a3",
   "metadata": {},
   "outputs": [
    {
     "data": {
      "text/plain": [
       "count      2053.000000\n",
       "mean       3006.494831\n",
       "std       21542.951913\n",
       "min           1.030000\n",
       "25%           3.500000\n",
       "50%          16.750000\n",
       "75%         155.000000\n",
       "max      413717.000000\n",
       "Name: dailyacres, dtype: float64"
      ]
     },
     "execution_count": 4,
     "metadata": {},
     "output_type": "execute_result"
    }
   ],
   "source": [
    "df['dailyacres'].describe()"
   ]
  },
  {
   "cell_type": "code",
   "execution_count": 5,
   "id": "56ff6f49-c5bb-42e6-bf57-6f7ac5580a71",
   "metadata": {},
   "outputs": [],
   "source": [
    "iqr = 155.0-3.2\n",
    "upper_range = 1.5*iqr + 155.0\n",
    "df = df[df['dailyacres'] <= upper_range]"
   ]
  },
  {
   "cell_type": "code",
   "execution_count": 6,
   "id": "65e35ebd-f4ba-4b38-8b30-4cf1b2e10f04",
   "metadata": {},
   "outputs": [
    {
     "data": {
      "text/plain": [
       "(1667, 29)"
      ]
     },
     "execution_count": 6,
     "metadata": {},
     "output_type": "execute_result"
    }
   ],
   "source": [
    "df.shape"
   ]
  },
  {
   "cell_type": "code",
   "execution_count": 7,
   "id": "32e7ee71-ace1-41a2-994a-0ee094b302d4",
   "metadata": {},
   "outputs": [
    {
     "data": {
      "text/plain": [
       "386"
      ]
     },
     "execution_count": 7,
     "metadata": {},
     "output_type": "execute_result"
    }
   ],
   "source": [
    "2053-1667"
   ]
  },
  {
   "cell_type": "markdown",
   "id": "121d6674-5aae-47d7-89d8-80d283de8ad1",
   "metadata": {},
   "source": [
    "---\n",
    "######\n",
    "### Investigating Correlation Between the Features and Target (DailyAcres)\n",
    "######\n",
    "___"
   ]
  },
  {
   "cell_type": "code",
   "execution_count": 8,
   "id": "a046d9da-ced0-48e5-aa3a-d7a9178b2f20",
   "metadata": {},
   "outputs": [],
   "source": [
    "cols = ['dailyacres', 'discoveryacres', 'temp_2m', 'temp_2m_max', 'humidity', 'rain', 'wind_speed_2m', 'wind_speed_2m_max', 'wind_speed_10m', \n",
    "        'wind_speed_10m_max', 'surface_soil_wetness_5cm_below', 'surface_soil_wetness_to_bedrock', 'wind_speed_2m_mean', 'wind_speed_2m_max_mean', \n",
    "        'wind_speed_10m_mean', 'wind_speed_10m_max_mean', 'humidity_mean', 'temp_2m_mean', 'rain_sum', 'dew_frost_point_2m', 'wet_bulb_temp_2m', \n",
    "        'relative_humidity', 'clear_sky_photosynthetically_active_radiation', 'all_sky_photosynthetically_active_radiation', 'all_sky_surface_uv_index',\n",
    "        'sum_rain', 'sum_snow','land_cover_class']"
   ]
  },
  {
   "cell_type": "code",
   "execution_count": 9,
   "id": "59ac217f-5154-4949-9caa-49356f824845",
   "metadata": {},
   "outputs": [
    {
     "data": {
      "image/png": "[encoded data removed]",
      "text/plain": [
       "<Figure size 600x1200 with 2 Axes>"
      ]
     },
     "metadata": {},
     "output_type": "display_data"
    }
   ],
   "source": [
    "plt.figure(figsize = (6, 12))\n",
    "sns.heatmap(df[cols].corr()[['dailyacres']].sort_values(by = 'dailyacres', ascending=False),\n",
    "            vmin = -1,\n",
    "            vmax = 1, \n",
    "            cmap = 'coolwarm',\n",
    "            annot = True);"
   ]
  },
  {
   "cell_type": "markdown",
   "id": "cb70a3d8-c1ea-45df-b929-77dae673143a",
   "metadata": {},
   "source": [
    "---\n",
    "######\n",
    "### Train/Test Splitting Data, and Standard Scaling\n",
    "######\n",
    "___"
   ]
  },
  {
   "cell_type": "code",
   "execution_count": 10,
   "id": "32658916-ab88-4be9-a83a-37279504b72d",
   "metadata": {},
   "outputs": [],
   "source": [
    "df = df[cols]\n",
    "\n",
    "X_train, X_test, y_train, y_test = train_test_split(df.drop(columns = 'dailyacres'), df['dailyacres'], random_state= 42)"
   ]
  },
  {
   "cell_type": "code",
   "execution_count": 11,
   "id": "1b167691-24fb-47ca-869e-924bc2d431cf",
   "metadata": {},
   "outputs": [],
   "source": [
    "ss = StandardScaler()\n",
    "X_train = ss.fit_transform(X_train)\n",
    "X_test = ss.transform(X_test)"
   ]
  },
  {
   "cell_type": "markdown",
   "id": "b9a9d05f-9a57-4d1b-9598-94b38d3c4852",
   "metadata": {},
   "source": [
    "---\n",
    "######\n",
    "### Using PCA For Feature Elimination\n",
    "######\n",
    "___"
   ]
  },
  {
   "cell_type": "code",
   "execution_count": 12,
   "id": "386f0788-370a-4c36-875a-754084eb73aa",
   "metadata": {},
   "outputs": [],
   "source": [
    "poly = PolynomialFeatures()\n",
    "poly_X_train = poly.fit_transform(X_train)\n",
    "poly_X_test = poly.transform(X_test)"
   ]
  },
  {
   "cell_type": "code",
   "execution_count": 43,
   "id": "2419e064-18ae-42a2-9147-d59fb2b1d592",
   "metadata": {},
   "outputs": [
    {
     "data": {
      "text/plain": [
       "(1250, 406)"
      ]
     },
     "execution_count": 43,
     "metadata": {},
     "output_type": "execute_result"
    }
   ],
   "source": [
    "poly_X_train.shape"
   ]
  },
  {
   "cell_type": "code",
   "execution_count": 13,
   "id": "fd82c3b0-46e2-4136-b8fa-01b17e7e6773",
   "metadata": {},
   "outputs": [],
   "source": [
    "pca = PCA(random_state = 42)\n",
    "\n",
    "\n",
    "Z_train = pca.fit_transform(poly_X_train)\n",
    "Z_test = pca.transform(poly_X_test)"
   ]
  },
  {
   "cell_type": "code",
   "execution_count": 14,
   "id": "c7382fc2-6aac-4c9c-8b6c-fcc359b18e9a",
   "metadata": {},
   "outputs": [
    {
     "data": {
      "text/plain": [
       "array([0.221, 0.318, 0.4  , 0.478, 0.547, 0.612, 0.648, 0.679, 0.708,\n",
       "       0.731, 0.75 , 0.767, 0.781, 0.792, 0.803, 0.813, 0.822, 0.831,\n",
       "       0.84 , 0.847, 0.854, 0.861, 0.867, 0.874, 0.879, 0.885, 0.89 ,\n",
       "       0.894, 0.899, 0.902, 0.906, 0.91 , 0.913, 0.916, 0.919, 0.921,\n",
       "       0.924, 0.926, 0.929, 0.931, 0.933, 0.935, 0.938, 0.94 , 0.942,\n",
       "       0.943, 0.945, 0.947, 0.949, 0.95 ])"
      ]
     },
     "execution_count": 14,
     "metadata": {},
     "output_type": "execute_result"
    }
   ],
   "source": [
    "explained = pca.explained_variance_ratio_\n",
    "cumulative = np.cumsum(explained)\n",
    "np.round(cumulative[:50], 3)"
   ]
  },
  {
   "cell_type": "code",
   "execution_count": 15,
   "id": "44fb8881-3751-409b-b7ab-e1324f6c4a99",
   "metadata": {},
   "outputs": [],
   "source": [
    "Z_train = Z_train[:,:50]\n",
    "Z_test = Z_test[:,:50]"
   ]
  },
  {
   "cell_type": "code",
   "execution_count": 42,
   "id": "22f87b3a-da6c-4081-9da3-cfdc22451e52",
   "metadata": {},
   "outputs": [],
   "source": [
    "#np.savetxt('../../data/processed/Neural_Net_Data/X_train_without_outliers.csv', X_train, delimiter=',')\n",
    "#np.savetxt('../../data/processed/Neural_Net_Data/X_test_without_outliers.csv', X_test, delimiter=',')\n",
    "#np.savetxt('../../data/processed/Neural_Net_Data/Z_train_without_outliers.csv', Z_train, delimiter=',')\n",
    "#np.savetxt('../../data/processed/Neural_Net_Data/Z_test_without_outliers.csv', Z_test, delimiter=',')\n",
    "#np.savetxt('../../data/processed/Neural_Net_Data/y_train_without_outliers.csv', y_train, delimiter=',')\n",
    "#np.savetxt('../../data/processed/Neural_Net_Data/y_test_without_outliers.csv', y_test, delimiter=',')"
   ]
  },
  {
   "cell_type": "markdown",
   "id": "8fb86577-6df8-416a-80f2-a1c7060d886c",
   "metadata": {},
   "source": [
    "---\n",
    "######\n",
    "### Modeling / Simple Models\n",
    "######\n",
    "---"
   ]
  },
  {
   "cell_type": "markdown",
   "id": "df905f5d-7f4f-405c-b766-bd2995e30245",
   "metadata": {},
   "source": [
    "#### Linear Regression (Baseline) with DF"
   ]
  },
  {
   "cell_type": "code",
   "execution_count": 17,
   "id": "82e0d232-ff13-4963-ae9f-2793a14d914b",
   "metadata": {},
   "outputs": [
    {
     "name": "stdout",
     "output_type": "stream",
     "text": [
      "Training R-Squared: 0.09505942584980276\n",
      "Testing R-Squared: 0.07268041320327412\n",
      "==================================================\n",
      "RMSE: 58.29172509469402\n"
     ]
    }
   ],
   "source": [
    "#Linear Regression - Baseline\n",
    "# With X data\n",
    "lr = LinearRegression()\n",
    "\n",
    "lr.fit(X_train, y_train)\n",
    "print(f'Training R-Squared: {lr.score(X_train, y_train)}')\n",
    "print(f'Testing R-Squared: {lr.score(X_test, y_test)}')\n",
    "print('='*50)\n",
    "print(f'RMSE: {mean_squared_error(y_test, lr.predict(X_test), squared = False)}')"
   ]
  },
  {
   "cell_type": "markdown",
   "id": "2d8147ab-369d-4b5b-b0f2-2743ac029cac",
   "metadata": {},
   "source": [
    "#### Linear Regression (Baseline) with PCA"
   ]
  },
  {
   "cell_type": "code",
   "execution_count": 18,
   "id": "43c3e0f2-ffd7-426e-9ca4-db68c06c7cd9",
   "metadata": {},
   "outputs": [
    {
     "name": "stdout",
     "output_type": "stream",
     "text": [
      "Training R-Squared: 0.1083392560043328\n",
      "Testing R-Squared: -0.0211514247616722\n",
      "==================================================\n",
      "RMSE: 61.16982885392083\n"
     ]
    }
   ],
   "source": [
    "#Linear Regression - Baseline\n",
    "# With PCA Data\n",
    "lr = LinearRegression()\n",
    "\n",
    "lr.fit(Z_train, y_train)\n",
    "print(f'Training R-Squared: {lr.score(Z_train, y_train)}')\n",
    "print(f'Testing R-Squared: {lr.score(Z_test, y_test)}')\n",
    "print('='*50)\n",
    "print(f'RMSE: {mean_squared_error(y_test, lr.predict(Z_test), squared = False)}')"
   ]
  },
  {
   "cell_type": "code",
   "execution_count": 19,
   "id": "3b15c720-05e0-4c5a-a85c-e0c5567b5276",
   "metadata": {},
   "outputs": [],
   "source": [
    "def model_eval(model, param_dict, training_data):\n",
    "    '''\n",
    "    d\n",
    "    '''\n",
    "    \n",
    "    gs_model = GridSearchCV(model,\n",
    "                            param_grid = param_dict,\n",
    "                            n_jobs = -1)\n",
    "    if training_data == 'X_train':\n",
    "        gs_model.fit(X_train, y_train)\n",
    "        print(f'Best Score: {gs_model.best_score_}')\n",
    "        print(f'Best Params: {gs_model.best_params_}')\n",
    "        print('='*50)\n",
    "        print(f'RMSE: {mean_squared_error(y_test, gs_model.predict(X_test), squared = False)}')\n",
    "        print('='*50)\n",
    "        print(f'Training R-Squared: {gs_model.score(X_train, y_train)}')\n",
    "        print(f'Testing R-Squared: {gs_model.score(X_test, y_test)}')\n",
    "        \n",
    "    elif training_data == 'Z_train':\n",
    "        gs_model.fit(Z_train, y_train)\n",
    "        print(f'Best Score: {gs_model.best_score_}')\n",
    "        print(f'Best Params: {gs_model.best_params_}')\n",
    "        print('='*50)\n",
    "        print(f'RMSE: {mean_squared_error(y_test, gs_model.predict(Z_test), squared = False)}')\n",
    "        print('='*50)\n",
    "        print(f'Training R-Squared: {gs_model.score(Z_train, y_train)}')\n",
    "        print(f'Testing R-Squared: {gs_model.score(Z_test, y_test)}')\n",
    "    else:\n",
    "        return 'Try Again'"
   ]
  },
  {
   "cell_type": "markdown",
   "id": "1e692294-7ae5-4cc4-abb4-0c04b2f5a7fc",
   "metadata": {},
   "source": [
    "#### KNN Regression with DF"
   ]
  },
  {
   "cell_type": "code",
   "execution_count": 20,
   "id": "8ad4cdb7-7491-4c82-938e-3c839299206f",
   "metadata": {},
   "outputs": [
    {
     "name": "stdout",
     "output_type": "stream",
     "text": [
      "Best Score: 0.042156825239770226\n",
      "Best Params: {'n_neighbors': 50, 'weights': 'distance'}\n",
      "==================================================\n",
      "RMSE: 59.634213447574126\n",
      "==================================================\n",
      "Training R-Squared: 0.9999812958104124\n",
      "Testing R-Squared: 0.029475266436248204\n"
     ]
    }
   ],
   "source": [
    "#KNN Regressor with X Data\n",
    "\n",
    "knn_model = KNeighborsRegressor(n_jobs=-1)\n",
    "\n",
    "knn_params = {\n",
    "    'n_neighbors': range(10, 201, 10),\n",
    "    'weights': ['uniform', 'distance']\n",
    "}\n",
    "\n",
    "model_eval(model = knn_model,\n",
    "           param_dict = knn_params,\n",
    "           training_data = 'X_train')"
   ]
  },
  {
   "cell_type": "markdown",
   "id": "4743f8ef-58d0-4786-a940-799b72774937",
   "metadata": {},
   "source": [
    "#### KNN Regression with PCA Data"
   ]
  },
  {
   "cell_type": "code",
   "execution_count": 21,
   "id": "5e69d66e-20a9-4f00-bbb8-c53f85d37d48",
   "metadata": {},
   "outputs": [
    {
     "name": "stdout",
     "output_type": "stream",
     "text": [
      "Best Score: 0.03247930455518655\n",
      "Best Params: {'n_neighbors': 30, 'weights': 'distance'}\n",
      "==================================================\n",
      "RMSE: 59.86365956029956\n",
      "==================================================\n",
      "Training R-Squared: 0.9999907340977978\n",
      "Testing R-Squared: 0.02199259809273202\n"
     ]
    }
   ],
   "source": [
    "#KNN Regressor with PCA Data\n",
    "\n",
    "knn_model = KNeighborsRegressor(n_jobs=-1)\n",
    "\n",
    "knn_params = {\n",
    "    'n_neighbors': range(10, 201, 10),\n",
    "    'weights': ['uniform', 'distance']\n",
    "}\n",
    "\n",
    "model_eval(model = knn_model,\n",
    "           param_dict = knn_params,\n",
    "           training_data = 'Z_train')"
   ]
  },
  {
   "cell_type": "markdown",
   "id": "440fb78d-42da-4e5e-9506-cbb55db0e2ef",
   "metadata": {},
   "source": [
    "#### Lasso Regression with DF"
   ]
  },
  {
   "cell_type": "code",
   "execution_count": 22,
   "id": "ef184bcc-6786-400d-b2de-5614b88b6e44",
   "metadata": {},
   "outputs": [
    {
     "name": "stdout",
     "output_type": "stream",
     "text": [
      "Best Score: 0.054872891722239615\n",
      "Best Params: {'alpha': 1}\n",
      "==================================================\n",
      "RMSE: 58.36049925132195\n",
      "==================================================\n",
      "Training R-Squared: 0.08236053930943321\n",
      "Testing R-Squared: 0.07049096883508887\n"
     ]
    }
   ],
   "source": [
    "# Lasso Regression with X Data\n",
    "\n",
    "lasso = Lasso()\n",
    "lasso_params = {\n",
    "    'alpha': range(1, 101, 2)\n",
    "}\n",
    "\n",
    "model_eval(model = lasso,\n",
    "           param_dict = lasso_params,\n",
    "           training_data = 'X_train')"
   ]
  },
  {
   "cell_type": "markdown",
   "id": "a240bbd0-3c73-4b2a-837b-5c19b783f225",
   "metadata": {},
   "source": [
    "#### Lasso Regression with PCA"
   ]
  },
  {
   "cell_type": "code",
   "execution_count": 23,
   "id": "f5bb0b0a-933d-44b6-9592-93355e1b02ad",
   "metadata": {},
   "outputs": [
    {
     "name": "stdout",
     "output_type": "stream",
     "text": [
      "Best Score: 0.036050124141066564\n",
      "Best Params: {'alpha': 5}\n",
      "==================================================\n",
      "RMSE: 60.179463937184394\n",
      "==================================================\n",
      "Training R-Squared: 0.08049424798751059\n",
      "Testing R-Squared: 0.011646632046111716\n"
     ]
    }
   ],
   "source": [
    "# Lasso Regression with PCA Data\n",
    "\n",
    "lasso = Lasso()\n",
    "lasso_params = {\n",
    "    'alpha': range(1, 101, 2)\n",
    "}\n",
    "\n",
    "model_eval(model = lasso,\n",
    "           param_dict = lasso_params,\n",
    "           training_data = 'Z_train')"
   ]
  },
  {
   "cell_type": "markdown",
   "id": "7dc594f1-bb89-47bc-b797-78afe930b953",
   "metadata": {},
   "source": [
    "#### Adaboost Regression with DF"
   ]
  },
  {
   "cell_type": "code",
   "execution_count": 24,
   "id": "1e2d2b7d-fc0e-4548-b44e-bcbd0ac0cf9b",
   "metadata": {},
   "outputs": [
    {
     "name": "stdout",
     "output_type": "stream",
     "text": [
      "Best Score: -0.3862982734439978\n",
      "Best Params: {'learning_rate': 0.5, 'n_estimators': 40}\n",
      "==================================================\n",
      "RMSE: 82.82947579390232\n",
      "==================================================\n",
      "Training R-Squared: -0.3168809385389757\n",
      "Testing R-Squared: -0.8723431342455648\n"
     ]
    }
   ],
   "source": [
    "# Adaboost with X Data\n",
    "\n",
    "ada = AdaBoostRegressor()\n",
    "ada_params = {\n",
    "    'n_estimators': range(40, 101, 10),\n",
    "    'learning_rate': [0.5, 0.75, 1, 1.25, 1.5] \n",
    "}\n",
    "\n",
    "model_eval(model = ada,\n",
    "           param_dict = ada_params,\n",
    "           training_data = 'X_train')"
   ]
  },
  {
   "cell_type": "markdown",
   "id": "e45ecae4-6055-4ea4-be7d-9c9696ecfab8",
   "metadata": {},
   "source": [
    "#### Adaboost Regression with PCA"
   ]
  },
  {
   "cell_type": "code",
   "execution_count": 25,
   "id": "8cb35fcb-f898-414c-84d5-1e421283e166",
   "metadata": {},
   "outputs": [
    {
     "name": "stdout",
     "output_type": "stream",
     "text": [
      "Best Score: -0.26322396808014903\n",
      "Best Params: {'learning_rate': 0.5, 'n_estimators': 40}\n",
      "==================================================\n",
      "RMSE: 75.75103003897885\n",
      "==================================================\n",
      "Training R-Squared: -0.027790810262323884\n",
      "Testing R-Squared: -0.5660034052037222\n"
     ]
    }
   ],
   "source": [
    "# Adaboost with PCA Data\n",
    "\n",
    "ada = AdaBoostRegressor()\n",
    "ada_params = {\n",
    "    'n_estimators': range(40, 101, 10),\n",
    "    'learning_rate': [0.5, 0.75, 1, 1.25, 1.5] \n",
    "}\n",
    "\n",
    "model_eval(model = ada,\n",
    "           param_dict = ada_params,\n",
    "           training_data = 'Z_train')"
   ]
  },
  {
   "cell_type": "markdown",
   "id": "3b442804-c19f-48be-ae7b-40df4ef3d459",
   "metadata": {},
   "source": [
    "#### RandomForest Regression with DF"
   ]
  },
  {
   "cell_type": "code",
   "execution_count": 36,
   "id": "ce6db93c-4594-4007-a587-554e7c2a1396",
   "metadata": {},
   "outputs": [
    {
     "name": "stdout",
     "output_type": "stream",
     "text": [
      "Best Score: 0.052555645691689155\n",
      "Best Params: {'ccp_alpha': 0.01, 'max_depth': 160, 'min_samples_leaf': 3, 'min_samples_split': 3}\n",
      "==================================================\n",
      "RMSE: 58.05537476716035\n",
      "==================================================\n",
      "Training R-Squared: 0.6899048716293816\n",
      "Testing R-Squared: 0.08018501041390202\n"
     ]
    }
   ],
   "source": [
    "# Random Forest with X_train\n",
    "\n",
    "rf = RandomForestRegressor(n_jobs = -1)\n",
    "\n",
    "rf_params = {\n",
    "    'max_depth': range(70, 201, 10),\n",
    "    'min_samples_split': [2, 3],\n",
    "    'min_samples_leaf': [1, 2, 3],\n",
    "    'ccp_alpha': [0.01, 0.1, 0.5, 1]\n",
    "}\n",
    "\n",
    "model_eval(model = rf,\n",
    "           param_dict = rf_params,\n",
    "           training_data = 'X_train')"
   ]
  },
  {
   "cell_type": "markdown",
   "id": "bd843e96-a095-4cf5-9d09-20440eb0ba15",
   "metadata": {},
   "source": [
    "#### RandomForest Regression with PCA"
   ]
  },
  {
   "cell_type": "code",
   "execution_count": 37,
   "id": "1093d744-c7bb-4e9f-bfcb-53db4481a02b",
   "metadata": {},
   "outputs": [
    {
     "name": "stdout",
     "output_type": "stream",
     "text": [
      "Best Score: 0.024099105049288694\n",
      "Best Params: {'ccp_alpha': 1, 'max_depth': 170, 'min_samples_leaf': 3, 'min_samples_split': 2}\n",
      "==================================================\n",
      "RMSE: 59.215345692347874\n",
      "==================================================\n",
      "Training R-Squared: 0.7245598938439328\n",
      "Testing R-Squared: 0.043061219856044164\n"
     ]
    }
   ],
   "source": [
    "# Random Forest with PCA\n",
    "\n",
    "rf = RandomForestRegressor(n_jobs = -1)\n",
    "\n",
    "rf_params = {\n",
    "    'max_depth': range(70, 201, 10),\n",
    "    'min_samples_split': [2, 3],\n",
    "    'min_samples_leaf': [1, 2, 3],\n",
    "    'ccp_alpha': [0.01, 0.1, 0.5, 1]\n",
    "}\n",
    "\n",
    "model_eval(model = rf,\n",
    "           param_dict = rf_params,\n",
    "           training_data = 'Z_train')"
   ]
  },
  {
   "cell_type": "markdown",
   "id": "d70753eb-a435-4359-879c-a4cd1ef6a9e4",
   "metadata": {},
   "source": [
    "---\n",
    "######\n",
    "### Modeling / Ensemble Models\n",
    "######\n",
    "---"
   ]
  },
  {
   "cell_type": "markdown",
   "id": "7241e411-f8dd-4b8c-a26e-8c795e4e44cd",
   "metadata": {},
   "source": [
    "#### Stacking Regression with DF and with DecisionTreeRegressor Final Estimator"
   ]
  },
  {
   "cell_type": "code",
   "execution_count": 26,
   "id": "d7cfcb0e-7c27-438c-8c91-359f1387a3e0",
   "metadata": {},
   "outputs": [
    {
     "name": "stdout",
     "output_type": "stream",
     "text": [
      "Training R-Squared: -1.0183038078320368\n",
      "Testing R-Squared: -1.0241932165179857\n",
      "==================================================\n",
      "RMSE: 86.12280656304316\n"
     ]
    }
   ],
   "source": [
    "# Stacking Regressor with X_train\n",
    "\n",
    "lvl1_est = ([\n",
    "    ('rf', RandomForestRegressor(n_jobs=-1)),\n",
    "    ('ada', AdaBoostRegressor()),\n",
    "    ('lasso', Lasso())\n",
    "])\n",
    "\n",
    "stack = StackingRegressor(estimators=lvl1_est, \n",
    "                          final_estimator=DecisionTreeRegressor(),\n",
    "                         n_jobs=-1)\n",
    "\n",
    "stack.fit(X_train, y_train)\n",
    "\n",
    "print(f'Training R-Squared: {stack.score(X_train, y_train)}')\n",
    "print(f'Testing R-Squared: {stack.score(X_test, y_test)}')\n",
    "print('='*50)\n",
    "print(f'RMSE: {mean_squared_error(y_test, stack.predict(X_test), squared = False)}')"
   ]
  },
  {
   "cell_type": "markdown",
   "id": "ba4a19a3-8d06-4a94-90be-952a758583f2",
   "metadata": {},
   "source": [
    "#### Stacking Regression with PCA and with DecisionTreeRegressor Final Estimator"
   ]
  },
  {
   "cell_type": "code",
   "execution_count": 27,
   "id": "3009254b-0e37-4f30-be03-58039d6b0348",
   "metadata": {},
   "outputs": [
    {
     "name": "stdout",
     "output_type": "stream",
     "text": [
      "Training R-Squared: -0.18047713804624488\n",
      "Testing R-Squared: -1.156558366814051\n",
      "==================================================\n",
      "RMSE: 88.89407188097933\n"
     ]
    }
   ],
   "source": [
    "# Stacking Regressor with Z_train\n",
    "\n",
    "lvl1_est = ([\n",
    "    ('rf', RandomForestRegressor(n_jobs=-1)),\n",
    "    ('ada', AdaBoostRegressor()),\n",
    "    ('lasso', Lasso())\n",
    "])\n",
    "\n",
    "stack = StackingRegressor(estimators=lvl1_est, \n",
    "                          final_estimator=DecisionTreeRegressor(),\n",
    "                         n_jobs=-1)\n",
    "\n",
    "stack.fit(Z_train, y_train)\n",
    "\n",
    "print(f'Training R-Squared: {stack.score(Z_train, y_train)}')\n",
    "print(f'Testing R-Squared: {stack.score(Z_test, y_test)}')\n",
    "print('='*50)\n",
    "print(f'RMSE: {mean_squared_error(y_test, stack.predict(Z_test), squared = False)}')"
   ]
  },
  {
   "cell_type": "markdown",
   "id": "cb8c231e-83b7-4029-8cf4-f38424abcdbf",
   "metadata": {},
   "source": [
    "#### Stacking Regression with DF and with LinearRegression Final Estimator"
   ]
  },
  {
   "cell_type": "code",
   "execution_count": 28,
   "id": "a743ef53-83d9-4b3d-a794-bfd0158edfd8",
   "metadata": {},
   "outputs": [
    {
     "name": "stdout",
     "output_type": "stream",
     "text": [
      "Training R-Squared: 0.319653749489229\n",
      "Testing R-Squared: 0.09145468839062798\n",
      "==================================================\n",
      "RMSE: 57.69862814365527\n"
     ]
    }
   ],
   "source": [
    "# Stacking Regressor with X_train\n",
    "\n",
    "lvl1_est = ([\n",
    "    ('rf', RandomForestRegressor(n_jobs=-1)),\n",
    "    ('ada', AdaBoostRegressor()),\n",
    "    ('lasso', Lasso())\n",
    "])\n",
    "\n",
    "stack = StackingRegressor(estimators=lvl1_est, \n",
    "                          final_estimator=LinearRegression(),\n",
    "                         n_jobs=-1)\n",
    "\n",
    "stack.fit(X_train, y_train)\n",
    "\n",
    "print(f'Training R-Squared: {stack.score(X_train, y_train)}')\n",
    "print(f'Testing R-Squared: {stack.score(X_test, y_test)}')\n",
    "print('='*50)\n",
    "print(f'RMSE: {mean_squared_error(y_test, stack.predict(X_test), squared = False)}')"
   ]
  },
  {
   "cell_type": "markdown",
   "id": "29358f3a-5bbb-437e-807d-3bc766df4a9e",
   "metadata": {},
   "source": [
    "#### Stacking Regression with PCA and with LinearRegression Final Estimator"
   ]
  },
  {
   "cell_type": "code",
   "execution_count": 29,
   "id": "3140c54f-70db-45f3-b270-257e6b904644",
   "metadata": {},
   "outputs": [
    {
     "name": "stdout",
     "output_type": "stream",
     "text": [
      "Training R-Squared: 0.4453015087021803\n",
      "Testing R-Squared: 0.06747995213847369\n",
      "==================================================\n",
      "RMSE: 58.45494823084904\n"
     ]
    }
   ],
   "source": [
    "# Stacking Regressor with PCA\n",
    "\n",
    "lvl1_est = ([\n",
    "    ('rf', RandomForestRegressor(n_jobs=-1)),\n",
    "    ('ada', AdaBoostRegressor()),\n",
    "    ('lasso', Lasso())\n",
    "])\n",
    "\n",
    "stack = StackingRegressor(estimators=lvl1_est, \n",
    "                          final_estimator=LinearRegression(),\n",
    "                         n_jobs=-1)\n",
    "\n",
    "stack.fit(Z_train, y_train)\n",
    "\n",
    "print(f'Training R-Squared: {stack.score(Z_train, y_train)}')\n",
    "print(f'Testing R-Squared: {stack.score(Z_test, y_test)}')\n",
    "print('='*50)\n",
    "print(f'RMSE: {mean_squared_error(y_test, stack.predict(Z_test), squared = False)}')"
   ]
  },
  {
   "cell_type": "markdown",
   "id": "857cdb6d-ab02-4714-a9ee-0400a03ff837",
   "metadata": {},
   "source": [
    "#### Stacking Regression with DF and with Lasso Final Estimator"
   ]
  },
  {
   "cell_type": "code",
   "execution_count": 30,
   "id": "c1a142c5-b6f3-4e76-b0cf-ff2fa0b46369",
   "metadata": {},
   "outputs": [
    {
     "name": "stdout",
     "output_type": "stream",
     "text": [
      "Training R-Squared: 0.4061909044334927\n",
      "Testing R-Squared: 0.08593864282234476\n",
      "==================================================\n",
      "RMSE: 57.87351576008751\n"
     ]
    }
   ],
   "source": [
    "# Stacking Regressor with X_train\n",
    "\n",
    "lvl1_est = ([\n",
    "    ('rf', RandomForestRegressor(n_jobs=-1)),\n",
    "    ('ada', AdaBoostRegressor()),\n",
    "    ('lasso', Lasso())\n",
    "])\n",
    "\n",
    "stack = StackingRegressor(estimators=lvl1_est, \n",
    "                          final_estimator=Lasso(),\n",
    "                         n_jobs=-1)\n",
    "\n",
    "stack.fit(X_train, y_train)\n",
    "\n",
    "print(f'Training R-Squared: {stack.score(X_train, y_train)}')\n",
    "print(f'Testing R-Squared: {stack.score(X_test, y_test)}')\n",
    "print('='*50)\n",
    "print(f'RMSE: {mean_squared_error(y_test, stack.predict(X_test), squared = False)}')"
   ]
  },
  {
   "cell_type": "markdown",
   "id": "75c0edbc-8a3c-4a87-a931-a733fc90c4ce",
   "metadata": {},
   "source": [
    "#### Stacking Regression with PCA and with Lasso Final Estimator"
   ]
  },
  {
   "cell_type": "code",
   "execution_count": 31,
   "id": "c0ee9cc4-909b-4959-ba3d-c12da5b0e80b",
   "metadata": {},
   "outputs": [
    {
     "name": "stdout",
     "output_type": "stream",
     "text": [
      "Training R-Squared: 0.4181125187927619\n",
      "Testing R-Squared: 0.054802134507605405\n",
      "==================================================\n",
      "RMSE: 58.85096082154625\n"
     ]
    }
   ],
   "source": [
    "# Stacking Regressor with PCA\n",
    "\n",
    "lvl1_est = ([\n",
    "    ('rf', RandomForestRegressor(n_jobs=-1)),\n",
    "    ('ada', AdaBoostRegressor()),\n",
    "    ('lasso', Lasso())\n",
    "])\n",
    "\n",
    "stack = StackingRegressor(estimators=lvl1_est, \n",
    "                          final_estimator=Lasso(),\n",
    "                         n_jobs=-1)\n",
    "\n",
    "stack.fit(Z_train, y_train)\n",
    "\n",
    "print(f'Training R-Squared: {stack.score(Z_train, y_train)}')\n",
    "print(f'Testing R-Squared: {stack.score(Z_test, y_test)}')\n",
    "print('='*50)\n",
    "print(f'RMSE: {mean_squared_error(y_test, stack.predict(Z_test), squared = False)}')"
   ]
  },
  {
   "cell_type": "markdown",
   "id": "939b2ea7-be53-47fa-b6a6-49ae83873e2e",
   "metadata": {},
   "source": [
    "#### Stacking Regression (different base estimators) with DF and with Lasso Final Estimator"
   ]
  },
  {
   "cell_type": "code",
   "execution_count": 32,
   "id": "b23db026-f34e-4c5d-9e6e-95c82690d8d5",
   "metadata": {},
   "outputs": [
    {
     "name": "stdout",
     "output_type": "stream",
     "text": [
      "Training R-Squared: 0.11923058617875926\n",
      "Testing R-Squared: 0.05740317572771514\n",
      "==================================================\n",
      "RMSE: 58.76993057664507\n"
     ]
    }
   ],
   "source": [
    "# Stacking Regressor with X_train\n",
    "\n",
    "lvl1_est = ([\n",
    "    ('ada', AdaBoostRegressor()),\n",
    "    ('lasso', Lasso())\n",
    "])\n",
    "\n",
    "stack = StackingRegressor(estimators=lvl1_est, \n",
    "                          final_estimator=Lasso(),\n",
    "                         n_jobs=-1)\n",
    "\n",
    "stack.fit(X_train, y_train)\n",
    "\n",
    "print(f'Training R-Squared: {stack.score(X_train, y_train)}')\n",
    "print(f'Testing R-Squared: {stack.score(X_test, y_test)}')\n",
    "print('='*50)\n",
    "print(f'RMSE: {mean_squared_error(y_test, stack.predict(X_test), squared = False)}')"
   ]
  },
  {
   "cell_type": "markdown",
   "id": "8623e4b8-73ad-4ae3-8441-9c7223aeb902",
   "metadata": {},
   "source": [
    "#### Stacking Regression (different base estimators) with PCA and with Lasso Final Estimator"
   ]
  },
  {
   "cell_type": "code",
   "execution_count": 33,
   "id": "3b17bbb5-0520-4cee-b373-335bb8590e74",
   "metadata": {},
   "outputs": [
    {
     "name": "stdout",
     "output_type": "stream",
     "text": [
      "Training R-Squared: 0.10875194356334583\n",
      "Testing R-Squared: 0.013122657445403418\n",
      "==================================================\n",
      "RMSE: 60.134510579046946\n"
     ]
    }
   ],
   "source": [
    "# Stacking Regressor with PCA\n",
    "\n",
    "lvl1_est = ([\n",
    "    ('ada', AdaBoostRegressor()),\n",
    "    ('lasso', Lasso())\n",
    "])\n",
    "\n",
    "stack = StackingRegressor(estimators=lvl1_est, \n",
    "                          final_estimator=Lasso(),\n",
    "                         n_jobs=-1)\n",
    "\n",
    "stack.fit(Z_train, y_train)\n",
    "\n",
    "print(f'Training R-Squared: {stack.score(Z_train, y_train)}')\n",
    "print(f'Testing R-Squared: {stack.score(Z_test, y_test)}')\n",
    "print('='*50)\n",
    "print(f'RMSE: {mean_squared_error(y_test, stack.predict(Z_test), squared = False)}')"
   ]
  },
  {
   "cell_type": "markdown",
   "id": "17ac3c08-2f62-41cb-9ec9-0b31312ce633",
   "metadata": {},
   "source": [
    "#### Voting Regression with DF"
   ]
  },
  {
   "cell_type": "code",
   "execution_count": 34,
   "id": "57da3253-5722-4a9c-974f-25bbae326835",
   "metadata": {},
   "outputs": [
    {
     "name": "stdout",
     "output_type": "stream",
     "text": [
      "Training R-Squared: 0.4134986852197321\n",
      "Testing R-Squared: -0.07282682807715735\n",
      "==================================================\n",
      "RMSE: 62.69847882995121\n"
     ]
    }
   ],
   "source": [
    "#Voting Classifier with X_train\n",
    "\n",
    "lvl1_est = ([\n",
    "    ('rf', RandomForestRegressor(n_jobs=-1)),\n",
    "    ('ada', AdaBoostRegressor()),\n",
    "    ('lasso', Lasso())\n",
    "])\n",
    "\n",
    "vote = VotingRegressor(estimators = lvl1_est, n_jobs = -1)\n",
    "\n",
    "vote.fit(X_train, y_train)\n",
    "print(f'Training R-Squared: {vote.score(X_train, y_train)}')\n",
    "print(f'Testing R-Squared: {vote.score(X_test, y_test)}')\n",
    "print('='*50)\n",
    "print(f'RMSE: {mean_squared_error(y_test, vote.predict(X_test), squared = False)}')"
   ]
  },
  {
   "cell_type": "markdown",
   "id": "f18d94b6-5fd7-4c1e-8067-433fa8dc7688",
   "metadata": {},
   "source": [
    "#### Voting Regression with PCA"
   ]
  },
  {
   "cell_type": "code",
   "execution_count": 35,
   "id": "a1fae710-f36b-48d4-bb47-24392289fad0",
   "metadata": {},
   "outputs": [
    {
     "name": "stdout",
     "output_type": "stream",
     "text": [
      "Training R-Squared: 0.4324421663958121\n",
      "Testing R-Squared: -0.13971787714558848\n",
      "==================================================\n",
      "RMSE: 64.62355895129222\n"
     ]
    }
   ],
   "source": [
    "#Voting Classifier with PCA\n",
    "\n",
    "lvl1_est = ([\n",
    "    ('rf', RandomForestRegressor(n_jobs=-1)),\n",
    "    ('ada', AdaBoostRegressor()),\n",
    "    ('lasso', Lasso())\n",
    "])\n",
    "\n",
    "vote = VotingRegressor(estimators = lvl1_est, n_jobs = -1)\n",
    "\n",
    "vote.fit(Z_train, y_train)\n",
    "print(f'Training R-Squared: {vote.score(Z_train, y_train)}')\n",
    "print(f'Testing R-Squared: {vote.score(Z_test, y_test)}')\n",
    "print('='*50)\n",
    "print(f'RMSE: {mean_squared_error(y_test, vote.predict(Z_test), squared = False)}')"
   ]
  }
 ],
 "metadata": {
  "kernelspec": {
   "display_name": "Python 3 (ipykernel)",
   "language": "python",
   "name": "python3"
  },
  "language_info": {
   "codemirror_mode": {
    "name": "ipython",
    "version": 3
   },
   "file_extension": ".py",
   "mimetype": "text/x-python",
   "name": "python",
   "nbconvert_exporter": "python",
   "pygments_lexer": "ipython3",
   "version": "3.9.13"
  }
 },
 "nbformat": 4,
 "nbformat_minor": 5
}
