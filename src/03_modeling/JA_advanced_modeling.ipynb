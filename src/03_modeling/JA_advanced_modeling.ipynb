{
 "cells": [
  {
   "cell_type": "markdown",
   "id": "932a06dc-07d2-4a38-b6da-6a8624a8ca0b",
   "metadata": {},
   "source": [
    "# Modeling the Fire Data for Fires Over 1 Acre and Lasting Longer than 24 Hours"
   ]
  },
  {
   "cell_type": "markdown",
   "id": "893efcdf-7ea8-41a4-94b3-c51eb6fb5d93",
   "metadata": {},
   "source": [
    "## Focusing on Removing Outliers and Polynomial Features"
   ]
  },
  {
   "cell_type": "code",
   "execution_count": 206,
   "id": "fb8fad32-9541-4cec-8c21-0584e8bf6bc9",
   "metadata": {},
   "outputs": [],
   "source": [
    "import pandas as pd\n",
    "import numpy as np\n",
    "import seaborn as sns\n",
    "import matplotlib.pyplot as plt\n",
    "\n",
    "from sklearn.preprocessing import StandardScaler, PolynomialFeatures\n",
    "from sklearn.tree import DecisionTreeRegressor\n",
    "from sklearn.ensemble import StackingRegressor, VotingRegressor, RandomForestRegressor, AdaBoostRegressor\n",
    "from sklearn.pipeline import Pipeline\n",
    "from sklearn.model_selection import cross_val_score, train_test_split, GridSearchCV\n",
    "from sklearn.linear_model import LinearRegression, ridge_regression, Lasso\n",
    "from sklearn.neighbors import KNeighborsRegressor\n",
    "from sklearn.decomposition import PCA\n",
    "from sklearn.metrics import mean_squared_error, silhouette_score\n",
    "from sklearn.cluster import DBSCAN"
   ]
  },
  {
   "cell_type": "code",
   "execution_count": 250,
   "id": "5100cfd2-2493-499b-afd3-c0d90a1074db",
   "metadata": {},
   "outputs": [
    {
     "data": {
      "text/html": [
       "<div>\n",
       "<style scoped>\n",
       "    .dataframe tbody tr th:only-of-type {\n",
       "        vertical-align: middle;\n",
       "    }\n",
       "\n",
       "    .dataframe tbody tr th {\n",
       "        vertical-align: top;\n",
       "    }\n",
       "\n",
       "    .dataframe thead th {\n",
       "        text-align: right;\n",
       "    }\n",
       "</style>\n",
       "<table border=\"1\" class=\"dataframe\">\n",
       "  <thead>\n",
       "    <tr style=\"text-align: right;\">\n",
       "      <th></th>\n",
       "      <th>sum_rain</th>\n",
       "      <th>sum_snow</th>\n",
       "      <th>DiscoveryAcres</th>\n",
       "      <th>total_acres</th>\n",
       "      <th>temp_2m</th>\n",
       "      <th>temp_2m_max</th>\n",
       "      <th>humidity</th>\n",
       "      <th>rain</th>\n",
       "      <th>wind_speed_2m</th>\n",
       "      <th>wind_speed_2m_max</th>\n",
       "      <th>wind_speed_10m</th>\n",
       "      <th>wind_speed_10m_max</th>\n",
       "      <th>surface_soil_wetness_5cm_below</th>\n",
       "      <th>surface_soil_wetness_to_bedrock</th>\n",
       "      <th>landcover_class</th>\n",
       "    </tr>\n",
       "  </thead>\n",
       "  <tbody>\n",
       "    <tr>\n",
       "      <th>0</th>\n",
       "      <td>158.20</td>\n",
       "      <td>2.64</td>\n",
       "      <td>5.0</td>\n",
       "      <td>5990.90</td>\n",
       "      <td>24.80</td>\n",
       "      <td>33.19</td>\n",
       "      <td>5.92</td>\n",
       "      <td>0.00</td>\n",
       "      <td>1.76</td>\n",
       "      <td>3.42</td>\n",
       "      <td>2.61</td>\n",
       "      <td>4.52</td>\n",
       "      <td>0.31</td>\n",
       "      <td>0.37</td>\n",
       "      <td>489</td>\n",
       "    </tr>\n",
       "    <tr>\n",
       "      <th>1</th>\n",
       "      <td>10.54</td>\n",
       "      <td>0.00</td>\n",
       "      <td>1.0</td>\n",
       "      <td>136.00</td>\n",
       "      <td>22.72</td>\n",
       "      <td>31.95</td>\n",
       "      <td>2.69</td>\n",
       "      <td>0.00</td>\n",
       "      <td>2.65</td>\n",
       "      <td>4.88</td>\n",
       "      <td>3.88</td>\n",
       "      <td>6.57</td>\n",
       "      <td>0.12</td>\n",
       "      <td>0.42</td>\n",
       "      <td>470</td>\n",
       "    </tr>\n",
       "    <tr>\n",
       "      <th>2</th>\n",
       "      <td>152.93</td>\n",
       "      <td>2.64</td>\n",
       "      <td>15.0</td>\n",
       "      <td>147.00</td>\n",
       "      <td>26.21</td>\n",
       "      <td>35.48</td>\n",
       "      <td>7.57</td>\n",
       "      <td>0.01</td>\n",
       "      <td>1.62</td>\n",
       "      <td>4.30</td>\n",
       "      <td>2.66</td>\n",
       "      <td>6.88</td>\n",
       "      <td>0.29</td>\n",
       "      <td>0.38</td>\n",
       "      <td>183</td>\n",
       "    </tr>\n",
       "    <tr>\n",
       "      <th>3</th>\n",
       "      <td>284.77</td>\n",
       "      <td>7.83</td>\n",
       "      <td>1.0</td>\n",
       "      <td>2.88</td>\n",
       "      <td>-0.55</td>\n",
       "      <td>3.97</td>\n",
       "      <td>2.14</td>\n",
       "      <td>0.00</td>\n",
       "      <td>0.06</td>\n",
       "      <td>0.10</td>\n",
       "      <td>5.79</td>\n",
       "      <td>7.85</td>\n",
       "      <td>0.63</td>\n",
       "      <td>0.62</td>\n",
       "      <td>163</td>\n",
       "    </tr>\n",
       "    <tr>\n",
       "      <th>4</th>\n",
       "      <td>395.50</td>\n",
       "      <td>4.62</td>\n",
       "      <td>0.1</td>\n",
       "      <td>13.10</td>\n",
       "      <td>22.30</td>\n",
       "      <td>32.40</td>\n",
       "      <td>8.00</td>\n",
       "      <td>0.00</td>\n",
       "      <td>0.16</td>\n",
       "      <td>0.45</td>\n",
       "      <td>1.83</td>\n",
       "      <td>3.48</td>\n",
       "      <td>0.40</td>\n",
       "      <td>0.48</td>\n",
       "      <td>301</td>\n",
       "    </tr>\n",
       "  </tbody>\n",
       "</table>\n",
       "</div>"
      ],
      "text/plain": [
       "   sum_rain  sum_snow  DiscoveryAcres  total_acres  temp_2m  temp_2m_max  \\\n",
       "0    158.20      2.64             5.0      5990.90    24.80        33.19   \n",
       "1     10.54      0.00             1.0       136.00    22.72        31.95   \n",
       "2    152.93      2.64            15.0       147.00    26.21        35.48   \n",
       "3    284.77      7.83             1.0         2.88    -0.55         3.97   \n",
       "4    395.50      4.62             0.1        13.10    22.30        32.40   \n",
       "\n",
       "   humidity  rain  wind_speed_2m  wind_speed_2m_max  wind_speed_10m  \\\n",
       "0      5.92  0.00           1.76               3.42            2.61   \n",
       "1      2.69  0.00           2.65               4.88            3.88   \n",
       "2      7.57  0.01           1.62               4.30            2.66   \n",
       "3      2.14  0.00           0.06               0.10            5.79   \n",
       "4      8.00  0.00           0.16               0.45            1.83   \n",
       "\n",
       "   wind_speed_10m_max  surface_soil_wetness_5cm_below  \\\n",
       "0                4.52                            0.31   \n",
       "1                6.57                            0.12   \n",
       "2                6.88                            0.29   \n",
       "3                7.85                            0.63   \n",
       "4                3.48                            0.40   \n",
       "\n",
       "   surface_soil_wetness_to_bedrock  landcover_class  \n",
       "0                             0.37              489  \n",
       "1                             0.42              470  \n",
       "2                             0.38              183  \n",
       "3                             0.62              163  \n",
       "4                             0.48              301  "
      ]
     },
     "execution_count": 250,
     "metadata": {},
     "output_type": "execute_result"
    }
   ],
   "source": [
    "np.random.seed(42)\n",
    "\n",
    "df = pd.read_csv('../../data/processed/master_dataset.csv')\n",
    "\n",
    "df.head()"
   ]
  },
  {
   "cell_type": "code",
   "execution_count": 251,
   "id": "83f8cb36-8136-4e76-9616-1ee9d4f8b169",
   "metadata": {},
   "outputs": [
    {
     "name": "stdout",
     "output_type": "stream",
     "text": [
      "sum_rain\n",
      "sum_snow\n",
      "DiscoveryAcres\n",
      "total_acres\n",
      "temp_2m\n",
      "temp_2m_max\n",
      "humidity\n",
      "rain\n",
      "wind_speed_2m\n",
      "wind_speed_2m_max\n",
      "wind_speed_10m\n",
      "wind_speed_10m_max\n",
      "surface_soil_wetness_5cm_below\n",
      "surface_soil_wetness_to_bedrock\n",
      "landcover_class\n"
     ]
    }
   ],
   "source": [
    "for i in df.columns:\n",
    "    print(i)"
   ]
  },
  {
   "cell_type": "code",
   "execution_count": 252,
   "id": "58b3b524-6a0f-4233-a010-e0cd0515b737",
   "metadata": {},
   "outputs": [
    {
     "data": {
      "text/plain": [
       "(2122, 15)"
      ]
     },
     "execution_count": 252,
     "metadata": {},
     "output_type": "execute_result"
    }
   ],
   "source": [
    "df.shape"
   ]
  },
  {
   "cell_type": "code",
   "execution_count": 253,
   "id": "076c1840-361c-4259-a328-3629810bf4a3",
   "metadata": {},
   "outputs": [
    {
     "data": {
      "text/plain": [
       "count      2122.000000\n",
       "mean       2999.687916\n",
       "std       21287.395283\n",
       "min           1.170000\n",
       "25%           4.600000\n",
       "50%          19.100000\n",
       "75%         158.950000\n",
       "max      413718.000000\n",
       "Name: total_acres, dtype: float64"
      ]
     },
     "execution_count": 253,
     "metadata": {},
     "output_type": "execute_result"
    }
   ],
   "source": [
    "df['total_acres'].describe()"
   ]
  },
  {
   "cell_type": "code",
   "execution_count": 254,
   "id": "56ff6f49-c5bb-42e6-bf57-6f7ac5580a71",
   "metadata": {},
   "outputs": [],
   "source": [
    "iqr = 158.95-4.6\n",
    "upper_range = 1.5*iqr + 158.95\n",
    "df = df[df['total_acres'] <= upper_range]"
   ]
  },
  {
   "cell_type": "code",
   "execution_count": 255,
   "id": "65e35ebd-f4ba-4b38-8b30-4cf1b2e10f04",
   "metadata": {},
   "outputs": [
    {
     "data": {
      "text/plain": [
       "(1724, 15)"
      ]
     },
     "execution_count": 255,
     "metadata": {},
     "output_type": "execute_result"
    }
   ],
   "source": [
    "df.shape"
   ]
  },
  {
   "cell_type": "markdown",
   "id": "f4a24cc2-d37f-4e61-b73c-67c6d77f80df",
   "metadata": {
    "tags": []
   },
   "source": [
    "---\n",
    "######\n",
    "### Investigating Clustering:\n",
    "######\n",
    "##### Using DBSCAN and Potentially Adding Cluster Results as Feature\n",
    "######\n",
    "___"
   ]
  },
  {
   "cell_type": "code",
   "execution_count": 256,
   "id": "95c3e266-6f59-4e1e-8fde-9e5eca244e3a",
   "metadata": {},
   "outputs": [],
   "source": [
    "X_train, X_test, y_train, y_test = train_test_split(df.drop(columns = 'total_acres'), df['total_acres'], random_state= 42)\n",
    "ss = StandardScaler()\n",
    "X_train = ss.fit_transform(X_train)\n",
    "X_test = ss.transform(X_test)"
   ]
  },
  {
   "cell_type": "code",
   "execution_count": 257,
   "id": "206b2261-157a-41d1-a21c-9a8d95e1557c",
   "metadata": {},
   "outputs": [
    {
     "data": {
      "text/plain": [
       "[[-0.3602412959172937, 1.0],\n",
       " [-0.27127586688691074, 1.4736842105263157],\n",
       " [0.25630971921938606, 1.9473684210526314],\n",
       " [0.38298188987525206, 2.4210526315789473],\n",
       " [0.49147603827925496, 2.894736842105263],\n",
       " [0.5008692311004035, 3.3684210526315788],\n",
       " [0.5456956757682443, 3.8421052631578947],\n",
       " [0.5795107952760772, 4.315789473684211],\n",
       " [0.679444527582705, 4.789473684210526],\n",
       " [0.7300696979411784, 5.263157894736842],\n",
       " [0.7300696979411784, 5.7368421052631575],\n",
       " [0.7300696979411784, 6.2105263157894735],\n",
       " [0.8004412350233295, 6.684210526315789],\n",
       " [0.8004412350233295, 7.157894736842105],\n",
       " [0.8004412350233295, 7.63157894736842],\n",
       " [0.8004412350233295, 8.105263157894736],\n",
       " [0.8004412350233295, 8.578947368421051],\n",
       " [0.8004412350233295, 9.052631578947368],\n",
       " [0.8004412350233295, 9.526315789473683],\n",
       " [0.8004412350233295, 10.0]]"
      ]
     },
     "execution_count": 257,
     "metadata": {},
     "output_type": "execute_result"
    }
   ],
   "source": [
    "# Checking to see which value of epsilon is best\n",
    "\n",
    "silhouette_score_list = []\n",
    "epsilons = np.linspace(1, 10, 20)\n",
    "\n",
    "for i in epsilons:\n",
    "    try:\n",
    "        dbscan = DBSCAN(eps=i)\n",
    "        dbscan.fit(X_train)\n",
    "        silhouette_score_list.append([silhouette_score(X_train, dbscan.labels_), i])\n",
    "    except:\n",
    "        pass\n",
    "silhouette_score_list"
   ]
  },
  {
   "cell_type": "code",
   "execution_count": 258,
   "id": "6f491b89-b9e4-4894-a698-7d801456f656",
   "metadata": {},
   "outputs": [
    {
     "data": {
      "text/plain": [
       "[[0.8004412350233295, 1],\n",
       " [0.8004412350233295, 2],\n",
       " [0.8004412350233295, 3],\n",
       " [0.8004412350233295, 4],\n",
       " [0.8004412350233295, 5],\n",
       " [0.8004412350233295, 6],\n",
       " [0.8004412350233295, 7],\n",
       " [0.8004412350233295, 8],\n",
       " [0.8004412350233295, 9],\n",
       " [0.8004412350233295, 10],\n",
       " [0.8004412350233295, 11],\n",
       " [0.8004412350233295, 12],\n",
       " [0.7300696979411784, 13],\n",
       " [0.7300696979411784, 14],\n",
       " [0.7300696979411784, 15],\n",
       " [0.7300696979411784, 16],\n",
       " [0.7300696979411784, 17],\n",
       " [0.7300696979411784, 18],\n",
       " [0.7300696979411784, 19],\n",
       " [0.7300696979411784, 20]]"
      ]
     },
     "execution_count": 258,
     "metadata": {},
     "output_type": "execute_result"
    }
   ],
   "source": [
    "#checking to see \n",
    "silhouette_score_list = []\n",
    "min_samples = range(1, 21)\n",
    "\n",
    "for j in min_samples:\n",
    "    try:\n",
    "        dbscan = DBSCAN(eps= 6.47, min_samples = j)\n",
    "        dbscan.fit(X_train)\n",
    "        silhouette_score_list.append([silhouette_score(X_train, dbscan.labels_), j])\n",
    "    except:\n",
    "        pass\n",
    "silhouette_score_list"
   ]
  },
  {
   "cell_type": "code",
   "execution_count": 259,
   "id": "00163370-af2e-489a-8fd7-d262b5ae0a14",
   "metadata": {},
   "outputs": [
    {
     "data": {
      "text/plain": [
       "array([ 0, -1], dtype=int64)"
      ]
     },
     "execution_count": 259,
     "metadata": {},
     "output_type": "execute_result"
    }
   ],
   "source": [
    "db = DBSCAN(eps=6.68)\n",
    "db.fit(X_train)\n",
    "pd.Series(db.labels_).unique()"
   ]
  },
  {
   "cell_type": "code",
   "execution_count": 260,
   "id": "fedab2d3-f33c-4288-950a-cfbf03d9a9bd",
   "metadata": {},
   "outputs": [
    {
     "data": {
      "text/plain": [
       "1"
      ]
     },
     "execution_count": 260,
     "metadata": {},
     "output_type": "execute_result"
    }
   ],
   "source": [
    "(db.labels_ == -1).sum()"
   ]
  },
  {
   "cell_type": "markdown",
   "id": "427dfd08-9234-4bc7-a93d-8a516dab22c6",
   "metadata": {},
   "source": [
    "Decided to not use DBSCAN"
   ]
  },
  {
   "cell_type": "markdown",
   "id": "121d6674-5aae-47d7-89d8-80d283de8ad1",
   "metadata": {
    "tags": []
   },
   "source": [
    "---\n",
    "######\n",
    "### Investigating Correlation Between the Features and Target (DailyAcres)\n",
    "######\n",
    "___"
   ]
  },
  {
   "cell_type": "code",
   "execution_count": 261,
   "id": "59ac217f-5154-4949-9caa-49356f824845",
   "metadata": {},
   "outputs": [
    {
     "data": {
      "image/png": "[encoded data removed]",
      "text/plain": [
       "<Figure size 600x1200 with 2 Axes>"
      ]
     },
     "metadata": {},
     "output_type": "display_data"
    }
   ],
   "source": [
    "plt.figure(figsize = (6, 12))\n",
    "sns.heatmap(df.corr()[['total_acres']].sort_values(by = 'total_acres', ascending=False),\n",
    "            vmin = -1,\n",
    "            vmax = 1, \n",
    "            cmap = 'coolwarm',\n",
    "            annot = True);"
   ]
  },
  {
   "cell_type": "markdown",
   "id": "cb70a3d8-c1ea-45df-b929-77dae673143a",
   "metadata": {},
   "source": [
    "---\n",
    "######\n",
    "### Train/Test Splitting Data, Standard Scaling, Polynomial Features and PCA (not using landcover_class)\n",
    "######\n",
    "___"
   ]
  },
  {
   "cell_type": "code",
   "execution_count": 262,
   "id": "1b167691-24fb-47ca-869e-924bc2d431cf",
   "metadata": {},
   "outputs": [],
   "source": [
    "X_train, X_test, y_train, y_test = train_test_split(df.drop(columns = ['total_acres', 'landcover_class']), df['total_acres'], random_state= 42)\n",
    "ss = StandardScaler()\n",
    "X_train_sc = ss.fit_transform(X_train)\n",
    "X_test_sc = ss.transform(X_test)"
   ]
  },
  {
   "cell_type": "code",
   "execution_count": 263,
   "id": "386f0788-370a-4c36-875a-754084eb73aa",
   "metadata": {},
   "outputs": [],
   "source": [
    "poly = PolynomialFeatures()\n",
    "poly_X_train = poly.fit_transform(X_train_sc)\n",
    "poly_X_test = poly.transform(X_test_sc)"
   ]
  },
  {
   "cell_type": "code",
   "execution_count": 264,
   "id": "2419e064-18ae-42a2-9147-d59fb2b1d592",
   "metadata": {},
   "outputs": [
    {
     "data": {
      "text/plain": [
       "(1293, 105)"
      ]
     },
     "execution_count": 264,
     "metadata": {},
     "output_type": "execute_result"
    }
   ],
   "source": [
    "poly_X_train.shape"
   ]
  },
  {
   "cell_type": "code",
   "execution_count": 265,
   "id": "fd82c3b0-46e2-4136-b8fa-01b17e7e6773",
   "metadata": {},
   "outputs": [],
   "source": [
    "pca = PCA(random_state = 42)\n",
    "\n",
    "\n",
    "Z_train_poly = pca.fit_transform(poly_X_train)\n",
    "Z_test_poly = pca.transform(poly_X_test)"
   ]
  },
  {
   "cell_type": "code",
   "execution_count": 266,
   "id": "c7382fc2-6aac-4c9c-8b6c-fcc359b18e9a",
   "metadata": {},
   "outputs": [
    {
     "data": {
      "text/plain": [
       "array([0.553, 0.651, 0.745, 0.808, 0.837, 0.858, 0.876, 0.894, 0.906,\n",
       "       0.917, 0.925, 0.931, 0.937, 0.942, 0.947, 0.951, 0.955, 0.958,\n",
       "       0.961, 0.964, 0.967, 0.969, 0.971, 0.974, 0.976, 0.977, 0.979,\n",
       "       0.981, 0.982, 0.983, 0.985, 0.986, 0.987, 0.988, 0.989, 0.989,\n",
       "       0.99 , 0.991, 0.992, 0.992, 0.993, 0.993, 0.994, 0.994, 0.995,\n",
       "       0.995, 0.995, 0.996, 0.996, 0.996, 0.997, 0.997, 0.997, 0.997,\n",
       "       0.998, 0.998, 0.998, 0.998, 0.998, 0.998])"
      ]
     },
     "execution_count": 266,
     "metadata": {},
     "output_type": "execute_result"
    }
   ],
   "source": [
    "explained = pca.explained_variance_ratio_\n",
    "cumulative = np.cumsum(explained)\n",
    "np.round(cumulative[:60], 3)"
   ]
  },
  {
   "cell_type": "code",
   "execution_count": 267,
   "id": "44fb8881-3751-409b-b7ab-e1324f6c4a99",
   "metadata": {},
   "outputs": [],
   "source": [
    "Z_train_poly = Z_train_poly[:,:60]\n",
    "Z_test_poly = Z_test_poly[:,:60]"
   ]
  },
  {
   "cell_type": "code",
   "execution_count": 269,
   "id": "06c90a7d-f590-43f4-be43-07bbb522266b",
   "metadata": {},
   "outputs": [],
   "source": [
    "# PCA X_train without Polynomial Feature transformation\n",
    "pca = PCA(random_state = 42)\n",
    "\n",
    "\n",
    "Z_train = pca.fit_transform(X_train_sc)\n",
    "Z_test = pca.transform(X_test_sc)"
   ]
  },
  {
   "cell_type": "code",
   "execution_count": 270,
   "id": "9e7d8eee-c1fd-4b4d-a0ee-486cf3ea1dba",
   "metadata": {},
   "outputs": [
    {
     "data": {
      "text/plain": [
       "array([0.333, 0.557, 0.679, 0.769, 0.846, 0.906, 0.937, 0.964, 0.98 ,\n",
       "       0.991, 0.999, 1.   ])"
      ]
     },
     "execution_count": 270,
     "metadata": {},
     "output_type": "execute_result"
    }
   ],
   "source": [
    "explained = pca.explained_variance_ratio_\n",
    "cumulative = np.cumsum(explained)\n",
    "np.round(cumulative[:12], 3)"
   ]
  },
  {
   "cell_type": "code",
   "execution_count": 271,
   "id": "cb7bcd6f-56f6-468f-832e-93b06e0c685a",
   "metadata": {},
   "outputs": [],
   "source": [
    "Z_train = Z_train[:,:12]\n",
    "Z_test = Z_test[:,:12]"
   ]
  },
  {
   "cell_type": "markdown",
   "id": "b9a9d05f-9a57-4d1b-9598-94b38d3c4852",
   "metadata": {
    "tags": []
   },
   "source": [
    "---\n",
    "######\n",
    "### Dummying Landcover_Class and re-train/test splitting\n",
    "######\n",
    "___"
   ]
  },
  {
   "cell_type": "code",
   "execution_count": 272,
   "id": "551f2ba7-6d3b-460c-89a0-0355efd41526",
   "metadata": {},
   "outputs": [],
   "source": [
    "df1 = pd.get_dummies(data = df, columns = ['landcover_class'], drop_first= True)\n",
    "X_train_dum, X_test_dum, y_train, y_test = train_test_split(df1.drop(columns = ['total_acres']), df['total_acres'], random_state= 42)\n",
    "ss = StandardScaler()\n",
    "X_train_dum = ss.fit_transform(X_train_dum)\n",
    "X_test_dum = ss.transform(X_test_dum)"
   ]
  },
  {
   "cell_type": "code",
   "execution_count": 111,
   "id": "22f87b3a-da6c-4081-9da3-cfdc22451e52",
   "metadata": {},
   "outputs": [],
   "source": [
    "#np.savetxt('../../data/processed/Neural_Net_Data/X_train_without_outliers.csv', X_train, delimiter=',')\n",
    "#np.savetxt('../../data/processed/Neural_Net_Data/X_test_without_outliers.csv', X_test, delimiter=',')\n",
    "#np.savetxt('../../data/processed/Neural_Net_Data/Z_train_without_outliers.csv', Z_train, delimiter=',')\n",
    "#np.savetxt('../../data/processed/Neural_Net_Data/Z_test_without_outliers.csv', Z_test, delimiter=',')\n",
    "#np.savetxt('../../data/processed/Neural_Net_Data/Z_train_poly_without_outliers.csv', Z_train_poly, delimiter=',')\n",
    "#np.savetxt('../../data/processed/Neural_Net_Data/Z_test_poly_without_outliers.csv', Z_test_poly, delimiter=',')\n",
    "#np.savetxt('../../data/processed/Neural_Net_Data/y_train_without_outliers.csv', y_train, delimiter=',')\n",
    "#np.savetxt('../../data/processed/Neural_Net_Data/y_test_without_outliers.csv', y_test, delimiter=',')"
   ]
  },
  {
   "cell_type": "markdown",
   "id": "8fb86577-6df8-416a-80f2-a1c7060d886c",
   "metadata": {},
   "source": [
    "---\n",
    "######\n",
    "### Modeling / Simple Models\n",
    "######\n",
    "---"
   ]
  },
  {
   "cell_type": "markdown",
   "id": "df905f5d-7f4f-405c-b766-bd2995e30245",
   "metadata": {},
   "source": [
    "#### Linear Regression (Baseline) with DF including Landcover_class Dummied Columns"
   ]
  },
  {
   "cell_type": "code",
   "execution_count": 276,
   "id": "82e0d232-ff13-4963-ae9f-2793a14d914b",
   "metadata": {},
   "outputs": [
    {
     "name": "stdout",
     "output_type": "stream",
     "text": [
      "Training R-Squared: 0.19686113693084284\n",
      "Testing R-Squared: -1.2354481655103512e+22\n",
      "==================================================\n",
      "RMSE: 7737854684080.361\n"
     ]
    }
   ],
   "source": [
    "#Linear Regression - Baseline\n",
    "# With X data\n",
    "lr = LinearRegression()\n",
    "\n",
    "lr.fit(X_train_dum, y_train)\n",
    "print(f'Training R-Squared: {lr.score(X_train_dum, y_train)}')\n",
    "print(f'Testing R-Squared: {lr.score(X_test_dum, y_test)}')\n",
    "print('='*50)\n",
    "print(f'RMSE: {mean_squared_error(y_test, lr.predict(X_test_dum), squared = False)}')"
   ]
  },
  {
   "cell_type": "markdown",
   "id": "26de7bc8-e5b3-4c83-b1bf-858d2603f751",
   "metadata": {},
   "source": [
    "#### Linear Regression (Baseline) with DF without Landcover_class Dummied Columns"
   ]
  },
  {
   "cell_type": "code",
   "execution_count": 275,
   "id": "c0055d49-ea08-4837-9ece-5029b9868f82",
   "metadata": {},
   "outputs": [
    {
     "name": "stdout",
     "output_type": "stream",
     "text": [
      "Training R-Squared: 0.11707479932695453\n",
      "Testing R-Squared: 0.18276676904241673\n",
      "==================================================\n",
      "RMSE: 62.933417201762055\n"
     ]
    }
   ],
   "source": [
    "lr = LinearRegression()\n",
    "\n",
    "lr.fit(X_train, y_train)\n",
    "print(f'Training R-Squared: {lr.score(X_train, y_train)}')\n",
    "print(f'Testing R-Squared: {lr.score(X_test, y_test)}')\n",
    "print('='*50)\n",
    "print(f'RMSE: {mean_squared_error(y_test, lr.predict(X_test), squared = False)}')"
   ]
  },
  {
   "cell_type": "markdown",
   "id": "2d8147ab-369d-4b5b-b0f2-2743ac029cac",
   "metadata": {},
   "source": [
    "#### Linear Regression (Baseline) with Polynomial PCA"
   ]
  },
  {
   "cell_type": "code",
   "execution_count": 277,
   "id": "43c3e0f2-ffd7-426e-9ca4-db68c06c7cd9",
   "metadata": {},
   "outputs": [
    {
     "name": "stdout",
     "output_type": "stream",
     "text": [
      "Training R-Squared: 0.16205695441889467\n",
      "Testing R-Squared: 0.1953926007692225\n",
      "==================================================\n",
      "RMSE: 62.44538047448781\n"
     ]
    }
   ],
   "source": [
    "#Linear Regression - Baseline\n",
    "# With PCA Data\n",
    "lr = LinearRegression()\n",
    "\n",
    "lr.fit(Z_train_poly, y_train)\n",
    "print(f'Training R-Squared: {lr.score(Z_train_poly, y_train)}')\n",
    "print(f'Testing R-Squared: {lr.score(Z_test_poly, y_test)}')\n",
    "print('='*50)\n",
    "print(f'RMSE: {mean_squared_error(y_test, lr.predict(Z_test_poly), squared = False)}')"
   ]
  },
  {
   "cell_type": "markdown",
   "id": "a429558c-eeb4-4c4c-9622-4f31328c45ce",
   "metadata": {},
   "source": [
    "#### Linear Regression (Baseline) with PCA (w/o Polynomial Tranformation)"
   ]
  },
  {
   "cell_type": "code",
   "execution_count": 278,
   "id": "d81cf755-b0c0-4860-9955-1744b335c107",
   "metadata": {},
   "outputs": [
    {
     "name": "stdout",
     "output_type": "stream",
     "text": [
      "Training R-Squared: 0.11046452897439385\n",
      "Testing R-Squared: 0.19061004382028424\n",
      "==================================================\n",
      "RMSE: 62.63069203984553\n"
     ]
    }
   ],
   "source": [
    "#Linear Regression - Baseline\n",
    "# With PCA Data\n",
    "lr = LinearRegression()\n",
    "\n",
    "lr.fit(Z_train, y_train)\n",
    "print(f'Training R-Squared: {lr.score(Z_train, y_train)}')\n",
    "print(f'Testing R-Squared: {lr.score(Z_test, y_test)}')\n",
    "print('='*50)\n",
    "print(f'RMSE: {mean_squared_error(y_test, lr.predict(Z_test), squared = False)}')"
   ]
  },
  {
   "cell_type": "code",
   "execution_count": 279,
   "id": "3b15c720-05e0-4c5a-a85c-e0c5567b5276",
   "metadata": {},
   "outputs": [],
   "source": [
    "def model_eval(model, param_dict, training_data):\n",
    "    '''\n",
    "    d\n",
    "    '''\n",
    "    \n",
    "    gs_model = GridSearchCV(model,\n",
    "                            param_grid = param_dict,\n",
    "                            n_jobs = -1)\n",
    "    if training_data == 'X_train':\n",
    "        training = X_train\n",
    "        testing = X_test\n",
    "    elif training_data == 'X_test_dum':\n",
    "        training = X_train_dum\n",
    "        testing = X_test_dum\n",
    "    elif training_data == 'Z_train':\n",
    "        training = Z_train\n",
    "        testing = Z_test\n",
    "    elif training_data == 'Z_train_poly':\n",
    "        training = Z_train_poly\n",
    "        testing = Z_test_poly\n",
    "    else:\n",
    "        return \"Mistaken Training Data Parameter\"\n",
    "    \n",
    "    gs_model.fit(training, y_train)\n",
    "    print(f'Best Score: {gs_model.best_score_}')\n",
    "    print(f'Best Params: {gs_model.best_params_}')\n",
    "    print('='*50)\n",
    "    print(f'RMSE: {mean_squared_error(y_test, gs_model.predict(testing), squared = False)}')\n",
    "    print('='*50)\n",
    "    print(f'Training R-Squared: {gs_model.score(training, y_train)}')\n",
    "    print(f'Testing R-Squared: {gs_model.score(testing, y_test)}')"
   ]
  },
  {
   "cell_type": "markdown",
   "id": "1e692294-7ae5-4cc4-abb4-0c04b2f5a7fc",
   "metadata": {},
   "source": [
    "#### KNN Regression with DF"
   ]
  },
  {
   "cell_type": "code",
   "execution_count": 280,
   "id": "8ad4cdb7-7491-4c82-938e-3c839299206f",
   "metadata": {},
   "outputs": [
    {
     "name": "stdout",
     "output_type": "stream",
     "text": [
      "Best Score: 0.031367700477482184\n",
      "Best Params: {'n_neighbors': 60, 'weights': 'distance'}\n",
      "==================================================\n",
      "RMSE: 66.06886360974818\n",
      "==================================================\n",
      "Training R-Squared: 0.9987297075671161\n",
      "Testing R-Squared: 0.09930642687869062\n"
     ]
    }
   ],
   "source": [
    "#KNN Regressor with X Data\n",
    "\n",
    "knn_model = KNeighborsRegressor(n_jobs=-1)\n",
    "\n",
    "knn_params = {\n",
    "    'n_neighbors': range(10, 201, 10),\n",
    "    'weights': ['uniform', 'distance']\n",
    "}\n",
    "\n",
    "model_eval(model = knn_model,\n",
    "           param_dict = knn_params,\n",
    "           training_data = 'X_train')"
   ]
  },
  {
   "cell_type": "markdown",
   "id": "4743f8ef-58d0-4786-a940-799b72774937",
   "metadata": {},
   "source": [
    "#### KNN Regression with PCA Data"
   ]
  },
  {
   "cell_type": "code",
   "execution_count": 188,
   "id": "5e69d66e-20a9-4f00-bbb8-c53f85d37d48",
   "metadata": {},
   "outputs": [
    {
     "name": "stdout",
     "output_type": "stream",
     "text": [
      "Best Score: 0.036062819203705174\n",
      "Best Params: {'n_neighbors': 80, 'weights': 'distance'}\n",
      "==================================================\n",
      "RMSE: 65.87368784043143\n",
      "==================================================\n",
      "Training R-Squared: 0.9987298175367992\n",
      "Testing R-Squared: 0.1046200918418454\n"
     ]
    }
   ],
   "source": [
    "#KNN Regressor with PCA Data\n",
    "\n",
    "knn_model = KNeighborsRegressor(n_jobs=-1)\n",
    "\n",
    "knn_params = {\n",
    "    'n_neighbors': range(10, 201, 10),\n",
    "    'weights': ['uniform', 'distance']\n",
    "}\n",
    "\n",
    "model_eval(model = knn_model,\n",
    "           param_dict = knn_params,\n",
    "           training_data = 'Z_train')"
   ]
  },
  {
   "cell_type": "markdown",
   "id": "440fb78d-42da-4e5e-9506-cbb55db0e2ef",
   "metadata": {},
   "source": [
    "#### Lasso Regression with DF"
   ]
  },
  {
   "cell_type": "code",
   "execution_count": 189,
   "id": "ef184bcc-6786-400d-b2de-5614b88b6e44",
   "metadata": {},
   "outputs": [
    {
     "name": "stdout",
     "output_type": "stream",
     "text": [
      "Best Score: 0.08794250566148398\n",
      "Best Params: {'alpha': 3}\n",
      "==================================================\n",
      "RMSE: 63.128277369729574\n",
      "==================================================\n",
      "Training R-Squared: 0.14186227155029252\n",
      "Testing R-Squared: 0.1776981505553541\n"
     ]
    }
   ],
   "source": [
    "# Lasso Regression with X Data\n",
    "\n",
    "lasso = Lasso()\n",
    "lasso_params = {\n",
    "    'alpha': range(1, 101, 2)\n",
    "}\n",
    "\n",
    "model_eval(model = lasso,\n",
    "           param_dict = lasso_params,\n",
    "           training_data = 'X_train')"
   ]
  },
  {
   "cell_type": "markdown",
   "id": "a240bbd0-3c73-4b2a-837b-5c19b783f225",
   "metadata": {},
   "source": [
    "#### Lasso Regression with PCA"
   ]
  },
  {
   "cell_type": "code",
   "execution_count": 190,
   "id": "f5bb0b0a-933d-44b6-9592-93355e1b02ad",
   "metadata": {},
   "outputs": [
    {
     "name": "stdout",
     "output_type": "stream",
     "text": [
      "Best Score: 0.04571182104853688\n",
      "Best Params: {'alpha': 1}\n",
      "==================================================\n",
      "RMSE: 63.35190593955067\n",
      "==================================================\n",
      "Training R-Squared: 0.145446157778379\n",
      "Testing R-Squared: 0.1718619102890997\n"
     ]
    }
   ],
   "source": [
    "# Lasso Regression with PCA Data\n",
    "\n",
    "lasso = Lasso()\n",
    "lasso_params = {\n",
    "    'alpha': range(1, 101, 2)\n",
    "}\n",
    "\n",
    "model_eval(model = lasso,\n",
    "           param_dict = lasso_params,\n",
    "           training_data = 'Z_train')"
   ]
  },
  {
   "cell_type": "markdown",
   "id": "7dc594f1-bb89-47bc-b797-78afe930b953",
   "metadata": {},
   "source": [
    "#### Adaboost Regression with DF"
   ]
  },
  {
   "cell_type": "code",
   "execution_count": 191,
   "id": "1e2d2b7d-fc0e-4548-b44e-bcbd0ac0cf9b",
   "metadata": {},
   "outputs": [
    {
     "name": "stdout",
     "output_type": "stream",
     "text": [
      "Best Score: -0.41346246922933966\n",
      "Best Params: {'learning_rate': 0.5, 'n_estimators': 50}\n",
      "==================================================\n",
      "RMSE: 82.13474231333184\n",
      "==================================================\n",
      "Training R-Squared: -0.26253698490122623\n",
      "Testing R-Squared: -0.39199343743915094\n"
     ]
    }
   ],
   "source": [
    "# Adaboost with X Data\n",
    "\n",
    "ada = AdaBoostRegressor()\n",
    "ada_params = {\n",
    "    'n_estimators': range(40, 101, 10),\n",
    "    'learning_rate': [0.5, 0.75, 1, 1.25, 1.5] \n",
    "}\n",
    "\n",
    "model_eval(model = ada,\n",
    "           param_dict = ada_params,\n",
    "           training_data = 'X_train')"
   ]
  },
  {
   "cell_type": "markdown",
   "id": "e45ecae4-6055-4ea4-be7d-9c9696ecfab8",
   "metadata": {},
   "source": [
    "#### Adaboost Regression with PCA"
   ]
  },
  {
   "cell_type": "code",
   "execution_count": 192,
   "id": "8cb35fcb-f898-414c-84d5-1e421283e166",
   "metadata": {},
   "outputs": [
    {
     "name": "stdout",
     "output_type": "stream",
     "text": [
      "Best Score: -0.26883412248766725\n",
      "Best Params: {'learning_rate': 0.5, 'n_estimators': 40}\n",
      "==================================================\n",
      "RMSE: 77.11398444703974\n",
      "==================================================\n",
      "Training R-Squared: -0.009570497770514885\n",
      "Testing R-Squared: -0.22701444916170987\n"
     ]
    }
   ],
   "source": [
    "# Adaboost with PCA Data\n",
    "\n",
    "ada = AdaBoostRegressor()\n",
    "ada_params = {\n",
    "    'n_estimators': range(40, 101, 10),\n",
    "    'learning_rate': [0.5, 0.75, 1, 1.25, 1.5] \n",
    "}\n",
    "\n",
    "model_eval(model = ada,\n",
    "           param_dict = ada_params,\n",
    "           training_data = 'Z_train')"
   ]
  },
  {
   "cell_type": "markdown",
   "id": "3b442804-c19f-48be-ae7b-40df4ef3d459",
   "metadata": {},
   "source": [
    "#### RandomForest Regression with DF"
   ]
  },
  {
   "cell_type": "code",
   "execution_count": 121,
   "id": "ce6db93c-4594-4007-a587-554e7c2a1396",
   "metadata": {},
   "outputs": [
    {
     "name": "stdout",
     "output_type": "stream",
     "text": [
      "Best Score: 0.06589457070466445\n",
      "Best Params: {'ccp_alpha': 0.01, 'max_depth': 70, 'min_samples_leaf': 2, 'min_samples_split': 3}\n",
      "==================================================\n",
      "RMSE: 63.65811634772471\n",
      "==================================================\n",
      "Training R-Squared: 0.7513843325367814\n",
      "Testing R-Squared: 0.1638369788528159\n"
     ]
    }
   ],
   "source": [
    "# Random Forest with X_train\n",
    "\n",
    "rf = RandomForestRegressor(n_jobs = -1)\n",
    "\n",
    "rf_params = {\n",
    "    'max_depth': range(70, 201, 10),\n",
    "    'min_samples_split': [2, 3],\n",
    "    'min_samples_leaf': [1, 2, 3],\n",
    "    'ccp_alpha': [0.01, 0.1, 0.5, 1]\n",
    "}\n",
    "\n",
    "model_eval(model = rf,\n",
    "           param_dict = rf_params,\n",
    "           training_data = 'X_train')"
   ]
  },
  {
   "cell_type": "markdown",
   "id": "bd843e96-a095-4cf5-9d09-20440eb0ba15",
   "metadata": {},
   "source": [
    "#### RandomForest Regression with PCA"
   ]
  },
  {
   "cell_type": "code",
   "execution_count": 122,
   "id": "1093d744-c7bb-4e9f-bfcb-53db4481a02b",
   "metadata": {},
   "outputs": [
    {
     "name": "stdout",
     "output_type": "stream",
     "text": [
      "Best Score: 0.029998642937097177\n",
      "Best Params: {'ccp_alpha': 0.5, 'max_depth': 80, 'min_samples_leaf': 3, 'min_samples_split': 3}\n",
      "==================================================\n",
      "RMSE: 63.47466833481446\n",
      "==================================================\n",
      "Training R-Squared: 0.7290090398739548\n",
      "Testing R-Squared: 0.16864929290350972\n"
     ]
    }
   ],
   "source": [
    "# Random Forest with PCA\n",
    "\n",
    "rf = RandomForestRegressor(n_jobs = -1)\n",
    "\n",
    "rf_params = {\n",
    "    'max_depth': range(70, 201, 10),\n",
    "    'min_samples_split': [2, 3],\n",
    "    'min_samples_leaf': [1, 2, 3],\n",
    "    'ccp_alpha': [0.01, 0.1, 0.5, 1]\n",
    "}\n",
    "\n",
    "model_eval(model = rf,\n",
    "           param_dict = rf_params,\n",
    "           training_data = 'Z_train')"
   ]
  },
  {
   "cell_type": "markdown",
   "id": "d70753eb-a435-4359-879c-a4cd1ef6a9e4",
   "metadata": {},
   "source": [
    "---\n",
    "######\n",
    "### Modeling / Ensemble Models\n",
    "######\n",
    "---"
   ]
  },
  {
   "cell_type": "markdown",
   "id": "7241e411-f8dd-4b8c-a26e-8c795e4e44cd",
   "metadata": {},
   "source": [
    "#### Stacking Regression with DF and with DecisionTreeRegressor Final Estimator"
   ]
  },
  {
   "cell_type": "code",
   "execution_count": 193,
   "id": "d7cfcb0e-7c27-438c-8c91-359f1387a3e0",
   "metadata": {},
   "outputs": [
    {
     "name": "stdout",
     "output_type": "stream",
     "text": [
      "Training R-Squared: -1.4184027880954284\n",
      "Testing R-Squared: -1.5735150418438275\n",
      "==================================================\n",
      "RMSE: 111.67903703281885\n"
     ]
    }
   ],
   "source": [
    "# Stacking Regressor with X_train\n",
    "\n",
    "lvl1_est = ([\n",
    "    ('rf', RandomForestRegressor(n_jobs=-1)),\n",
    "    ('ada', AdaBoostRegressor()),\n",
    "    ('lasso', Lasso())\n",
    "])\n",
    "\n",
    "stack = StackingRegressor(estimators=lvl1_est, \n",
    "                          final_estimator=DecisionTreeRegressor(),\n",
    "                         n_jobs=-1)\n",
    "\n",
    "stack.fit(X_train, y_train)\n",
    "\n",
    "print(f'Training R-Squared: {stack.score(X_train, y_train)}')\n",
    "print(f'Testing R-Squared: {stack.score(X_test, y_test)}')\n",
    "print('='*50)\n",
    "print(f'RMSE: {mean_squared_error(y_test, stack.predict(X_test), squared = False)}')"
   ]
  },
  {
   "cell_type": "markdown",
   "id": "ba4a19a3-8d06-4a94-90be-952a758583f2",
   "metadata": {},
   "source": [
    "#### Stacking Regression with PCA and with DecisionTreeRegressor Final Estimator"
   ]
  },
  {
   "cell_type": "code",
   "execution_count": 194,
   "id": "3009254b-0e37-4f30-be03-58039d6b0348",
   "metadata": {},
   "outputs": [
    {
     "name": "stdout",
     "output_type": "stream",
     "text": [
      "Training R-Squared: -0.8380928393433082\n",
      "Testing R-Squared: -1.2700805059093656\n",
      "==================================================\n",
      "RMSE: 104.8887560079958\n"
     ]
    }
   ],
   "source": [
    "# Stacking Regressor with Z_train\n",
    "\n",
    "lvl1_est = ([\n",
    "    ('rf', RandomForestRegressor(n_jobs=-1)),\n",
    "    ('ada', AdaBoostRegressor()),\n",
    "    ('lasso', Lasso())\n",
    "])\n",
    "\n",
    "stack = StackingRegressor(estimators=lvl1_est, \n",
    "                          final_estimator=DecisionTreeRegressor(),\n",
    "                         n_jobs=-1)\n",
    "\n",
    "stack.fit(Z_train, y_train)\n",
    "\n",
    "print(f'Training R-Squared: {stack.score(Z_train, y_train)}')\n",
    "print(f'Testing R-Squared: {stack.score(Z_test, y_test)}')\n",
    "print('='*50)\n",
    "print(f'RMSE: {mean_squared_error(y_test, stack.predict(Z_test), squared = False)}')"
   ]
  },
  {
   "cell_type": "markdown",
   "id": "cb8c231e-83b7-4029-8cf4-f38424abcdbf",
   "metadata": {},
   "source": [
    "#### Stacking Regression with DF and with LinearRegression Final Estimator"
   ]
  },
  {
   "cell_type": "code",
   "execution_count": 195,
   "id": "a743ef53-83d9-4b3d-a794-bfd0158edfd8",
   "metadata": {},
   "outputs": [
    {
     "name": "stdout",
     "output_type": "stream",
     "text": [
      "Training R-Squared: 0.35317341766092314\n",
      "Testing R-Squared: 0.1685160144615857\n",
      "==================================================\n",
      "RMSE: 63.47975611894257\n"
     ]
    }
   ],
   "source": [
    "# Stacking Regressor with X_train\n",
    "\n",
    "lvl1_est = ([\n",
    "    ('rf', RandomForestRegressor(n_jobs=-1)),\n",
    "    ('ada', AdaBoostRegressor()),\n",
    "    ('lasso', Lasso())\n",
    "])\n",
    "\n",
    "stack = StackingRegressor(estimators=lvl1_est, \n",
    "                          final_estimator=LinearRegression(),\n",
    "                         n_jobs=-1)\n",
    "\n",
    "stack.fit(X_train, y_train)\n",
    "\n",
    "print(f'Training R-Squared: {stack.score(X_train, y_train)}')\n",
    "print(f'Testing R-Squared: {stack.score(X_test, y_test)}')\n",
    "print('='*50)\n",
    "print(f'RMSE: {mean_squared_error(y_test, stack.predict(X_test), squared = False)}')"
   ]
  },
  {
   "cell_type": "markdown",
   "id": "29358f3a-5bbb-437e-807d-3bc766df4a9e",
   "metadata": {},
   "source": [
    "#### Stacking Regression with PCA and with LinearRegression Final Estimator"
   ]
  },
  {
   "cell_type": "code",
   "execution_count": 196,
   "id": "3140c54f-70db-45f3-b270-257e6b904644",
   "metadata": {},
   "outputs": [
    {
     "name": "stdout",
     "output_type": "stream",
     "text": [
      "Training R-Squared: 0.36721870432456305\n",
      "Testing R-Squared: 0.15260315049160966\n",
      "==================================================\n",
      "RMSE: 64.08431220679155\n"
     ]
    }
   ],
   "source": [
    "# Stacking Regressor with PCA\n",
    "\n",
    "lvl1_est = ([\n",
    "    ('rf', RandomForestRegressor(n_jobs=-1)),\n",
    "    ('ada', AdaBoostRegressor()),\n",
    "    ('lasso', Lasso())\n",
    "])\n",
    "\n",
    "stack = StackingRegressor(estimators=lvl1_est, \n",
    "                          final_estimator=LinearRegression(),\n",
    "                         n_jobs=-1)\n",
    "\n",
    "stack.fit(Z_train, y_train)\n",
    "\n",
    "print(f'Training R-Squared: {stack.score(Z_train, y_train)}')\n",
    "print(f'Testing R-Squared: {stack.score(Z_test, y_test)}')\n",
    "print('='*50)\n",
    "print(f'RMSE: {mean_squared_error(y_test, stack.predict(Z_test), squared = False)}')"
   ]
  },
  {
   "cell_type": "markdown",
   "id": "857cdb6d-ab02-4714-a9ee-0400a03ff837",
   "metadata": {},
   "source": [
    "#### Stacking Regression with DF and with Lasso Final Estimator"
   ]
  },
  {
   "cell_type": "code",
   "execution_count": 197,
   "id": "c1a142c5-b6f3-4e76-b0cf-ff2fa0b46369",
   "metadata": {},
   "outputs": [
    {
     "name": "stdout",
     "output_type": "stream",
     "text": [
      "Training R-Squared: 0.39146410560561584\n",
      "Testing R-Squared: 0.16778479473900154\n",
      "==================================================\n",
      "RMSE: 63.507662518737\n"
     ]
    }
   ],
   "source": [
    "# Stacking Regressor with X_train\n",
    "\n",
    "lvl1_est = ([\n",
    "    ('rf', RandomForestRegressor(n_jobs=-1)),\n",
    "    ('ada', AdaBoostRegressor()),\n",
    "    ('lasso', Lasso())\n",
    "])\n",
    "\n",
    "stack = StackingRegressor(estimators=lvl1_est, \n",
    "                          final_estimator=Lasso(),\n",
    "                         n_jobs=-1)\n",
    "\n",
    "stack.fit(X_train, y_train)\n",
    "\n",
    "print(f'Training R-Squared: {stack.score(X_train, y_train)}')\n",
    "print(f'Testing R-Squared: {stack.score(X_test, y_test)}')\n",
    "print('='*50)\n",
    "print(f'RMSE: {mean_squared_error(y_test, stack.predict(X_test), squared = False)}')"
   ]
  },
  {
   "cell_type": "markdown",
   "id": "75c0edbc-8a3c-4a87-a931-a733fc90c4ce",
   "metadata": {},
   "source": [
    "#### Stacking Regression with PCA and with Lasso Final Estimator"
   ]
  },
  {
   "cell_type": "code",
   "execution_count": 198,
   "id": "c0ee9cc4-909b-4959-ba3d-c12da5b0e80b",
   "metadata": {},
   "outputs": [
    {
     "name": "stdout",
     "output_type": "stream",
     "text": [
      "Training R-Squared: 0.3774795148457408\n",
      "Testing R-Squared: 0.15092702302086747\n",
      "==================================================\n",
      "RMSE: 64.14765939379238\n"
     ]
    }
   ],
   "source": [
    "# Stacking Regressor with PCA\n",
    "\n",
    "lvl1_est = ([\n",
    "    ('rf', RandomForestRegressor(n_jobs=-1)),\n",
    "    ('ada', AdaBoostRegressor()),\n",
    "    ('lasso', Lasso())\n",
    "])\n",
    "\n",
    "stack = StackingRegressor(estimators=lvl1_est, \n",
    "                          final_estimator=Lasso(),\n",
    "                         n_jobs=-1)\n",
    "\n",
    "stack.fit(Z_train, y_train)\n",
    "\n",
    "print(f'Training R-Squared: {stack.score(Z_train, y_train)}')\n",
    "print(f'Testing R-Squared: {stack.score(Z_test, y_test)}')\n",
    "print('='*50)\n",
    "print(f'RMSE: {mean_squared_error(y_test, stack.predict(Z_test), squared = False)}')"
   ]
  },
  {
   "cell_type": "markdown",
   "id": "939b2ea7-be53-47fa-b6a6-49ae83873e2e",
   "metadata": {},
   "source": [
    "#### Stacking Regression (different base estimators) with DF and with Lasso Final Estimator"
   ]
  },
  {
   "cell_type": "code",
   "execution_count": 199,
   "id": "b23db026-f34e-4c5d-9e6e-95c82690d8d5",
   "metadata": {},
   "outputs": [
    {
     "name": "stdout",
     "output_type": "stream",
     "text": [
      "Training R-Squared: 0.15643391122638106\n",
      "Testing R-Squared: 0.15881909802574934\n",
      "==================================================\n",
      "RMSE: 63.84883935062261\n"
     ]
    }
   ],
   "source": [
    "# Stacking Regressor with X_train\n",
    "\n",
    "lvl1_est = ([\n",
    "    ('ada', AdaBoostRegressor()),\n",
    "    ('lasso', Lasso())\n",
    "])\n",
    "\n",
    "stack = StackingRegressor(estimators=lvl1_est, \n",
    "                          final_estimator=Lasso(),\n",
    "                         n_jobs=-1)\n",
    "\n",
    "stack.fit(X_train, y_train)\n",
    "\n",
    "print(f'Training R-Squared: {stack.score(X_train, y_train)}')\n",
    "print(f'Testing R-Squared: {stack.score(X_test, y_test)}')\n",
    "print('='*50)\n",
    "print(f'RMSE: {mean_squared_error(y_test, stack.predict(X_test), squared = False)}')"
   ]
  },
  {
   "cell_type": "markdown",
   "id": "8623e4b8-73ad-4ae3-8441-9c7223aeb902",
   "metadata": {},
   "source": [
    "#### Stacking Regression (different base estimators) with PCA and with Lasso Final Estimator"
   ]
  },
  {
   "cell_type": "code",
   "execution_count": 200,
   "id": "3b17bbb5-0520-4cee-b373-335bb8590e74",
   "metadata": {},
   "outputs": [
    {
     "name": "stdout",
     "output_type": "stream",
     "text": [
      "Training R-Squared: 0.16276340132215728\n",
      "Testing R-Squared: 0.13456852641203\n",
      "==================================================\n",
      "RMSE: 64.76265544789085\n"
     ]
    }
   ],
   "source": [
    "# Stacking Regressor with PCA\n",
    "\n",
    "lvl1_est = ([\n",
    "    ('ada', AdaBoostRegressor()),\n",
    "    ('lasso', Lasso())\n",
    "])\n",
    "\n",
    "stack = StackingRegressor(estimators=lvl1_est, \n",
    "                          final_estimator=Lasso(),\n",
    "                         n_jobs=-1)\n",
    "\n",
    "stack.fit(Z_train, y_train)\n",
    "\n",
    "print(f'Training R-Squared: {stack.score(Z_train, y_train)}')\n",
    "print(f'Testing R-Squared: {stack.score(Z_test, y_test)}')\n",
    "print('='*50)\n",
    "print(f'RMSE: {mean_squared_error(y_test, stack.predict(Z_test), squared = False)}')"
   ]
  },
  {
   "cell_type": "markdown",
   "id": "17ac3c08-2f62-41cb-9ec9-0b31312ce633",
   "metadata": {},
   "source": [
    "#### Voting Regression with DF"
   ]
  },
  {
   "cell_type": "code",
   "execution_count": 201,
   "id": "57da3253-5722-4a9c-974f-25bbae326835",
   "metadata": {},
   "outputs": [
    {
     "name": "stdout",
     "output_type": "stream",
     "text": [
      "Training R-Squared: 0.2933529666480559\n",
      "Testing R-Squared: -0.058279572429008164\n",
      "==================================================\n",
      "RMSE: 71.61574458739382\n"
     ]
    }
   ],
   "source": [
    "#Voting Classifier with X_train\n",
    "\n",
    "lvl1_est = ([\n",
    "    ('rf', RandomForestRegressor(n_jobs=-1)),\n",
    "    ('ada', AdaBoostRegressor()),\n",
    "    ('lasso', Lasso())\n",
    "])\n",
    "\n",
    "vote = VotingRegressor(estimators = lvl1_est, n_jobs = -1)\n",
    "\n",
    "vote.fit(X_train, y_train)\n",
    "print(f'Training R-Squared: {vote.score(X_train, y_train)}')\n",
    "print(f'Testing R-Squared: {vote.score(X_test, y_test)}')\n",
    "print('='*50)\n",
    "print(f'RMSE: {mean_squared_error(y_test, vote.predict(X_test), squared = False)}')"
   ]
  },
  {
   "cell_type": "markdown",
   "id": "f18d94b6-5fd7-4c1e-8067-433fa8dc7688",
   "metadata": {},
   "source": [
    "#### Voting Regression with PCA"
   ]
  },
  {
   "cell_type": "code",
   "execution_count": 202,
   "id": "a1fae710-f36b-48d4-bb47-24392289fad0",
   "metadata": {},
   "outputs": [
    {
     "name": "stdout",
     "output_type": "stream",
     "text": [
      "Training R-Squared: 0.4248795769435958\n",
      "Testing R-Squared: 0.019913983612345643\n",
      "==================================================\n",
      "RMSE: 68.91922758976229\n"
     ]
    }
   ],
   "source": [
    "#Voting Classifier with PCA\n",
    "\n",
    "lvl1_est = ([\n",
    "    ('rf', RandomForestRegressor(n_jobs=-1)),\n",
    "    ('ada', AdaBoostRegressor()),\n",
    "    ('lasso', Lasso())\n",
    "])\n",
    "\n",
    "vote = VotingRegressor(estimators = lvl1_est, n_jobs = -1)\n",
    "\n",
    "vote.fit(Z_train, y_train)\n",
    "print(f'Training R-Squared: {vote.score(Z_train, y_train)}')\n",
    "print(f'Testing R-Squared: {vote.score(Z_test, y_test)}')\n",
    "print('='*50)\n",
    "print(f'RMSE: {mean_squared_error(y_test, vote.predict(Z_test), squared = False)}')"
   ]
  }
 ],
 "metadata": {
  "kernelspec": {
   "display_name": "Python 3 (ipykernel)",
   "language": "python",
   "name": "python3"
  },
  "language_info": {
   "codemirror_mode": {
    "name": "ipython",
    "version": 3
   },
   "file_extension": ".py",
   "mimetype": "text/x-python",
   "name": "python",
   "nbconvert_exporter": "python",
   "pygments_lexer": "ipython3",
   "version": "3.9.13"
  }
 },
 "nbformat": 4,
 "nbformat_minor": 5
}
