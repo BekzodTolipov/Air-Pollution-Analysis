{
 "cells": [
  {
   "cell_type": "code",
   "execution_count": 2,
   "id": "fb8fad32-9541-4cec-8c21-0584e8bf6bc9",
   "metadata": {},
   "outputs": [],
   "source": [
    "import pandas as pd\n",
    "import numpy as np\n",
    "import seaborn as sns\n",
    "import matplotlib.pyplot as plt\n",
    "\n",
    "from sklearn.preprocessing import StandardScaler\n",
    "from sklearn.tree import DecisionTreeRegressor\n",
    "from sklearn.ensemble import StackingRegressor, VotingRegressor, RandomForestRegressor, AdaBoostRegressor\n",
    "from sklearn.pipeline import Pipeline\n",
    "from sklearn.model_selection import cross_val_score, train_test_split, GridSearchCV\n",
    "from sklearn.linear_model import LinearRegression, ridge_regression, Lasso\n",
    "from sklearn.neighbors import KNeighborsRegressor\n",
    "from sklearn.decomposition import PCA\n",
    "from sklearn.metrics import mean_squared_error\n",
    "from datetime import datetime, timedelta"
   ]
  },
  {
   "cell_type": "code",
   "execution_count": 83,
   "id": "5100cfd2-2493-499b-afd3-c0d90a1074db",
   "metadata": {},
   "outputs": [
    {
     "data": {
      "text/html": [
       "<div>\n",
       "<style scoped>\n",
       "    .dataframe tbody tr th:only-of-type {\n",
       "        vertical-align: middle;\n",
       "    }\n",
       "\n",
       "    .dataframe tbody tr th {\n",
       "        vertical-align: top;\n",
       "    }\n",
       "\n",
       "    .dataframe thead th {\n",
       "        text-align: right;\n",
       "    }\n",
       "</style>\n",
       "<table border=\"1\" class=\"dataframe\">\n",
       "  <thead>\n",
       "    <tr style=\"text-align: right;\">\n",
       "      <th></th>\n",
       "      <th>id</th>\n",
       "      <th>x</th>\n",
       "      <th>y</th>\n",
       "      <th>containmentdatetime</th>\n",
       "      <th>controldatetime</th>\n",
       "      <th>dailyacres</th>\n",
       "      <th>discoveryacres</th>\n",
       "      <th>firecause</th>\n",
       "      <th>firediscoverydatetime</th>\n",
       "      <th>incidenttypecategory</th>\n",
       "      <th>...</th>\n",
       "      <th>temp_2m_mean</th>\n",
       "      <th>rain_sum</th>\n",
       "      <th>dew_frost_point_2m</th>\n",
       "      <th>wet_bulb_temp_2m</th>\n",
       "      <th>relative_humidity</th>\n",
       "      <th>clear_sky_photosynthetically_active_radiation</th>\n",
       "      <th>all_sky_photosynthetically_active_radiation</th>\n",
       "      <th>all_sky_surface_uv_index</th>\n",
       "      <th>sum_rain</th>\n",
       "      <th>sum_snow</th>\n",
       "    </tr>\n",
       "  </thead>\n",
       "  <tbody>\n",
       "    <tr>\n",
       "      <th>0</th>\n",
       "      <td>1</td>\n",
       "      <td>-115.748812</td>\n",
       "      <td>40.617506</td>\n",
       "      <td>2020-08-03 23:00:00+00:00</td>\n",
       "      <td>2020-09-02 15:00:00+00:00</td>\n",
       "      <td>5985.90</td>\n",
       "      <td>5.0</td>\n",
       "      <td>Natural</td>\n",
       "      <td>2020-07-19 23:00:00+00:00</td>\n",
       "      <td>WF</td>\n",
       "      <td>...</td>\n",
       "      <td>23.396304</td>\n",
       "      <td>12.62</td>\n",
       "      <td>3.02</td>\n",
       "      <td>13.91</td>\n",
       "      <td>27.31</td>\n",
       "      <td>155.74</td>\n",
       "      <td>135.50</td>\n",
       "      <td>2.55</td>\n",
       "      <td>84.37</td>\n",
       "      <td>1.32</td>\n",
       "    </tr>\n",
       "    <tr>\n",
       "      <th>1</th>\n",
       "      <td>5</td>\n",
       "      <td>-113.751212</td>\n",
       "      <td>35.515265</td>\n",
       "      <td>2020-10-17 21:59:59+00:00</td>\n",
       "      <td>2020-10-19 15:00:00+00:00</td>\n",
       "      <td>135.00</td>\n",
       "      <td>1.0</td>\n",
       "      <td>Human</td>\n",
       "      <td>2020-10-15 18:17:00+00:00</td>\n",
       "      <td>WF</td>\n",
       "      <td>...</td>\n",
       "      <td>21.522000</td>\n",
       "      <td>0.00</td>\n",
       "      <td>-6.50</td>\n",
       "      <td>8.11</td>\n",
       "      <td>13.62</td>\n",
       "      <td>97.43</td>\n",
       "      <td>97.50</td>\n",
       "      <td>1.37</td>\n",
       "      <td>10.54</td>\n",
       "      <td>0.00</td>\n",
       "    </tr>\n",
       "    <tr>\n",
       "      <th>2</th>\n",
       "      <td>10</td>\n",
       "      <td>-120.073602</td>\n",
       "      <td>39.769989</td>\n",
       "      <td>2020-06-24 19:02:00+00:00</td>\n",
       "      <td>2020-06-25 16:05:59+00:00</td>\n",
       "      <td>132.00</td>\n",
       "      <td>15.0</td>\n",
       "      <td>Natural</td>\n",
       "      <td>2020-06-24 00:17:59+00:00</td>\n",
       "      <td>WF</td>\n",
       "      <td>...</td>\n",
       "      <td>25.600000</td>\n",
       "      <td>0.16</td>\n",
       "      <td>7.16</td>\n",
       "      <td>16.69</td>\n",
       "      <td>33.44</td>\n",
       "      <td>160.50</td>\n",
       "      <td>160.38</td>\n",
       "      <td>2.82</td>\n",
       "      <td>68.55</td>\n",
       "      <td>0.66</td>\n",
       "    </tr>\n",
       "    <tr>\n",
       "      <th>3</th>\n",
       "      <td>12</td>\n",
       "      <td>-120.772613</td>\n",
       "      <td>39.361785</td>\n",
       "      <td>2021-01-20 03:29:00+00:00</td>\n",
       "      <td>2021-01-21 00:57:00+00:00</td>\n",
       "      <td>1.88</td>\n",
       "      <td>1.0</td>\n",
       "      <td>Human</td>\n",
       "      <td>2021-01-19 19:40:00+00:00</td>\n",
       "      <td>WF</td>\n",
       "      <td>...</td>\n",
       "      <td>1.500000</td>\n",
       "      <td>0.00</td>\n",
       "      <td>-9.35</td>\n",
       "      <td>-4.95</td>\n",
       "      <td>51.38</td>\n",
       "      <td>59.11</td>\n",
       "      <td>57.91</td>\n",
       "      <td>0.37</td>\n",
       "      <td>700.02</td>\n",
       "      <td>14.17</td>\n",
       "    </tr>\n",
       "    <tr>\n",
       "      <th>4</th>\n",
       "      <td>15</td>\n",
       "      <td>-122.974081</td>\n",
       "      <td>41.825916</td>\n",
       "      <td>2020-07-23 17:00:00+00:00</td>\n",
       "      <td>2020-07-26 15:00:00+00:00</td>\n",
       "      <td>13.00</td>\n",
       "      <td>0.1</td>\n",
       "      <td>Human</td>\n",
       "      <td>2020-07-22 19:09:59+00:00</td>\n",
       "      <td>WF</td>\n",
       "      <td>...</td>\n",
       "      <td>21.058000</td>\n",
       "      <td>1.61</td>\n",
       "      <td>8.76</td>\n",
       "      <td>15.53</td>\n",
       "      <td>48.62</td>\n",
       "      <td>142.94</td>\n",
       "      <td>114.08</td>\n",
       "      <td>1.96</td>\n",
       "      <td>295.31</td>\n",
       "      <td>0.66</td>\n",
       "    </tr>\n",
       "  </tbody>\n",
       "</table>\n",
       "<p>5 rows × 45 columns</p>\n",
       "</div>"
      ],
      "text/plain": [
       "   id           x          y        containmentdatetime  \\\n",
       "0   1 -115.748812  40.617506  2020-08-03 23:00:00+00:00   \n",
       "1   5 -113.751212  35.515265  2020-10-17 21:59:59+00:00   \n",
       "2  10 -120.073602  39.769989  2020-06-24 19:02:00+00:00   \n",
       "3  12 -120.772613  39.361785  2021-01-20 03:29:00+00:00   \n",
       "4  15 -122.974081  41.825916  2020-07-23 17:00:00+00:00   \n",
       "\n",
       "             controldatetime  dailyacres  discoveryacres firecause  \\\n",
       "0  2020-09-02 15:00:00+00:00     5985.90             5.0   Natural   \n",
       "1  2020-10-19 15:00:00+00:00      135.00             1.0     Human   \n",
       "2  2020-06-25 16:05:59+00:00      132.00            15.0   Natural   \n",
       "3  2021-01-21 00:57:00+00:00        1.88             1.0     Human   \n",
       "4  2020-07-26 15:00:00+00:00       13.00             0.1     Human   \n",
       "\n",
       "       firediscoverydatetime incidenttypecategory  ... temp_2m_mean  rain_sum  \\\n",
       "0  2020-07-19 23:00:00+00:00                   WF  ...    23.396304     12.62   \n",
       "1  2020-10-15 18:17:00+00:00                   WF  ...    21.522000      0.00   \n",
       "2  2020-06-24 00:17:59+00:00                   WF  ...    25.600000      0.16   \n",
       "3  2021-01-19 19:40:00+00:00                   WF  ...     1.500000      0.00   \n",
       "4  2020-07-22 19:09:59+00:00                   WF  ...    21.058000      1.61   \n",
       "\n",
       "   dew_frost_point_2m wet_bulb_temp_2m  relative_humidity  \\\n",
       "0                3.02            13.91              27.31   \n",
       "1               -6.50             8.11              13.62   \n",
       "2                7.16            16.69              33.44   \n",
       "3               -9.35            -4.95              51.38   \n",
       "4                8.76            15.53              48.62   \n",
       "\n",
       "  clear_sky_photosynthetically_active_radiation  \\\n",
       "0                                        155.74   \n",
       "1                                         97.43   \n",
       "2                                        160.50   \n",
       "3                                         59.11   \n",
       "4                                        142.94   \n",
       "\n",
       "  all_sky_photosynthetically_active_radiation  all_sky_surface_uv_index  \\\n",
       "0                                      135.50                      2.55   \n",
       "1                                       97.50                      1.37   \n",
       "2                                      160.38                      2.82   \n",
       "3                                       57.91                      0.37   \n",
       "4                                      114.08                      1.96   \n",
       "\n",
       "  sum_rain sum_snow  \n",
       "0    84.37     1.32  \n",
       "1    10.54     0.00  \n",
       "2    68.55     0.66  \n",
       "3   700.02    14.17  \n",
       "4   295.31     0.66  \n",
       "\n",
       "[5 rows x 45 columns]"
      ]
     },
     "execution_count": 83,
     "metadata": {},
     "output_type": "execute_result"
    }
   ],
   "source": [
    "df1 = pd.read_csv('../../data/cleaned/bigger_wildfire_weather_extra.csv')\n",
    "df2 = pd.read_csv('../../data/processed/precipitation_sum_180d.csv')\n",
    "df2.rename(columns = {'ID': 'id'}, inplace = True)\n",
    "df = pd.merge(df1, df2, on = 'id')\n",
    "df.head()"
   ]
  },
  {
   "cell_type": "code",
   "execution_count": 84,
   "id": "235c331d-26fc-48c5-8a11-05527aea2f15",
   "metadata": {},
   "outputs": [
    {
     "data": {
      "text/plain": [
       "(2109, 43)"
      ]
     },
     "execution_count": 84,
     "metadata": {},
     "output_type": "execute_result"
    }
   ],
   "source": [
    "df1.shape"
   ]
  },
  {
   "cell_type": "code",
   "execution_count": 85,
   "id": "332ed744-0c23-4dfa-81e2-29fb09701206",
   "metadata": {},
   "outputs": [
    {
     "data": {
      "text/plain": [
       "(2053, 45)"
      ]
     },
     "execution_count": 85,
     "metadata": {},
     "output_type": "execute_result"
    }
   ],
   "source": [
    "df.shape"
   ]
  },
  {
   "cell_type": "code",
   "execution_count": 86,
   "id": "b7323d66-612b-4131-96a6-0c66d0ca646a",
   "metadata": {},
   "outputs": [],
   "source": [
    "df['firediscoverydatetime'] = pd.to_datetime(df['firediscoverydatetime'])\n",
    "df['controldatetime'] = pd.to_datetime(df['controldatetime'])\n",
    "df['containmentdatetime'] = pd.to_datetime(df['containmentdatetime'])"
   ]
  },
  {
   "cell_type": "code",
   "execution_count": 87,
   "id": "c38244e3-93ca-44da-9c35-0c7db21a6110",
   "metadata": {},
   "outputs": [
    {
     "name": "stdout",
     "output_type": "stream",
     "text": [
      "id\n",
      "x\n",
      "y\n",
      "containmentdatetime\n",
      "controldatetime\n",
      "dailyacres\n",
      "discoveryacres\n",
      "firecause\n",
      "firediscoverydatetime\n",
      "incidenttypecategory\n",
      "incidenttypekind\n",
      "initiallatitude\n",
      "initiallongitude\n",
      "irwinid\n",
      "localincidentidentifier\n",
      "poocounty\n",
      "poodispatchcenterid\n",
      "poofips\n",
      "poostate\n",
      "uniquefireidentifier\n",
      "temp_2m\n",
      "temp_2m_max\n",
      "humidity\n",
      "rain\n",
      "wind_speed_2m\n",
      "wind_speed_2m_max\n",
      "wind_speed_10m\n",
      "wind_speed_10m_max\n",
      "surface_soil_wetness_5cm_below\n",
      "surface_soil_wetness_to_bedrock\n",
      "wind_speed_2m_mean\n",
      "wind_speed_2m_max_mean\n",
      "wind_speed_10m_mean\n",
      "wind_speed_10m_max_mean\n",
      "humidity_mean\n",
      "temp_2m_mean\n",
      "rain_sum\n",
      "dew_frost_point_2m\n",
      "wet_bulb_temp_2m\n",
      "relative_humidity\n",
      "clear_sky_photosynthetically_active_radiation\n",
      "all_sky_photosynthetically_active_radiation\n",
      "all_sky_surface_uv_index\n",
      "sum_rain\n",
      "sum_snow\n"
     ]
    }
   ],
   "source": [
    "for i in df.columns:\n",
    "    print(i)"
   ]
  },
  {
   "cell_type": "markdown",
   "id": "121d6674-5aae-47d7-89d8-80d283de8ad1",
   "metadata": {},
   "source": [
    "---\n",
    "######\n",
    "### Investigating Correlation Between the Features and Target (DailyAcres) for Large Fires (>1 Acre)\n",
    "######\n",
    "___"
   ]
  },
  {
   "cell_type": "code",
   "execution_count": 88,
   "id": "a046d9da-ced0-48e5-aa3a-d7a9178b2f20",
   "metadata": {},
   "outputs": [],
   "source": [
    "cols = ['dailyacres', 'discoveryacres', 'temp_2m', 'temp_2m_max', 'humidity', 'rain', 'wind_speed_2m', 'wind_speed_2m_max', 'wind_speed_10m', \n",
    "        'wind_speed_10m_max', 'surface_soil_wetness_5cm_below', 'surface_soil_wetness_to_bedrock', 'wind_speed_2m_mean', 'wind_speed_2m_max_mean', \n",
    "        'wind_speed_10m_mean', 'wind_speed_10m_max_mean', 'humidity_mean', 'temp_2m_mean', 'rain_sum', 'dew_frost_point_2m', 'wet_bulb_temp_2m', \n",
    "        'relative_humidity', 'clear_sky_photosynthetically_active_radiation', 'all_sky_photosynthetically_active_radiation', 'all_sky_surface_uv_index',\n",
    "        'sum_rain', 'sum_snow']"
   ]
  },
  {
   "cell_type": "code",
   "execution_count": 89,
   "id": "59ac217f-5154-4949-9caa-49356f824845",
   "metadata": {},
   "outputs": [
    {
     "data": {
      "image/png": "[encoded data removed]",
      "text/plain": [
       "<Figure size 600x1200 with 2 Axes>"
      ]
     },
     "metadata": {},
     "output_type": "display_data"
    }
   ],
   "source": [
    "plt.figure(figsize = (6, 12))\n",
    "sns.heatmap(df[cols].corr()[['dailyacres']].sort_values(by = 'dailyacres', ascending=False),\n",
    "            vmin = -1,\n",
    "            vmax = 1, \n",
    "            cmap = 'coolwarm',\n",
    "            annot = True);"
   ]
  },
  {
   "cell_type": "markdown",
   "id": "cb70a3d8-c1ea-45df-b929-77dae673143a",
   "metadata": {},
   "source": [
    "---\n",
    "######\n",
    "### Feature Selection, Train/Test Splitting Data, and Standard Scaling\n",
    "######\n",
    "___"
   ]
  },
  {
   "cell_type": "code",
   "execution_count": 90,
   "id": "32658916-ab88-4be9-a83a-37279504b72d",
   "metadata": {},
   "outputs": [],
   "source": [
    "df = df[cols]\n",
    "\n",
    "X_train, X_test, y_train, y_test = train_test_split(df.drop(columns = 'dailyacres'), df['dailyacres'], random_state= 42)"
   ]
  },
  {
   "cell_type": "code",
   "execution_count": 91,
   "id": "1b167691-24fb-47ca-869e-924bc2d431cf",
   "metadata": {},
   "outputs": [],
   "source": [
    "ss = StandardScaler()\n",
    "X_train = ss.fit_transform(X_train)\n",
    "X_test = ss.transform(X_test)"
   ]
  },
  {
   "cell_type": "markdown",
   "id": "b9a9d05f-9a57-4d1b-9598-94b38d3c4852",
   "metadata": {},
   "source": [
    "---\n",
    "######\n",
    "### Using PCA For Feature Elimination\n",
    "######\n",
    "___"
   ]
  },
  {
   "cell_type": "code",
   "execution_count": 92,
   "id": "fd82c3b0-46e2-4136-b8fa-01b17e7e6773",
   "metadata": {},
   "outputs": [],
   "source": [
    "pca = PCA(random_state = 42)\n",
    "\n",
    "\n",
    "Z_train = pca.fit_transform(X_train)\n",
    "Z_test = pca.transform(X_test)"
   ]
  },
  {
   "cell_type": "code",
   "execution_count": 93,
   "id": "c7382fc2-6aac-4c9c-8b6c-fcc359b18e9a",
   "metadata": {},
   "outputs": [
    {
     "data": {
      "text/plain": [
       "array([0.29 , 0.54 , 0.654, 0.729, 0.781, 0.819, 0.855, 0.885, 0.913,\n",
       "       0.936, 0.956, 0.966, 0.973, 0.98 , 0.986, 0.99 , 0.994, 0.996,\n",
       "       0.997, 0.998, 0.999, 0.999, 1.   , 1.   , 1.   ])"
      ]
     },
     "execution_count": 93,
     "metadata": {},
     "output_type": "execute_result"
    }
   ],
   "source": [
    "explained = pca.explained_variance_ratio_\n",
    "cumulative = np.cumsum(explained)\n",
    "np.round(cumulative[:25], 3)"
   ]
  },
  {
   "cell_type": "code",
   "execution_count": 17,
   "id": "44fb8881-3751-409b-b7ab-e1324f6c4a99",
   "metadata": {},
   "outputs": [],
   "source": [
    "Z_train = Z_train[:,:20]\n",
    "Z_test = Z_test[:,:20]"
   ]
  },
  {
   "cell_type": "code",
   "execution_count": 24,
   "id": "22f87b3a-da6c-4081-9da3-cfdc22451e52",
   "metadata": {},
   "outputs": [],
   "source": [
    "#np.savetxt('../../data/processed/Z_train_bigfires.csv', Z_train, delimiter=',')\n",
    "#np.savetxt('../../data/processed/Z_test_bigfires.csv', Z_test, delimiter=',')\n",
    "#np.savetxt('../../data/processed/y_train_bigfires.csv', y_train, delimiter=',')\n",
    "#np.savetxt('../../data/processed/y_test_bigfires.csv', y_test, delimiter=',')"
   ]
  },
  {
   "cell_type": "markdown",
   "id": "8fb86577-6df8-416a-80f2-a1c7060d886c",
   "metadata": {},
   "source": [
    "---\n",
    "######\n",
    "### Modeling / Simple Models\n",
    "######\n",
    "---"
   ]
  },
  {
   "cell_type": "markdown",
   "id": "df905f5d-7f4f-405c-b766-bd2995e30245",
   "metadata": {},
   "source": [
    "#### Linear Regression (Baseline) with DF"
   ]
  },
  {
   "cell_type": "code",
   "execution_count": 94,
   "id": "82e0d232-ff13-4963-ae9f-2793a14d914b",
   "metadata": {},
   "outputs": [
    {
     "name": "stdout",
     "output_type": "stream",
     "text": [
      "Training R-Squared: 0.19715841710693816\n",
      "Testing R-Squared: 0.1899752922589183\n",
      "==================================================\n",
      "RMSE: 23227.40599818035\n"
     ]
    }
   ],
   "source": [
    "#Linear Regression - Baseline\n",
    "# With X data\n",
    "lr = LinearRegression()\n",
    "\n",
    "lr.fit(X_train, y_train)\n",
    "print(f'Training R-Squared: {lr.score(X_train, y_train)}')\n",
    "print(f'Testing R-Squared: {lr.score(X_test, y_test)}')\n",
    "print('='*50)\n",
    "print(f'RMSE: {mean_squared_error(y_test, lr.predict(X_test), squared = False)}')"
   ]
  },
  {
   "cell_type": "markdown",
   "id": "2d8147ab-369d-4b5b-b0f2-2743ac029cac",
   "metadata": {},
   "source": [
    "#### Linear Regression (Baseline) with PCA"
   ]
  },
  {
   "cell_type": "code",
   "execution_count": 95,
   "id": "43c3e0f2-ffd7-426e-9ca4-db68c06c7cd9",
   "metadata": {},
   "outputs": [
    {
     "name": "stdout",
     "output_type": "stream",
     "text": [
      "Training R-Squared: 0.19715841710693816\n",
      "Testing R-Squared: 0.18997529225891807\n",
      "==================================================\n",
      "RMSE: 23227.405998180355\n"
     ]
    }
   ],
   "source": [
    "#Linear Regression - Baseline\n",
    "# With PCA Data\n",
    "lr = LinearRegression()\n",
    "\n",
    "lr.fit(Z_train, y_train)\n",
    "print(f'Training R-Squared: {lr.score(Z_train, y_train)}')\n",
    "print(f'Testing R-Squared: {lr.score(Z_test, y_test)}')\n",
    "print('='*50)\n",
    "print(f'RMSE: {mean_squared_error(y_test, lr.predict(Z_test), squared = False)}')"
   ]
  },
  {
   "cell_type": "code",
   "execution_count": 96,
   "id": "3b15c720-05e0-4c5a-a85c-e0c5567b5276",
   "metadata": {},
   "outputs": [],
   "source": [
    "def model_eval(model, param_dict, training_data):\n",
    "    '''\n",
    "    d\n",
    "    '''\n",
    "    \n",
    "    gs_model = GridSearchCV(model,\n",
    "                            param_grid = param_dict,\n",
    "                            n_jobs = -1)\n",
    "    if training_data == 'X_train':\n",
    "        gs_model.fit(X_train, y_train)\n",
    "        print(f'Best Score: {gs_model.best_score_}')\n",
    "        print(f'Best Params: {gs_model.best_params_}')\n",
    "        print('='*50)\n",
    "        print(f'RMSE: {mean_squared_error(y_test, gs_model.predict(X_test), squared = False)}')\n",
    "        print('='*50)\n",
    "        print(f'Training R-Squared: {gs_model.score(X_train, y_train)}')\n",
    "        print(f'Testing R-Squared: {gs_model.score(X_test, y_test)}')\n",
    "        \n",
    "    elif training_data == 'Z_train':\n",
    "        gs_model.fit(Z_train, y_train)\n",
    "        print(f'Best Score: {gs_model.best_score_}')\n",
    "        print(f'Best Params: {gs_model.best_params_}')\n",
    "        print('='*50)\n",
    "        print(f'RMSE: {mean_squared_error(y_test, gs_model.predict(Z_test), squared = False)}')\n",
    "        print('='*50)\n",
    "        print(f'Training R-Squared: {gs_model.score(Z_train, y_train)}')\n",
    "        print(f'Testing R-Squared: {gs_model.score(Z_test, y_test)}')\n",
    "    else:\n",
    "        return 'Try Again'"
   ]
  },
  {
   "cell_type": "code",
   "execution_count": 28,
   "id": "8ad4cdb7-7491-4c82-938e-3c839299206f",
   "metadata": {},
   "outputs": [
    {
     "name": "stderr",
     "output_type": "stream",
     "text": [
      "C:\\Users\\jeffr\\anaconda3\\lib\\site-packages\\sklearn\\model_selection\\_search.py:969: UserWarning: One or more of the test scores are non-finite: [-0.0009097   0.01663069 -0.00750554  0.01240767 -0.02440206  0.00560731\n",
      "         nan         nan         nan         nan         nan         nan\n",
      "         nan         nan         nan         nan         nan         nan\n",
      "         nan         nan         nan         nan]\n",
      "  warnings.warn(\n"
     ]
    },
    {
     "name": "stdout",
     "output_type": "stream",
     "text": [
      "Best Score: -0.0009096961525566494\n",
      "Best Params: {'n_neighbors': 1000, 'weights': 'uniform'}\n",
      "==================================================\n",
      "RMSE: 25693.100828635565\n",
      "==================================================\n",
      "Training R-Squared: 0.009481649910421441\n",
      "Testing R-Squared: 0.008871678554129736\n"
     ]
    }
   ],
   "source": [
    "#KNN Regressor with X Data\n",
    "\n",
    "knn_model = KNeighborsRegressor(n_jobs=-1)\n",
    "\n",
    "knn_params = {\n",
    "    'n_neighbors': range(1000, 2001, 100),\n",
    "    'weights': ['uniform', 'distance']\n",
    "}\n",
    "\n",
    "model_eval(model = knn_model,\n",
    "           param_dict = knn_params,\n",
    "           training_data = 'X_train')"
   ]
  },
  {
   "cell_type": "code",
   "execution_count": 29,
   "id": "5e69d66e-20a9-4f00-bbb8-c53f85d37d48",
   "metadata": {},
   "outputs": [
    {
     "name": "stderr",
     "output_type": "stream",
     "text": [
      "C:\\Users\\jeffr\\anaconda3\\lib\\site-packages\\sklearn\\model_selection\\_search.py:969: UserWarning: One or more of the test scores are non-finite: [-0.0009097   0.01663069 -0.00750554  0.01240767 -0.02440206  0.00560731\n",
      "         nan         nan         nan         nan         nan         nan\n",
      "         nan         nan         nan         nan         nan         nan\n",
      "         nan         nan         nan         nan]\n",
      "  warnings.warn(\n"
     ]
    },
    {
     "name": "stdout",
     "output_type": "stream",
     "text": [
      "Best Score: -0.0009096961525566494\n",
      "Best Params: {'n_neighbors': 1000, 'weights': 'uniform'}\n",
      "==================================================\n",
      "RMSE: 25693.100828635565\n",
      "==================================================\n",
      "Training R-Squared: 0.009481649910421441\n",
      "Testing R-Squared: 0.008871678554129736\n"
     ]
    }
   ],
   "source": [
    "#KNN Regressor with PCA Data\n",
    "\n",
    "knn_model = KNeighborsRegressor(n_jobs=-1)\n",
    "\n",
    "knn_params = {\n",
    "    'n_neighbors': range(1000, 2001, 100),\n",
    "    'weights': ['uniform', 'distance']\n",
    "}\n",
    "\n",
    "model_eval(model = knn_model,\n",
    "           param_dict = knn_params,\n",
    "           training_data = 'Z_train')"
   ]
  },
  {
   "cell_type": "code",
   "execution_count": null,
   "id": "50d4367c-c09a-4030-9af5-c6dcf5cec762",
   "metadata": {},
   "outputs": [],
   "source": []
  },
  {
   "cell_type": "code",
   "execution_count": 97,
   "id": "ef184bcc-6786-400d-b2de-5614b88b6e44",
   "metadata": {},
   "outputs": [
    {
     "name": "stdout",
     "output_type": "stream",
     "text": [
      "Best Score: -0.28621571171260163\n",
      "Best Params: {'alpha': 99}\n",
      "==================================================\n",
      "RMSE: 23171.54605524507\n",
      "==================================================\n",
      "Training R-Squared: 0.1914979421750438\n",
      "Testing R-Squared: 0.1938666889332521\n"
     ]
    }
   ],
   "source": [
    "# Lasso Regression with X Data\n",
    "\n",
    "lasso = Lasso()\n",
    "lasso_params = {\n",
    "    'alpha': range(5, 101, 2)\n",
    "}\n",
    "\n",
    "model_eval(model = lasso,\n",
    "           param_dict = lasso_params,\n",
    "           training_data = 'X_train')"
   ]
  },
  {
   "cell_type": "code",
   "execution_count": 98,
   "id": "f5bb0b0a-933d-44b6-9592-93355e1b02ad",
   "metadata": {},
   "outputs": [
    {
     "name": "stdout",
     "output_type": "stream",
     "text": [
      "Best Score: -0.2861796521481802\n",
      "Best Params: {'alpha': 99}\n",
      "==================================================\n",
      "RMSE: 23193.142834828985\n",
      "==================================================\n",
      "Training R-Squared: 0.1913179803960754\n",
      "Testing R-Squared: 0.19236329362798255\n"
     ]
    }
   ],
   "source": [
    "# Lasso Regression with PCA Data\n",
    "\n",
    "lasso = Lasso()\n",
    "lasso_params = {\n",
    "    'alpha': range(5, 101, 2)\n",
    "}\n",
    "\n",
    "model_eval(model = lasso,\n",
    "           param_dict = lasso_params,\n",
    "           training_data = 'Z_train')"
   ]
  },
  {
   "cell_type": "code",
   "execution_count": 99,
   "id": "1e2d2b7d-fc0e-4548-b44e-bcbd0ac0cf9b",
   "metadata": {},
   "outputs": [
    {
     "name": "stdout",
     "output_type": "stream",
     "text": [
      "Best Score: -1.2742595839126174\n",
      "Best Params: {'learning_rate': 0.5, 'n_estimators': 40}\n",
      "==================================================\n",
      "RMSE: 24088.3023470683\n",
      "==================================================\n",
      "Training R-Squared: 0.6058421970279164\n",
      "Testing R-Squared: 0.12881732305497495\n"
     ]
    }
   ],
   "source": [
    "# Adaboost with X Data\n",
    "\n",
    "ada = AdaBoostRegressor()\n",
    "ada_params = {\n",
    "    'n_estimators': range(40, 101, 10),\n",
    "    'learning_rate': [0.5, 0.75, 1, 1.25, 1.5] \n",
    "}\n",
    "\n",
    "model_eval(model = ada,\n",
    "           param_dict = ada_params,\n",
    "           training_data = 'X_train')"
   ]
  },
  {
   "cell_type": "code",
   "execution_count": 100,
   "id": "8cb35fcb-f898-414c-84d5-1e421283e166",
   "metadata": {},
   "outputs": [
    {
     "name": "stdout",
     "output_type": "stream",
     "text": [
      "Best Score: -1.9215994842876227\n",
      "Best Params: {'learning_rate': 0.5, 'n_estimators': 40}\n",
      "==================================================\n",
      "RMSE: 26031.90947726527\n",
      "==================================================\n",
      "Training R-Squared: 0.6046281297591669\n",
      "Testing R-Squared: -0.017440203732749904\n"
     ]
    }
   ],
   "source": [
    "# Adaboost with PCA Data\n",
    "\n",
    "ada = AdaBoostRegressor()\n",
    "ada_params = {\n",
    "    'n_estimators': range(40, 101, 10),\n",
    "    'learning_rate': [0.5, 0.75, 1, 1.25, 1.5] \n",
    "}\n",
    "\n",
    "model_eval(model = ada,\n",
    "           param_dict = ada_params,\n",
    "           training_data = 'Z_train')"
   ]
  },
  {
   "cell_type": "code",
   "execution_count": 56,
   "id": "ce6db93c-4594-4007-a587-554e7c2a1396",
   "metadata": {},
   "outputs": [
    {
     "name": "stdout",
     "output_type": "stream",
     "text": [
      "Best Score: -0.2530594192656893\n",
      "Best Params: {'ccp_alpha': 0.1, 'max_depth': 180, 'min_samples_leaf': 3, 'min_samples_split': 2}\n",
      "==================================================\n",
      "RMSE: 16416.31340568967\n",
      "==================================================\n",
      "Training R-Squared: 0.5854725752079336\n",
      "Testing R-Squared: 0.20441180814714455\n"
     ]
    }
   ],
   "source": [
    "# Random Forest with X_train\n",
    "\n",
    "rf = RandomForestRegressor(n_jobs = -1)\n",
    "\n",
    "rf_params = {\n",
    "    'max_depth': range(70, 201, 10),\n",
    "    'min_samples_split': [2, 3],\n",
    "    'min_samples_leaf': [1, 2, 3],\n",
    "    'ccp_alpha': [0.01, 0.1, 0.5, 1]\n",
    "}\n",
    "\n",
    "model_eval(model = rf,\n",
    "           param_dict = rf_params,\n",
    "           training_data = 'X_train')"
   ]
  },
  {
   "cell_type": "code",
   "execution_count": 58,
   "id": "1093d744-c7bb-4e9f-bfcb-53db4481a02b",
   "metadata": {},
   "outputs": [
    {
     "name": "stdout",
     "output_type": "stream",
     "text": [
      "Best Score: -0.29544449911795334\n",
      "Best Params: {'ccp_alpha': 0.1, 'max_depth': 200, 'min_samples_leaf': 3, 'min_samples_split': 3}\n",
      "==================================================\n",
      "RMSE: 15983.254054646812\n",
      "==================================================\n",
      "Training R-Squared: 0.5698722617414869\n",
      "Testing R-Squared: 0.24583310503806466\n"
     ]
    }
   ],
   "source": [
    "# Random Forest with PCA\n",
    "\n",
    "rf = RandomForestRegressor(n_jobs = -1)\n",
    "\n",
    "rf_params = {\n",
    "    'max_depth': range(70, 201, 10),\n",
    "    'min_samples_split': [2, 3],\n",
    "    'min_samples_leaf': [1, 2, 3],\n",
    "    'ccp_alpha': [0.01, 0.1, 0.5, 1]\n",
    "}\n",
    "\n",
    "model_eval(model = rf,\n",
    "           param_dict = rf_params,\n",
    "           training_data = 'Z_train')"
   ]
  },
  {
   "cell_type": "markdown",
   "id": "d70753eb-a435-4359-879c-a4cd1ef6a9e4",
   "metadata": {},
   "source": [
    "---"
   ]
  },
  {
   "cell_type": "code",
   "execution_count": 101,
   "id": "d7cfcb0e-7c27-438c-8c91-359f1387a3e0",
   "metadata": {},
   "outputs": [
    {
     "name": "stdout",
     "output_type": "stream",
     "text": [
      "Training R-Squared: -1.222260251021095\n",
      "Testing R-Squared: -0.24911775864237606\n",
      "==================================================\n",
      "RMSE: 28843.852728191017\n"
     ]
    }
   ],
   "source": [
    "# Stacking Regressor with X_train\n",
    "\n",
    "lvl1_est = ([\n",
    "    ('rf', RandomForestRegressor(n_jobs=-1)),\n",
    "    ('ada', AdaBoostRegressor()),\n",
    "    ('lasso', Lasso())\n",
    "])\n",
    "\n",
    "stack = StackingRegressor(estimators=lvl1_est, \n",
    "                          final_estimator=DecisionTreeRegressor(),\n",
    "                         n_jobs=-1)\n",
    "\n",
    "stack.fit(X_train, y_train)\n",
    "\n",
    "print(f'Training R-Squared: {stack.score(X_train, y_train)}')\n",
    "print(f'Testing R-Squared: {stack.score(X_test, y_test)}')\n",
    "print('='*50)\n",
    "print(f'RMSE: {mean_squared_error(y_test, stack.predict(X_test), squared = False)}')"
   ]
  },
  {
   "cell_type": "code",
   "execution_count": 102,
   "id": "3009254b-0e37-4f30-be03-58039d6b0348",
   "metadata": {},
   "outputs": [
    {
     "name": "stdout",
     "output_type": "stream",
     "text": [
      "Training R-Squared: -1.489835509404009\n",
      "Testing R-Squared: -0.45687246798261594\n",
      "==================================================\n",
      "RMSE: 31150.30807186376\n"
     ]
    }
   ],
   "source": [
    "# Stacking Regressor with Z_train\n",
    "\n",
    "lvl1_est = ([\n",
    "    ('rf', RandomForestRegressor(n_jobs=-1)),\n",
    "    ('ada', AdaBoostRegressor()),\n",
    "    ('lasso', Lasso())\n",
    "])\n",
    "\n",
    "stack = StackingRegressor(estimators=lvl1_est, \n",
    "                          final_estimator=DecisionTreeRegressor(),\n",
    "                         n_jobs=-1)\n",
    "\n",
    "stack.fit(Z_train, y_train)\n",
    "\n",
    "print(f'Training R-Squared: {stack.score(Z_train, y_train)}')\n",
    "print(f'Testing R-Squared: {stack.score(Z_test, y_test)}')\n",
    "print('='*50)\n",
    "print(f'RMSE: {mean_squared_error(y_test, stack.predict(Z_test), squared = False)}')"
   ]
  },
  {
   "cell_type": "code",
   "execution_count": 48,
   "id": "a743ef53-83d9-4b3d-a794-bfd0158edfd8",
   "metadata": {},
   "outputs": [
    {
     "name": "stdout",
     "output_type": "stream",
     "text": [
      "Training R-Squared: 0.2554078584323497\n",
      "Testing R-Squared: 0.26153657482558923\n",
      "==================================================\n",
      "RMSE: 15815.974842212936\n"
     ]
    }
   ],
   "source": [
    "# Stacking Regressor with X_train\n",
    "\n",
    "lvl1_est = ([\n",
    "    ('rf', RandomForestRegressor(n_jobs=-1)),\n",
    "    ('ada', AdaBoostRegressor()),\n",
    "    ('lasso', Lasso())\n",
    "])\n",
    "\n",
    "stack = StackingRegressor(estimators=lvl1_est, \n",
    "                          final_estimator=LinearRegression(),\n",
    "                         n_jobs=-1)\n",
    "\n",
    "stack.fit(X_train, y_train)\n",
    "\n",
    "print(f'Training R-Squared: {stack.score(X_train, y_train)}')\n",
    "print(f'Testing R-Squared: {stack.score(X_test, y_test)}')\n",
    "print('='*50)\n",
    "print(f'RMSE: {mean_squared_error(y_test, stack.predict(X_test), squared = False)}')"
   ]
  },
  {
   "cell_type": "code",
   "execution_count": 42,
   "id": "3140c54f-70db-45f3-b270-257e6b904644",
   "metadata": {},
   "outputs": [
    {
     "name": "stdout",
     "output_type": "stream",
     "text": [
      "Training R-Squared: 0.09326870896544126\n",
      "Testing R-Squared: 0.2940927886870889\n",
      "==================================================\n",
      "RMSE: 15463.410305670468\n"
     ]
    }
   ],
   "source": [
    "# Stacking Regressor with PCA\n",
    "\n",
    "lvl1_est = ([\n",
    "    ('rf', RandomForestRegressor(n_jobs=-1)),\n",
    "    ('ada', AdaBoostRegressor()),\n",
    "    ('lasso', Lasso())\n",
    "])\n",
    "\n",
    "stack = StackingRegressor(estimators=lvl1_est, \n",
    "                          final_estimator=LinearRegression(),\n",
    "                         n_jobs=-1)\n",
    "\n",
    "stack.fit(Z_train, y_train)\n",
    "\n",
    "print(f'Training R-Squared: {stack.score(Z_train, y_train)}')\n",
    "print(f'Testing R-Squared: {stack.score(Z_test, y_test)}')\n",
    "print('='*50)\n",
    "print(f'RMSE: {mean_squared_error(y_test, stack.predict(Z_test), squared = False)}')"
   ]
  },
  {
   "cell_type": "code",
   "execution_count": 49,
   "id": "c1a142c5-b6f3-4e76-b0cf-ff2fa0b46369",
   "metadata": {},
   "outputs": [
    {
     "name": "stdout",
     "output_type": "stream",
     "text": [
      "Training R-Squared: 0.08549472299369454\n",
      "Testing R-Squared: 0.27806242995748676\n",
      "==================================================\n",
      "RMSE: 15638.00299604798\n"
     ]
    }
   ],
   "source": [
    "# Stacking Regressor with X_train\n",
    "\n",
    "lvl1_est = ([\n",
    "    ('rf', RandomForestRegressor(n_jobs=-1)),\n",
    "    ('ada', AdaBoostRegressor()),\n",
    "    ('lasso', Lasso())\n",
    "])\n",
    "\n",
    "stack = StackingRegressor(estimators=lvl1_est, \n",
    "                          final_estimator=Lasso(),\n",
    "                         n_jobs=-1)\n",
    "\n",
    "stack.fit(X_train, y_train)\n",
    "\n",
    "print(f'Training R-Squared: {stack.score(X_train, y_train)}')\n",
    "print(f'Testing R-Squared: {stack.score(X_test, y_test)}')\n",
    "print('='*50)\n",
    "print(f'RMSE: {mean_squared_error(y_test, stack.predict(X_test), squared = False)}')"
   ]
  },
  {
   "cell_type": "code",
   "execution_count": 50,
   "id": "c0ee9cc4-909b-4959-ba3d-c12da5b0e80b",
   "metadata": {},
   "outputs": [
    {
     "name": "stdout",
     "output_type": "stream",
     "text": [
      "Training R-Squared: 0.04389292174951964\n",
      "Testing R-Squared: 0.29462361544615145\n",
      "==================================================\n",
      "RMSE: 15457.595139343894\n"
     ]
    }
   ],
   "source": [
    "# Stacking Regressor with PCA\n",
    "\n",
    "lvl1_est = ([\n",
    "    ('rf', RandomForestRegressor(n_jobs=-1)),\n",
    "    ('ada', AdaBoostRegressor()),\n",
    "    ('lasso', Lasso())\n",
    "])\n",
    "\n",
    "stack = StackingRegressor(estimators=lvl1_est, \n",
    "                          final_estimator=Lasso(),\n",
    "                         n_jobs=-1)\n",
    "\n",
    "stack.fit(Z_train, y_train)\n",
    "\n",
    "print(f'Training R-Squared: {stack.score(Z_train, y_train)}')\n",
    "print(f'Testing R-Squared: {stack.score(Z_test, y_test)}')\n",
    "print('='*50)\n",
    "print(f'RMSE: {mean_squared_error(y_test, stack.predict(Z_test), squared = False)}')"
   ]
  },
  {
   "cell_type": "code",
   "execution_count": 51,
   "id": "b23db026-f34e-4c5d-9e6e-95c82690d8d5",
   "metadata": {},
   "outputs": [
    {
     "name": "stdout",
     "output_type": "stream",
     "text": [
      "Training R-Squared: -0.09219904281525393\n",
      "Testing R-Squared: 0.30355319635872857\n",
      "==================================================\n",
      "RMSE: 15359.442240091097\n"
     ]
    }
   ],
   "source": [
    "# Stacking Regressor with X_train\n",
    "\n",
    "lvl1_est = ([\n",
    "    ('ada', AdaBoostRegressor()),\n",
    "    ('lasso', Lasso())\n",
    "])\n",
    "\n",
    "stack = StackingRegressor(estimators=lvl1_est, \n",
    "                          final_estimator=Lasso(),\n",
    "                         n_jobs=-1)\n",
    "\n",
    "stack.fit(X_train, y_train)\n",
    "\n",
    "print(f'Training R-Squared: {stack.score(X_train, y_train)}')\n",
    "print(f'Testing R-Squared: {stack.score(X_test, y_test)}')\n",
    "print('='*50)\n",
    "print(f'RMSE: {mean_squared_error(y_test, stack.predict(X_test), squared = False)}')"
   ]
  },
  {
   "cell_type": "code",
   "execution_count": 52,
   "id": "3b17bbb5-0520-4cee-b373-335bb8590e74",
   "metadata": {},
   "outputs": [
    {
     "name": "stdout",
     "output_type": "stream",
     "text": [
      "Training R-Squared: 0.19027240294668057\n",
      "Testing R-Squared: 0.29703173721592424\n",
      "==================================================\n",
      "RMSE: 15431.186829839435\n"
     ]
    }
   ],
   "source": [
    "# Stacking Regressor with PCA\n",
    "\n",
    "lvl1_est = ([\n",
    "    ('ada', AdaBoostRegressor()),\n",
    "    ('lasso', Lasso())\n",
    "])\n",
    "\n",
    "stack = StackingRegressor(estimators=lvl1_est, \n",
    "                          final_estimator=Lasso(),\n",
    "                         n_jobs=-1)\n",
    "\n",
    "stack.fit(Z_train, y_train)\n",
    "\n",
    "print(f'Training R-Squared: {stack.score(Z_train, y_train)}')\n",
    "print(f'Testing R-Squared: {stack.score(Z_test, y_test)}')\n",
    "print('='*50)\n",
    "print(f'RMSE: {mean_squared_error(y_test, stack.predict(Z_test), squared = False)}')"
   ]
  },
  {
   "cell_type": "code",
   "execution_count": 53,
   "id": "57da3253-5722-4a9c-974f-25bbae326835",
   "metadata": {},
   "outputs": [
    {
     "name": "stdout",
     "output_type": "stream",
     "text": [
      "Training R-Squared: 0.6616571452907578\n",
      "Testing R-Squared: 0.0830865442231642\n",
      "==================================================\n",
      "RMSE: 17623.641238516386\n"
     ]
    }
   ],
   "source": [
    "#Voting Classifier with X_train\n",
    "\n",
    "lvl1_est = ([\n",
    "    ('rf', RandomForestRegressor(n_jobs=-1)),\n",
    "    ('ada', AdaBoostRegressor()),\n",
    "    ('lasso', Lasso())\n",
    "])\n",
    "\n",
    "vote = VotingRegressor(estimators = lvl1_est, n_jobs = -1)\n",
    "\n",
    "vote.fit(X_train, y_train)\n",
    "print(f'Training R-Squared: {vote.score(X_train, y_train)}')\n",
    "print(f'Testing R-Squared: {vote.score(X_test, y_test)}')\n",
    "print('='*50)\n",
    "print(f'RMSE: {mean_squared_error(y_test, vote.predict(X_test), squared = False)}')"
   ]
  },
  {
   "cell_type": "code",
   "execution_count": 54,
   "id": "a1fae710-f36b-48d4-bb47-24392289fad0",
   "metadata": {},
   "outputs": [
    {
     "name": "stdout",
     "output_type": "stream",
     "text": [
      "Training R-Squared: 0.669675720288293\n",
      "Testing R-Squared: 0.14713489908211408\n",
      "==================================================\n",
      "RMSE: 16996.97525296164\n"
     ]
    }
   ],
   "source": [
    "#Voting Classifier with PCA\n",
    "\n",
    "lvl1_est = ([\n",
    "    ('rf', RandomForestRegressor(n_jobs=-1)),\n",
    "    ('ada', AdaBoostRegressor()),\n",
    "    ('lasso', Lasso())\n",
    "])\n",
    "\n",
    "vote = VotingRegressor(estimators = lvl1_est, n_jobs = -1)\n",
    "\n",
    "vote.fit(Z_train, y_train)\n",
    "print(f'Training R-Squared: {vote.score(Z_train, y_train)}')\n",
    "print(f'Testing R-Squared: {vote.score(Z_test, y_test)}')\n",
    "print('='*50)\n",
    "print(f'RMSE: {mean_squared_error(y_test, vote.predict(Z_test), squared = False)}')"
   ]
  },
  {
   "cell_type": "code",
   "execution_count": null,
   "id": "7f49a04b-4017-4462-ad10-533239099dbb",
   "metadata": {},
   "outputs": [],
   "source": []
  }
 ],
 "metadata": {
  "kernelspec": {
   "display_name": "Python 3 (ipykernel)",
   "language": "python",
   "name": "python3"
  },
  "language_info": {
   "codemirror_mode": {
    "name": "ipython",
    "version": 3
   },
   "file_extension": ".py",
   "mimetype": "text/x-python",
   "name": "python",
   "nbconvert_exporter": "python",
   "pygments_lexer": "ipython3",
   "version": "3.9.13"
  }
 },
 "nbformat": 4,
 "nbformat_minor": 5
}
