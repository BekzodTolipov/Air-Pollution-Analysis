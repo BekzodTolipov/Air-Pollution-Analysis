{
 "cells": [
  {
   "cell_type": "code",
   "execution_count": 53,
   "id": "fb8fad32-9541-4cec-8c21-0584e8bf6bc9",
   "metadata": {},
   "outputs": [],
   "source": [
    "import pandas as pd\n",
    "import numpy as np\n",
    "import seaborn as sns\n",
    "import matplotlib.pyplot as plt\n",
    "\n",
    "from sklearn.preprocessing import StandardScaler\n",
    "from sklearn.tree import DecisionTreeRegressor\n",
    "from sklearn.ensemble import StackingRegressor, VotingRegressor, RandomForestRegressor, AdaBoostRegressor\n",
    "from sklearn.pipeline import Pipeline\n",
    "from sklearn.model_selection import cross_val_score, train_test_split, GridSearchCV\n",
    "from sklearn.linear_model import LinearRegression, ridge_regression, Lasso\n",
    "from sklearn.neighbors import KNeighborsRegressor\n",
    "from sklearn.decomposition import PCA\n",
    "import xgboost as xgb\n",
    "from sklearn.metrics import mean_squared_error\n",
    "from datetime import datetime, timedelta"
   ]
  },
  {
   "cell_type": "code",
   "execution_count": 54,
   "id": "5100cfd2-2493-499b-afd3-c0d90a1074db",
   "metadata": {},
   "outputs": [
    {
     "data": {
      "text/html": [
       "<div>\n",
       "<style scoped>\n",
       "    .dataframe tbody tr th:only-of-type {\n",
       "        vertical-align: middle;\n",
       "    }\n",
       "\n",
       "    .dataframe tbody tr th {\n",
       "        vertical-align: top;\n",
       "    }\n",
       "\n",
       "    .dataframe thead th {\n",
       "        text-align: right;\n",
       "    }\n",
       "</style>\n",
       "<table border=\"1\" class=\"dataframe\">\n",
       "  <thead>\n",
       "    <tr style=\"text-align: right;\">\n",
       "      <th></th>\n",
       "      <th>x</th>\n",
       "      <th>y</th>\n",
       "      <th>containmentdatetime</th>\n",
       "      <th>controldatetime</th>\n",
       "      <th>dailyacres</th>\n",
       "      <th>discoveryacres</th>\n",
       "      <th>firecause</th>\n",
       "      <th>firediscoverydatetime</th>\n",
       "      <th>incidenttypecategory</th>\n",
       "      <th>incidenttypekind</th>\n",
       "      <th>...</th>\n",
       "      <th>wind_speed_10m_max_mean_x</th>\n",
       "      <th>humidity_mean_x</th>\n",
       "      <th>temp_2m_mean_x</th>\n",
       "      <th>wind_speed_2m_mean_y</th>\n",
       "      <th>wind_speed_2m_max_mean_y</th>\n",
       "      <th>wind_speed_10m_mean_y</th>\n",
       "      <th>wind_speed_10m_max_mean_y</th>\n",
       "      <th>humidity_mean_y</th>\n",
       "      <th>temp_2m_mean_y</th>\n",
       "      <th>rain_sum</th>\n",
       "    </tr>\n",
       "  </thead>\n",
       "  <tbody>\n",
       "    <tr>\n",
       "      <th>0</th>\n",
       "      <td>-111.348611</td>\n",
       "      <td>33.195755</td>\n",
       "      <td>2020-07-23 05:29:59+00:00</td>\n",
       "      <td>2020-07-23 05:29:59+00:00</td>\n",
       "      <td>8.0</td>\n",
       "      <td>2.5</td>\n",
       "      <td>Human</td>\n",
       "      <td>2020-07-22 21:51:00+00:00</td>\n",
       "      <td>WF</td>\n",
       "      <td>FI</td>\n",
       "      <td>...</td>\n",
       "      <td>4.180000</td>\n",
       "      <td>13.210000</td>\n",
       "      <td>29.900000</td>\n",
       "      <td>1.410000</td>\n",
       "      <td>3.090000</td>\n",
       "      <td>1.895000</td>\n",
       "      <td>4.180000</td>\n",
       "      <td>13.210000</td>\n",
       "      <td>29.900000</td>\n",
       "      <td>2.60</td>\n",
       "    </tr>\n",
       "    <tr>\n",
       "      <th>1</th>\n",
       "      <td>-115.748812</td>\n",
       "      <td>40.617506</td>\n",
       "      <td>2020-08-03 23:00:00+00:00</td>\n",
       "      <td>2020-09-02 15:00:00+00:00</td>\n",
       "      <td>5985.9</td>\n",
       "      <td>5.0</td>\n",
       "      <td>Natural</td>\n",
       "      <td>2020-07-19 23:00:00+00:00</td>\n",
       "      <td>WF</td>\n",
       "      <td>FI</td>\n",
       "      <td>...</td>\n",
       "      <td>5.237174</td>\n",
       "      <td>5.657391</td>\n",
       "      <td>23.396304</td>\n",
       "      <td>1.933913</td>\n",
       "      <td>3.914783</td>\n",
       "      <td>2.865217</td>\n",
       "      <td>5.237174</td>\n",
       "      <td>5.657391</td>\n",
       "      <td>23.396304</td>\n",
       "      <td>12.62</td>\n",
       "    </tr>\n",
       "    <tr>\n",
       "      <th>2</th>\n",
       "      <td>-108.193611</td>\n",
       "      <td>39.858486</td>\n",
       "      <td>2020-08-30 00:00:00+00:00</td>\n",
       "      <td>2020-09-10 14:00:00+00:00</td>\n",
       "      <td>0.1</td>\n",
       "      <td>1.0</td>\n",
       "      <td>Natural</td>\n",
       "      <td>2020-08-29 21:46:00+00:00</td>\n",
       "      <td>WF</td>\n",
       "      <td>FI</td>\n",
       "      <td>...</td>\n",
       "      <td>4.754615</td>\n",
       "      <td>4.731538</td>\n",
       "      <td>16.121538</td>\n",
       "      <td>1.733846</td>\n",
       "      <td>2.986154</td>\n",
       "      <td>2.993846</td>\n",
       "      <td>4.754615</td>\n",
       "      <td>4.731538</td>\n",
       "      <td>16.121538</td>\n",
       "      <td>27.78</td>\n",
       "    </tr>\n",
       "    <tr>\n",
       "      <th>3</th>\n",
       "      <td>-109.703111</td>\n",
       "      <td>40.227646</td>\n",
       "      <td>2020-10-28 20:15:00+00:00</td>\n",
       "      <td>2020-10-28 20:15:00+00:00</td>\n",
       "      <td>0.1</td>\n",
       "      <td>0.1</td>\n",
       "      <td>Human</td>\n",
       "      <td>2020-10-28 19:37:00+00:00</td>\n",
       "      <td>WF</td>\n",
       "      <td>FI</td>\n",
       "      <td>...</td>\n",
       "      <td>4.020000</td>\n",
       "      <td>2.560000</td>\n",
       "      <td>5.480000</td>\n",
       "      <td>1.250000</td>\n",
       "      <td>2.980000</td>\n",
       "      <td>1.880000</td>\n",
       "      <td>4.020000</td>\n",
       "      <td>2.560000</td>\n",
       "      <td>5.480000</td>\n",
       "      <td>0.00</td>\n",
       "    </tr>\n",
       "    <tr>\n",
       "      <th>4</th>\n",
       "      <td>-110.385511</td>\n",
       "      <td>31.961145</td>\n",
       "      <td>2020-07-10 18:14:59+00:00</td>\n",
       "      <td>2020-07-10 18:14:59+00:00</td>\n",
       "      <td>0.1</td>\n",
       "      <td>0.1</td>\n",
       "      <td>Human</td>\n",
       "      <td>2020-07-09 16:34:59+00:00</td>\n",
       "      <td>WF</td>\n",
       "      <td>FI</td>\n",
       "      <td>...</td>\n",
       "      <td>6.800000</td>\n",
       "      <td>9.950000</td>\n",
       "      <td>31.235000</td>\n",
       "      <td>3.090000</td>\n",
       "      <td>5.055000</td>\n",
       "      <td>4.265000</td>\n",
       "      <td>6.800000</td>\n",
       "      <td>9.950000</td>\n",
       "      <td>31.235000</td>\n",
       "      <td>0.58</td>\n",
       "    </tr>\n",
       "  </tbody>\n",
       "</table>\n",
       "<p>5 rows × 43 columns</p>\n",
       "</div>"
      ],
      "text/plain": [
       "            x          y        containmentdatetime  \\\n",
       "0 -111.348611  33.195755  2020-07-23 05:29:59+00:00   \n",
       "1 -115.748812  40.617506  2020-08-03 23:00:00+00:00   \n",
       "2 -108.193611  39.858486  2020-08-30 00:00:00+00:00   \n",
       "3 -109.703111  40.227646  2020-10-28 20:15:00+00:00   \n",
       "4 -110.385511  31.961145  2020-07-10 18:14:59+00:00   \n",
       "\n",
       "             controldatetime  dailyacres  discoveryacres firecause  \\\n",
       "0  2020-07-23 05:29:59+00:00         8.0             2.5     Human   \n",
       "1  2020-09-02 15:00:00+00:00      5985.9             5.0   Natural   \n",
       "2  2020-09-10 14:00:00+00:00         0.1             1.0   Natural   \n",
       "3  2020-10-28 20:15:00+00:00         0.1             0.1     Human   \n",
       "4  2020-07-10 18:14:59+00:00         0.1             0.1     Human   \n",
       "\n",
       "       firediscoverydatetime incidenttypecategory incidenttypekind  ...  \\\n",
       "0  2020-07-22 21:51:00+00:00                   WF               FI  ...   \n",
       "1  2020-07-19 23:00:00+00:00                   WF               FI  ...   \n",
       "2  2020-08-29 21:46:00+00:00                   WF               FI  ...   \n",
       "3  2020-10-28 19:37:00+00:00                   WF               FI  ...   \n",
       "4  2020-07-09 16:34:59+00:00                   WF               FI  ...   \n",
       "\n",
       "   wind_speed_10m_max_mean_x  humidity_mean_x temp_2m_mean_x  \\\n",
       "0                   4.180000        13.210000      29.900000   \n",
       "1                   5.237174         5.657391      23.396304   \n",
       "2                   4.754615         4.731538      16.121538   \n",
       "3                   4.020000         2.560000       5.480000   \n",
       "4                   6.800000         9.950000      31.235000   \n",
       "\n",
       "   wind_speed_2m_mean_y wind_speed_2m_max_mean_y wind_speed_10m_mean_y  \\\n",
       "0              1.410000                 3.090000              1.895000   \n",
       "1              1.933913                 3.914783              2.865217   \n",
       "2              1.733846                 2.986154              2.993846   \n",
       "3              1.250000                 2.980000              1.880000   \n",
       "4              3.090000                 5.055000              4.265000   \n",
       "\n",
       "   wind_speed_10m_max_mean_y humidity_mean_y temp_2m_mean_y  rain_sum  \n",
       "0                   4.180000       13.210000      29.900000      2.60  \n",
       "1                   5.237174        5.657391      23.396304     12.62  \n",
       "2                   4.754615        4.731538      16.121538     27.78  \n",
       "3                   4.020000        2.560000       5.480000      0.00  \n",
       "4                   6.800000        9.950000      31.235000      0.58  \n",
       "\n",
       "[5 rows x 43 columns]"
      ]
     },
     "execution_count": 54,
     "metadata": {},
     "output_type": "execute_result"
    }
   ],
   "source": [
    "df = pd.read_csv('../../data/processed/wildfire_weather.csv')\n",
    "df.head()"
   ]
  },
  {
   "cell_type": "code",
   "execution_count": 55,
   "id": "b7323d66-612b-4131-96a6-0c66d0ca646a",
   "metadata": {},
   "outputs": [],
   "source": [
    "df['firediscoverydatetime'] = pd.to_datetime(df['firediscoverydatetime'])\n",
    "df['controldatetime'] = pd.to_datetime(df['controldatetime'])\n",
    "df['containmentdatetime'] = pd.to_datetime(df['containmentdatetime'])"
   ]
  },
  {
   "cell_type": "code",
   "execution_count": 56,
   "id": "0aaffb2d-70e8-49ae-ab7e-d1cf808e1b1f",
   "metadata": {},
   "outputs": [],
   "source": [
    "df['firecause'] = df['firecause'].map({'Undetermined': 0, 'Unknown': 0, 'Natural': 1, 'Human' : 2})"
   ]
  },
  {
   "cell_type": "code",
   "execution_count": 57,
   "id": "c3bf0711-797f-4c33-a6ad-98ddf161036b",
   "metadata": {},
   "outputs": [
    {
     "data": {
      "text/plain": [
       "(2862, 43)"
      ]
     },
     "execution_count": 57,
     "metadata": {},
     "output_type": "execute_result"
    }
   ],
   "source": [
    "filtered_df = df[df['dailyacres'] >1.0]\n",
    "filtered_df = filtered_df[((filtered_df['controldatetime'] - filtered_df['firediscoverydatetime']) > timedelta(days=1))]\n",
    "filtered_df.shape"
   ]
  },
  {
   "cell_type": "code",
   "execution_count": 39,
   "id": "60758b58-be8d-40d6-bbf2-3f462c164ea2",
   "metadata": {},
   "outputs": [],
   "source": [
    "df = df[(df['controldatetime'] - df['firediscoverydatetime']).map(lambda x: x.total_seconds() > (60*60*24))]"
   ]
  },
  {
   "cell_type": "code",
   "execution_count": 40,
   "id": "85172e67-bb7e-412b-a37d-02bee577e282",
   "metadata": {},
   "outputs": [
    {
     "data": {
      "text/plain": [
       "(2862, 43)"
      ]
     },
     "execution_count": 40,
     "metadata": {},
     "output_type": "execute_result"
    }
   ],
   "source": [
    "df.shape"
   ]
  },
  {
   "cell_type": "code",
   "execution_count": 14,
   "id": "a046d9da-ced0-48e5-aa3a-d7a9178b2f20",
   "metadata": {},
   "outputs": [],
   "source": [
    "cols = ['dailyacres', 'discoveryacres', 'firecause', 'temp_2m', 'temp_2m_max', 'humidity', 'rain', 'wind_speed_2m', \n",
    "                'wind_speed_2m_max', 'wind_speed_10m', 'wind_speed_10m_max', 'surface_soil_wetness_5cm_below', 'surface_soil_wetness_to_bedrock', \n",
    "                'rain_mean', 'wind_speed_2m_mean_x', 'wind_speed_2m_max_mean_x', 'wind_speed_10m_mean_x', 'wind_speed_10m_max_mean_x', \n",
    "                'humidity_mean_x', 'temp_2m_mean_x', 'wind_speed_2m_mean_y', 'wind_speed_2m_max_mean_y', 'wind_speed_10m_mean_y', \n",
    "                'wind_speed_10m_max_mean_y', 'humidity_mean_y', 'temp_2m_mean_y', 'rain_sum']"
   ]
  },
  {
   "cell_type": "code",
   "execution_count": 15,
   "id": "32658916-ab88-4be9-a83a-37279504b72d",
   "metadata": {},
   "outputs": [],
   "source": [
    "pca = PCA(random_state = 42)\n",
    "df = df[cols]\n",
    "\n",
    "X_train, X_test, y_train, y_test = train_test_split(df.drop(columns = 'dailyacres'), df['dailyacres'], random_state= 42)"
   ]
  },
  {
   "cell_type": "code",
   "execution_count": 16,
   "id": "1b167691-24fb-47ca-869e-924bc2d431cf",
   "metadata": {},
   "outputs": [],
   "source": [
    "ss = StandardScaler()\n",
    "X_train = ss.fit_transform(X_train)\n",
    "X_test = ss.transform(X_test)"
   ]
  },
  {
   "cell_type": "code",
   "execution_count": 17,
   "id": "fd82c3b0-46e2-4136-b8fa-01b17e7e6773",
   "metadata": {},
   "outputs": [],
   "source": [
    "Z_train = pca.fit_transform(X_train)\n",
    "Z_test = pca.transform(X_test)"
   ]
  },
  {
   "cell_type": "code",
   "execution_count": 18,
   "id": "c7382fc2-6aac-4c9c-8b6c-fcc359b18e9a",
   "metadata": {},
   "outputs": [
    {
     "data": {
      "text/plain": [
       "array([0.736, 0.826, 0.901, 0.94 , 0.965, 0.989, 0.997, 0.999, 0.999,\n",
       "       1.   , 1.   , 1.   , 1.   , 1.   , 1.   , 1.   , 1.   , 1.   ,\n",
       "       1.   , 1.   ])"
      ]
     },
     "execution_count": 18,
     "metadata": {},
     "output_type": "execute_result"
    }
   ],
   "source": [
    "explained = pca.explained_variance_ratio_\n",
    "cumulative = np.cumsum(explained)\n",
    "np.round(cumulative[:20], 3)"
   ]
  },
  {
   "cell_type": "code",
   "execution_count": 19,
   "id": "44fb8881-3751-409b-b7ab-e1324f6c4a99",
   "metadata": {},
   "outputs": [],
   "source": [
    "Z_train = Z_train[:,:10]\n",
    "Z_test = Z_test[:,:10]"
   ]
  },
  {
   "cell_type": "code",
   "execution_count": 25,
   "id": "22f87b3a-da6c-4081-9da3-cfdc22451e52",
   "metadata": {},
   "outputs": [],
   "source": [
    "np.savetxt('../../data/processed/Z_train.csv', Z_train, delimiter=',')\n",
    "np.savetxt('../../data/processed/Z_test.csv', Z_test, delimiter=',')\n",
    "np.savetxt('../../data/processed/y_train.csv', y_train, delimiter=',')\n",
    "np.savetxt('../../data/processed/y_test.csv', y_test, delimiter=',')"
   ]
  },
  {
   "cell_type": "code",
   "execution_count": 56,
   "id": "82e0d232-ff13-4963-ae9f-2793a14d914b",
   "metadata": {},
   "outputs": [
    {
     "name": "stdout",
     "output_type": "stream",
     "text": [
      "Training R-Squared: 0.0492391111018341\n",
      "Testing R-Squared: 0.04661002884838039\n",
      "==================================================\n",
      "RMSE: 6105.022697614408\n"
     ]
    }
   ],
   "source": [
    "#Linear Regression - Baseline\n",
    "# With X data\n",
    "lr = LinearRegression()\n",
    "\n",
    "lr.fit(X_train, y_train)\n",
    "print(f'Training R-Squared: {lr.score(X_train, y_train)}')\n",
    "print(f'Testing R-Squared: {lr.score(X_test, y_test)}')\n",
    "print('='*50)\n",
    "print(f'RMSE: {mean_squared_error(y_test, lr.predict(X_test), squared = False)}')"
   ]
  },
  {
   "cell_type": "code",
   "execution_count": 55,
   "id": "43c3e0f2-ffd7-426e-9ca4-db68c06c7cd9",
   "metadata": {},
   "outputs": [
    {
     "name": "stdout",
     "output_type": "stream",
     "text": [
      "Training R-Squared: 0.02599914527915359\n",
      "Testing R-Squared: 0.010760861012771183\n",
      "==================================================\n",
      "RMSE: 6218.743422107511\n"
     ]
    }
   ],
   "source": [
    "#Linear Regression - Baseline\n",
    "# With PCA Data\n",
    "lr = LinearRegression()\n",
    "\n",
    "lr.fit(Z_train, y_train)\n",
    "print(f'Training R-Squared: {lr.score(Z_train, y_train)}')\n",
    "print(f'Testing R-Squared: {lr.score(Z_test, y_test)}')\n",
    "print('='*50)\n",
    "print(f'RMSE: {mean_squared_error(y_test, lr.predict(Z_test), squared = False)}')"
   ]
  },
  {
   "cell_type": "code",
   "execution_count": 74,
   "id": "3b15c720-05e0-4c5a-a85c-e0c5567b5276",
   "metadata": {},
   "outputs": [],
   "source": [
    "def model_eval(model, param_dict, training_data):\n",
    "    '''\n",
    "    d\n",
    "    '''\n",
    "    \n",
    "    gs_model = GridSearchCV(model,\n",
    "                            param_grid = param_dict,\n",
    "                            n_jobs = -1)\n",
    "    if training_data == 'X_train':\n",
    "        gs_model.fit(X_train, y_train)\n",
    "        print(f'Best Score: {gs_model.best_score_}')\n",
    "        print(f'Best Params: {gs_model.best_params_}')\n",
    "        print('='*50)\n",
    "        print(f'RMSE: {mean_squared_error(y_test, gs_model.predict(X_test), squared = False)}')\n",
    "        print('='*50)\n",
    "        print(f'Training R-Squared: {gs_model.score(X_train, y_train)}')\n",
    "        print(f'Testing R-Squared: {gs_model.score(X_test, y_test)}')\n",
    "        \n",
    "    elif training_data == 'Z_train':\n",
    "        gs_model.fit(Z_train, y_train)\n",
    "        print(f'Best Score: {gs_model.best_score_}')\n",
    "        print(f'Best Params: {gs_model.best_params_}')\n",
    "        print('='*50)\n",
    "        print(f'RMSE: {mean_squared_error(y_test, gs_model.predict(Z_test), squared = False)}')\n",
    "        print('='*50)\n",
    "        print(f'Training R-Squared: {gs_model.score(Z_train, y_train)}')\n",
    "        print(f'Testing R-Squared: {gs_model.score(Z_test, y_test)}')\n",
    "    else:\n",
    "        return 'Try Again'"
   ]
  },
  {
   "cell_type": "code",
   "execution_count": 80,
   "id": "8ad4cdb7-7491-4c82-938e-3c839299206f",
   "metadata": {},
   "outputs": [
    {
     "name": "stdout",
     "output_type": "stream",
     "text": [
      "Best Score: 0.019112073018724286\n",
      "Best Params: {'n_neighbors': 1000, 'weights': 'distance'}\n",
      "==================================================\n",
      "RMSE: 6179.017464619431\n",
      "==================================================\n",
      "Training R-Squared: 0.9956659831913355\n",
      "Testing R-Squared: 0.02335921023841725\n"
     ]
    }
   ],
   "source": [
    "#KNN Regressor with X Data\n",
    "\n",
    "knn_model = KNeighborsRegressor(n_jobs=-1)\n",
    "\n",
    "knn_params = {\n",
    "    'n_neighbors': range(1000, 2001, 100),\n",
    "    'weights': ['uniform', 'distance']\n",
    "}\n",
    "\n",
    "model_eval(model = knn_model,\n",
    "           param_dict = knn_params,\n",
    "           training_data = 'X_train')"
   ]
  },
  {
   "cell_type": "code",
   "execution_count": 81,
   "id": "5e69d66e-20a9-4f00-bbb8-c53f85d37d48",
   "metadata": {},
   "outputs": [
    {
     "name": "stdout",
     "output_type": "stream",
     "text": [
      "Best Score: 0.02003454974637453\n",
      "Best Params: {'n_neighbors': 1000, 'weights': 'distance'}\n",
      "==================================================\n",
      "RMSE: 6176.462505383479\n",
      "==================================================\n",
      "Training R-Squared: 0.9956659742921743\n",
      "Testing R-Squared: 0.024166704806837136\n"
     ]
    }
   ],
   "source": [
    "#KNN Regressor with PCA Data\n",
    "\n",
    "knn_model = KNeighborsRegressor(n_jobs=-1)\n",
    "\n",
    "knn_params = {\n",
    "    'n_neighbors': range(1000, 2001, 100),\n",
    "    'weights': ['uniform', 'distance']\n",
    "}\n",
    "\n",
    "model_eval(model = knn_model,\n",
    "           param_dict = knn_params,\n",
    "           training_data = 'Z_train')"
   ]
  },
  {
   "cell_type": "code",
   "execution_count": null,
   "id": "50d4367c-c09a-4030-9af5-c6dcf5cec762",
   "metadata": {},
   "outputs": [],
   "source": []
  },
  {
   "cell_type": "code",
   "execution_count": 82,
   "id": "ef184bcc-6786-400d-b2de-5614b88b6e44",
   "metadata": {},
   "outputs": [
    {
     "name": "stdout",
     "output_type": "stream",
     "text": [
      "Best Score: 0.01859308701054958\n",
      "Best Params: {'alpha': 7}\n",
      "==================================================\n",
      "RMSE: 6163.003211356567\n",
      "==================================================\n",
      "Training R-Squared: 0.04068128966678297\n",
      "Testing R-Squared: 0.028414999644036154\n"
     ]
    },
    {
     "name": "stderr",
     "output_type": "stream",
     "text": [
      "C:\\Users\\jeffr\\anaconda3\\lib\\site-packages\\sklearn\\linear_model\\_coordinate_descent.py:647: ConvergenceWarning: Objective did not converge. You might want to increase the number of iterations, check the scale of the features or consider increasing regularisation. Duality gap: 2.257e+10, tolerance: 7.663e+07\n",
      "  model = cd_fast.enet_coordinate_descent(\n"
     ]
    }
   ],
   "source": [
    "# Lasso Regression with X Data\n",
    "\n",
    "lasso = Lasso()\n",
    "lasso_params = {\n",
    "    'alpha': range(5, 101, 2)\n",
    "}\n",
    "\n",
    "model_eval(model = lasso,\n",
    "           param_dict = lasso_params,\n",
    "           training_data = 'X_train')"
   ]
  },
  {
   "cell_type": "code",
   "execution_count": 83,
   "id": "f5bb0b0a-933d-44b6-9592-93355e1b02ad",
   "metadata": {},
   "outputs": [
    {
     "name": "stdout",
     "output_type": "stream",
     "text": [
      "Best Score: 0.011162574978104578\n",
      "Best Params: {'alpha': 35}\n",
      "==================================================\n",
      "RMSE: 6233.225615938861\n",
      "==================================================\n",
      "Training R-Squared: 0.02040531819976854\n",
      "Testing R-Squared: 0.006148020903463114\n"
     ]
    }
   ],
   "source": [
    "# Lasso Regression with PCA Data\n",
    "\n",
    "lasso = Lasso()\n",
    "lasso_params = {\n",
    "    'alpha': range(5, 101, 2)\n",
    "}\n",
    "\n",
    "model_eval(model = lasso,\n",
    "           param_dict = lasso_params,\n",
    "           training_data = 'Z_train')"
   ]
  },
  {
   "cell_type": "code",
   "execution_count": null,
   "id": "1e2d2b7d-fc0e-4548-b44e-bcbd0ac0cf9b",
   "metadata": {},
   "outputs": [],
   "source": [
    "# Adaboost with X Data\n",
    "\n",
    "ada = AdaBoostRegressor()\n",
    "ada_params = {\n",
    "    'n_estimators': range(40, 101, 10),\n",
    "    'learning_rate': [0.5, 0.75, 1, 1.25, 1.5] \n",
    "}\n",
    "\n",
    "model_eval(model = ada,\n",
    "           param_dict = ada_params,\n",
    "           training_data = 'X_train')"
   ]
  },
  {
   "cell_type": "code",
   "execution_count": null,
   "id": "8cb35fcb-f898-414c-84d5-1e421283e166",
   "metadata": {},
   "outputs": [],
   "source": [
    "# Adaboost with PCA Data\n",
    "\n",
    "ada = AdaBoostRegressor()\n",
    "ada_params = {\n",
    "    'n_estimators': range(40, 101, 10),\n",
    "    'learning_rate': [0.5, 0.75, 1, 1.25, 1.5] \n",
    "}\n",
    "\n",
    "model_eval(model = ada,\n",
    "           param_dict = ada_params,\n",
    "           training_data = 'Z_train')"
   ]
  },
  {
   "cell_type": "code",
   "execution_count": null,
   "id": "b6647304-0b3c-43e1-ae06-554007040bb4",
   "metadata": {},
   "outputs": [],
   "source": []
  },
  {
   "cell_type": "code",
   "execution_count": null,
   "id": "e254a47c-9bcb-4979-b2ba-a38d0cd973dd",
   "metadata": {},
   "outputs": [],
   "source": []
  },
  {
   "cell_type": "code",
   "execution_count": 57,
   "id": "3009254b-0e37-4f30-be03-58039d6b0348",
   "metadata": {},
   "outputs": [
    {
     "name": "stdout",
     "output_type": "stream",
     "text": [
      "Training R-Squared: -0.665183675674186\n",
      "Testing R-Squared: -1.329365828862259\n",
      "==================================================\n",
      "RMSE: 9542.690608388644\n"
     ]
    }
   ],
   "source": [
    "# Stacking Regressor with Z_train\n",
    "\n",
    "lvl1_est = ([\n",
    "    ('rf', RandomForestRegressor(n_jobs=-1)),\n",
    "    ('ada', AdaBoostRegressor()),\n",
    "    ('lasso', Lasso())\n",
    "])\n",
    "\n",
    "stack = StackingRegressor(estimators=lvl1_est, \n",
    "                          final_estimator=DecisionTreeRegressor(),\n",
    "                         n_jobs=-1)\n",
    "\n",
    "stack.fit(Z_train, y_train)\n",
    "\n",
    "print(f'Training R-Squared: {stack.score(Z_train, y_train)}')\n",
    "print(f'Testing R-Squared: {stack.score(Z_test, y_test)}')\n",
    "print('='*50)\n",
    "print(f'RMSE: {mean_squared_error(y_test, stack.predict(Z_test), squared = False)}')"
   ]
  },
  {
   "cell_type": "code",
   "execution_count": 58,
   "id": "50e00118-1024-483f-994a-4e95c0a4b4a5",
   "metadata": {},
   "outputs": [
    {
     "name": "stdout",
     "output_type": "stream",
     "text": [
      "Training R-Squared: -0.3294699362845459\n",
      "Testing R-Squared: -0.7911446500665642\n",
      "==================================================\n",
      "RMSE: 8367.916221278168\n"
     ]
    }
   ],
   "source": [
    "# Stacking Regressor with X_train\n",
    "\n",
    "lvl1_est = ([\n",
    "    ('rf', RandomForestRegressor(n_jobs=-1)),\n",
    "    ('ada', AdaBoostRegressor()),\n",
    "    ('lasso', Lasso())\n",
    "])\n",
    "\n",
    "stack = StackingRegressor(estimators=lvl1_est, \n",
    "                          final_estimator=DecisionTreeRegressor(),\n",
    "                         n_jobs=-1)\n",
    "\n",
    "stack.fit(X_train, y_train)\n",
    "\n",
    "print(f'Training R-Squared: {stack.score(X_train, y_train)}')\n",
    "print(f'Testing R-Squared: {stack.score(X_test, y_test)}')\n",
    "print('='*50)\n",
    "print(f'RMSE: {mean_squared_error(y_test, stack.predict(X_test), squared = False)}')"
   ]
  },
  {
   "cell_type": "code",
   "execution_count": 59,
   "id": "3140c54f-70db-45f3-b270-257e6b904644",
   "metadata": {},
   "outputs": [
    {
     "name": "stdout",
     "output_type": "stream",
     "text": [
      "Training R-Squared: 0.388392632271471\n",
      "Testing R-Squared: 0.10308886313885379\n",
      "==================================================\n",
      "RMSE: 5921.431390717258\n"
     ]
    }
   ],
   "source": [
    "# Stacking Regressor\n",
    "\n",
    "lvl1_est = ([\n",
    "    ('rf', RandomForestRegressor(n_jobs=-1)),\n",
    "    ('ada', AdaBoostRegressor()),\n",
    "    ('lasso', Lasso())\n",
    "])\n",
    "\n",
    "stack = StackingRegressor(estimators=lvl1_est, \n",
    "                          final_estimator=LinearRegression(),\n",
    "                         n_jobs=-1)\n",
    "\n",
    "stack.fit(Z_train, y_train)\n",
    "\n",
    "print(f'Training R-Squared: {stack.score(Z_train, y_train)}')\n",
    "print(f'Testing R-Squared: {stack.score(Z_test, y_test)}')\n",
    "print('='*50)\n",
    "print(f'RMSE: {mean_squared_error(y_test, stack.predict(Z_test), squared = False)}')"
   ]
  },
  {
   "cell_type": "code",
   "execution_count": 60,
   "id": "c0ee9cc4-909b-4959-ba3d-c12da5b0e80b",
   "metadata": {},
   "outputs": [
    {
     "name": "stdout",
     "output_type": "stream",
     "text": [
      "Training R-Squared: 0.36829782661161214\n",
      "Testing R-Squared: 0.10263671420713849\n",
      "==================================================\n",
      "RMSE: 5922.923752348845\n"
     ]
    }
   ],
   "source": [
    "# Stacking Regressor\n",
    "\n",
    "lvl1_est = ([\n",
    "    ('rf', RandomForestRegressor(n_jobs=-1)),\n",
    "    ('ada', AdaBoostRegressor()),\n",
    "    ('lasso', Lasso())\n",
    "])\n",
    "\n",
    "stack = StackingRegressor(estimators=lvl1_est, \n",
    "                          final_estimator=Lasso(),\n",
    "                         n_jobs=-1)\n",
    "\n",
    "stack.fit(Z_train, y_train)\n",
    "\n",
    "print(f'Training R-Squared: {stack.score(Z_train, y_train)}')\n",
    "print(f'Testing R-Squared: {stack.score(Z_test, y_test)}')\n",
    "print('='*50)\n",
    "print(f'RMSE: {mean_squared_error(y_test, stack.predict(Z_test), squared = False)}')"
   ]
  },
  {
   "cell_type": "code",
   "execution_count": 61,
   "id": "3b17bbb5-0520-4cee-b373-335bb8590e74",
   "metadata": {},
   "outputs": [
    {
     "name": "stdout",
     "output_type": "stream",
     "text": [
      "Training R-Squared: 0.16917662957589852\n",
      "Testing R-Squared: 0.043167416258513835\n",
      "==================================================\n",
      "RMSE: 6116.035132160507\n"
     ]
    }
   ],
   "source": [
    "# Stacking Regressor\n",
    "\n",
    "lvl1_est = ([\n",
    "    ('ada', AdaBoostRegressor()),\n",
    "    ('lasso', Lasso())\n",
    "])\n",
    "\n",
    "stack = StackingRegressor(estimators=lvl1_est, \n",
    "                          final_estimator=Lasso(),\n",
    "                         n_jobs=-1)\n",
    "\n",
    "stack.fit(Z_train, y_train)\n",
    "\n",
    "print(f'Training R-Squared: {stack.score(Z_train, y_train)}')\n",
    "print(f'Testing R-Squared: {stack.score(Z_test, y_test)}')\n",
    "print('='*50)\n",
    "print(f'RMSE: {mean_squared_error(y_test, stack.predict(Z_test), squared = False)}')"
   ]
  },
  {
   "cell_type": "code",
   "execution_count": 62,
   "id": "a1fae710-f36b-48d4-bb47-24392289fad0",
   "metadata": {},
   "outputs": [
    {
     "name": "stdout",
     "output_type": "stream",
     "text": [
      "Training R-Squared: 0.19924171963242732\n",
      "Testing R-Squared: -0.4346389554736585\n",
      "==================================================\n",
      "RMSE: 7488.990901646875\n"
     ]
    }
   ],
   "source": [
    "#Voting Classifier\n",
    "\n",
    "lvl1_est = ([\n",
    "    ('rf', RandomForestRegressor(n_jobs=-1)),\n",
    "    ('ada', AdaBoostRegressor()),\n",
    "    ('lasso', Lasso())\n",
    "])\n",
    "\n",
    "vote = VotingRegressor(estimators = lvl1_est, n_jobs = -1)\n",
    "\n",
    "vote.fit(Z_train, y_train)\n",
    "print(f'Training R-Squared: {vote.score(Z_train, y_train)}')\n",
    "print(f'Testing R-Squared: {vote.score(Z_test, y_test)}')\n",
    "print('='*50)\n",
    "print(f'RMSE: {mean_squared_error(y_test, vote.predict(Z_test), squared = False)}')"
   ]
  },
  {
   "cell_type": "code",
   "execution_count": 28,
   "id": "899ce395-b054-4011-88f3-b75595950540",
   "metadata": {},
   "outputs": [
    {
     "data": {
      "text/plain": [
       "<module 'xgboost' from 'C:\\\\Users\\\\jeffr\\\\anaconda3\\\\lib\\\\site-packages\\\\xgboost\\\\__init__.py'>"
      ]
     },
     "execution_count": 28,
     "metadata": {},
     "output_type": "execute_result"
    }
   ],
   "source": []
  },
  {
   "cell_type": "code",
   "execution_count": null,
   "id": "7f49a04b-4017-4462-ad10-533239099dbb",
   "metadata": {},
   "outputs": [],
   "source": []
  }
 ],
 "metadata": {
  "kernelspec": {
   "display_name": "Python 3 (ipykernel)",
   "language": "python",
   "name": "python3"
  },
  "language_info": {
   "codemirror_mode": {
    "name": "ipython",
    "version": 3
   },
   "file_extension": ".py",
   "mimetype": "text/x-python",
   "name": "python",
   "nbconvert_exporter": "python",
   "pygments_lexer": "ipython3",
   "version": "3.9.13"
  }
 },
 "nbformat": 4,
 "nbformat_minor": 5
}
