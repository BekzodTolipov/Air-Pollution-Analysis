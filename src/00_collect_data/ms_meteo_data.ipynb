{
 "cells": [
  {
   "cell_type": "markdown",
   "id": "8babb7af-6c0f-4baf-a5e7-490eed92cb83",
   "metadata": {
    "tags": []
   },
   "source": [
    "# Meteorological Data Collection\n",
    "To collect meteorological data for starting points of wildfires, we used [NASA POWER APIs](https://power.larc.nasa.gov/docs/services/api/). \n",
    "POWER stands for Prediction Of Worldwide Energy Resources and the goal of the project is to provide solar & meterorological data from NASA research for support of renewable energy, building energy efficiency, & agricultural needs."
   ]
  },
  {
   "cell_type": "markdown",
   "id": "0ebfa068-8bc0-40ff-9166-a77f967ac022",
   "metadata": {},
   "source": [
    "Terms of Use:\n",
    "> These data were obtained from the NASA Langley Research Center POWER Project funded through the NASA Earth Science Directorate Applied Science Program."
   ]
  },
  {
   "cell_type": "markdown",
   "id": "358d8013-158b-42af-a84d-1c63cb85e11b",
   "metadata": {},
   "source": [
    "The meteorological data/parameters in POWER are **space-based** and come from two models: \n",
    "* [(GMAO MERRA-2)](https://gmao.gsfc.nasa.gov/reanalysis/MERRA-2/) that stands for the Goddard’s Global Modeling and Assimilation Office Modern Era Retrospective-Analysis for Research and Applications\n",
    "* [GEOS 5.12.4](https://gmao.gsfc.nasa.gov/news/geos_system_news/2016/FP-IT_NRT_G5.12.4.php): GMAO Forward Processing – Instrument Teams (FP-IT) Near Real Time (NRT) products. \n",
    "The difference between two models is that MERRA-2 is better postprocessed, but not available for the last 1-2 months. Wildfires data covers a range from from July 2020 to January 2023, so probably s couple of the most recent observations came from GEOS FP-IT model because the meteorological data was queried on 01-02-2023.\n",
    "\n",
    "POWER data has global coverage and organized as a grid:\n",
    "* For the meteorological datasets spatial resolutions (grid cell size) are ½° latitude by ⅝° longitude (~50 km)\n",
    "* Precipitation resolution is 0.1° x 0.1 (10 km)\n",
    "\n",
    "More details on data are available on NASA POWER documentation [page](https://power.larc.nasa.gov/docs/methodology/meteorology/)."
   ]
  }
 ],
 "metadata": {
  "kernelspec": {
   "display_name": "Python 3 (ipykernel)",
   "language": "python",
   "name": "python3"
  },
  "language_info": {
   "codemirror_mode": {
    "name": "ipython",
    "version": 3
   },
   "file_extension": ".py",
   "mimetype": "text/x-python",
   "name": "python",
   "nbconvert_exporter": "python",
   "pygments_lexer": "ipython3",
   "version": "3.9.13"
  }
 },
 "nbformat": 4,
 "nbformat_minor": 5
}
