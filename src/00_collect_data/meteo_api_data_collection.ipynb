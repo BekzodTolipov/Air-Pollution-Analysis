{
 "cells": [
  {
   "cell_type": "code",
   "execution_count": null,
   "metadata": {},
   "outputs": [],
   "source": [
    "import pandas as pd\n",
    "import numpy as np\n",
    "\n",
    "from datetime import datetime\n",
    "from meteostat import Point, Daily"
   ]
  },
  {
   "cell_type": "code",
   "execution_count": null,
   "metadata": {},
   "outputs": [],
   "source": [
    "df = pd.read_csv('../../data/cleaned/wildfire.csv')\n",
    "\n",
    "df.head()"
   ]
  },
  {
   "cell_type": "code",
   "execution_count": null,
   "metadata": {},
   "outputs": [],
   "source": [
    "df['FireDiscoveryDateTime'] = pd.to_datetime(df['FireDiscoveryDateTime'], infer_datetime_format=True, errors = 'coerce')\n",
    "df['ControlDateTime'] = pd.to_datetime(df['ControlDateTime'], infer_datetime_format=True, errors = 'coerce')"
   ]
  },
  {
   "cell_type": "code",
   "execution_count": null,
   "metadata": {},
   "outputs": [],
   "source": [
    "def get_weather_meteo(id, lat, long, start_date, end_date, result_df):\n",
    "  print(id)\n",
    "  loc_point = Point(lat, long)\n",
    "  data = Daily(loc_point, start_date.replace(tzinfo=None), end_date.replace(tzinfo=None))\n",
    "  data = data.fetch().reset_index()\n",
    "\n",
    "  data['lat'] = lat\n",
    "  data['long'] = long\n",
    "  data['id'] = id\n",
    "  result_df = pd.concat([result_df, data])\n",
    "  return result_df"
   ]
  },
  {
   "cell_type": "code",
   "execution_count": null,
   "metadata": {},
   "outputs": [],
   "source": [
    "meteo_res_df = pd.DataFrame()\n",
    "\n",
    "for i in df.index:\n",
    "    meteo_res_df = get_weather_meteo(\n",
    "        i,\n",
    "        df.loc[i, \"InitialLatitude\"],\n",
    "        df.loc[i, \"InitialLongitude\"],\n",
    "        df.loc[i, \"FireDiscoveryDateTime\"],\n",
    "        df.loc[i, \"ControlDateTime\"],\n",
    "        meteo_res_df,\n",
    "    )\n"
   ]
  },
  {
   "cell_type": "code",
   "execution_count": null,
   "metadata": {},
   "outputs": [],
   "source": [
    "meteo_res_df.to_csv('../../data/raw/meteo_weather.csv')"
   ]
  }
 ],
 "metadata": {
  "kernelspec": {
   "display_name": "Python 3",
   "language": "python",
   "name": "python3"
  },
  "language_info": {
   "name": "python",
   "version": "3.9.13 (tags/v3.9.13:6de2ca5, May 17 2022, 16:36:42) [MSC v.1929 64 bit (AMD64)]"
  },
  "orig_nbformat": 4,
  "vscode": {
   "interpreter": {
    "hash": "7af3ebbd7de8183e54c3a867989fd0d9f9e8343647e0895fccfd06c308b7a095"
   }
  }
 },
 "nbformat": 4,
 "nbformat_minor": 2
}
