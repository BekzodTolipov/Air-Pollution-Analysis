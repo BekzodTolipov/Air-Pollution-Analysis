{
 "cells": [
  {
   "cell_type": "markdown",
   "metadata": {},
   "source": [
    "# Wildfire Incident Data Collection\n",
    "For wildfire incidence data collection we used [National Interagency Fire Center - WFIGS (Wildland Fire Interagency Geospacial Services Database) ](https://data-nifc.opendata.arcgis.com/datasets/nifc::wfigs-wildland-fire-locations-full-history/explore?filters=eyJDb250cm9sRGF0ZVRpbWUiOls5OTg5MDM4NTU2ODcuNjEsMTY3MzA0NDMyMDAwMF19&location=37.093867%2C-117.175606%2C7.00&showTable=true).\n",
    "The data collected from WFIGS includes the point locations for all reported wildland fires in the United States.  \n",
    "\n",
    "From their website: \n",
    "> The Wildland Fire Interagency Geospatial Services (WFIGS) Group provides authoritative geospatial data products under the interagency Wildland Fire Data Program. Hosted in the National Interagency Fire Center ArcGIS Online Organization (The NIFC Org), WFIGS provides both internal and public facing data, accessible in a variety of formats.\n",
    "> This service contains all wildland fire incidents from the IRWIN (Integrated Reporting of Wildland Fire Information) integration service and historical data converted to the IRWIN schema."
   ]
  },
  {
   "cell_type": "code",
   "execution_count": 51,
   "metadata": {},
   "outputs": [],
   "source": [
    "import pandas as pd"
   ]
  },
  {
   "cell_type": "code",
   "execution_count": 52,
   "metadata": {},
   "outputs": [
    {
     "name": "stderr",
     "output_type": "stream",
     "text": [
      "C:\\Users\\jeffr\\AppData\\Local\\Temp\\ipykernel_4068\\405798385.py:1: DtypeWarning: Columns (14,16,20,21,23,32,46,55,61,77,78,94,95) have mixed types. Specify dtype option on import or set low_memory=False.\n",
      "  df = pd.read_csv('../../data/raw/WFIGS_-_Wildland_Fire_Locations_Full_History (3).csv')\n"
     ]
    },
    {
     "data": {
      "text/html": [
       "<div>\n",
       "<style scoped>\n",
       "    .dataframe tbody tr th:only-of-type {\n",
       "        vertical-align: middle;\n",
       "    }\n",
       "\n",
       "    .dataframe tbody tr th {\n",
       "        vertical-align: top;\n",
       "    }\n",
       "\n",
       "    .dataframe thead th {\n",
       "        text-align: right;\n",
       "    }\n",
       "</style>\n",
       "<table border=\"1\" class=\"dataframe\">\n",
       "  <thead>\n",
       "    <tr style=\"text-align: right;\">\n",
       "      <th></th>\n",
       "      <th>X</th>\n",
       "      <th>Y</th>\n",
       "      <th>OBJECTID</th>\n",
       "      <th>ABCDMisc</th>\n",
       "      <th>ADSPermissionState</th>\n",
       "      <th>CalculatedAcres</th>\n",
       "      <th>ContainmentDateTime</th>\n",
       "      <th>ControlDateTime</th>\n",
       "      <th>DailyAcres</th>\n",
       "      <th>DiscoveryAcres</th>\n",
       "      <th>...</th>\n",
       "      <th>IsDispatchComplete</th>\n",
       "      <th>OrganizationalAssessment</th>\n",
       "      <th>StrategicDecisionPublishDate</th>\n",
       "      <th>CreatedOnDateTime_dt</th>\n",
       "      <th>ModifiedOnDateTime_dt</th>\n",
       "      <th>Source</th>\n",
       "      <th>GlobalID</th>\n",
       "      <th>IsCpxChild</th>\n",
       "      <th>CpxName</th>\n",
       "      <th>CpxID</th>\n",
       "    </tr>\n",
       "  </thead>\n",
       "  <tbody>\n",
       "    <tr>\n",
       "      <th>0</th>\n",
       "      <td>-111.414812</td>\n",
       "      <td>40.072836</td>\n",
       "      <td>7</td>\n",
       "      <td>NaN</td>\n",
       "      <td>DEFAULT</td>\n",
       "      <td>NaN</td>\n",
       "      <td>2019/10/31 16:30:00+00</td>\n",
       "      <td>2019/11/05 18:30:00+00</td>\n",
       "      <td>170.0</td>\n",
       "      <td>0.1</td>\n",
       "      <td>...</td>\n",
       "      <td>0</td>\n",
       "      <td>Type 4 Incident</td>\n",
       "      <td>NaN</td>\n",
       "      <td>2019/10/27 00:14:29+00</td>\n",
       "      <td>2019/11/13 00:15:39+00</td>\n",
       "      <td>IRWIN</td>\n",
       "      <td>{BFD53772-94E7-43F0-9D2C-62444A07CA68}</td>\n",
       "      <td>NaN</td>\n",
       "      <td>NaN</td>\n",
       "      <td>NaN</td>\n",
       "    </tr>\n",
       "    <tr>\n",
       "      <th>1</th>\n",
       "      <td>-112.439311</td>\n",
       "      <td>34.403275</td>\n",
       "      <td>13</td>\n",
       "      <td>NaN</td>\n",
       "      <td>DEFAULT</td>\n",
       "      <td>NaN</td>\n",
       "      <td>2019/09/09 17:00:00+00</td>\n",
       "      <td>2019/09/09 17:00:00+00</td>\n",
       "      <td>0.1</td>\n",
       "      <td>0.5</td>\n",
       "      <td>...</td>\n",
       "      <td>0</td>\n",
       "      <td>NaN</td>\n",
       "      <td>NaN</td>\n",
       "      <td>2019/09/05 20:14:11+00</td>\n",
       "      <td>2019/09/14 19:28:38+00</td>\n",
       "      <td>IRWIN</td>\n",
       "      <td>{E656CA4D-EECE-4746-AEE3-4D645C4F1F13}</td>\n",
       "      <td>NaN</td>\n",
       "      <td>NaN</td>\n",
       "      <td>NaN</td>\n",
       "    </tr>\n",
       "    <tr>\n",
       "      <th>2</th>\n",
       "      <td>-108.895411</td>\n",
       "      <td>40.239896</td>\n",
       "      <td>31</td>\n",
       "      <td>NaN</td>\n",
       "      <td>DEFAULT</td>\n",
       "      <td>NaN</td>\n",
       "      <td>2019/07/30 18:00:00+00</td>\n",
       "      <td>2019/08/03 14:00:00+00</td>\n",
       "      <td>90.0</td>\n",
       "      <td>1.0</td>\n",
       "      <td>...</td>\n",
       "      <td>0</td>\n",
       "      <td>NaN</td>\n",
       "      <td>NaN</td>\n",
       "      <td>2019/07/28 22:52:13+00</td>\n",
       "      <td>2019/08/10 18:31:55+00</td>\n",
       "      <td>IRWIN</td>\n",
       "      <td>{50C0D06E-E3DC-4094-BF22-B9D4B7BA68B1}</td>\n",
       "      <td>NaN</td>\n",
       "      <td>NaN</td>\n",
       "      <td>NaN</td>\n",
       "    </tr>\n",
       "    <tr>\n",
       "      <th>3</th>\n",
       "      <td>-108.552111</td>\n",
       "      <td>38.145376</td>\n",
       "      <td>35</td>\n",
       "      <td>NaN</td>\n",
       "      <td>DEFAULT</td>\n",
       "      <td>NaN</td>\n",
       "      <td>2018/07/28 03:14:59+00</td>\n",
       "      <td>2018/07/28 14:39:59+00</td>\n",
       "      <td>0.1</td>\n",
       "      <td>0.1</td>\n",
       "      <td>...</td>\n",
       "      <td>0</td>\n",
       "      <td>NaN</td>\n",
       "      <td>NaN</td>\n",
       "      <td>2018/07/28 17:50:47+00</td>\n",
       "      <td>2018/07/29 21:56:13+00</td>\n",
       "      <td>IRWIN</td>\n",
       "      <td>{496DBF20-6556-490D-8B22-1E79AEEE74C7}</td>\n",
       "      <td>NaN</td>\n",
       "      <td>NaN</td>\n",
       "      <td>NaN</td>\n",
       "    </tr>\n",
       "    <tr>\n",
       "      <th>4</th>\n",
       "      <td>-111.348611</td>\n",
       "      <td>33.195755</td>\n",
       "      <td>51</td>\n",
       "      <td>NaN</td>\n",
       "      <td>DEFAULT</td>\n",
       "      <td>NaN</td>\n",
       "      <td>2020/07/23 05:29:59+00</td>\n",
       "      <td>2020/07/23 05:29:59+00</td>\n",
       "      <td>8.0</td>\n",
       "      <td>2.5</td>\n",
       "      <td>...</td>\n",
       "      <td>0</td>\n",
       "      <td>NaN</td>\n",
       "      <td>NaN</td>\n",
       "      <td>2020/07/22 22:56:30+00</td>\n",
       "      <td>2020/08/09 00:10:34+00</td>\n",
       "      <td>IRWIN</td>\n",
       "      <td>{9E1157E6-8784-42A5-9F43-D740C4ED357F}</td>\n",
       "      <td>NaN</td>\n",
       "      <td>NaN</td>\n",
       "      <td>NaN</td>\n",
       "    </tr>\n",
       "  </tbody>\n",
       "</table>\n",
       "<p>5 rows × 96 columns</p>\n",
       "</div>"
      ],
      "text/plain": [
       "            X          Y  OBJECTID ABCDMisc ADSPermissionState  \\\n",
       "0 -111.414812  40.072836         7      NaN            DEFAULT   \n",
       "1 -112.439311  34.403275        13      NaN            DEFAULT   \n",
       "2 -108.895411  40.239896        31      NaN            DEFAULT   \n",
       "3 -108.552111  38.145376        35      NaN            DEFAULT   \n",
       "4 -111.348611  33.195755        51      NaN            DEFAULT   \n",
       "\n",
       "   CalculatedAcres     ContainmentDateTime         ControlDateTime  \\\n",
       "0              NaN  2019/10/31 16:30:00+00  2019/11/05 18:30:00+00   \n",
       "1              NaN  2019/09/09 17:00:00+00  2019/09/09 17:00:00+00   \n",
       "2              NaN  2019/07/30 18:00:00+00  2019/08/03 14:00:00+00   \n",
       "3              NaN  2018/07/28 03:14:59+00  2018/07/28 14:39:59+00   \n",
       "4              NaN  2020/07/23 05:29:59+00  2020/07/23 05:29:59+00   \n",
       "\n",
       "   DailyAcres  DiscoveryAcres  ... IsDispatchComplete  \\\n",
       "0       170.0             0.1  ...                  0   \n",
       "1         0.1             0.5  ...                  0   \n",
       "2        90.0             1.0  ...                  0   \n",
       "3         0.1             0.1  ...                  0   \n",
       "4         8.0             2.5  ...                  0   \n",
       "\n",
       "   OrganizationalAssessment  StrategicDecisionPublishDate  \\\n",
       "0           Type 4 Incident                           NaN   \n",
       "1                       NaN                           NaN   \n",
       "2                       NaN                           NaN   \n",
       "3                       NaN                           NaN   \n",
       "4                       NaN                           NaN   \n",
       "\n",
       "     CreatedOnDateTime_dt   ModifiedOnDateTime_dt Source  \\\n",
       "0  2019/10/27 00:14:29+00  2019/11/13 00:15:39+00  IRWIN   \n",
       "1  2019/09/05 20:14:11+00  2019/09/14 19:28:38+00  IRWIN   \n",
       "2  2019/07/28 22:52:13+00  2019/08/10 18:31:55+00  IRWIN   \n",
       "3  2018/07/28 17:50:47+00  2018/07/29 21:56:13+00  IRWIN   \n",
       "4  2020/07/22 22:56:30+00  2020/08/09 00:10:34+00  IRWIN   \n",
       "\n",
       "                                 GlobalID IsCpxChild CpxName CpxID  \n",
       "0  {BFD53772-94E7-43F0-9D2C-62444A07CA68}        NaN     NaN   NaN  \n",
       "1  {E656CA4D-EECE-4746-AEE3-4D645C4F1F13}        NaN     NaN   NaN  \n",
       "2  {50C0D06E-E3DC-4094-BF22-B9D4B7BA68B1}        NaN     NaN   NaN  \n",
       "3  {496DBF20-6556-490D-8B22-1E79AEEE74C7}        NaN     NaN   NaN  \n",
       "4  {9E1157E6-8784-42A5-9F43-D740C4ED357F}        NaN     NaN   NaN  \n",
       "\n",
       "[5 rows x 96 columns]"
      ]
     },
     "execution_count": 52,
     "metadata": {},
     "output_type": "execute_result"
    }
   ],
   "source": [
    "df = pd.read_csv('../../data/raw/WFIGS_-_Wildland_Fire_Locations_Full_History (3).csv')\n",
    "df.head()"
   ]
  },
  {
   "cell_type": "code",
   "execution_count": 53,
   "metadata": {},
   "outputs": [
    {
     "data": {
      "text/plain": [
       "(33564, 96)"
      ]
     },
     "execution_count": 53,
     "metadata": {},
     "output_type": "execute_result"
    }
   ],
   "source": [
    "df.shape"
   ]
  },
  {
   "cell_type": "code",
   "execution_count": 54,
   "metadata": {},
   "outputs": [
    {
     "name": "stdout",
     "output_type": "stream",
     "text": [
      "X\n",
      "Y\n",
      "OBJECTID\n",
      "ABCDMisc\n",
      "ADSPermissionState\n",
      "CalculatedAcres\n",
      "ContainmentDateTime\n",
      "ControlDateTime\n",
      "DailyAcres\n",
      "DiscoveryAcres\n",
      "DispatchCenterID\n",
      "EstimatedCostToDate\n",
      "FinalFireReportApprovedByTitle\n",
      "FinalFireReportApprovedByUnit\n",
      "FinalFireReportApprovedDate\n",
      "FireBehaviorGeneral\n",
      "FireBehaviorGeneral1\n",
      "FireBehaviorGeneral2\n",
      "FireBehaviorGeneral3\n",
      "FireCause\n",
      "FireCauseGeneral\n",
      "FireCauseSpecific\n",
      "FireCode\n",
      "FireDepartmentID\n",
      "FireDiscoveryDateTime\n",
      "FireMgmtComplexity\n",
      "FireOutDateTime\n",
      "FireStrategyConfinePercent\n",
      "FireStrategyFullSuppPercent\n",
      "FireStrategyMonitorPercent\n",
      "FireStrategyPointZonePercent\n",
      "FSJobCode\n",
      "FSOverrideCode\n",
      "GACC\n",
      "ICS209ReportDateTime\n",
      "ICS209ReportForTimePeriodFrom\n",
      "ICS209ReportForTimePeriodTo\n",
      "ICS209ReportStatus\n",
      "IncidentManagementOrganization\n",
      "IncidentName\n",
      "IncidentShortDescription\n",
      "IncidentTypeCategory\n",
      "IncidentTypeKind\n",
      "InitialLatitude\n",
      "InitialLongitude\n",
      "InitialResponseAcres\n",
      "InitialResponseDateTime\n",
      "IrwinID\n",
      "IsFireCauseInvestigated\n",
      "IsFireCodeRequested\n",
      "IsFSAssisted\n",
      "IsMultiJurisdictional\n",
      "IsReimbursable\n",
      "IsTrespass\n",
      "IsUnifiedCommand\n",
      "LocalIncidentIdentifier\n",
      "PercentContained\n",
      "PercentPerimeterToBeContained\n",
      "POOCity\n",
      "POOCounty\n",
      "POODispatchCenterID\n",
      "POOFips\n",
      "POOJurisdictionalAgency\n",
      "POOJurisdictionalUnit\n",
      "POOJurisdictionalUnitParentUnit\n",
      "POOLandownerCategory\n",
      "POOLandownerKind\n",
      "POOLegalDescPrincipalMeridian\n",
      "POOLegalDescQtr\n",
      "POOLegalDescQtrQtr\n",
      "POOLegalDescRange\n",
      "POOLegalDescSection\n",
      "POOLegalDescTownship\n",
      "POOPredictiveServiceAreaID\n",
      "POOProtectingAgency\n",
      "POOProtectingUnit\n",
      "POOState\n",
      "PredominantFuelGroup\n",
      "PredominantFuelModel\n",
      "PrimaryFuelModel\n",
      "SecondaryFuelModel\n",
      "TotalIncidentPersonnel\n",
      "UniqueFireIdentifier\n",
      "WFDSSDecisionStatus\n",
      "CreatedBySystem\n",
      "ModifiedBySystem\n",
      "IsDispatchComplete\n",
      "OrganizationalAssessment\n",
      "StrategicDecisionPublishDate\n",
      "CreatedOnDateTime_dt\n",
      "ModifiedOnDateTime_dt\n",
      "Source\n",
      "GlobalID\n",
      "IsCpxChild\n",
      "CpxName\n",
      "CpxID\n"
     ]
    }
   ],
   "source": [
    "for i in df.columns:\n",
    "    print(i)"
   ]
  },
  {
   "cell_type": "code",
   "execution_count": 55,
   "metadata": {},
   "outputs": [
    {
     "data": {
      "text/plain": [
       "WF    33497\n",
       "RX       67\n",
       "Name: IncidentTypeCategory, dtype: int64"
      ]
     },
     "execution_count": 55,
     "metadata": {},
     "output_type": "execute_result"
    }
   ],
   "source": [
    "# Ensuring that the Incident Type is a true \"Wildfire\" and not \"Prescribed Fire\" or \"Incident Complex\"\n",
    "df['IncidentTypeCategory'].value_counts()"
   ]
  },
  {
   "cell_type": "code",
   "execution_count": 56,
   "metadata": {},
   "outputs": [],
   "source": [
    "df = df[df['IncidentTypeCategory'] == 'WF']"
   ]
  },
  {
   "cell_type": "code",
   "execution_count": 57,
   "metadata": {},
   "outputs": [
    {
     "data": {
      "text/plain": [
       "False    29607\n",
       "True      3890\n",
       "Name: InitialResponseAcres, dtype: int64"
      ]
     },
     "execution_count": 57,
     "metadata": {},
     "output_type": "execute_result"
    }
   ],
   "source": [
    "# The investigation is based on the initial reporting, so not going to take into account how many additional acres burned between initial reporting\n",
    "    # and human intervention. (Although there's clearly a potential for helping a different model in this data)\n",
    "\n",
    "(df['InitialResponseAcres']>1.0).value_counts()"
   ]
  },
  {
   "cell_type": "markdown",
   "metadata": {},
   "source": [
    "#### Using these columns, specifically the initial longitude and latitude to call meteorlogical data at the disovery datatime, this investigation will hopfully be able to create a model to predict the target (dailyacres - which actually stands for total acres burned after discovery)"
   ]
  },
  {
   "cell_type": "code",
   "execution_count": 58,
   "metadata": {},
   "outputs": [],
   "source": [
    "cols = ['ContainmentDateTime', 'ControlDateTime', 'DailyAcres', 'DiscoveryAcres', 'FireCause', 'FireDiscoveryDateTime', \n",
    "        'FireOutDateTime', 'IncidentTypeKind', 'InitialLatitude', 'InitialLongitude', 'POOState']\n",
    "\n",
    "df = df[cols]"
   ]
  },
  {
   "cell_type": "markdown",
   "metadata": {},
   "source": [
    "Looking at fires since start of 2020"
   ]
  },
  {
   "cell_type": "code",
   "execution_count": 59,
   "metadata": {},
   "outputs": [],
   "source": [
    "df['FireDiscoveryDateTime'] = pd.to_datetime(df['FireDiscoveryDateTime'])\n",
    "df = df[df['FireDiscoveryDateTime']>='2020-01-01']\n",
    "df.sort_values('FireDiscoveryDateTime')\n",
    "df.reset_index(drop = True, inplace = True)"
   ]
  },
  {
   "cell_type": "code",
   "execution_count": 60,
   "metadata": {},
   "outputs": [
    {
     "data": {
      "text/plain": [
       "(22799, 11)"
      ]
     },
     "execution_count": 60,
     "metadata": {},
     "output_type": "execute_result"
    }
   ],
   "source": [
    "df.shape"
   ]
  },
  {
   "cell_type": "markdown",
   "metadata": {},
   "source": [
    "Add id column to sync it with api results:"
   ]
  },
  {
   "cell_type": "code",
   "execution_count": 61,
   "metadata": {},
   "outputs": [],
   "source": [
    "df['id'] = df.index"
   ]
  },
  {
   "cell_type": "code",
   "execution_count": 62,
   "metadata": {},
   "outputs": [],
   "source": [
    "df.to_csv('../../data/processed/initial_wildfire.csv', index=False)"
   ]
  },
  {
   "cell_type": "code",
   "execution_count": null,
   "metadata": {},
   "outputs": [],
   "source": []
  }
 ],
 "metadata": {
  "kernelspec": {
   "display_name": "Python 3 (ipykernel)",
   "language": "python",
   "name": "python3"
  },
  "language_info": {
   "codemirror_mode": {
    "name": "ipython",
    "version": 3
   },
   "file_extension": ".py",
   "mimetype": "text/x-python",
   "name": "python",
   "nbconvert_exporter": "python",
   "pygments_lexer": "ipython3",
   "version": "3.9.13"
  },
  "vscode": {
   "interpreter": {
    "hash": "7af3ebbd7de8183e54c3a867989fd0d9f9e8343647e0895fccfd06c308b7a095"
   }
  }
 },
 "nbformat": 4,
 "nbformat_minor": 4
}
