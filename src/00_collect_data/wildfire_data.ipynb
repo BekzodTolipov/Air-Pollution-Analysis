{
 "cells": [
  {
   "cell_type": "code",
   "execution_count": 1,
   "metadata": {},
   "outputs": [],
   "source": [
    "import pandas as pd"
   ]
  },
  {
   "cell_type": "code",
   "execution_count": 2,
   "metadata": {},
   "outputs": [],
   "source": [
    "df = pd.read_csv('../../data/cleaned/wildfire.csv')\n"
   ]
  },
  {
   "attachments": {},
   "cell_type": "markdown",
   "metadata": {},
   "source": [
    "Add id column to sync it with api results"
   ]
  },
  {
   "cell_type": "code",
   "execution_count": 3,
   "metadata": {},
   "outputs": [],
   "source": [
    "df['id'] = df.index"
   ]
  },
  {
   "cell_type": "code",
   "execution_count": 4,
   "metadata": {},
   "outputs": [
    {
     "data": {
      "text/html": [
       "<div>\n",
       "<style scoped>\n",
       "    .dataframe tbody tr th:only-of-type {\n",
       "        vertical-align: middle;\n",
       "    }\n",
       "\n",
       "    .dataframe tbody tr th {\n",
       "        vertical-align: top;\n",
       "    }\n",
       "\n",
       "    .dataframe thead th {\n",
       "        text-align: right;\n",
       "    }\n",
       "</style>\n",
       "<table border=\"1\" class=\"dataframe\">\n",
       "  <thead>\n",
       "    <tr style=\"text-align: right;\">\n",
       "      <th></th>\n",
       "      <th>X</th>\n",
       "      <th>Y</th>\n",
       "      <th>ContainmentDateTime</th>\n",
       "      <th>ControlDateTime</th>\n",
       "      <th>DailyAcres</th>\n",
       "      <th>DiscoveryAcres</th>\n",
       "      <th>FireCause</th>\n",
       "      <th>FireDiscoveryDateTime</th>\n",
       "      <th>IncidentTypeCategory</th>\n",
       "      <th>IncidentTypeKind</th>\n",
       "      <th>InitialLatitude</th>\n",
       "      <th>InitialLongitude</th>\n",
       "      <th>IrwinID</th>\n",
       "      <th>LocalIncidentIdentifier</th>\n",
       "      <th>POOCounty</th>\n",
       "      <th>POODispatchCenterID</th>\n",
       "      <th>POOFips</th>\n",
       "      <th>POOState</th>\n",
       "      <th>UniqueFireIdentifier</th>\n",
       "      <th>id</th>\n",
       "    </tr>\n",
       "  </thead>\n",
       "  <tbody>\n",
       "    <tr>\n",
       "      <th>0</th>\n",
       "      <td>-111.348611</td>\n",
       "      <td>33.195755</td>\n",
       "      <td>2020-07-23 05:29:59+00:00</td>\n",
       "      <td>2020-07-23 05:29:59+00:00</td>\n",
       "      <td>8.0</td>\n",
       "      <td>2.5</td>\n",
       "      <td>Human</td>\n",
       "      <td>2020-07-22 21:51:00+00:00</td>\n",
       "      <td>WF</td>\n",
       "      <td>FI</td>\n",
       "      <td>33.19581</td>\n",
       "      <td>-111.3487</td>\n",
       "      <td>{951823FA-0B72-4295-87C8-E042D602324E}</td>\n",
       "      <td>1450</td>\n",
       "      <td>Pinal</td>\n",
       "      <td>AZTDC</td>\n",
       "      <td>4021</td>\n",
       "      <td>US-AZ</td>\n",
       "      <td>2020-AZA3S-001450</td>\n",
       "      <td>0</td>\n",
       "    </tr>\n",
       "  </tbody>\n",
       "</table>\n",
       "</div>"
      ],
      "text/plain": [
       "            X          Y        ContainmentDateTime  \\\n",
       "0 -111.348611  33.195755  2020-07-23 05:29:59+00:00   \n",
       "\n",
       "             ControlDateTime  DailyAcres  DiscoveryAcres FireCause  \\\n",
       "0  2020-07-23 05:29:59+00:00         8.0             2.5     Human   \n",
       "\n",
       "       FireDiscoveryDateTime IncidentTypeCategory IncidentTypeKind  \\\n",
       "0  2020-07-22 21:51:00+00:00                   WF               FI   \n",
       "\n",
       "   InitialLatitude  InitialLongitude                                 IrwinID  \\\n",
       "0         33.19581         -111.3487  {951823FA-0B72-4295-87C8-E042D602324E}   \n",
       "\n",
       "   LocalIncidentIdentifier POOCounty POODispatchCenterID  POOFips POOState  \\\n",
       "0                     1450     Pinal               AZTDC     4021    US-AZ   \n",
       "\n",
       "  UniqueFireIdentifier  id  \n",
       "0    2020-AZA3S-001450   0  "
      ]
     },
     "execution_count": 4,
     "metadata": {},
     "output_type": "execute_result"
    }
   ],
   "source": [
    "df.head(1)"
   ]
  },
  {
   "cell_type": "code",
   "execution_count": 6,
   "metadata": {},
   "outputs": [],
   "source": [
    "df.to_csv('../../data/processed/wildfire.csv', index=False)"
   ]
  }
 ],
 "metadata": {
  "kernelspec": {
   "display_name": "Python 3",
   "language": "python",
   "name": "python3"
  },
  "language_info": {
   "codemirror_mode": {
    "name": "ipython",
    "version": 3
   },
   "file_extension": ".py",
   "mimetype": "text/x-python",
   "name": "python",
   "nbconvert_exporter": "python",
   "pygments_lexer": "ipython3",
   "version": "3.9.13"
  },
  "orig_nbformat": 4,
  "vscode": {
   "interpreter": {
    "hash": "7af3ebbd7de8183e54c3a867989fd0d9f9e8343647e0895fccfd06c308b7a095"
   }
  }
 },
 "nbformat": 4,
 "nbformat_minor": 2
}
