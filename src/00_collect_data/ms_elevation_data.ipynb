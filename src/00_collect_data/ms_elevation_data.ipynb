{
 "cells": [
  {
   "cell_type": "markdown",
   "id": "f94f771b-c2ef-479d-9662-29995753a37c",
   "metadata": {},
   "source": [
    "# Elevation data collection\n",
    "Along with current and historical weather conditions, elevation also plays an important role in wildfires spread..."
   ]
  }
 ],
 "metadata": {
  "kernelspec": {
   "display_name": "Python 3 (ipykernel)",
   "language": "python",
   "name": "python3"
  },
  "language_info": {
   "codemirror_mode": {
    "name": "ipython",
    "version": 3
   },
   "file_extension": ".py",
   "mimetype": "text/x-python",
   "name": "python",
   "nbconvert_exporter": "python",
   "pygments_lexer": "ipython3",
   "version": "3.10.9"
  }
 },
 "nbformat": 4,
 "nbformat_minor": 5
}
