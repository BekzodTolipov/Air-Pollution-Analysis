{
 "cells": [
  {
   "cell_type": "code",
   "execution_count": 79,
   "metadata": {},
   "outputs": [],
   "source": [
    "import pandas as pd\n",
    "import numpy as np\n",
    "\n",
    "import requests\n",
    "import re\n",
    "import io\n",
    "\n",
    "from datetime import timedelta"
   ]
  },
  {
   "cell_type": "code",
   "execution_count": 2,
   "metadata": {},
   "outputs": [],
   "source": [
    "df = pd.read_csv('../../data/processed/wildfire.csv')\n",
    "\n",
    "df['FireDiscoveryDateTime'] = pd.to_datetime(df['FireDiscoveryDateTime'], infer_datetime_format=True, errors = 'coerce')\n",
    "df['ControlDateTime'] = pd.to_datetime(df['ControlDateTime'], infer_datetime_format=True, errors = 'coerce')"
   ]
  },
  {
   "cell_type": "code",
   "execution_count": 33,
   "metadata": {},
   "outputs": [],
   "source": [
    "def build_request_param(id, lat, long, start_date, end_date, result_df, base_uri):\n",
    "    params = f\"latitude={lat}&longitude={long}&start={start_date.strftime('%Y%m%d')}&end={end_date.strftime('%Y%m%d')}\"\n",
    "    base_uri += params\n",
    "\n",
    "    res = requests.get(base_uri)\n",
    "\n",
    "    split_text = res.text.split(\"-END HEADER-\")\n",
    "\n",
    "    if len(split_text) >= 2:\n",
    "        response_df = pd.read_csv(io.StringIO(split_text[1]))\n",
    "        response_df[\"LAT\"] = lat\n",
    "        response_df[\"LONG\"] = long\n",
    "        response_df[\"PID\"] = id\n",
    "        result_df = pd.concat([result_df, response_df])\n",
    "        return result_df\n",
    "        \n",
    "    return result_df"
   ]
  },
  {
   "cell_type": "code",
   "execution_count": 28,
   "metadata": {},
   "outputs": [],
   "source": [
    "nasa_df = pd.DataFrame()\n",
    "parameters = \"parameters=T2M,T2M_MAX,QV2M,PRECTOTCORR,WS2M,WS2M_MAX,WS10M,WS10M_MAX,GWETTOP,GWETPROF\"\n",
    "base_uri = f\"https://power.larc.nasa.gov/api/temporal/daily/point?time-standard=lst&header=true&format=csv&community=sb&{parameters}&\"\n",
    "\n",
    "for i in df.index:\n",
    "    nasa_df = build_request_param(\n",
    "        i,\n",
    "        df.loc[i, \"InitialLatitude\"],\n",
    "        df.loc[i, \"InitialLongitude\"],\n",
    "        df.loc[i, \"FireDiscoveryDateTime\"],\n",
    "        df.loc[i, \"ControlDateTime\"],\n",
    "        nasa_df,\n",
    "        base_uri,\n",
    "    )"
   ]
  },
  {
   "cell_type": "code",
   "execution_count": 30,
   "metadata": {},
   "outputs": [],
   "source": [
    "nasa_df.to_csv(\"../../data/raw/nasa_weather.csv\", index=False)\n"
   ]
  },
  {
   "attachments": {},
   "cell_type": "markdown",
   "metadata": {},
   "source": [
    "Get relative humidity to calculate fuel moister"
   ]
  },
  {
   "cell_type": "code",
   "execution_count": 24,
   "metadata": {},
   "outputs": [
    {
     "data": {
      "text/plain": [
       "(2863, 20)"
      ]
     },
     "execution_count": 24,
     "metadata": {},
     "output_type": "execute_result"
    }
   ],
   "source": [
    "filtered_df = (df[df['DailyAcres'] > 1]) \n",
    "filtered_df.shape\n",
    "\n",
    "filtered_df = filtered_df[((filtered_df['ControlDateTime'] - filtered_df['FireDiscoveryDateTime']) > timedelta(days=1))]\n",
    "filtered_df.shape"
   ]
  },
  {
   "cell_type": "code",
   "execution_count": 54,
   "metadata": {},
   "outputs": [
    {
     "data": {
      "text/html": [
       "<div>\n",
       "<style scoped>\n",
       "    .dataframe tbody tr th:only-of-type {\n",
       "        vertical-align: middle;\n",
       "    }\n",
       "\n",
       "    .dataframe tbody tr th {\n",
       "        vertical-align: top;\n",
       "    }\n",
       "\n",
       "    .dataframe thead th {\n",
       "        text-align: right;\n",
       "    }\n",
       "</style>\n",
       "<table border=\"1\" class=\"dataframe\">\n",
       "  <thead>\n",
       "    <tr style=\"text-align: right;\">\n",
       "      <th></th>\n",
       "      <th>X</th>\n",
       "      <th>Y</th>\n",
       "      <th>ContainmentDateTime</th>\n",
       "      <th>ControlDateTime</th>\n",
       "      <th>DailyAcres</th>\n",
       "      <th>DiscoveryAcres</th>\n",
       "      <th>FireCause</th>\n",
       "      <th>FireDiscoveryDateTime</th>\n",
       "      <th>IncidentTypeCategory</th>\n",
       "      <th>IncidentTypeKind</th>\n",
       "      <th>InitialLatitude</th>\n",
       "      <th>InitialLongitude</th>\n",
       "      <th>IrwinID</th>\n",
       "      <th>LocalIncidentIdentifier</th>\n",
       "      <th>POOCounty</th>\n",
       "      <th>POODispatchCenterID</th>\n",
       "      <th>POOFips</th>\n",
       "      <th>POOState</th>\n",
       "      <th>UniqueFireIdentifier</th>\n",
       "      <th>id</th>\n",
       "    </tr>\n",
       "  </thead>\n",
       "  <tbody>\n",
       "    <tr>\n",
       "      <th>1</th>\n",
       "      <td>-115.748812</td>\n",
       "      <td>40.617506</td>\n",
       "      <td>2020-08-03 23:00:00+00:00</td>\n",
       "      <td>2020-09-02 15:00:00+00:00</td>\n",
       "      <td>5985.9</td>\n",
       "      <td>5.0</td>\n",
       "      <td>Natural</td>\n",
       "      <td>2020-07-19 23:00:00+00:00</td>\n",
       "      <td>WF</td>\n",
       "      <td>FI</td>\n",
       "      <td>40.602563</td>\n",
       "      <td>-115.719777</td>\n",
       "      <td>{91E0CBAB-A24E-4590-B6C6-2B4A46907E8A}</td>\n",
       "      <td>10145</td>\n",
       "      <td>Elko</td>\n",
       "      <td>NVEIC</td>\n",
       "      <td>32007</td>\n",
       "      <td>US-NV</td>\n",
       "      <td>2020-NVECFX-010145</td>\n",
       "      <td>1</td>\n",
       "    </tr>\n",
       "  </tbody>\n",
       "</table>\n",
       "</div>"
      ],
      "text/plain": [
       "            X          Y        ContainmentDateTime           ControlDateTime  \\\n",
       "1 -115.748812  40.617506  2020-08-03 23:00:00+00:00 2020-09-02 15:00:00+00:00   \n",
       "\n",
       "   DailyAcres  DiscoveryAcres FireCause     FireDiscoveryDateTime  \\\n",
       "1      5985.9             5.0   Natural 2020-07-19 23:00:00+00:00   \n",
       "\n",
       "  IncidentTypeCategory IncidentTypeKind  InitialLatitude  InitialLongitude  \\\n",
       "1                   WF               FI        40.602563       -115.719777   \n",
       "\n",
       "                                  IrwinID  LocalIncidentIdentifier POOCounty  \\\n",
       "1  {91E0CBAB-A24E-4590-B6C6-2B4A46907E8A}                    10145      Elko   \n",
       "\n",
       "  POODispatchCenterID  POOFips POOState UniqueFireIdentifier  id  \n",
       "1               NVEIC    32007    US-NV   2020-NVECFX-010145   1  "
      ]
     },
     "execution_count": 54,
     "metadata": {},
     "output_type": "execute_result"
    }
   ],
   "source": [
    "filtered_df.head(1)"
   ]
  },
  {
   "cell_type": "code",
   "execution_count": 34,
   "metadata": {},
   "outputs": [],
   "source": [
    "nasa_df = pd.DataFrame()\n",
    "parameters = \"parameters=T2MDEW,T2MWET,RH2M,CLRSKY_SFC_PAR_TOT,ALLSKY_SFC_PAR_TOT,ALLSKY_SFC_UV_INDEX\"\n",
    "base_uri = f\"https://power.larc.nasa.gov/api/temporal/daily/point?time-standard=lst&header=true&format=csv&community=sb&{parameters}&\"\n",
    "\n",
    "for i in filtered_df.index:\n",
    "    nasa_df = build_request_param(\n",
    "        filtered_df.loc[i, 'id'],\n",
    "        filtered_df.loc[i, \"InitialLatitude\"],\n",
    "        filtered_df.loc[i, \"InitialLongitude\"],\n",
    "        filtered_df.loc[i, \"FireDiscoveryDateTime\"],\n",
    "        filtered_df.loc[i, \"ControlDateTime\"],\n",
    "        nasa_df,\n",
    "        base_uri,\n",
    "    )"
   ]
  },
  {
   "cell_type": "code",
   "execution_count": 35,
   "metadata": {},
   "outputs": [
    {
     "data": {
      "text/html": [
       "<div>\n",
       "<style scoped>\n",
       "    .dataframe tbody tr th:only-of-type {\n",
       "        vertical-align: middle;\n",
       "    }\n",
       "\n",
       "    .dataframe tbody tr th {\n",
       "        vertical-align: top;\n",
       "    }\n",
       "\n",
       "    .dataframe thead th {\n",
       "        text-align: right;\n",
       "    }\n",
       "</style>\n",
       "<table border=\"1\" class=\"dataframe\">\n",
       "  <thead>\n",
       "    <tr style=\"text-align: right;\">\n",
       "      <th></th>\n",
       "      <th>YEAR</th>\n",
       "      <th>MO</th>\n",
       "      <th>DY</th>\n",
       "      <th>T2MDEW</th>\n",
       "      <th>T2MWET</th>\n",
       "      <th>RH2M</th>\n",
       "      <th>CLRSKY_SFC_PAR_TOT</th>\n",
       "      <th>ALLSKY_SFC_PAR_TOT</th>\n",
       "      <th>ALLSKY_SFC_UV_INDEX</th>\n",
       "      <th>LAT</th>\n",
       "      <th>LONG</th>\n",
       "      <th>ID</th>\n",
       "    </tr>\n",
       "  </thead>\n",
       "  <tbody>\n",
       "    <tr>\n",
       "      <th>0</th>\n",
       "      <td>2020</td>\n",
       "      <td>7</td>\n",
       "      <td>19</td>\n",
       "      <td>3.02</td>\n",
       "      <td>13.91</td>\n",
       "      <td>27.31</td>\n",
       "      <td>155.74</td>\n",
       "      <td>135.5</td>\n",
       "      <td>2.55</td>\n",
       "      <td>40.602563</td>\n",
       "      <td>-115.719777</td>\n",
       "      <td>1</td>\n",
       "    </tr>\n",
       "  </tbody>\n",
       "</table>\n",
       "</div>"
      ],
      "text/plain": [
       "   YEAR  MO  DY  T2MDEW  T2MWET   RH2M  CLRSKY_SFC_PAR_TOT  \\\n",
       "0  2020   7  19    3.02   13.91  27.31              155.74   \n",
       "\n",
       "   ALLSKY_SFC_PAR_TOT  ALLSKY_SFC_UV_INDEX        LAT        LONG  ID  \n",
       "0               135.5                 2.55  40.602563 -115.719777   1  "
      ]
     },
     "execution_count": 35,
     "metadata": {},
     "output_type": "execute_result"
    }
   ],
   "source": [
    "nasa_df.head(1)"
   ]
  },
  {
   "cell_type": "code",
   "execution_count": null,
   "metadata": {},
   "outputs": [],
   "source": [
    "nasa_df.rename(columns={\n",
    "  'T2MDEW': 'dew_frost_point_2m',\n",
    "  'T2MWET': 'wet_bulb_temp_2m',\n",
    "  'RH2M': 'relative_humidity',\n",
    "  'CLRSKY_SFC_PAR_TOT': 'clear_sky_photosynthetically_active_radiation',\n",
    "  'ALLSKY_SFC_PAR_TOT': 'all_sky_photosynthetically_active_radiation',\n",
    "  'ALLSKY_SFC_UV_INDEX': 'all_sky_surface_uv_index'\n",
    "}, inplace=True)"
   ]
  },
  {
   "cell_type": "code",
   "execution_count": 36,
   "metadata": {},
   "outputs": [],
   "source": [
    "nasa_df.to_csv(\"../../data/raw/nasa_weather_extra.csv\", index=False)\n"
   ]
  },
  {
   "attachments": {},
   "cell_type": "markdown",
   "metadata": {},
   "source": [
    "----\n",
    "Past 6 months precipitation for filtered fire"
   ]
  },
  {
   "cell_type": "code",
   "execution_count": 76,
   "metadata": {},
   "outputs": [],
   "source": [
    "def build_request_param(id, lat, long, start_date, end_date, result_df, base_uri):\n",
    "    params = f\"latitude={lat}&longitude={long}&start={start_date.strftime('%Y')}&end={end_date.strftime('%Y')}\"\n",
    "    base_uri += params\n",
    "\n",
    "    res = requests.get(base_uri)\n",
    "\n",
    "    split_text = res.text.split(\"-END HEADER-\")\n",
    "\n",
    "    if len(split_text) >= 2:\n",
    "        response_df = pd.read_csv(io.StringIO(split_text[1]))\n",
    "        response_df[\"PID\"] = id\n",
    "        result_df = pd.concat([result_df, response_df])\n",
    "        return result_df\n",
    "        \n",
    "    return result_df"
   ]
  },
  {
   "cell_type": "code",
   "execution_count": 77,
   "metadata": {},
   "outputs": [],
   "source": [
    "nasa_last_180_prec_df = pd.DataFrame()\n",
    "parameters = \"parameters=PRECTOTCORR_SUM,PRECSNO\"\n",
    "base_uri = f\"https://power.larc.nasa.gov/api/temporal/monthly/point?header=true&format=csv&community=sb&{parameters}&\"\n",
    "\n",
    "for i in filtered_df.index:\n",
    "    nasa_last_180_prec_df = build_request_param(\n",
    "        filtered_df.loc[i, 'id'],\n",
    "        filtered_df.loc[i, \"InitialLatitude\"],\n",
    "        filtered_df.loc[i, \"InitialLongitude\"],\n",
    "        filtered_df.loc[i, \"FireDiscoveryDateTime\"] - pd.tseries.offsets.DateOffset(months=6),\n",
    "        filtered_df.loc[i, \"FireDiscoveryDateTime\"],\n",
    "        nasa_last_180_prec_df,\n",
    "        base_uri,\n",
    "    )\n",
    "\n",
    "test_df = build_request_param(\n",
    "        filtered_df.loc[1, 'id'],\n",
    "        filtered_df.loc[1, \"InitialLatitude\"],\n",
    "        filtered_df.loc[1, \"InitialLongitude\"],\n",
    "        filtered_df.loc[1, \"FireDiscoveryDateTime\"] - pd.tseries.offsets.DateOffset(months=12),\n",
    "        filtered_df.loc[1, \"FireDiscoveryDateTime\"],\n",
    "        nasa_last_180_prec_df,\n",
    "        base_uri,\n",
    "    )"
   ]
  },
  {
   "cell_type": "code",
   "execution_count": 80,
   "metadata": {},
   "outputs": [
    {
     "data": {
      "text/html": [
       "<div>\n",
       "<style scoped>\n",
       "    .dataframe tbody tr th:only-of-type {\n",
       "        vertical-align: middle;\n",
       "    }\n",
       "\n",
       "    .dataframe tbody tr th {\n",
       "        vertical-align: top;\n",
       "    }\n",
       "\n",
       "    .dataframe thead th {\n",
       "        text-align: right;\n",
       "    }\n",
       "</style>\n",
       "<table border=\"1\" class=\"dataframe\">\n",
       "  <thead>\n",
       "    <tr style=\"text-align: right;\">\n",
       "      <th></th>\n",
       "      <th>PARAMETER</th>\n",
       "      <th>YEAR</th>\n",
       "      <th>JAN</th>\n",
       "      <th>FEB</th>\n",
       "      <th>MAR</th>\n",
       "      <th>APR</th>\n",
       "      <th>MAY</th>\n",
       "      <th>JUN</th>\n",
       "      <th>JUL</th>\n",
       "      <th>AUG</th>\n",
       "      <th>SEP</th>\n",
       "      <th>OCT</th>\n",
       "      <th>NOV</th>\n",
       "      <th>DEC</th>\n",
       "      <th>ANN</th>\n",
       "      <th>ID</th>\n",
       "    </tr>\n",
       "  </thead>\n",
       "  <tbody>\n",
       "    <tr>\n",
       "      <th>0</th>\n",
       "      <td>PRECSNO</td>\n",
       "      <td>2020</td>\n",
       "      <td>1.32</td>\n",
       "      <td>0.66</td>\n",
       "      <td>0.66</td>\n",
       "      <td>0.00</td>\n",
       "      <td>0.00</td>\n",
       "      <td>0.00</td>\n",
       "      <td>0.0</td>\n",
       "      <td>0.00</td>\n",
       "      <td>0.00</td>\n",
       "      <td>0.0</td>\n",
       "      <td>0.66</td>\n",
       "      <td>0.66</td>\n",
       "      <td>0.00</td>\n",
       "      <td>1</td>\n",
       "    </tr>\n",
       "    <tr>\n",
       "      <th>1</th>\n",
       "      <td>PRECTOTCORR_SUM</td>\n",
       "      <td>2020</td>\n",
       "      <td>52.73</td>\n",
       "      <td>21.09</td>\n",
       "      <td>26.37</td>\n",
       "      <td>10.55</td>\n",
       "      <td>21.09</td>\n",
       "      <td>26.37</td>\n",
       "      <td>0.0</td>\n",
       "      <td>0.00</td>\n",
       "      <td>5.27</td>\n",
       "      <td>0.0</td>\n",
       "      <td>31.64</td>\n",
       "      <td>21.09</td>\n",
       "      <td>216.21</td>\n",
       "      <td>1</td>\n",
       "    </tr>\n",
       "    <tr>\n",
       "      <th>0</th>\n",
       "      <td>PRECSNO</td>\n",
       "      <td>2020</td>\n",
       "      <td>0.00</td>\n",
       "      <td>0.00</td>\n",
       "      <td>0.00</td>\n",
       "      <td>0.00</td>\n",
       "      <td>0.00</td>\n",
       "      <td>0.00</td>\n",
       "      <td>0.0</td>\n",
       "      <td>0.00</td>\n",
       "      <td>0.00</td>\n",
       "      <td>0.0</td>\n",
       "      <td>0.00</td>\n",
       "      <td>0.00</td>\n",
       "      <td>0.00</td>\n",
       "      <td>5</td>\n",
       "    </tr>\n",
       "    <tr>\n",
       "      <th>1</th>\n",
       "      <td>PRECTOTCORR_SUM</td>\n",
       "      <td>2020</td>\n",
       "      <td>0.00</td>\n",
       "      <td>21.09</td>\n",
       "      <td>63.28</td>\n",
       "      <td>5.27</td>\n",
       "      <td>0.00</td>\n",
       "      <td>0.00</td>\n",
       "      <td>0.0</td>\n",
       "      <td>5.27</td>\n",
       "      <td>0.00</td>\n",
       "      <td>0.0</td>\n",
       "      <td>5.27</td>\n",
       "      <td>0.00</td>\n",
       "      <td>100.20</td>\n",
       "      <td>5</td>\n",
       "    </tr>\n",
       "    <tr>\n",
       "      <th>0</th>\n",
       "      <td>PRECSNO</td>\n",
       "      <td>2019</td>\n",
       "      <td>0.66</td>\n",
       "      <td>1.98</td>\n",
       "      <td>0.66</td>\n",
       "      <td>0.00</td>\n",
       "      <td>0.00</td>\n",
       "      <td>0.00</td>\n",
       "      <td>0.0</td>\n",
       "      <td>0.00</td>\n",
       "      <td>0.00</td>\n",
       "      <td>0.0</td>\n",
       "      <td>0.00</td>\n",
       "      <td>1.32</td>\n",
       "      <td>0.66</td>\n",
       "      <td>10</td>\n",
       "    </tr>\n",
       "  </tbody>\n",
       "</table>\n",
       "</div>"
      ],
      "text/plain": [
       "         PARAMETER  YEAR    JAN    FEB    MAR    APR    MAY    JUN  JUL   AUG  \\\n",
       "0          PRECSNO  2020   1.32   0.66   0.66   0.00   0.00   0.00  0.0  0.00   \n",
       "1  PRECTOTCORR_SUM  2020  52.73  21.09  26.37  10.55  21.09  26.37  0.0  0.00   \n",
       "0          PRECSNO  2020   0.00   0.00   0.00   0.00   0.00   0.00  0.0  0.00   \n",
       "1  PRECTOTCORR_SUM  2020   0.00  21.09  63.28   5.27   0.00   0.00  0.0  5.27   \n",
       "0          PRECSNO  2019   0.66   1.98   0.66   0.00   0.00   0.00  0.0  0.00   \n",
       "\n",
       "    SEP  OCT    NOV    DEC     ANN  ID  \n",
       "0  0.00  0.0   0.66   0.66    0.00   1  \n",
       "1  5.27  0.0  31.64  21.09  216.21   1  \n",
       "0  0.00  0.0   0.00   0.00    0.00   5  \n",
       "1  0.00  0.0   5.27   0.00  100.20   5  \n",
       "0  0.00  0.0   0.00   1.32    0.66  10  "
      ]
     },
     "execution_count": 80,
     "metadata": {},
     "output_type": "execute_result"
    }
   ],
   "source": [
    "test_df.head()\n"
   ]
  },
  {
   "cell_type": "code",
   "execution_count": null,
   "metadata": {},
   "outputs": [],
   "source": []
  },
  {
   "cell_type": "code",
   "execution_count": null,
   "metadata": {},
   "outputs": [],
   "source": []
  },
  {
   "cell_type": "code",
   "execution_count": null,
   "metadata": {},
   "outputs": [],
   "source": []
  },
  {
   "cell_type": "code",
   "execution_count": null,
   "metadata": {},
   "outputs": [],
   "source": []
  },
  {
   "cell_type": "code",
   "execution_count": 56,
   "metadata": {},
   "outputs": [
    {
     "data": {
      "text/plain": [
       "(Timestamp('2020-01-19 23:00:00+0000', tz='UTC'),)"
      ]
     },
     "execution_count": 56,
     "metadata": {},
     "output_type": "execute_result"
    }
   ],
   "source": [
    "filtered_df.loc[1, \"FireDiscoveryDateTime\"] - pd.tseries.offsets.DateOffset(months=6),"
   ]
  },
  {
   "cell_type": "code",
   "execution_count": 51,
   "metadata": {},
   "outputs": [
    {
     "data": {
      "text/html": [
       "<div>\n",
       "<style scoped>\n",
       "    .dataframe tbody tr th:only-of-type {\n",
       "        vertical-align: middle;\n",
       "    }\n",
       "\n",
       "    .dataframe tbody tr th {\n",
       "        vertical-align: top;\n",
       "    }\n",
       "\n",
       "    .dataframe thead th {\n",
       "        text-align: right;\n",
       "    }\n",
       "</style>\n",
       "<table border=\"1\" class=\"dataframe\">\n",
       "  <thead>\n",
       "    <tr style=\"text-align: right;\">\n",
       "      <th></th>\n",
       "    </tr>\n",
       "  </thead>\n",
       "  <tbody>\n",
       "  </tbody>\n",
       "</table>\n",
       "</div>"
      ],
      "text/plain": [
       "Empty DataFrame\n",
       "Columns: []\n",
       "Index: []"
      ]
     },
     "execution_count": 51,
     "metadata": {},
     "output_type": "execute_result"
    }
   ],
   "source": [
    "nasa_last_180_prec_df.head(1)"
   ]
  },
  {
   "cell_type": "code",
   "execution_count": 82,
   "metadata": {},
   "outputs": [],
   "source": [
    "nasa_last_180_prec_df.to_csv(\"../../data/raw/nasa_weather_last_180days.csv\", index=False)\n"
   ]
  }
 ],
 "metadata": {
  "kernelspec": {
   "display_name": "Python 3",
   "language": "python",
   "name": "python3"
  },
  "language_info": {
   "codemirror_mode": {
    "name": "ipython",
    "version": 3
   },
   "file_extension": ".py",
   "mimetype": "text/x-python",
   "name": "python",
   "nbconvert_exporter": "python",
   "pygments_lexer": "ipython3",
   "version": "3.9.13"
  },
  "orig_nbformat": 4,
  "vscode": {
   "interpreter": {
    "hash": "7af3ebbd7de8183e54c3a867989fd0d9f9e8343647e0895fccfd06c308b7a095"
   }
  }
 },
 "nbformat": 4,
 "nbformat_minor": 2
}
