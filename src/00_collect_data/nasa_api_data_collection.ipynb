{
 "cells": [
  {
   "cell_type": "code",
   "execution_count": 1,
   "metadata": {},
   "outputs": [],
   "source": [
    "import pandas as pd\n",
    "import numpy as np\n",
    "\n",
    "import requests\n",
    "import re\n",
    "import io"
   ]
  },
  {
   "cell_type": "code",
   "execution_count": null,
   "metadata": {},
   "outputs": [],
   "source": [
    "df = pd.read_csv('../../data/cleaned/wildfire.csv')\n",
    "\n",
    "df['FireDiscoveryDateTime'] = pd.to_datetime(df['FireDiscoveryDateTime'], infer_datetime_format=True, errors = 'coerce')\n",
    "df['ControlDateTime'] = pd.to_datetime(df['ControlDateTime'], infer_datetime_format=True, errors = 'coerce')"
   ]
  },
  {
   "cell_type": "code",
   "execution_count": null,
   "metadata": {},
   "outputs": [],
   "source": [
    "def build_request_param(id, lat, long, start_date, end_date, result_df, base_uri):\n",
    "    print(id)\n",
    "    params = f\"latitude={lat}&longitude={long}&start={start_date.strftime('%Y%m%d')}&end={end_date.strftime('%Y%m%d')}\"\n",
    "    base_uri += params\n",
    "\n",
    "    res = requests.get(base_uri)\n",
    "\n",
    "    split_text = res.text.split(\"-END HEADER-\")\n",
    "\n",
    "    if len(split_text) >= 2:\n",
    "        response_df = pd.read_csv(io.StringIO(split_text[1]))\n",
    "        # response_df['DATE'] = response_df['YEAR'].apply(str) + '-' + response_df['MO'].apply(str) + '-' + response_df['DY'].apply(str)\n",
    "        # response_df.drop(columns=['YEAR', 'MO', 'DY'], inplace=True)\n",
    "        response_df[\"LAT\"] = lat\n",
    "        response_df[\"LONG\"] = long\n",
    "        response_df[\"ID\"] = id\n",
    "        result_df = pd.concat([result_df, response_df])\n",
    "        return result_df\n",
    "        \n",
    "    return result_df"
   ]
  },
  {
   "cell_type": "code",
   "execution_count": null,
   "metadata": {},
   "outputs": [],
   "source": [
    "nasa_df = pd.DataFrame()\n",
    "parameters = \"parameters=T2M,T2M_MAX,QV2M,PRECTOTCORR,WS2M,WS2M_MAX,WS10M,WS10M_MAX,GWETTOP,GWETPROF\"\n",
    "base_uri = f\"https://power.larc.nasa.gov/api/temporal/daily/point?time-standard=lst&header=true&format=csv&community=sb&{parameters}&\"\n",
    "\n",
    "for i in df.index:\n",
    "    nasa_df = build_request_param(\n",
    "        i,\n",
    "        df.loc[i, \"InitialLatitude\"],\n",
    "        df.loc[i, \"InitialLongitude\"],\n",
    "        df.loc[i, \"FireDiscoveryDateTime\"],\n",
    "        df.loc[i, \"ControlDateTime\"],\n",
    "        nasa_df,\n",
    "        base_uri,\n",
    "    )"
   ]
  },
  {
   "cell_type": "code",
   "execution_count": null,
   "metadata": {},
   "outputs": [],
   "source": [
    "nasa_df.to_csv(\"../../data/raw/nasa_weather.csv\")\n"
   ]
  },
  {
   "cell_type": "code",
   "execution_count": null,
   "metadata": {},
   "outputs": [],
   "source": []
  }
 ],
 "metadata": {
  "kernelspec": {
   "display_name": "Python 3",
   "language": "python",
   "name": "python3"
  },
  "language_info": {
   "codemirror_mode": {
    "name": "ipython",
    "version": 3
   },
   "file_extension": ".py",
   "mimetype": "text/x-python",
   "name": "python",
   "nbconvert_exporter": "python",
   "pygments_lexer": "ipython3",
   "version": "3.9.13"
  },
  "orig_nbformat": 4,
  "vscode": {
   "interpreter": {
    "hash": "7af3ebbd7de8183e54c3a867989fd0d9f9e8343647e0895fccfd06c308b7a095"
   }
  }
 },
 "nbformat": 4,
 "nbformat_minor": 2
}
