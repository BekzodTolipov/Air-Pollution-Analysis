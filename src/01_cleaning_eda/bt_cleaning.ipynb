{
 "cells": [
  {
   "cell_type": "code",
   "execution_count": 101,
   "metadata": {},
   "outputs": [],
   "source": [
    "import pandas as pd\n",
    "import numpy as np\n"
   ]
  },
  {
   "attachments": {},
   "cell_type": "markdown",
   "metadata": {},
   "source": [
    "----\n",
    "Read in collected data\n"
   ]
  },
  {
   "cell_type": "code",
   "execution_count": 102,
   "metadata": {},
   "outputs": [],
   "source": [
    "mdf = pd.read_csv(\"../../data/raw/meteo_weather.csv\")\n",
    "fdf = pd.read_csv(\"../../data/processed/wildfire.csv\")\n",
    "ndf = pd.read_csv(\"../../data/raw/weather.csv\")\n"
   ]
  },
  {
   "attachments": {},
   "cell_type": "markdown",
   "metadata": {},
   "source": [
    "Drop unnamed column\n"
   ]
  },
  {
   "cell_type": "code",
   "execution_count": 103,
   "metadata": {},
   "outputs": [],
   "source": [
    "mdf.drop(columns=\"Unnamed: 0\", inplace=True)\n",
    "ndf.drop(columns=\"Unnamed: 0\", inplace=True)\n"
   ]
  },
  {
   "cell_type": "code",
   "execution_count": 104,
   "metadata": {},
   "outputs": [
    {
     "data": {
      "text/html": [
       "<div>\n",
       "<style scoped>\n",
       "    .dataframe tbody tr th:only-of-type {\n",
       "        vertical-align: middle;\n",
       "    }\n",
       "\n",
       "    .dataframe tbody tr th {\n",
       "        vertical-align: top;\n",
       "    }\n",
       "\n",
       "    .dataframe thead th {\n",
       "        text-align: right;\n",
       "    }\n",
       "</style>\n",
       "<table border=\"1\" class=\"dataframe\">\n",
       "  <thead>\n",
       "    <tr style=\"text-align: right;\">\n",
       "      <th></th>\n",
       "      <th>time</th>\n",
       "      <th>tavg</th>\n",
       "      <th>tmin</th>\n",
       "      <th>tmax</th>\n",
       "      <th>prcp</th>\n",
       "      <th>snow</th>\n",
       "      <th>wdir</th>\n",
       "      <th>wspd</th>\n",
       "      <th>wpgt</th>\n",
       "      <th>pres</th>\n",
       "      <th>tsun</th>\n",
       "      <th>lat</th>\n",
       "      <th>long</th>\n",
       "      <th>id</th>\n",
       "      <th>index</th>\n",
       "      <th>station</th>\n",
       "    </tr>\n",
       "  </thead>\n",
       "  <tbody>\n",
       "    <tr>\n",
       "      <th>0</th>\n",
       "      <td>2020-07-22</td>\n",
       "      <td>35.4</td>\n",
       "      <td>30.0</td>\n",
       "      <td>40.0</td>\n",
       "      <td>NaN</td>\n",
       "      <td>NaN</td>\n",
       "      <td>NaN</td>\n",
       "      <td>NaN</td>\n",
       "      <td>NaN</td>\n",
       "      <td>NaN</td>\n",
       "      <td>NaN</td>\n",
       "      <td>33.195810</td>\n",
       "      <td>-111.348700</td>\n",
       "      <td>0</td>\n",
       "      <td>NaN</td>\n",
       "      <td>NaN</td>\n",
       "    </tr>\n",
       "    <tr>\n",
       "      <th>1</th>\n",
       "      <td>2020-07-23</td>\n",
       "      <td>30.6</td>\n",
       "      <td>27.0</td>\n",
       "      <td>34.0</td>\n",
       "      <td>NaN</td>\n",
       "      <td>NaN</td>\n",
       "      <td>NaN</td>\n",
       "      <td>NaN</td>\n",
       "      <td>NaN</td>\n",
       "      <td>NaN</td>\n",
       "      <td>NaN</td>\n",
       "      <td>33.195810</td>\n",
       "      <td>-111.348700</td>\n",
       "      <td>0</td>\n",
       "      <td>NaN</td>\n",
       "      <td>NaN</td>\n",
       "    </tr>\n",
       "    <tr>\n",
       "      <th>2</th>\n",
       "      <td>2020-07-19</td>\n",
       "      <td>25.9</td>\n",
       "      <td>14.4</td>\n",
       "      <td>35.6</td>\n",
       "      <td>0.0</td>\n",
       "      <td>NaN</td>\n",
       "      <td>NaN</td>\n",
       "      <td>8.0</td>\n",
       "      <td>NaN</td>\n",
       "      <td>1013.1</td>\n",
       "      <td>NaN</td>\n",
       "      <td>40.602563</td>\n",
       "      <td>-115.719777</td>\n",
       "      <td>1</td>\n",
       "      <td>NaN</td>\n",
       "      <td>NaN</td>\n",
       "    </tr>\n",
       "    <tr>\n",
       "      <th>3</th>\n",
       "      <td>2020-07-20</td>\n",
       "      <td>26.3</td>\n",
       "      <td>13.3</td>\n",
       "      <td>35.6</td>\n",
       "      <td>0.0</td>\n",
       "      <td>NaN</td>\n",
       "      <td>NaN</td>\n",
       "      <td>5.7</td>\n",
       "      <td>NaN</td>\n",
       "      <td>1012.4</td>\n",
       "      <td>NaN</td>\n",
       "      <td>40.602563</td>\n",
       "      <td>-115.719777</td>\n",
       "      <td>1</td>\n",
       "      <td>NaN</td>\n",
       "      <td>NaN</td>\n",
       "    </tr>\n",
       "    <tr>\n",
       "      <th>4</th>\n",
       "      <td>2020-07-21</td>\n",
       "      <td>25.3</td>\n",
       "      <td>15.0</td>\n",
       "      <td>33.9</td>\n",
       "      <td>0.0</td>\n",
       "      <td>NaN</td>\n",
       "      <td>359.0</td>\n",
       "      <td>9.0</td>\n",
       "      <td>NaN</td>\n",
       "      <td>1010.6</td>\n",
       "      <td>NaN</td>\n",
       "      <td>40.602563</td>\n",
       "      <td>-115.719777</td>\n",
       "      <td>1</td>\n",
       "      <td>NaN</td>\n",
       "      <td>NaN</td>\n",
       "    </tr>\n",
       "  </tbody>\n",
       "</table>\n",
       "</div>"
      ],
      "text/plain": [
       "         time  tavg  tmin  tmax  prcp  snow   wdir  wspd  wpgt    pres  tsun  \\\n",
       "0  2020-07-22  35.4  30.0  40.0   NaN   NaN    NaN   NaN   NaN     NaN   NaN   \n",
       "1  2020-07-23  30.6  27.0  34.0   NaN   NaN    NaN   NaN   NaN     NaN   NaN   \n",
       "2  2020-07-19  25.9  14.4  35.6   0.0   NaN    NaN   8.0   NaN  1013.1   NaN   \n",
       "3  2020-07-20  26.3  13.3  35.6   0.0   NaN    NaN   5.7   NaN  1012.4   NaN   \n",
       "4  2020-07-21  25.3  15.0  33.9   0.0   NaN  359.0   9.0   NaN  1010.6   NaN   \n",
       "\n",
       "         lat        long  id  index  station  \n",
       "0  33.195810 -111.348700   0    NaN      NaN  \n",
       "1  33.195810 -111.348700   0    NaN      NaN  \n",
       "2  40.602563 -115.719777   1    NaN      NaN  \n",
       "3  40.602563 -115.719777   1    NaN      NaN  \n",
       "4  40.602563 -115.719777   1    NaN      NaN  "
      ]
     },
     "execution_count": 104,
     "metadata": {},
     "output_type": "execute_result"
    }
   ],
   "source": [
    "mdf.head()"
   ]
  },
  {
   "attachments": {},
   "cell_type": "markdown",
   "metadata": {},
   "source": [
    "> Meteo is missing too many values and data id missing 15k from fire data and can not be used"
   ]
  },
  {
   "attachments": {},
   "cell_type": "markdown",
   "metadata": {},
   "source": [
    "Drop dups from NASA dataset and keep fire start date row"
   ]
  },
  {
   "attachments": {},
   "cell_type": "markdown",
   "metadata": {},
   "source": [
    "Generate new columns\n",
    "- Precep sum of all days\n",
    "- Wind mean\n",
    "- Humidity mean\n",
    "- temp average"
   ]
  },
  {
   "cell_type": "code",
   "execution_count": 105,
   "metadata": {},
   "outputs": [],
   "source": [
    "ndf.rename(columns={'ID': 'pid'}, inplace=True)"
   ]
  },
  {
   "cell_type": "code",
   "execution_count": 106,
   "metadata": {},
   "outputs": [
    {
     "name": "stdout",
     "output_type": "stream",
     "text": [
      "     rain_sum\n",
      "pid          \n",
      "0         2.6\n"
     ]
    },
    {
     "data": {
      "text/html": [
       "<div>\n",
       "<style scoped>\n",
       "    .dataframe tbody tr th:only-of-type {\n",
       "        vertical-align: middle;\n",
       "    }\n",
       "\n",
       "    .dataframe tbody tr th {\n",
       "        vertical-align: top;\n",
       "    }\n",
       "\n",
       "    .dataframe thead th {\n",
       "        text-align: right;\n",
       "    }\n",
       "</style>\n",
       "<table border=\"1\" class=\"dataframe\">\n",
       "  <thead>\n",
       "    <tr style=\"text-align: right;\">\n",
       "      <th></th>\n",
       "      <th>wind_speed_2m_mean</th>\n",
       "      <th>wind_speed_2m_max_mean</th>\n",
       "      <th>wind_speed_10m_mean</th>\n",
       "      <th>wind_speed_10m_max_mean</th>\n",
       "      <th>humidity_mean</th>\n",
       "      <th>temp_2m_mean</th>\n",
       "    </tr>\n",
       "    <tr>\n",
       "      <th>pid</th>\n",
       "      <th></th>\n",
       "      <th></th>\n",
       "      <th></th>\n",
       "      <th></th>\n",
       "      <th></th>\n",
       "      <th></th>\n",
       "    </tr>\n",
       "  </thead>\n",
       "  <tbody>\n",
       "    <tr>\n",
       "      <th>0</th>\n",
       "      <td>1.41</td>\n",
       "      <td>3.09</td>\n",
       "      <td>1.895</td>\n",
       "      <td>4.18</td>\n",
       "      <td>13.21</td>\n",
       "      <td>29.9</td>\n",
       "    </tr>\n",
       "  </tbody>\n",
       "</table>\n",
       "</div>"
      ],
      "text/plain": [
       "     wind_speed_2m_mean  wind_speed_2m_max_mean  wind_speed_10m_mean  \\\n",
       "pid                                                                    \n",
       "0                  1.41                    3.09                1.895   \n",
       "\n",
       "     wind_speed_10m_max_mean  humidity_mean  temp_2m_mean  \n",
       "pid                                                        \n",
       "0                       4.18          13.21          29.9  "
      ]
     },
     "execution_count": 106,
     "metadata": {},
     "output_type": "execute_result"
    }
   ],
   "source": [
    "ndf_mean = ndf.groupby(\"pid\").mean()[\n",
    "    [\"WS2M\", \"WS2M_MAX\", \"WS10M\", \"WS10M_MAX\", \"QV2M\", \"T2M\"]\n",
    "]\n",
    "\n",
    "ndf_mean.rename(\n",
    "    columns={\n",
    "        \"WS2M\": \"wind_speed_2m_mean\",\n",
    "        \"WS2M_MAX\": \"wind_speed_2m_max_mean\",\n",
    "        \"WS10M\": \"wind_speed_10m_mean\",\n",
    "        \"WS10M_MAX\": \"wind_speed_10m_max_mean\",\n",
    "        \"QV2M\": \"humidity_mean\",\n",
    "        \"T2M\": \"temp_2m_mean\",\n",
    "    },\n",
    "    inplace=True,\n",
    ")\n",
    "\n",
    "ndf_sum = ndf.groupby(\"pid\").sum()[[\"PRECTOTCORR\"]]\n",
    "ndf_sum.rename(\n",
    "    columns={\n",
    "        \"PRECTOTCORR\": \"rain_sum\",\n",
    "    },\n",
    "    inplace=True,\n",
    ")\n",
    "\n",
    "print(ndf_sum.head(1))\n",
    "ndf_mean.head(1)\n"
   ]
  },
  {
   "cell_type": "code",
   "execution_count": 107,
   "metadata": {},
   "outputs": [
    {
     "name": "stderr",
     "output_type": "stream",
     "text": [
      "C:\\Users\\btoli\\AppData\\Local\\Temp\\ipykernel_23028\\980918030.py:2: SettingWithCopyWarning: \n",
      "A value is trying to be set on a copy of a slice from a DataFrame\n",
      "\n",
      "See the caveats in the documentation: https://pandas.pydata.org/pandas-docs/stable/user_guide/indexing.html#returning-a-view-versus-a-copy\n",
      "  first_date_fire_weather.drop(columns=[\"YEAR\", \"MO\", \"DY\", \"LAT\", \"LONG\"], inplace=True)\n",
      "C:\\Users\\btoli\\AppData\\Local\\Temp\\ipykernel_23028\\980918030.py:5: SettingWithCopyWarning: \n",
      "A value is trying to be set on a copy of a slice from a DataFrame\n",
      "\n",
      "See the caveats in the documentation: https://pandas.pydata.org/pandas-docs/stable/user_guide/indexing.html#returning-a-view-versus-a-copy\n",
      "  first_date_fire_weather.rename(\n"
     ]
    },
    {
     "data": {
      "text/html": [
       "<div>\n",
       "<style scoped>\n",
       "    .dataframe tbody tr th:only-of-type {\n",
       "        vertical-align: middle;\n",
       "    }\n",
       "\n",
       "    .dataframe tbody tr th {\n",
       "        vertical-align: top;\n",
       "    }\n",
       "\n",
       "    .dataframe thead th {\n",
       "        text-align: right;\n",
       "    }\n",
       "</style>\n",
       "<table border=\"1\" class=\"dataframe\">\n",
       "  <thead>\n",
       "    <tr style=\"text-align: right;\">\n",
       "      <th></th>\n",
       "      <th>temp_2m</th>\n",
       "      <th>temp_2m_max</th>\n",
       "      <th>humidity</th>\n",
       "      <th>rain</th>\n",
       "      <th>wind_speed_2m</th>\n",
       "      <th>wind_speed_2m_max</th>\n",
       "      <th>wind_speed_10m</th>\n",
       "      <th>wind_speed_10m_max</th>\n",
       "      <th>surface_soil_wetness_5cm_below</th>\n",
       "      <th>surface_soil_wetness_to_bedrock</th>\n",
       "    </tr>\n",
       "    <tr>\n",
       "      <th>pid</th>\n",
       "      <th></th>\n",
       "      <th></th>\n",
       "      <th></th>\n",
       "      <th></th>\n",
       "      <th></th>\n",
       "      <th></th>\n",
       "      <th></th>\n",
       "      <th></th>\n",
       "      <th></th>\n",
       "      <th></th>\n",
       "    </tr>\n",
       "  </thead>\n",
       "  <tbody>\n",
       "    <tr>\n",
       "      <th>0</th>\n",
       "      <td>32.63</td>\n",
       "      <td>38.06</td>\n",
       "      <td>12.02</td>\n",
       "      <td>0.16</td>\n",
       "      <td>1.26</td>\n",
       "      <td>2.77</td>\n",
       "      <td>1.71</td>\n",
       "      <td>3.84</td>\n",
       "      <td>0.12</td>\n",
       "      <td>0.38</td>\n",
       "    </tr>\n",
       "    <tr>\n",
       "      <th>1</th>\n",
       "      <td>24.80</td>\n",
       "      <td>33.19</td>\n",
       "      <td>5.92</td>\n",
       "      <td>0.00</td>\n",
       "      <td>1.76</td>\n",
       "      <td>3.42</td>\n",
       "      <td>2.61</td>\n",
       "      <td>4.52</td>\n",
       "      <td>0.31</td>\n",
       "      <td>0.37</td>\n",
       "    </tr>\n",
       "    <tr>\n",
       "      <th>2</th>\n",
       "      <td>18.91</td>\n",
       "      <td>26.46</td>\n",
       "      <td>7.93</td>\n",
       "      <td>3.44</td>\n",
       "      <td>2.50</td>\n",
       "      <td>3.65</td>\n",
       "      <td>4.16</td>\n",
       "      <td>5.82</td>\n",
       "      <td>0.26</td>\n",
       "      <td>0.35</td>\n",
       "    </tr>\n",
       "    <tr>\n",
       "      <th>3</th>\n",
       "      <td>5.48</td>\n",
       "      <td>16.30</td>\n",
       "      <td>2.56</td>\n",
       "      <td>0.00</td>\n",
       "      <td>1.25</td>\n",
       "      <td>2.98</td>\n",
       "      <td>1.88</td>\n",
       "      <td>4.02</td>\n",
       "      <td>0.17</td>\n",
       "      <td>0.34</td>\n",
       "    </tr>\n",
       "    <tr>\n",
       "      <th>4</th>\n",
       "      <td>31.50</td>\n",
       "      <td>39.08</td>\n",
       "      <td>8.91</td>\n",
       "      <td>0.26</td>\n",
       "      <td>2.30</td>\n",
       "      <td>4.45</td>\n",
       "      <td>3.26</td>\n",
       "      <td>5.90</td>\n",
       "      <td>0.15</td>\n",
       "      <td>0.36</td>\n",
       "    </tr>\n",
       "  </tbody>\n",
       "</table>\n",
       "</div>"
      ],
      "text/plain": [
       "     temp_2m  temp_2m_max  humidity  rain  wind_speed_2m  wind_speed_2m_max  \\\n",
       "pid                                                                           \n",
       "0      32.63        38.06     12.02  0.16           1.26               2.77   \n",
       "1      24.80        33.19      5.92  0.00           1.76               3.42   \n",
       "2      18.91        26.46      7.93  3.44           2.50               3.65   \n",
       "3       5.48        16.30      2.56  0.00           1.25               2.98   \n",
       "4      31.50        39.08      8.91  0.26           2.30               4.45   \n",
       "\n",
       "     wind_speed_10m  wind_speed_10m_max  surface_soil_wetness_5cm_below  \\\n",
       "pid                                                                       \n",
       "0              1.71                3.84                            0.12   \n",
       "1              2.61                4.52                            0.31   \n",
       "2              4.16                5.82                            0.26   \n",
       "3              1.88                4.02                            0.17   \n",
       "4              3.26                5.90                            0.15   \n",
       "\n",
       "     surface_soil_wetness_to_bedrock  \n",
       "pid                                   \n",
       "0                               0.38  \n",
       "1                               0.37  \n",
       "2                               0.35  \n",
       "3                               0.34  \n",
       "4                               0.36  "
      ]
     },
     "execution_count": 107,
     "metadata": {},
     "output_type": "execute_result"
    }
   ],
   "source": [
    "first_date_fire_weather = ndf.drop_duplicates(subset=\"pid\", keep=\"first\")\n",
    "first_date_fire_weather.drop(columns=[\"YEAR\", \"MO\", \"DY\", \"LAT\", \"LONG\"], inplace=True)\n",
    "first_date_fire_weather.set_index(\"pid\", inplace=True)\n",
    "\n",
    "first_date_fire_weather.rename(\n",
    "    columns={\n",
    "        \"PRECTOTCORR\": \"rain\",\n",
    "        \"WS2M\": \"wind_speed_2m\",\n",
    "        \"WS2M_MAX\": \"wind_speed_2m_max\",\n",
    "        \"WS10M\": \"wind_speed_10m\",\n",
    "        \"WS10M_MAX\": \"wind_speed_10m_max\",\n",
    "        \"QV2M\": \"humidity\",\n",
    "        \"T2M\": \"temp_2m\",\n",
    "        \"T2M_MAX\": \"temp_2m_max\",\n",
    "        \"GWETTOP\": \"surface_soil_wetness_5cm_below\",\n",
    "        \"GWETPROF\": \"surface_soil_wetness_to_bedrock\",\n",
    "    },\n",
    "    inplace=True,\n",
    ")\n",
    "\n",
    "first_date_fire_weather.head()\n"
   ]
  },
  {
   "attachments": {},
   "cell_type": "markdown",
   "metadata": {},
   "source": [
    "Merge mean and original weather data"
   ]
  },
  {
   "cell_type": "code",
   "execution_count": 108,
   "metadata": {},
   "outputs": [],
   "source": [
    "first_date_fire_weather = first_date_fire_weather.merge(\n",
    "    ndf_mean, how=\"inner\", left_index=True, right_index=True\n",
    ")\n",
    "first_date_fire_weather = first_date_fire_weather.merge(\n",
    "    ndf_sum, how=\"inner\", left_index=True, right_index=True\n",
    ")\n"
   ]
  },
  {
   "cell_type": "code",
   "execution_count": 109,
   "metadata": {},
   "outputs": [
    {
     "data": {
      "text/plain": [
       "Index(['temp_2m', 'temp_2m_max', 'humidity', 'rain', 'wind_speed_2m',\n",
       "       'wind_speed_2m_max', 'wind_speed_10m', 'wind_speed_10m_max',\n",
       "       'surface_soil_wetness_5cm_below', 'surface_soil_wetness_to_bedrock',\n",
       "       'wind_speed_2m_mean', 'wind_speed_2m_max_mean', 'wind_speed_10m_mean',\n",
       "       'wind_speed_10m_max_mean', 'humidity_mean', 'temp_2m_mean', 'rain_sum'],\n",
       "      dtype='object')"
      ]
     },
     "execution_count": 109,
     "metadata": {},
     "output_type": "execute_result"
    }
   ],
   "source": [
    "first_date_fire_weather.columns"
   ]
  },
  {
   "attachments": {},
   "cell_type": "markdown",
   "metadata": {},
   "source": [
    "Merge fire and with NASA weather data"
   ]
  },
  {
   "cell_type": "code",
   "execution_count": 110,
   "metadata": {},
   "outputs": [],
   "source": [
    "fdf.set_index('id', inplace=True)"
   ]
  },
  {
   "cell_type": "code",
   "execution_count": 111,
   "metadata": {},
   "outputs": [],
   "source": [
    "merged_df = fdf.merge(\n",
    "    first_date_fire_weather, how=\"left\", left_index=True, right_index=True\n",
    ")\n"
   ]
  },
  {
   "cell_type": "code",
   "execution_count": 112,
   "metadata": {},
   "outputs": [
    {
     "data": {
      "text/plain": [
       "X                                  0\n",
       "Y                                  0\n",
       "ContainmentDateTime                0\n",
       "ControlDateTime                    0\n",
       "DailyAcres                         0\n",
       "DiscoveryAcres                     0\n",
       "FireCause                          0\n",
       "FireDiscoveryDateTime              0\n",
       "IncidentTypeCategory               0\n",
       "IncidentTypeKind                   0\n",
       "InitialLatitude                    0\n",
       "InitialLongitude                   0\n",
       "IrwinID                            0\n",
       "LocalIncidentIdentifier            0\n",
       "POOCounty                          0\n",
       "POODispatchCenterID                0\n",
       "POOFips                            0\n",
       "POOState                           0\n",
       "UniqueFireIdentifier               0\n",
       "temp_2m                            4\n",
       "temp_2m_max                        4\n",
       "humidity                           4\n",
       "rain                               4\n",
       "wind_speed_2m                      4\n",
       "wind_speed_2m_max                  4\n",
       "wind_speed_10m                     4\n",
       "wind_speed_10m_max                 4\n",
       "surface_soil_wetness_5cm_below     4\n",
       "surface_soil_wetness_to_bedrock    4\n",
       "wind_speed_2m_mean                 4\n",
       "wind_speed_2m_max_mean             4\n",
       "wind_speed_10m_mean                4\n",
       "wind_speed_10m_max_mean            4\n",
       "humidity_mean                      4\n",
       "temp_2m_mean                       4\n",
       "rain_sum                           4\n",
       "dtype: int64"
      ]
     },
     "execution_count": 112,
     "metadata": {},
     "output_type": "execute_result"
    }
   ],
   "source": [
    "merged_df.isnull().sum()"
   ]
  },
  {
   "attachments": {},
   "cell_type": "markdown",
   "metadata": {},
   "source": [
    "drop missing 4 rows"
   ]
  },
  {
   "cell_type": "code",
   "execution_count": 113,
   "metadata": {},
   "outputs": [],
   "source": [
    "merged_df.dropna(inplace=True)"
   ]
  },
  {
   "attachments": {},
   "cell_type": "markdown",
   "metadata": {},
   "source": [
    "Lowercase col names"
   ]
  },
  {
   "cell_type": "code",
   "execution_count": 114,
   "metadata": {},
   "outputs": [],
   "source": [
    "merged_df.columns = merged_df.columns.str.lower()"
   ]
  },
  {
   "cell_type": "code",
   "execution_count": 115,
   "metadata": {},
   "outputs": [
    {
     "data": {
      "text/html": [
       "<div>\n",
       "<style scoped>\n",
       "    .dataframe tbody tr th:only-of-type {\n",
       "        vertical-align: middle;\n",
       "    }\n",
       "\n",
       "    .dataframe tbody tr th {\n",
       "        vertical-align: top;\n",
       "    }\n",
       "\n",
       "    .dataframe thead th {\n",
       "        text-align: right;\n",
       "    }\n",
       "</style>\n",
       "<table border=\"1\" class=\"dataframe\">\n",
       "  <thead>\n",
       "    <tr style=\"text-align: right;\">\n",
       "      <th></th>\n",
       "      <th>x</th>\n",
       "      <th>y</th>\n",
       "      <th>containmentdatetime</th>\n",
       "      <th>controldatetime</th>\n",
       "      <th>dailyacres</th>\n",
       "      <th>discoveryacres</th>\n",
       "      <th>firecause</th>\n",
       "      <th>firediscoverydatetime</th>\n",
       "      <th>incidenttypecategory</th>\n",
       "      <th>incidenttypekind</th>\n",
       "      <th>...</th>\n",
       "      <th>wind_speed_10m_max</th>\n",
       "      <th>surface_soil_wetness_5cm_below</th>\n",
       "      <th>surface_soil_wetness_to_bedrock</th>\n",
       "      <th>wind_speed_2m_mean</th>\n",
       "      <th>wind_speed_2m_max_mean</th>\n",
       "      <th>wind_speed_10m_mean</th>\n",
       "      <th>wind_speed_10m_max_mean</th>\n",
       "      <th>humidity_mean</th>\n",
       "      <th>temp_2m_mean</th>\n",
       "      <th>rain_sum</th>\n",
       "    </tr>\n",
       "    <tr>\n",
       "      <th>id</th>\n",
       "      <th></th>\n",
       "      <th></th>\n",
       "      <th></th>\n",
       "      <th></th>\n",
       "      <th></th>\n",
       "      <th></th>\n",
       "      <th></th>\n",
       "      <th></th>\n",
       "      <th></th>\n",
       "      <th></th>\n",
       "      <th></th>\n",
       "      <th></th>\n",
       "      <th></th>\n",
       "      <th></th>\n",
       "      <th></th>\n",
       "      <th></th>\n",
       "      <th></th>\n",
       "      <th></th>\n",
       "      <th></th>\n",
       "      <th></th>\n",
       "      <th></th>\n",
       "    </tr>\n",
       "  </thead>\n",
       "  <tbody>\n",
       "    <tr>\n",
       "      <th>0</th>\n",
       "      <td>-111.348611</td>\n",
       "      <td>33.195755</td>\n",
       "      <td>2020-07-23 05:29:59+00:00</td>\n",
       "      <td>2020-07-23 05:29:59+00:00</td>\n",
       "      <td>8.0</td>\n",
       "      <td>2.5</td>\n",
       "      <td>Human</td>\n",
       "      <td>2020-07-22 21:51:00+00:00</td>\n",
       "      <td>WF</td>\n",
       "      <td>FI</td>\n",
       "      <td>...</td>\n",
       "      <td>3.84</td>\n",
       "      <td>0.12</td>\n",
       "      <td>0.38</td>\n",
       "      <td>1.41</td>\n",
       "      <td>3.09</td>\n",
       "      <td>1.895</td>\n",
       "      <td>4.18</td>\n",
       "      <td>13.21</td>\n",
       "      <td>29.9</td>\n",
       "      <td>2.6</td>\n",
       "    </tr>\n",
       "  </tbody>\n",
       "</table>\n",
       "<p>1 rows × 36 columns</p>\n",
       "</div>"
      ],
      "text/plain": [
       "             x          y        containmentdatetime  \\\n",
       "id                                                     \n",
       "0  -111.348611  33.195755  2020-07-23 05:29:59+00:00   \n",
       "\n",
       "              controldatetime  dailyacres  discoveryacres firecause  \\\n",
       "id                                                                    \n",
       "0   2020-07-23 05:29:59+00:00         8.0             2.5     Human   \n",
       "\n",
       "        firediscoverydatetime incidenttypecategory incidenttypekind  ...  \\\n",
       "id                                                                   ...   \n",
       "0   2020-07-22 21:51:00+00:00                   WF               FI  ...   \n",
       "\n",
       "    wind_speed_10m_max  surface_soil_wetness_5cm_below  \\\n",
       "id                                                       \n",
       "0                 3.84                            0.12   \n",
       "\n",
       "   surface_soil_wetness_to_bedrock  wind_speed_2m_mean wind_speed_2m_max_mean  \\\n",
       "id                                                                              \n",
       "0                             0.38                1.41                   3.09   \n",
       "\n",
       "   wind_speed_10m_mean  wind_speed_10m_max_mean humidity_mean temp_2m_mean  \\\n",
       "id                                                                           \n",
       "0                1.895                     4.18         13.21         29.9   \n",
       "\n",
       "    rain_sum  \n",
       "id            \n",
       "0        2.6  \n",
       "\n",
       "[1 rows x 36 columns]"
      ]
     },
     "execution_count": 115,
     "metadata": {},
     "output_type": "execute_result"
    }
   ],
   "source": [
    "merged_df.head(1)"
   ]
  },
  {
   "cell_type": "code",
   "execution_count": 116,
   "metadata": {},
   "outputs": [],
   "source": [
    "merged_df.reset_index().to_csv(\"../../data/processed/wildfire_weather.csv\", index=False)\n"
   ]
  },
  {
   "attachments": {},
   "cell_type": "markdown",
   "metadata": {},
   "source": [
    "----\n",
    "Add extra dataset"
   ]
  },
  {
   "cell_type": "code",
   "execution_count": 117,
   "metadata": {},
   "outputs": [
    {
     "data": {
      "text/html": [
       "<div>\n",
       "<style scoped>\n",
       "    .dataframe tbody tr th:only-of-type {\n",
       "        vertical-align: middle;\n",
       "    }\n",
       "\n",
       "    .dataframe tbody tr th {\n",
       "        vertical-align: top;\n",
       "    }\n",
       "\n",
       "    .dataframe thead th {\n",
       "        text-align: right;\n",
       "    }\n",
       "</style>\n",
       "<table border=\"1\" class=\"dataframe\">\n",
       "  <thead>\n",
       "    <tr style=\"text-align: right;\">\n",
       "      <th></th>\n",
       "      <th>YEAR</th>\n",
       "      <th>MO</th>\n",
       "      <th>DY</th>\n",
       "      <th>T2MDEW</th>\n",
       "      <th>T2MWET</th>\n",
       "      <th>RH2M</th>\n",
       "      <th>CLRSKY_SFC_PAR_TOT</th>\n",
       "      <th>ALLSKY_SFC_PAR_TOT</th>\n",
       "      <th>ALLSKY_SFC_UV_INDEX</th>\n",
       "      <th>LAT</th>\n",
       "      <th>LONG</th>\n",
       "      <th>ID</th>\n",
       "    </tr>\n",
       "  </thead>\n",
       "  <tbody>\n",
       "    <tr>\n",
       "      <th>0</th>\n",
       "      <td>2020</td>\n",
       "      <td>7</td>\n",
       "      <td>19</td>\n",
       "      <td>3.02</td>\n",
       "      <td>13.91</td>\n",
       "      <td>27.31</td>\n",
       "      <td>155.74</td>\n",
       "      <td>135.5</td>\n",
       "      <td>2.55</td>\n",
       "      <td>40.602563</td>\n",
       "      <td>-115.719777</td>\n",
       "      <td>1</td>\n",
       "    </tr>\n",
       "  </tbody>\n",
       "</table>\n",
       "</div>"
      ],
      "text/plain": [
       "   YEAR  MO  DY  T2MDEW  T2MWET   RH2M  CLRSKY_SFC_PAR_TOT  \\\n",
       "0  2020   7  19    3.02   13.91  27.31              155.74   \n",
       "\n",
       "   ALLSKY_SFC_PAR_TOT  ALLSKY_SFC_UV_INDEX        LAT        LONG  ID  \n",
       "0               135.5                 2.55  40.602563 -115.719777   1  "
      ]
     },
     "execution_count": 117,
     "metadata": {},
     "output_type": "execute_result"
    }
   ],
   "source": [
    "extra_weather = pd.read_csv('../../data/raw/nasa_weather_extra.csv')\n",
    "\n",
    "extra_weather.head(1)"
   ]
  },
  {
   "cell_type": "code",
   "execution_count": 118,
   "metadata": {},
   "outputs": [],
   "source": [
    "extra_weather.drop(columns=['YEAR', 'MO', 'DY', 'LAT', 'LONG'], inplace=True)"
   ]
  },
  {
   "cell_type": "code",
   "execution_count": 119,
   "metadata": {},
   "outputs": [],
   "source": [
    "extra_weather.drop_duplicates(keep='first', inplace=True)"
   ]
  },
  {
   "cell_type": "code",
   "execution_count": 120,
   "metadata": {},
   "outputs": [],
   "source": [
    "extra_weather.set_index('ID', inplace=True)"
   ]
  },
  {
   "cell_type": "code",
   "execution_count": 121,
   "metadata": {},
   "outputs": [
    {
     "data": {
      "text/html": [
       "<div>\n",
       "<style scoped>\n",
       "    .dataframe tbody tr th:only-of-type {\n",
       "        vertical-align: middle;\n",
       "    }\n",
       "\n",
       "    .dataframe tbody tr th {\n",
       "        vertical-align: top;\n",
       "    }\n",
       "\n",
       "    .dataframe thead th {\n",
       "        text-align: right;\n",
       "    }\n",
       "</style>\n",
       "<table border=\"1\" class=\"dataframe\">\n",
       "  <thead>\n",
       "    <tr style=\"text-align: right;\">\n",
       "      <th></th>\n",
       "      <th>dew_frost_point_2m</th>\n",
       "      <th>wet_bulb_temp_2m</th>\n",
       "      <th>relative_humidity</th>\n",
       "      <th>clear_sky_photosynthetically_active_radiation</th>\n",
       "      <th>all_sky_photosynthetically_active_radiation</th>\n",
       "      <th>all_sky_surface_uv_index</th>\n",
       "    </tr>\n",
       "    <tr>\n",
       "      <th>ID</th>\n",
       "      <th></th>\n",
       "      <th></th>\n",
       "      <th></th>\n",
       "      <th></th>\n",
       "      <th></th>\n",
       "      <th></th>\n",
       "    </tr>\n",
       "  </thead>\n",
       "  <tbody>\n",
       "    <tr>\n",
       "      <th>1</th>\n",
       "      <td>3.02</td>\n",
       "      <td>13.91</td>\n",
       "      <td>27.31</td>\n",
       "      <td>155.74</td>\n",
       "      <td>135.5</td>\n",
       "      <td>2.55</td>\n",
       "    </tr>\n",
       "  </tbody>\n",
       "</table>\n",
       "</div>"
      ],
      "text/plain": [
       "    dew_frost_point_2m  wet_bulb_temp_2m  relative_humidity  \\\n",
       "ID                                                            \n",
       "1                 3.02             13.91              27.31   \n",
       "\n",
       "    clear_sky_photosynthetically_active_radiation  \\\n",
       "ID                                                  \n",
       "1                                          155.74   \n",
       "\n",
       "    all_sky_photosynthetically_active_radiation  all_sky_surface_uv_index  \n",
       "ID                                                                         \n",
       "1                                         135.5                      2.55  "
      ]
     },
     "execution_count": 121,
     "metadata": {},
     "output_type": "execute_result"
    }
   ],
   "source": [
    "# extra_weather.rename(columns={\n",
    "#   'T2MDEW': 'dew_frost_point_2m',\n",
    "#   'T2MWET': 'wet_bulb_temp_2m',\n",
    "#   'RH2M': 'relative_humidity',\n",
    "#   'CLRSKY_SFC_PAR_TOT': 'clear_sky_photosynthetically_active_radiation',\n",
    "#   'ALLSKY_SFC_PAR_TOT': 'all_sky_photosynthetically_active_radiation',\n",
    "#   'ALLSKY_SFC_UV_INDEX': 'all_sky_surface_uv_index'\n",
    "# }, inplace=True)\n",
    "\n",
    "extra_weather.head(1)"
   ]
  },
  {
   "cell_type": "code",
   "execution_count": 122,
   "metadata": {},
   "outputs": [],
   "source": [
    "merged_df = merged_df.merge(extra_weather, how='left', left_index=True, right_index=True)"
   ]
  },
  {
   "cell_type": "code",
   "execution_count": 123,
   "metadata": {},
   "outputs": [],
   "source": [
    "merged_df.dropna(inplace=True)"
   ]
  },
  {
   "cell_type": "code",
   "execution_count": 124,
   "metadata": {},
   "outputs": [
    {
     "data": {
      "text/plain": [
       "(39219, 42)"
      ]
     },
     "execution_count": 124,
     "metadata": {},
     "output_type": "execute_result"
    }
   ],
   "source": [
    "merged_df.shape"
   ]
  },
  {
   "cell_type": "code",
   "execution_count": 125,
   "metadata": {},
   "outputs": [
    {
     "data": {
      "text/plain": [
       "Index(['x', 'y', 'containmentdatetime', 'controldatetime', 'dailyacres',\n",
       "       'discoveryacres', 'firecause', 'firediscoverydatetime',\n",
       "       'incidenttypecategory', 'incidenttypekind', 'initiallatitude',\n",
       "       'initiallongitude', 'irwinid', 'localincidentidentifier', 'poocounty',\n",
       "       'poodispatchcenterid', 'poofips', 'poostate', 'uniquefireidentifier',\n",
       "       'temp_2m', 'temp_2m_max', 'humidity', 'rain', 'wind_speed_2m',\n",
       "       'wind_speed_2m_max', 'wind_speed_10m', 'wind_speed_10m_max',\n",
       "       'surface_soil_wetness_5cm_below', 'surface_soil_wetness_to_bedrock',\n",
       "       'wind_speed_2m_mean', 'wind_speed_2m_max_mean', 'wind_speed_10m_mean',\n",
       "       'wind_speed_10m_max_mean', 'humidity_mean', 'temp_2m_mean', 'rain_sum',\n",
       "       'dew_frost_point_2m', 'wet_bulb_temp_2m', 'relative_humidity',\n",
       "       'clear_sky_photosynthetically_active_radiation',\n",
       "       'all_sky_photosynthetically_active_radiation',\n",
       "       'all_sky_surface_uv_index'],\n",
       "      dtype='object')"
      ]
     },
     "execution_count": 125,
     "metadata": {},
     "output_type": "execute_result"
    }
   ],
   "source": [
    "merged_df.columns"
   ]
  },
  {
   "cell_type": "code",
   "execution_count": 126,
   "metadata": {},
   "outputs": [
    {
     "data": {
      "text/plain": [
       "(39219, 42)"
      ]
     },
     "execution_count": 126,
     "metadata": {},
     "output_type": "execute_result"
    }
   ],
   "source": [
    "merged_df[merged_df['dailyacres'] > 1].shape"
   ]
  },
  {
   "attachments": {},
   "cell_type": "markdown",
   "metadata": {},
   "source": [
    "Drop -999.00"
   ]
  },
  {
   "cell_type": "code",
   "execution_count": 129,
   "metadata": {},
   "outputs": [],
   "source": [
    "merged_df = merged_df[(merged_df != -999.00).all(axis=1)]"
   ]
  },
  {
   "cell_type": "code",
   "execution_count": 132,
   "metadata": {},
   "outputs": [],
   "source": [
    "merged_df.to_csv('../../data/cleaned/bigger_wildfire_weather_extra.csv', index=False)"
   ]
  },
  {
   "cell_type": "code",
   "execution_count": null,
   "metadata": {},
   "outputs": [],
   "source": []
  }
 ],
 "metadata": {
  "kernelspec": {
   "display_name": "Python 3",
   "language": "python",
   "name": "python3"
  },
  "language_info": {
   "codemirror_mode": {
    "name": "ipython",
    "version": 3
   },
   "file_extension": ".py",
   "mimetype": "text/x-python",
   "name": "python",
   "nbconvert_exporter": "python",
   "pygments_lexer": "ipython3",
   "version": "3.9.13"
  },
  "orig_nbformat": 4,
  "vscode": {
   "interpreter": {
    "hash": "7af3ebbd7de8183e54c3a867989fd0d9f9e8343647e0895fccfd06c308b7a095"
   }
  }
 },
 "nbformat": 4,
 "nbformat_minor": 2
}
