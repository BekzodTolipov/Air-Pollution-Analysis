{
 "cells": [
  {
   "cell_type": "code",
   "execution_count": 88,
   "metadata": {},
   "outputs": [],
   "source": [
    "import pandas as pd\n",
    "import numpy as np\n"
   ]
  },
  {
   "cell_type": "markdown",
   "metadata": {},
   "source": [
    "----\n",
    "Read in collected data\n"
   ]
  },
  {
   "cell_type": "code",
   "execution_count": 89,
   "metadata": {},
   "outputs": [],
   "source": [
    "mdf = pd.read_csv(\"../../data/raw/meteo_weather.csv\")\n",
    "fdf = pd.read_csv(\"../../data/processed/wildfire.csv\")\n",
    "ndf = pd.read_csv(\"../../data/raw/weather.csv\")\n"
   ]
  },
  {
   "cell_type": "markdown",
   "metadata": {},
   "source": [
    "Drop unnamed column\n"
   ]
  },
  {
   "cell_type": "code",
   "execution_count": 90,
   "metadata": {},
   "outputs": [],
   "source": [
    "mdf.drop(columns=\"Unnamed: 0\", inplace=True)\n",
    "ndf.drop(columns=\"Unnamed: 0\", inplace=True)\n"
   ]
  },
  {
   "cell_type": "code",
   "execution_count": 91,
   "metadata": {},
   "outputs": [
    {
     "data": {
      "text/html": [
       "<div>\n",
       "<style scoped>\n",
       "    .dataframe tbody tr th:only-of-type {\n",
       "        vertical-align: middle;\n",
       "    }\n",
       "\n",
       "    .dataframe tbody tr th {\n",
       "        vertical-align: top;\n",
       "    }\n",
       "\n",
       "    .dataframe thead th {\n",
       "        text-align: right;\n",
       "    }\n",
       "</style>\n",
       "<table border=\"1\" class=\"dataframe\">\n",
       "  <thead>\n",
       "    <tr style=\"text-align: right;\">\n",
       "      <th></th>\n",
       "      <th>time</th>\n",
       "      <th>tavg</th>\n",
       "      <th>tmin</th>\n",
       "      <th>tmax</th>\n",
       "      <th>prcp</th>\n",
       "      <th>snow</th>\n",
       "      <th>wdir</th>\n",
       "      <th>wspd</th>\n",
       "      <th>wpgt</th>\n",
       "      <th>pres</th>\n",
       "      <th>tsun</th>\n",
       "      <th>lat</th>\n",
       "      <th>long</th>\n",
       "      <th>id</th>\n",
       "      <th>index</th>\n",
       "      <th>station</th>\n",
       "    </tr>\n",
       "  </thead>\n",
       "  <tbody>\n",
       "    <tr>\n",
       "      <th>0</th>\n",
       "      <td>2020-07-22</td>\n",
       "      <td>35.4</td>\n",
       "      <td>30.0</td>\n",
       "      <td>40.0</td>\n",
       "      <td>NaN</td>\n",
       "      <td>NaN</td>\n",
       "      <td>NaN</td>\n",
       "      <td>NaN</td>\n",
       "      <td>NaN</td>\n",
       "      <td>NaN</td>\n",
       "      <td>NaN</td>\n",
       "      <td>33.195810</td>\n",
       "      <td>-111.348700</td>\n",
       "      <td>0</td>\n",
       "      <td>NaN</td>\n",
       "      <td>NaN</td>\n",
       "    </tr>\n",
       "    <tr>\n",
       "      <th>1</th>\n",
       "      <td>2020-07-23</td>\n",
       "      <td>30.6</td>\n",
       "      <td>27.0</td>\n",
       "      <td>34.0</td>\n",
       "      <td>NaN</td>\n",
       "      <td>NaN</td>\n",
       "      <td>NaN</td>\n",
       "      <td>NaN</td>\n",
       "      <td>NaN</td>\n",
       "      <td>NaN</td>\n",
       "      <td>NaN</td>\n",
       "      <td>33.195810</td>\n",
       "      <td>-111.348700</td>\n",
       "      <td>0</td>\n",
       "      <td>NaN</td>\n",
       "      <td>NaN</td>\n",
       "    </tr>\n",
       "    <tr>\n",
       "      <th>2</th>\n",
       "      <td>2020-07-19</td>\n",
       "      <td>25.9</td>\n",
       "      <td>14.4</td>\n",
       "      <td>35.6</td>\n",
       "      <td>0.0</td>\n",
       "      <td>NaN</td>\n",
       "      <td>NaN</td>\n",
       "      <td>8.0</td>\n",
       "      <td>NaN</td>\n",
       "      <td>1013.1</td>\n",
       "      <td>NaN</td>\n",
       "      <td>40.602563</td>\n",
       "      <td>-115.719777</td>\n",
       "      <td>1</td>\n",
       "      <td>NaN</td>\n",
       "      <td>NaN</td>\n",
       "    </tr>\n",
       "    <tr>\n",
       "      <th>3</th>\n",
       "      <td>2020-07-20</td>\n",
       "      <td>26.3</td>\n",
       "      <td>13.3</td>\n",
       "      <td>35.6</td>\n",
       "      <td>0.0</td>\n",
       "      <td>NaN</td>\n",
       "      <td>NaN</td>\n",
       "      <td>5.7</td>\n",
       "      <td>NaN</td>\n",
       "      <td>1012.4</td>\n",
       "      <td>NaN</td>\n",
       "      <td>40.602563</td>\n",
       "      <td>-115.719777</td>\n",
       "      <td>1</td>\n",
       "      <td>NaN</td>\n",
       "      <td>NaN</td>\n",
       "    </tr>\n",
       "    <tr>\n",
       "      <th>4</th>\n",
       "      <td>2020-07-21</td>\n",
       "      <td>25.3</td>\n",
       "      <td>15.0</td>\n",
       "      <td>33.9</td>\n",
       "      <td>0.0</td>\n",
       "      <td>NaN</td>\n",
       "      <td>359.0</td>\n",
       "      <td>9.0</td>\n",
       "      <td>NaN</td>\n",
       "      <td>1010.6</td>\n",
       "      <td>NaN</td>\n",
       "      <td>40.602563</td>\n",
       "      <td>-115.719777</td>\n",
       "      <td>1</td>\n",
       "      <td>NaN</td>\n",
       "      <td>NaN</td>\n",
       "    </tr>\n",
       "  </tbody>\n",
       "</table>\n",
       "</div>"
      ],
      "text/plain": [
       "         time  tavg  tmin  tmax  prcp  snow   wdir  wspd  wpgt    pres  tsun  \\\n",
       "0  2020-07-22  35.4  30.0  40.0   NaN   NaN    NaN   NaN   NaN     NaN   NaN   \n",
       "1  2020-07-23  30.6  27.0  34.0   NaN   NaN    NaN   NaN   NaN     NaN   NaN   \n",
       "2  2020-07-19  25.9  14.4  35.6   0.0   NaN    NaN   8.0   NaN  1013.1   NaN   \n",
       "3  2020-07-20  26.3  13.3  35.6   0.0   NaN    NaN   5.7   NaN  1012.4   NaN   \n",
       "4  2020-07-21  25.3  15.0  33.9   0.0   NaN  359.0   9.0   NaN  1010.6   NaN   \n",
       "\n",
       "         lat        long  id  index  station  \n",
       "0  33.195810 -111.348700   0    NaN      NaN  \n",
       "1  33.195810 -111.348700   0    NaN      NaN  \n",
       "2  40.602563 -115.719777   1    NaN      NaN  \n",
       "3  40.602563 -115.719777   1    NaN      NaN  \n",
       "4  40.602563 -115.719777   1    NaN      NaN  "
      ]
     },
     "execution_count": 91,
     "metadata": {},
     "output_type": "execute_result"
    }
   ],
   "source": [
    "mdf.head()"
   ]
  },
  {
   "cell_type": "markdown",
   "metadata": {},
   "source": [
    "> Meteo is missing too many values and data id missing 15k from fire data and can not be used"
   ]
  },
  {
   "cell_type": "markdown",
   "metadata": {},
   "source": [
    "Drop dups from NASA dataset and keep fire start date row"
   ]
  },
  {
   "cell_type": "markdown",
   "metadata": {},
   "source": [
    "Generate new columns\n",
    "- Precep sum of all days\n",
    "- Wind mean\n",
    "- Humidity mean\n",
    "- temp average"
   ]
  },
  {
   "cell_type": "code",
   "execution_count": 92,
   "metadata": {},
   "outputs": [],
   "source": [
    "ndf.rename(columns={'ID': 'pid'}, inplace=True)"
   ]
  },
  {
   "cell_type": "code",
   "execution_count": 93,
   "metadata": {},
   "outputs": [
    {
     "name": "stdout",
     "output_type": "stream",
     "text": [
      "     rain_sum\n",
      "pid          \n",
      "0         2.6\n"
     ]
    },
    {
     "data": {
      "text/html": [
       "<div>\n",
       "<style scoped>\n",
       "    .dataframe tbody tr th:only-of-type {\n",
       "        vertical-align: middle;\n",
       "    }\n",
       "\n",
       "    .dataframe tbody tr th {\n",
       "        vertical-align: top;\n",
       "    }\n",
       "\n",
       "    .dataframe thead th {\n",
       "        text-align: right;\n",
       "    }\n",
       "</style>\n",
       "<table border=\"1\" class=\"dataframe\">\n",
       "  <thead>\n",
       "    <tr style=\"text-align: right;\">\n",
       "      <th></th>\n",
       "      <th>wind_speed_2m_mean</th>\n",
       "      <th>wind_speed_2m_max_mean</th>\n",
       "      <th>wind_speed_10m_mean</th>\n",
       "      <th>wind_speed_10m_max_mean</th>\n",
       "      <th>humidity_mean</th>\n",
       "      <th>temp_2m_mean</th>\n",
       "    </tr>\n",
       "    <tr>\n",
       "      <th>pid</th>\n",
       "      <th></th>\n",
       "      <th></th>\n",
       "      <th></th>\n",
       "      <th></th>\n",
       "      <th></th>\n",
       "      <th></th>\n",
       "    </tr>\n",
       "  </thead>\n",
       "  <tbody>\n",
       "    <tr>\n",
       "      <th>0</th>\n",
       "      <td>1.41</td>\n",
       "      <td>3.09</td>\n",
       "      <td>1.895</td>\n",
       "      <td>4.18</td>\n",
       "      <td>13.21</td>\n",
       "      <td>29.9</td>\n",
       "    </tr>\n",
       "  </tbody>\n",
       "</table>\n",
       "</div>"
      ],
      "text/plain": [
       "     wind_speed_2m_mean  wind_speed_2m_max_mean  wind_speed_10m_mean  \\\n",
       "pid                                                                    \n",
       "0                  1.41                    3.09                1.895   \n",
       "\n",
       "     wind_speed_10m_max_mean  humidity_mean  temp_2m_mean  \n",
       "pid                                                        \n",
       "0                       4.18          13.21          29.9  "
      ]
     },
     "execution_count": 93,
     "metadata": {},
     "output_type": "execute_result"
    }
   ],
   "source": [
    "ndf_mean = ndf.groupby(\"pid\").mean()[\n",
    "    [\"WS2M\", \"WS2M_MAX\", \"WS10M\", \"WS10M_MAX\", \"QV2M\", \"T2M\"]\n",
    "]\n",
    "\n",
    "ndf_mean.rename(\n",
    "    columns={\n",
    "        \"WS2M\": \"wind_speed_2m_mean\",\n",
    "        \"WS2M_MAX\": \"wind_speed_2m_max_mean\",\n",
    "        \"WS10M\": \"wind_speed_10m_mean\",\n",
    "        \"WS10M_MAX\": \"wind_speed_10m_max_mean\",\n",
    "        \"QV2M\": \"humidity_mean\",\n",
    "        \"T2M\": \"temp_2m_mean\",\n",
    "    },\n",
    "    inplace=True,\n",
    ")\n",
    "\n",
    "ndf_sum = ndf.groupby(\"pid\").sum()[[\"PRECTOTCORR\"]]\n",
    "ndf_sum.rename(\n",
    "    columns={\n",
    "        \"PRECTOTCORR\": \"rain_sum\",\n",
    "    },\n",
    "    inplace=True,\n",
    ")\n",
    "\n",
    "print(ndf_sum.head(1))\n",
    "ndf_mean.head(1)\n"
   ]
  },
  {
   "cell_type": "code",
   "execution_count": 94,
   "metadata": {},
   "outputs": [
    {
     "name": "stderr",
     "output_type": "stream",
     "text": [
      "C:\\Users\\btoli\\AppData\\Local\\Temp\\ipykernel_27536\\980918030.py:2: SettingWithCopyWarning: \n",
      "A value is trying to be set on a copy of a slice from a DataFrame\n",
      "\n",
      "See the caveats in the documentation: https://pandas.pydata.org/pandas-docs/stable/user_guide/indexing.html#returning-a-view-versus-a-copy\n",
      "  first_date_fire_weather.drop(columns=[\"YEAR\", \"MO\", \"DY\", \"LAT\", \"LONG\"], inplace=True)\n",
      "C:\\Users\\btoli\\AppData\\Local\\Temp\\ipykernel_27536\\980918030.py:5: SettingWithCopyWarning: \n",
      "A value is trying to be set on a copy of a slice from a DataFrame\n",
      "\n",
      "See the caveats in the documentation: https://pandas.pydata.org/pandas-docs/stable/user_guide/indexing.html#returning-a-view-versus-a-copy\n",
      "  first_date_fire_weather.rename(\n"
     ]
    },
    {
     "data": {
      "text/html": [
       "<div>\n",
       "<style scoped>\n",
       "    .dataframe tbody tr th:only-of-type {\n",
       "        vertical-align: middle;\n",
       "    }\n",
       "\n",
       "    .dataframe tbody tr th {\n",
       "        vertical-align: top;\n",
       "    }\n",
       "\n",
       "    .dataframe thead th {\n",
       "        text-align: right;\n",
       "    }\n",
       "</style>\n",
       "<table border=\"1\" class=\"dataframe\">\n",
       "  <thead>\n",
       "    <tr style=\"text-align: right;\">\n",
       "      <th></th>\n",
       "      <th>temp_2m</th>\n",
       "      <th>temp_2m_max</th>\n",
       "      <th>humidity</th>\n",
       "      <th>rain</th>\n",
       "      <th>wind_speed_2m</th>\n",
       "      <th>wind_speed_2m_max</th>\n",
       "      <th>wind_speed_10m</th>\n",
       "      <th>wind_speed_10m_max</th>\n",
       "      <th>surface_soil_wetness_5cm_below</th>\n",
       "      <th>surface_soil_wetness_to_bedrock</th>\n",
       "    </tr>\n",
       "    <tr>\n",
       "      <th>pid</th>\n",
       "      <th></th>\n",
       "      <th></th>\n",
       "      <th></th>\n",
       "      <th></th>\n",
       "      <th></th>\n",
       "      <th></th>\n",
       "      <th></th>\n",
       "      <th></th>\n",
       "      <th></th>\n",
       "      <th></th>\n",
       "    </tr>\n",
       "  </thead>\n",
       "  <tbody>\n",
       "    <tr>\n",
       "      <th>0</th>\n",
       "      <td>32.63</td>\n",
       "      <td>38.06</td>\n",
       "      <td>12.02</td>\n",
       "      <td>0.16</td>\n",
       "      <td>1.26</td>\n",
       "      <td>2.77</td>\n",
       "      <td>1.71</td>\n",
       "      <td>3.84</td>\n",
       "      <td>0.12</td>\n",
       "      <td>0.38</td>\n",
       "    </tr>\n",
       "    <tr>\n",
       "      <th>1</th>\n",
       "      <td>24.80</td>\n",
       "      <td>33.19</td>\n",
       "      <td>5.92</td>\n",
       "      <td>0.00</td>\n",
       "      <td>1.76</td>\n",
       "      <td>3.42</td>\n",
       "      <td>2.61</td>\n",
       "      <td>4.52</td>\n",
       "      <td>0.31</td>\n",
       "      <td>0.37</td>\n",
       "    </tr>\n",
       "    <tr>\n",
       "      <th>2</th>\n",
       "      <td>18.91</td>\n",
       "      <td>26.46</td>\n",
       "      <td>7.93</td>\n",
       "      <td>3.44</td>\n",
       "      <td>2.50</td>\n",
       "      <td>3.65</td>\n",
       "      <td>4.16</td>\n",
       "      <td>5.82</td>\n",
       "      <td>0.26</td>\n",
       "      <td>0.35</td>\n",
       "    </tr>\n",
       "    <tr>\n",
       "      <th>3</th>\n",
       "      <td>5.48</td>\n",
       "      <td>16.30</td>\n",
       "      <td>2.56</td>\n",
       "      <td>0.00</td>\n",
       "      <td>1.25</td>\n",
       "      <td>2.98</td>\n",
       "      <td>1.88</td>\n",
       "      <td>4.02</td>\n",
       "      <td>0.17</td>\n",
       "      <td>0.34</td>\n",
       "    </tr>\n",
       "    <tr>\n",
       "      <th>4</th>\n",
       "      <td>31.50</td>\n",
       "      <td>39.08</td>\n",
       "      <td>8.91</td>\n",
       "      <td>0.26</td>\n",
       "      <td>2.30</td>\n",
       "      <td>4.45</td>\n",
       "      <td>3.26</td>\n",
       "      <td>5.90</td>\n",
       "      <td>0.15</td>\n",
       "      <td>0.36</td>\n",
       "    </tr>\n",
       "  </tbody>\n",
       "</table>\n",
       "</div>"
      ],
      "text/plain": [
       "     temp_2m  temp_2m_max  humidity  rain  wind_speed_2m  wind_speed_2m_max  \\\n",
       "pid                                                                           \n",
       "0      32.63        38.06     12.02  0.16           1.26               2.77   \n",
       "1      24.80        33.19      5.92  0.00           1.76               3.42   \n",
       "2      18.91        26.46      7.93  3.44           2.50               3.65   \n",
       "3       5.48        16.30      2.56  0.00           1.25               2.98   \n",
       "4      31.50        39.08      8.91  0.26           2.30               4.45   \n",
       "\n",
       "     wind_speed_10m  wind_speed_10m_max  surface_soil_wetness_5cm_below  \\\n",
       "pid                                                                       \n",
       "0              1.71                3.84                            0.12   \n",
       "1              2.61                4.52                            0.31   \n",
       "2              4.16                5.82                            0.26   \n",
       "3              1.88                4.02                            0.17   \n",
       "4              3.26                5.90                            0.15   \n",
       "\n",
       "     surface_soil_wetness_to_bedrock  \n",
       "pid                                   \n",
       "0                               0.38  \n",
       "1                               0.37  \n",
       "2                               0.35  \n",
       "3                               0.34  \n",
       "4                               0.36  "
      ]
     },
     "execution_count": 94,
     "metadata": {},
     "output_type": "execute_result"
    }
   ],
   "source": [
    "first_date_fire_weather = ndf.drop_duplicates(subset=\"pid\", keep=\"first\")\n",
    "first_date_fire_weather.drop(columns=[\"YEAR\", \"MO\", \"DY\", \"LAT\", \"LONG\"], inplace=True)\n",
    "first_date_fire_weather.set_index(\"pid\", inplace=True)\n",
    "\n",
    "first_date_fire_weather.rename(\n",
    "    columns={\n",
    "        \"PRECTOTCORR\": \"rain\",\n",
    "        \"WS2M\": \"wind_speed_2m\",\n",
    "        \"WS2M_MAX\": \"wind_speed_2m_max\",\n",
    "        \"WS10M\": \"wind_speed_10m\",\n",
    "        \"WS10M_MAX\": \"wind_speed_10m_max\",\n",
    "        \"QV2M\": \"humidity\",\n",
    "        \"T2M\": \"temp_2m\",\n",
    "        \"T2M_MAX\": \"temp_2m_max\",\n",
    "        \"GWETTOP\": \"surface_soil_wetness_5cm_below\",\n",
    "        \"GWETPROF\": \"surface_soil_wetness_to_bedrock\",\n",
    "    },\n",
    "    inplace=True,\n",
    ")\n",
    "\n",
    "first_date_fire_weather.head()\n"
   ]
  },
  {
   "cell_type": "markdown",
   "metadata": {},
   "source": [
    "Merge mean and original weather data"
   ]
  },
  {
   "cell_type": "code",
   "execution_count": 95,
   "metadata": {},
   "outputs": [],
   "source": [
    "first_date_fire_weather = first_date_fire_weather.merge(\n",
    "    ndf_mean, how=\"inner\", left_index=True, right_index=True\n",
    ")\n",
    "first_date_fire_weather = first_date_fire_weather.merge(\n",
    "    ndf_sum, how=\"inner\", left_index=True, right_index=True\n",
    ")\n"
   ]
  },
  {
   "cell_type": "code",
   "execution_count": 96,
   "metadata": {},
   "outputs": [
    {
     "data": {
      "text/plain": [
       "Index(['temp_2m', 'temp_2m_max', 'humidity', 'rain', 'wind_speed_2m',\n",
       "       'wind_speed_2m_max', 'wind_speed_10m', 'wind_speed_10m_max',\n",
       "       'surface_soil_wetness_5cm_below', 'surface_soil_wetness_to_bedrock',\n",
       "       'wind_speed_2m_mean', 'wind_speed_2m_max_mean', 'wind_speed_10m_mean',\n",
       "       'wind_speed_10m_max_mean', 'humidity_mean', 'temp_2m_mean', 'rain_sum'],\n",
       "      dtype='object')"
      ]
     },
     "execution_count": 96,
     "metadata": {},
     "output_type": "execute_result"
    }
   ],
   "source": [
    "first_date_fire_weather.columns"
   ]
  },
  {
   "cell_type": "markdown",
   "metadata": {},
   "source": [
    "Merge fire and with NASA weather data"
   ]
  },
  {
   "cell_type": "code",
   "execution_count": 97,
   "metadata": {},
   "outputs": [],
   "source": [
    "fdf.set_index('id', inplace=True)"
   ]
  },
  {
   "cell_type": "code",
   "execution_count": 98,
   "metadata": {},
   "outputs": [],
   "source": [
    "merged_df = fdf.merge(\n",
    "    first_date_fire_weather, how=\"left\", left_index=True, right_index=True\n",
    ")\n"
   ]
  },
  {
   "cell_type": "code",
   "execution_count": 99,
   "metadata": {},
   "outputs": [
    {
     "data": {
      "text/plain": [
       "X                                  0\n",
       "Y                                  0\n",
       "ContainmentDateTime                0\n",
       "ControlDateTime                    0\n",
       "DailyAcres                         0\n",
       "DiscoveryAcres                     0\n",
       "FireCause                          0\n",
       "FireDiscoveryDateTime              0\n",
       "IncidentTypeCategory               0\n",
       "IncidentTypeKind                   0\n",
       "InitialLatitude                    0\n",
       "InitialLongitude                   0\n",
       "IrwinID                            0\n",
       "LocalIncidentIdentifier            0\n",
       "POOCounty                          0\n",
       "POODispatchCenterID                0\n",
       "POOFips                            0\n",
       "POOState                           0\n",
       "UniqueFireIdentifier               0\n",
       "temp_2m                            4\n",
       "temp_2m_max                        4\n",
       "humidity                           4\n",
       "rain                               4\n",
       "wind_speed_2m                      4\n",
       "wind_speed_2m_max                  4\n",
       "wind_speed_10m                     4\n",
       "wind_speed_10m_max                 4\n",
       "surface_soil_wetness_5cm_below     4\n",
       "surface_soil_wetness_to_bedrock    4\n",
       "wind_speed_2m_mean                 4\n",
       "wind_speed_2m_max_mean             4\n",
       "wind_speed_10m_mean                4\n",
       "wind_speed_10m_max_mean            4\n",
       "humidity_mean                      4\n",
       "temp_2m_mean                       4\n",
       "rain_sum                           4\n",
       "dtype: int64"
      ]
     },
     "execution_count": 99,
     "metadata": {},
     "output_type": "execute_result"
    }
   ],
   "source": [
    "merged_df.isnull().sum()"
   ]
  },
  {
   "cell_type": "markdown",
   "metadata": {},
   "source": [
    "drop missing 4 rows"
   ]
  },
  {
   "cell_type": "code",
   "execution_count": 100,
   "metadata": {},
   "outputs": [],
   "source": [
    "merged_df.dropna(inplace=True)"
   ]
  },
  {
   "cell_type": "markdown",
   "metadata": {},
   "source": [
    "Lowercase col names"
   ]
  },
  {
   "cell_type": "code",
   "execution_count": 101,
   "metadata": {},
   "outputs": [],
   "source": [
    "merged_df.columns = merged_df.columns.str.lower()"
   ]
  },
  {
   "cell_type": "code",
   "execution_count": 102,
   "metadata": {},
   "outputs": [
    {
     "data": {
      "text/html": [
       "<div>\n",
       "<style scoped>\n",
       "    .dataframe tbody tr th:only-of-type {\n",
       "        vertical-align: middle;\n",
       "    }\n",
       "\n",
       "    .dataframe tbody tr th {\n",
       "        vertical-align: top;\n",
       "    }\n",
       "\n",
       "    .dataframe thead th {\n",
       "        text-align: right;\n",
       "    }\n",
       "</style>\n",
       "<table border=\"1\" class=\"dataframe\">\n",
       "  <thead>\n",
       "    <tr style=\"text-align: right;\">\n",
       "      <th></th>\n",
       "      <th>x</th>\n",
       "      <th>y</th>\n",
       "      <th>containmentdatetime</th>\n",
       "      <th>controldatetime</th>\n",
       "      <th>dailyacres</th>\n",
       "      <th>discoveryacres</th>\n",
       "      <th>firecause</th>\n",
       "      <th>firediscoverydatetime</th>\n",
       "      <th>incidenttypecategory</th>\n",
       "      <th>incidenttypekind</th>\n",
       "      <th>...</th>\n",
       "      <th>wind_speed_10m_max</th>\n",
       "      <th>surface_soil_wetness_5cm_below</th>\n",
       "      <th>surface_soil_wetness_to_bedrock</th>\n",
       "      <th>wind_speed_2m_mean</th>\n",
       "      <th>wind_speed_2m_max_mean</th>\n",
       "      <th>wind_speed_10m_mean</th>\n",
       "      <th>wind_speed_10m_max_mean</th>\n",
       "      <th>humidity_mean</th>\n",
       "      <th>temp_2m_mean</th>\n",
       "      <th>rain_sum</th>\n",
       "    </tr>\n",
       "    <tr>\n",
       "      <th>id</th>\n",
       "      <th></th>\n",
       "      <th></th>\n",
       "      <th></th>\n",
       "      <th></th>\n",
       "      <th></th>\n",
       "      <th></th>\n",
       "      <th></th>\n",
       "      <th></th>\n",
       "      <th></th>\n",
       "      <th></th>\n",
       "      <th></th>\n",
       "      <th></th>\n",
       "      <th></th>\n",
       "      <th></th>\n",
       "      <th></th>\n",
       "      <th></th>\n",
       "      <th></th>\n",
       "      <th></th>\n",
       "      <th></th>\n",
       "      <th></th>\n",
       "      <th></th>\n",
       "    </tr>\n",
       "  </thead>\n",
       "  <tbody>\n",
       "    <tr>\n",
       "      <th>0</th>\n",
       "      <td>-111.348611</td>\n",
       "      <td>33.195755</td>\n",
       "      <td>2020-07-23 05:29:59+00:00</td>\n",
       "      <td>2020-07-23 05:29:59+00:00</td>\n",
       "      <td>8.0</td>\n",
       "      <td>2.5</td>\n",
       "      <td>Human</td>\n",
       "      <td>2020-07-22 21:51:00+00:00</td>\n",
       "      <td>WF</td>\n",
       "      <td>FI</td>\n",
       "      <td>...</td>\n",
       "      <td>3.84</td>\n",
       "      <td>0.12</td>\n",
       "      <td>0.38</td>\n",
       "      <td>1.41</td>\n",
       "      <td>3.09</td>\n",
       "      <td>1.895</td>\n",
       "      <td>4.18</td>\n",
       "      <td>13.21</td>\n",
       "      <td>29.9</td>\n",
       "      <td>2.6</td>\n",
       "    </tr>\n",
       "  </tbody>\n",
       "</table>\n",
       "<p>1 rows × 36 columns</p>\n",
       "</div>"
      ],
      "text/plain": [
       "             x          y        containmentdatetime  \\\n",
       "id                                                     \n",
       "0  -111.348611  33.195755  2020-07-23 05:29:59+00:00   \n",
       "\n",
       "              controldatetime  dailyacres  discoveryacres firecause  \\\n",
       "id                                                                    \n",
       "0   2020-07-23 05:29:59+00:00         8.0             2.5     Human   \n",
       "\n",
       "        firediscoverydatetime incidenttypecategory incidenttypekind  ...  \\\n",
       "id                                                                   ...   \n",
       "0   2020-07-22 21:51:00+00:00                   WF               FI  ...   \n",
       "\n",
       "    wind_speed_10m_max  surface_soil_wetness_5cm_below  \\\n",
       "id                                                       \n",
       "0                 3.84                            0.12   \n",
       "\n",
       "   surface_soil_wetness_to_bedrock  wind_speed_2m_mean wind_speed_2m_max_mean  \\\n",
       "id                                                                              \n",
       "0                             0.38                1.41                   3.09   \n",
       "\n",
       "   wind_speed_10m_mean  wind_speed_10m_max_mean humidity_mean temp_2m_mean  \\\n",
       "id                                                                           \n",
       "0                1.895                     4.18         13.21         29.9   \n",
       "\n",
       "    rain_sum  \n",
       "id            \n",
       "0        2.6  \n",
       "\n",
       "[1 rows x 36 columns]"
      ]
     },
     "execution_count": 102,
     "metadata": {},
     "output_type": "execute_result"
    }
   ],
   "source": [
    "merged_df.head(1)"
   ]
  },
  {
   "cell_type": "markdown",
   "metadata": {},
   "source": [
    "----\n",
    "Drop invalid lat long\n"
   ]
  },
  {
   "cell_type": "code",
   "execution_count": 103,
   "metadata": {},
   "outputs": [],
   "source": [
    "wrong_lat_long = [\n",
    "    748,\n",
    "    967,\n",
    "    3462,\n",
    "    3501,\n",
    "    4010,\n",
    "    5067,\n",
    "    5148,\n",
    "    5642,\n",
    "    6740,\n",
    "    7809,\n",
    "    9293,\n",
    "    10254,\n",
    "    11920,\n",
    "    13328,\n",
    "    13802,\n",
    "    15195,\n",
    "    15601,\n",
    "    16424,\n",
    "    17029,\n",
    "    19384,\n",
    "    19768,\n",
    "    20767,\n",
    "]\n",
    "merged_df = merged_df[~merged_df.index.isin(wrong_lat_long)]\n"
   ]
  },
  {
   "cell_type": "code",
   "execution_count": 104,
   "metadata": {},
   "outputs": [],
   "source": [
    "merged_df.reset_index().to_csv(\"../../data/processed/wildfire_weather.csv\", index=False)\n"
   ]
  },
  {
   "cell_type": "code",
   "execution_count": 105,
   "metadata": {},
   "outputs": [
    {
     "data": {
      "text/plain": [
       "(21518, 36)"
      ]
     },
     "execution_count": 105,
     "metadata": {},
     "output_type": "execute_result"
    }
   ],
   "source": [
    "merged_df.shape"
   ]
  },
  {
   "cell_type": "markdown",
   "metadata": {},
   "source": [
    "----\n",
    "Add extra dataset"
   ]
  },
  {
   "cell_type": "code",
   "execution_count": 106,
   "metadata": {},
   "outputs": [
    {
     "data": {
      "text/html": [
       "<div>\n",
       "<style scoped>\n",
       "    .dataframe tbody tr th:only-of-type {\n",
       "        vertical-align: middle;\n",
       "    }\n",
       "\n",
       "    .dataframe tbody tr th {\n",
       "        vertical-align: top;\n",
       "    }\n",
       "\n",
       "    .dataframe thead th {\n",
       "        text-align: right;\n",
       "    }\n",
       "</style>\n",
       "<table border=\"1\" class=\"dataframe\">\n",
       "  <thead>\n",
       "    <tr style=\"text-align: right;\">\n",
       "      <th></th>\n",
       "      <th>YEAR</th>\n",
       "      <th>MO</th>\n",
       "      <th>DY</th>\n",
       "      <th>T2MDEW</th>\n",
       "      <th>T2MWET</th>\n",
       "      <th>RH2M</th>\n",
       "      <th>CLRSKY_SFC_PAR_TOT</th>\n",
       "      <th>ALLSKY_SFC_PAR_TOT</th>\n",
       "      <th>ALLSKY_SFC_UV_INDEX</th>\n",
       "      <th>LAT</th>\n",
       "      <th>LONG</th>\n",
       "      <th>ID</th>\n",
       "    </tr>\n",
       "  </thead>\n",
       "  <tbody>\n",
       "    <tr>\n",
       "      <th>0</th>\n",
       "      <td>2020</td>\n",
       "      <td>7</td>\n",
       "      <td>19</td>\n",
       "      <td>3.02</td>\n",
       "      <td>13.91</td>\n",
       "      <td>27.31</td>\n",
       "      <td>155.74</td>\n",
       "      <td>135.5</td>\n",
       "      <td>2.55</td>\n",
       "      <td>40.602563</td>\n",
       "      <td>-115.719777</td>\n",
       "      <td>1</td>\n",
       "    </tr>\n",
       "  </tbody>\n",
       "</table>\n",
       "</div>"
      ],
      "text/plain": [
       "   YEAR  MO  DY  T2MDEW  T2MWET   RH2M  CLRSKY_SFC_PAR_TOT  \\\n",
       "0  2020   7  19    3.02   13.91  27.31              155.74   \n",
       "\n",
       "   ALLSKY_SFC_PAR_TOT  ALLSKY_SFC_UV_INDEX        LAT        LONG  ID  \n",
       "0               135.5                 2.55  40.602563 -115.719777   1  "
      ]
     },
     "execution_count": 106,
     "metadata": {},
     "output_type": "execute_result"
    }
   ],
   "source": [
    "extra_weather = pd.read_csv('../../data/raw/nasa_weather_extra.csv')\n",
    "\n",
    "extra_weather.head(1)"
   ]
  },
  {
   "cell_type": "code",
   "execution_count": 107,
   "metadata": {},
   "outputs": [],
   "source": [
    "extra_weather.drop(columns=['YEAR', 'MO', 'DY', 'LAT', 'LONG'], inplace=True)"
   ]
  },
  {
   "cell_type": "code",
   "execution_count": 108,
   "metadata": {},
   "outputs": [],
   "source": [
    "extra_weather.drop_duplicates(subset=\"ID\", keep='first', inplace=True)"
   ]
  },
  {
   "cell_type": "code",
   "execution_count": 109,
   "metadata": {},
   "outputs": [
    {
     "data": {
      "text/html": [
       "<div>\n",
       "<style scoped>\n",
       "    .dataframe tbody tr th:only-of-type {\n",
       "        vertical-align: middle;\n",
       "    }\n",
       "\n",
       "    .dataframe tbody tr th {\n",
       "        vertical-align: top;\n",
       "    }\n",
       "\n",
       "    .dataframe thead th {\n",
       "        text-align: right;\n",
       "    }\n",
       "</style>\n",
       "<table border=\"1\" class=\"dataframe\">\n",
       "  <thead>\n",
       "    <tr style=\"text-align: right;\">\n",
       "      <th></th>\n",
       "      <th>dew_frost_point_2m</th>\n",
       "      <th>wet_bulb_temp_2m</th>\n",
       "      <th>relative_humidity</th>\n",
       "      <th>clear_sky_photosynthetically_active_radiation</th>\n",
       "      <th>all_sky_photosynthetically_active_radiation</th>\n",
       "      <th>all_sky_surface_uv_index</th>\n",
       "      <th>id</th>\n",
       "    </tr>\n",
       "  </thead>\n",
       "  <tbody>\n",
       "    <tr>\n",
       "      <th>0</th>\n",
       "      <td>3.02</td>\n",
       "      <td>13.91</td>\n",
       "      <td>27.31</td>\n",
       "      <td>155.74</td>\n",
       "      <td>135.5</td>\n",
       "      <td>2.55</td>\n",
       "      <td>1</td>\n",
       "    </tr>\n",
       "  </tbody>\n",
       "</table>\n",
       "</div>"
      ],
      "text/plain": [
       "   dew_frost_point_2m  wet_bulb_temp_2m  relative_humidity  \\\n",
       "0                3.02             13.91              27.31   \n",
       "\n",
       "   clear_sky_photosynthetically_active_radiation  \\\n",
       "0                                         155.74   \n",
       "\n",
       "   all_sky_photosynthetically_active_radiation  all_sky_surface_uv_index  id  \n",
       "0                                        135.5                      2.55   1  "
      ]
     },
     "execution_count": 109,
     "metadata": {},
     "output_type": "execute_result"
    }
   ],
   "source": [
    "extra_weather.rename(columns={\n",
    "  'T2MDEW': 'dew_frost_point_2m',\n",
    "  'T2MWET': 'wet_bulb_temp_2m',\n",
    "  'RH2M': 'relative_humidity',\n",
    "  'CLRSKY_SFC_PAR_TOT': 'clear_sky_photosynthetically_active_radiation',\n",
    "  'ALLSKY_SFC_PAR_TOT': 'all_sky_photosynthetically_active_radiation',\n",
    "  'ALLSKY_SFC_UV_INDEX': 'all_sky_surface_uv_index',\n",
    "  'ID': 'id'\n",
    "}, inplace=True)\n",
    "\n",
    "extra_weather.head(1)"
   ]
  },
  {
   "cell_type": "code",
   "execution_count": 110,
   "metadata": {},
   "outputs": [],
   "source": [
    "extra_weather.set_index('id', inplace=True)"
   ]
  },
  {
   "cell_type": "code",
   "execution_count": 111,
   "metadata": {},
   "outputs": [
    {
     "data": {
      "text/plain": [
       "(2858, 6)"
      ]
     },
     "execution_count": 111,
     "metadata": {},
     "output_type": "execute_result"
    }
   ],
   "source": [
    "extra_weather.shape"
   ]
  },
  {
   "cell_type": "code",
   "execution_count": 112,
   "metadata": {},
   "outputs": [
    {
     "data": {
      "text/html": [
       "<div>\n",
       "<style scoped>\n",
       "    .dataframe tbody tr th:only-of-type {\n",
       "        vertical-align: middle;\n",
       "    }\n",
       "\n",
       "    .dataframe tbody tr th {\n",
       "        vertical-align: top;\n",
       "    }\n",
       "\n",
       "    .dataframe thead th {\n",
       "        text-align: right;\n",
       "    }\n",
       "</style>\n",
       "<table border=\"1\" class=\"dataframe\">\n",
       "  <thead>\n",
       "    <tr style=\"text-align: right;\">\n",
       "      <th></th>\n",
       "      <th>x</th>\n",
       "      <th>y</th>\n",
       "      <th>containmentdatetime</th>\n",
       "      <th>controldatetime</th>\n",
       "      <th>dailyacres</th>\n",
       "      <th>discoveryacres</th>\n",
       "      <th>firecause</th>\n",
       "      <th>firediscoverydatetime</th>\n",
       "      <th>incidenttypecategory</th>\n",
       "      <th>incidenttypekind</th>\n",
       "      <th>...</th>\n",
       "      <th>wind_speed_10m_max</th>\n",
       "      <th>surface_soil_wetness_5cm_below</th>\n",
       "      <th>surface_soil_wetness_to_bedrock</th>\n",
       "      <th>wind_speed_2m_mean</th>\n",
       "      <th>wind_speed_2m_max_mean</th>\n",
       "      <th>wind_speed_10m_mean</th>\n",
       "      <th>wind_speed_10m_max_mean</th>\n",
       "      <th>humidity_mean</th>\n",
       "      <th>temp_2m_mean</th>\n",
       "      <th>rain_sum</th>\n",
       "    </tr>\n",
       "    <tr>\n",
       "      <th>id</th>\n",
       "      <th></th>\n",
       "      <th></th>\n",
       "      <th></th>\n",
       "      <th></th>\n",
       "      <th></th>\n",
       "      <th></th>\n",
       "      <th></th>\n",
       "      <th></th>\n",
       "      <th></th>\n",
       "      <th></th>\n",
       "      <th></th>\n",
       "      <th></th>\n",
       "      <th></th>\n",
       "      <th></th>\n",
       "      <th></th>\n",
       "      <th></th>\n",
       "      <th></th>\n",
       "      <th></th>\n",
       "      <th></th>\n",
       "      <th></th>\n",
       "      <th></th>\n",
       "    </tr>\n",
       "  </thead>\n",
       "  <tbody>\n",
       "    <tr>\n",
       "      <th>0</th>\n",
       "      <td>-111.348611</td>\n",
       "      <td>33.195755</td>\n",
       "      <td>2020-07-23 05:29:59+00:00</td>\n",
       "      <td>2020-07-23 05:29:59+00:00</td>\n",
       "      <td>8.0</td>\n",
       "      <td>2.5</td>\n",
       "      <td>Human</td>\n",
       "      <td>2020-07-22 21:51:00+00:00</td>\n",
       "      <td>WF</td>\n",
       "      <td>FI</td>\n",
       "      <td>...</td>\n",
       "      <td>3.84</td>\n",
       "      <td>0.12</td>\n",
       "      <td>0.38</td>\n",
       "      <td>1.41</td>\n",
       "      <td>3.09</td>\n",
       "      <td>1.895</td>\n",
       "      <td>4.18</td>\n",
       "      <td>13.21</td>\n",
       "      <td>29.9</td>\n",
       "      <td>2.6</td>\n",
       "    </tr>\n",
       "  </tbody>\n",
       "</table>\n",
       "<p>1 rows × 36 columns</p>\n",
       "</div>"
      ],
      "text/plain": [
       "             x          y        containmentdatetime  \\\n",
       "id                                                     \n",
       "0  -111.348611  33.195755  2020-07-23 05:29:59+00:00   \n",
       "\n",
       "              controldatetime  dailyacres  discoveryacres firecause  \\\n",
       "id                                                                    \n",
       "0   2020-07-23 05:29:59+00:00         8.0             2.5     Human   \n",
       "\n",
       "        firediscoverydatetime incidenttypecategory incidenttypekind  ...  \\\n",
       "id                                                                   ...   \n",
       "0   2020-07-22 21:51:00+00:00                   WF               FI  ...   \n",
       "\n",
       "    wind_speed_10m_max  surface_soil_wetness_5cm_below  \\\n",
       "id                                                       \n",
       "0                 3.84                            0.12   \n",
       "\n",
       "   surface_soil_wetness_to_bedrock  wind_speed_2m_mean wind_speed_2m_max_mean  \\\n",
       "id                                                                              \n",
       "0                             0.38                1.41                   3.09   \n",
       "\n",
       "   wind_speed_10m_mean  wind_speed_10m_max_mean humidity_mean temp_2m_mean  \\\n",
       "id                                                                           \n",
       "0                1.895                     4.18         13.21         29.9   \n",
       "\n",
       "    rain_sum  \n",
       "id            \n",
       "0        2.6  \n",
       "\n",
       "[1 rows x 36 columns]"
      ]
     },
     "execution_count": 112,
     "metadata": {},
     "output_type": "execute_result"
    }
   ],
   "source": [
    "merged_df.head(1)"
   ]
  },
  {
   "cell_type": "code",
   "execution_count": 113,
   "metadata": {},
   "outputs": [],
   "source": [
    "merged_df = merged_df.merge(extra_weather, how='left', left_index=True, right_index=True)"
   ]
  },
  {
   "cell_type": "code",
   "execution_count": 114,
   "metadata": {},
   "outputs": [],
   "source": [
    "merged_df.dropna(inplace=True)"
   ]
  },
  {
   "cell_type": "code",
   "execution_count": 115,
   "metadata": {},
   "outputs": [
    {
     "data": {
      "text/plain": [
       "(2850, 42)"
      ]
     },
     "execution_count": 115,
     "metadata": {},
     "output_type": "execute_result"
    }
   ],
   "source": [
    "merged_df.shape"
   ]
  },
  {
   "cell_type": "code",
   "execution_count": 116,
   "metadata": {},
   "outputs": [
    {
     "data": {
      "text/plain": [
       "Index(['x', 'y', 'containmentdatetime', 'controldatetime', 'dailyacres',\n",
       "       'discoveryacres', 'firecause', 'firediscoverydatetime',\n",
       "       'incidenttypecategory', 'incidenttypekind', 'initiallatitude',\n",
       "       'initiallongitude', 'irwinid', 'localincidentidentifier', 'poocounty',\n",
       "       'poodispatchcenterid', 'poofips', 'poostate', 'uniquefireidentifier',\n",
       "       'temp_2m', 'temp_2m_max', 'humidity', 'rain', 'wind_speed_2m',\n",
       "       'wind_speed_2m_max', 'wind_speed_10m', 'wind_speed_10m_max',\n",
       "       'surface_soil_wetness_5cm_below', 'surface_soil_wetness_to_bedrock',\n",
       "       'wind_speed_2m_mean', 'wind_speed_2m_max_mean', 'wind_speed_10m_mean',\n",
       "       'wind_speed_10m_max_mean', 'humidity_mean', 'temp_2m_mean', 'rain_sum',\n",
       "       'dew_frost_point_2m', 'wet_bulb_temp_2m', 'relative_humidity',\n",
       "       'clear_sky_photosynthetically_active_radiation',\n",
       "       'all_sky_photosynthetically_active_radiation',\n",
       "       'all_sky_surface_uv_index'],\n",
       "      dtype='object')"
      ]
     },
     "execution_count": 116,
     "metadata": {},
     "output_type": "execute_result"
    }
   ],
   "source": [
    "merged_df.columns"
   ]
  },
  {
   "cell_type": "code",
   "execution_count": 117,
   "metadata": {},
   "outputs": [
    {
     "data": {
      "text/plain": [
       "x                                                0\n",
       "y                                                0\n",
       "containmentdatetime                              0\n",
       "controldatetime                                  0\n",
       "dailyacres                                       0\n",
       "discoveryacres                                   0\n",
       "firecause                                        0\n",
       "firediscoverydatetime                            0\n",
       "incidenttypecategory                             0\n",
       "incidenttypekind                                 0\n",
       "initiallatitude                                  0\n",
       "initiallongitude                                 0\n",
       "irwinid                                          0\n",
       "localincidentidentifier                          0\n",
       "poocounty                                        0\n",
       "poodispatchcenterid                              0\n",
       "poofips                                          0\n",
       "poostate                                         0\n",
       "uniquefireidentifier                             0\n",
       "temp_2m                                          0\n",
       "temp_2m_max                                      0\n",
       "humidity                                         0\n",
       "rain                                             0\n",
       "wind_speed_2m                                    0\n",
       "wind_speed_2m_max                                0\n",
       "wind_speed_10m                                   0\n",
       "wind_speed_10m_max                               0\n",
       "surface_soil_wetness_5cm_below                   0\n",
       "surface_soil_wetness_to_bedrock                  0\n",
       "wind_speed_2m_mean                               0\n",
       "wind_speed_2m_max_mean                           0\n",
       "wind_speed_10m_mean                              0\n",
       "wind_speed_10m_max_mean                          0\n",
       "humidity_mean                                    0\n",
       "temp_2m_mean                                     0\n",
       "rain_sum                                         0\n",
       "dew_frost_point_2m                               0\n",
       "wet_bulb_temp_2m                                 0\n",
       "relative_humidity                                0\n",
       "clear_sky_photosynthetically_active_radiation    0\n",
       "all_sky_photosynthetically_active_radiation      0\n",
       "all_sky_surface_uv_index                         0\n",
       "dtype: int64"
      ]
     },
     "execution_count": 117,
     "metadata": {},
     "output_type": "execute_result"
    }
   ],
   "source": [
    "merged_df.isna().sum()"
   ]
  },
  {
   "cell_type": "markdown",
   "metadata": {},
   "source": [
    "Drop -999.00"
   ]
  },
  {
   "cell_type": "code",
   "execution_count": 118,
   "metadata": {},
   "outputs": [],
   "source": [
    "merged_df = merged_df[(merged_df != -999.00).all(axis=1)]"
   ]
  },
  {
   "cell_type": "code",
   "execution_count": 119,
   "metadata": {},
   "outputs": [
    {
     "data": {
      "text/plain": [
       "(2109, 42)"
      ]
     },
     "execution_count": 119,
     "metadata": {},
     "output_type": "execute_result"
    }
   ],
   "source": [
    "merged_df.shape"
   ]
  },
  {
   "cell_type": "code",
   "execution_count": 120,
   "metadata": {},
   "outputs": [],
   "source": [
    "merged_df.reset_index().to_csv('../../data/cleaned/bigger_wildfire_weather_extra.csv', index=False)"
   ]
  },
  {
   "cell_type": "markdown",
   "metadata": {},
   "source": [
    "----\n",
    "Merge big fire 180 days dataset"
   ]
  },
  {
   "cell_type": "code",
   "execution_count": 121,
   "metadata": {},
   "outputs": [
    {
     "data": {
      "text/html": [
       "<div>\n",
       "<style scoped>\n",
       "    .dataframe tbody tr th:only-of-type {\n",
       "        vertical-align: middle;\n",
       "    }\n",
       "\n",
       "    .dataframe tbody tr th {\n",
       "        vertical-align: top;\n",
       "    }\n",
       "\n",
       "    .dataframe thead th {\n",
       "        text-align: right;\n",
       "    }\n",
       "</style>\n",
       "<table border=\"1\" class=\"dataframe\">\n",
       "  <thead>\n",
       "    <tr style=\"text-align: right;\">\n",
       "      <th></th>\n",
       "      <th>ID</th>\n",
       "      <th>sum_rain</th>\n",
       "      <th>sum_snow</th>\n",
       "    </tr>\n",
       "  </thead>\n",
       "  <tbody>\n",
       "    <tr>\n",
       "      <th>0</th>\n",
       "      <td>1</td>\n",
       "      <td>84.37</td>\n",
       "      <td>1.32</td>\n",
       "    </tr>\n",
       "  </tbody>\n",
       "</table>\n",
       "</div>"
      ],
      "text/plain": [
       "   ID  sum_rain  sum_snow\n",
       "0   1     84.37      1.32"
      ]
     },
     "execution_count": 121,
     "metadata": {},
     "output_type": "execute_result"
    }
   ],
   "source": [
    "prec_180d = pd.read_csv('../../data/processed/precipitation_sum_180d.csv')\n",
    "prec_180d.head(1)"
   ]
  },
  {
   "cell_type": "code",
   "execution_count": 122,
   "metadata": {},
   "outputs": [],
   "source": [
    "prec_180d.rename(columns={'ID': 'id'}, inplace=True)\n",
    "prec_180d.set_index('id', inplace=True)"
   ]
  },
  {
   "cell_type": "code",
   "execution_count": 123,
   "metadata": {},
   "outputs": [],
   "source": [
    "merged_df = merged_df.merge(prec_180d, left_index=True, right_index=True)"
   ]
  },
  {
   "cell_type": "code",
   "execution_count": 124,
   "metadata": {},
   "outputs": [
    {
     "data": {
      "text/html": [
       "<div>\n",
       "<style scoped>\n",
       "    .dataframe tbody tr th:only-of-type {\n",
       "        vertical-align: middle;\n",
       "    }\n",
       "\n",
       "    .dataframe tbody tr th {\n",
       "        vertical-align: top;\n",
       "    }\n",
       "\n",
       "    .dataframe thead th {\n",
       "        text-align: right;\n",
       "    }\n",
       "</style>\n",
       "<table border=\"1\" class=\"dataframe\">\n",
       "  <thead>\n",
       "    <tr style=\"text-align: right;\">\n",
       "      <th></th>\n",
       "      <th>x</th>\n",
       "      <th>y</th>\n",
       "      <th>containmentdatetime</th>\n",
       "      <th>controldatetime</th>\n",
       "      <th>dailyacres</th>\n",
       "      <th>discoveryacres</th>\n",
       "      <th>firecause</th>\n",
       "      <th>firediscoverydatetime</th>\n",
       "      <th>incidenttypecategory</th>\n",
       "      <th>incidenttypekind</th>\n",
       "      <th>...</th>\n",
       "      <th>temp_2m_mean</th>\n",
       "      <th>rain_sum</th>\n",
       "      <th>dew_frost_point_2m</th>\n",
       "      <th>wet_bulb_temp_2m</th>\n",
       "      <th>relative_humidity</th>\n",
       "      <th>clear_sky_photosynthetically_active_radiation</th>\n",
       "      <th>all_sky_photosynthetically_active_radiation</th>\n",
       "      <th>all_sky_surface_uv_index</th>\n",
       "      <th>sum_rain</th>\n",
       "      <th>sum_snow</th>\n",
       "    </tr>\n",
       "    <tr>\n",
       "      <th>id</th>\n",
       "      <th></th>\n",
       "      <th></th>\n",
       "      <th></th>\n",
       "      <th></th>\n",
       "      <th></th>\n",
       "      <th></th>\n",
       "      <th></th>\n",
       "      <th></th>\n",
       "      <th></th>\n",
       "      <th></th>\n",
       "      <th></th>\n",
       "      <th></th>\n",
       "      <th></th>\n",
       "      <th></th>\n",
       "      <th></th>\n",
       "      <th></th>\n",
       "      <th></th>\n",
       "      <th></th>\n",
       "      <th></th>\n",
       "      <th></th>\n",
       "      <th></th>\n",
       "    </tr>\n",
       "  </thead>\n",
       "  <tbody>\n",
       "    <tr>\n",
       "      <th>1</th>\n",
       "      <td>-115.748812</td>\n",
       "      <td>40.617506</td>\n",
       "      <td>2020-08-03 23:00:00+00:00</td>\n",
       "      <td>2020-09-02 15:00:00+00:00</td>\n",
       "      <td>5985.90</td>\n",
       "      <td>5.0</td>\n",
       "      <td>Natural</td>\n",
       "      <td>2020-07-19 23:00:00+00:00</td>\n",
       "      <td>WF</td>\n",
       "      <td>FI</td>\n",
       "      <td>...</td>\n",
       "      <td>23.396304</td>\n",
       "      <td>12.62</td>\n",
       "      <td>3.02</td>\n",
       "      <td>13.91</td>\n",
       "      <td>27.31</td>\n",
       "      <td>155.74</td>\n",
       "      <td>135.50</td>\n",
       "      <td>2.55</td>\n",
       "      <td>84.37</td>\n",
       "      <td>1.32</td>\n",
       "    </tr>\n",
       "    <tr>\n",
       "      <th>5</th>\n",
       "      <td>-113.751212</td>\n",
       "      <td>35.515265</td>\n",
       "      <td>2020-10-17 21:59:59+00:00</td>\n",
       "      <td>2020-10-19 15:00:00+00:00</td>\n",
       "      <td>135.00</td>\n",
       "      <td>1.0</td>\n",
       "      <td>Human</td>\n",
       "      <td>2020-10-15 18:17:00+00:00</td>\n",
       "      <td>WF</td>\n",
       "      <td>FI</td>\n",
       "      <td>...</td>\n",
       "      <td>21.522000</td>\n",
       "      <td>0.00</td>\n",
       "      <td>-6.50</td>\n",
       "      <td>8.11</td>\n",
       "      <td>13.62</td>\n",
       "      <td>97.43</td>\n",
       "      <td>97.50</td>\n",
       "      <td>1.37</td>\n",
       "      <td>10.54</td>\n",
       "      <td>0.00</td>\n",
       "    </tr>\n",
       "    <tr>\n",
       "      <th>10</th>\n",
       "      <td>-120.073602</td>\n",
       "      <td>39.769989</td>\n",
       "      <td>2020-06-24 19:02:00+00:00</td>\n",
       "      <td>2020-06-25 16:05:59+00:00</td>\n",
       "      <td>132.00</td>\n",
       "      <td>15.0</td>\n",
       "      <td>Natural</td>\n",
       "      <td>2020-06-24 00:17:59+00:00</td>\n",
       "      <td>WF</td>\n",
       "      <td>FI</td>\n",
       "      <td>...</td>\n",
       "      <td>25.600000</td>\n",
       "      <td>0.16</td>\n",
       "      <td>7.16</td>\n",
       "      <td>16.69</td>\n",
       "      <td>33.44</td>\n",
       "      <td>160.50</td>\n",
       "      <td>160.38</td>\n",
       "      <td>2.82</td>\n",
       "      <td>68.55</td>\n",
       "      <td>0.66</td>\n",
       "    </tr>\n",
       "    <tr>\n",
       "      <th>12</th>\n",
       "      <td>-120.772613</td>\n",
       "      <td>39.361785</td>\n",
       "      <td>2021-01-20 03:29:00+00:00</td>\n",
       "      <td>2021-01-21 00:57:00+00:00</td>\n",
       "      <td>1.88</td>\n",
       "      <td>1.0</td>\n",
       "      <td>Human</td>\n",
       "      <td>2021-01-19 19:40:00+00:00</td>\n",
       "      <td>WF</td>\n",
       "      <td>FI</td>\n",
       "      <td>...</td>\n",
       "      <td>1.500000</td>\n",
       "      <td>0.00</td>\n",
       "      <td>-9.35</td>\n",
       "      <td>-4.95</td>\n",
       "      <td>51.38</td>\n",
       "      <td>59.11</td>\n",
       "      <td>57.91</td>\n",
       "      <td>0.37</td>\n",
       "      <td>700.02</td>\n",
       "      <td>14.17</td>\n",
       "    </tr>\n",
       "    <tr>\n",
       "      <th>15</th>\n",
       "      <td>-122.974081</td>\n",
       "      <td>41.825916</td>\n",
       "      <td>2020-07-23 17:00:00+00:00</td>\n",
       "      <td>2020-07-26 15:00:00+00:00</td>\n",
       "      <td>13.00</td>\n",
       "      <td>0.1</td>\n",
       "      <td>Human</td>\n",
       "      <td>2020-07-22 19:09:59+00:00</td>\n",
       "      <td>WF</td>\n",
       "      <td>FI</td>\n",
       "      <td>...</td>\n",
       "      <td>21.058000</td>\n",
       "      <td>1.61</td>\n",
       "      <td>8.76</td>\n",
       "      <td>15.53</td>\n",
       "      <td>48.62</td>\n",
       "      <td>142.94</td>\n",
       "      <td>114.08</td>\n",
       "      <td>1.96</td>\n",
       "      <td>295.31</td>\n",
       "      <td>0.66</td>\n",
       "    </tr>\n",
       "  </tbody>\n",
       "</table>\n",
       "<p>5 rows × 44 columns</p>\n",
       "</div>"
      ],
      "text/plain": [
       "             x          y        containmentdatetime  \\\n",
       "id                                                     \n",
       "1  -115.748812  40.617506  2020-08-03 23:00:00+00:00   \n",
       "5  -113.751212  35.515265  2020-10-17 21:59:59+00:00   \n",
       "10 -120.073602  39.769989  2020-06-24 19:02:00+00:00   \n",
       "12 -120.772613  39.361785  2021-01-20 03:29:00+00:00   \n",
       "15 -122.974081  41.825916  2020-07-23 17:00:00+00:00   \n",
       "\n",
       "              controldatetime  dailyacres  discoveryacres firecause  \\\n",
       "id                                                                    \n",
       "1   2020-09-02 15:00:00+00:00     5985.90             5.0   Natural   \n",
       "5   2020-10-19 15:00:00+00:00      135.00             1.0     Human   \n",
       "10  2020-06-25 16:05:59+00:00      132.00            15.0   Natural   \n",
       "12  2021-01-21 00:57:00+00:00        1.88             1.0     Human   \n",
       "15  2020-07-26 15:00:00+00:00       13.00             0.1     Human   \n",
       "\n",
       "        firediscoverydatetime incidenttypecategory incidenttypekind  ...  \\\n",
       "id                                                                   ...   \n",
       "1   2020-07-19 23:00:00+00:00                   WF               FI  ...   \n",
       "5   2020-10-15 18:17:00+00:00                   WF               FI  ...   \n",
       "10  2020-06-24 00:17:59+00:00                   WF               FI  ...   \n",
       "12  2021-01-19 19:40:00+00:00                   WF               FI  ...   \n",
       "15  2020-07-22 19:09:59+00:00                   WF               FI  ...   \n",
       "\n",
       "    temp_2m_mean  rain_sum dew_frost_point_2m  wet_bulb_temp_2m  \\\n",
       "id                                                                \n",
       "1      23.396304     12.62               3.02             13.91   \n",
       "5      21.522000      0.00              -6.50              8.11   \n",
       "10     25.600000      0.16               7.16             16.69   \n",
       "12      1.500000      0.00              -9.35             -4.95   \n",
       "15     21.058000      1.61               8.76             15.53   \n",
       "\n",
       "   relative_humidity clear_sky_photosynthetically_active_radiation  \\\n",
       "id                                                                   \n",
       "1              27.31                                        155.74   \n",
       "5              13.62                                         97.43   \n",
       "10             33.44                                        160.50   \n",
       "12             51.38                                         59.11   \n",
       "15             48.62                                        142.94   \n",
       "\n",
       "    all_sky_photosynthetically_active_radiation all_sky_surface_uv_index  \\\n",
       "id                                                                         \n",
       "1                                        135.50                     2.55   \n",
       "5                                         97.50                     1.37   \n",
       "10                                       160.38                     2.82   \n",
       "12                                        57.91                     0.37   \n",
       "15                                       114.08                     1.96   \n",
       "\n",
       "   sum_rain  sum_snow  \n",
       "id                     \n",
       "1     84.37      1.32  \n",
       "5     10.54      0.00  \n",
       "10    68.55      0.66  \n",
       "12   700.02     14.17  \n",
       "15   295.31      0.66  \n",
       "\n",
       "[5 rows x 44 columns]"
      ]
     },
     "execution_count": 124,
     "metadata": {},
     "output_type": "execute_result"
    }
   ],
   "source": [
    "merged_df.head()"
   ]
  },
  {
   "cell_type": "code",
   "execution_count": 125,
   "metadata": {},
   "outputs": [],
   "source": [
    "merged_df.reset_index().to_csv('../../data/processed/bigger_wildfire_weather_extra_180d.csv', index=False)"
   ]
  }
 ],
 "metadata": {
  "kernelspec": {
   "display_name": "Python 3 (ipykernel)",
   "language": "python",
   "name": "python3"
  },
  "language_info": {
   "codemirror_mode": {
    "name": "ipython",
    "version": 3
   },
   "file_extension": ".py",
   "mimetype": "text/x-python",
   "name": "python",
   "nbconvert_exporter": "python",
   "pygments_lexer": "ipython3",
   "version": "3.9.13"
  },
  "vscode": {
   "interpreter": {
    "hash": "7af3ebbd7de8183e54c3a867989fd0d9f9e8343647e0895fccfd06c308b7a095"
   }
  }
 },
 "nbformat": 4,
 "nbformat_minor": 4
}
