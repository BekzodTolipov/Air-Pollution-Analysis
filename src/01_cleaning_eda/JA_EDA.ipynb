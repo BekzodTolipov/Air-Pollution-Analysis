{
 "cells": [
  {
   "cell_type": "code",
   "execution_count": 20,
   "id": "31bcc066-1078-4a26-a1bf-cc9a6ef6a044",
   "metadata": {},
   "outputs": [],
   "source": [
    "import pandas as pd\n",
    "import numpy as np\n",
    "import matplotlib.pyplot as plt\n",
    "import seaborn as sns"
   ]
  },
  {
   "cell_type": "code",
   "execution_count": 21,
   "id": "d045c265-498f-4592-8302-afc5d788bc82",
   "metadata": {},
   "outputs": [],
   "source": [
    "df = pd.read_csv('../data/processed/cleaned_dataset.csv')"
   ]
  },
  {
   "cell_type": "code",
   "execution_count": 22,
   "id": "7feb0b49-efde-44b4-abbf-6d05e10d3581",
   "metadata": {},
   "outputs": [
    {
     "data": {
      "text/plain": [
       "(21541, 19)"
      ]
     },
     "execution_count": 22,
     "metadata": {},
     "output_type": "execute_result"
    }
   ],
   "source": [
    "df.shape"
   ]
  },
  {
   "cell_type": "code",
   "execution_count": 3,
   "id": "808b8170-65d0-41a3-b33a-b349cacf152c",
   "metadata": {},
   "outputs": [
    {
     "data": {
      "text/html": [
       "<div>\n",
       "<style scoped>\n",
       "    .dataframe tbody tr th:only-of-type {\n",
       "        vertical-align: middle;\n",
       "    }\n",
       "\n",
       "    .dataframe tbody tr th {\n",
       "        vertical-align: top;\n",
       "    }\n",
       "\n",
       "    .dataframe thead th {\n",
       "        text-align: right;\n",
       "    }\n",
       "</style>\n",
       "<table border=\"1\" class=\"dataframe\">\n",
       "  <thead>\n",
       "    <tr style=\"text-align: right;\">\n",
       "      <th></th>\n",
       "      <th>X</th>\n",
       "      <th>Y</th>\n",
       "      <th>ContainmentDateTime</th>\n",
       "      <th>ControlDateTime</th>\n",
       "      <th>DailyAcres</th>\n",
       "      <th>DiscoveryAcres</th>\n",
       "      <th>FireCause</th>\n",
       "      <th>FireDiscoveryDateTime</th>\n",
       "      <th>IncidentTypeCategory</th>\n",
       "      <th>IncidentTypeKind</th>\n",
       "      <th>InitialLatitude</th>\n",
       "      <th>InitialLongitude</th>\n",
       "      <th>IrwinID</th>\n",
       "      <th>LocalIncidentIdentifier</th>\n",
       "      <th>POOCounty</th>\n",
       "      <th>POODispatchCenterID</th>\n",
       "      <th>POOFips</th>\n",
       "      <th>POOState</th>\n",
       "      <th>UniqueFireIdentifier</th>\n",
       "    </tr>\n",
       "  </thead>\n",
       "  <tbody>\n",
       "    <tr>\n",
       "      <th>0</th>\n",
       "      <td>-111.348611</td>\n",
       "      <td>33.195755</td>\n",
       "      <td>2020-07-23 05:29:59+00:00</td>\n",
       "      <td>2020-07-23 05:29:59+00:00</td>\n",
       "      <td>8.0</td>\n",
       "      <td>2.5</td>\n",
       "      <td>Human</td>\n",
       "      <td>2020-07-22 21:51:00+00:00</td>\n",
       "      <td>WF</td>\n",
       "      <td>FI</td>\n",
       "      <td>33.195810</td>\n",
       "      <td>-111.348700</td>\n",
       "      <td>{951823FA-0B72-4295-87C8-E042D602324E}</td>\n",
       "      <td>1450</td>\n",
       "      <td>Pinal</td>\n",
       "      <td>AZTDC</td>\n",
       "      <td>4021</td>\n",
       "      <td>US-AZ</td>\n",
       "      <td>2020-AZA3S-001450</td>\n",
       "    </tr>\n",
       "    <tr>\n",
       "      <th>1</th>\n",
       "      <td>-115.748812</td>\n",
       "      <td>40.617506</td>\n",
       "      <td>2020-08-03 23:00:00+00:00</td>\n",
       "      <td>2020-09-02 15:00:00+00:00</td>\n",
       "      <td>5985.9</td>\n",
       "      <td>5.0</td>\n",
       "      <td>Natural</td>\n",
       "      <td>2020-07-19 23:00:00+00:00</td>\n",
       "      <td>WF</td>\n",
       "      <td>FI</td>\n",
       "      <td>40.602563</td>\n",
       "      <td>-115.719777</td>\n",
       "      <td>{91E0CBAB-A24E-4590-B6C6-2B4A46907E8A}</td>\n",
       "      <td>10145</td>\n",
       "      <td>Elko</td>\n",
       "      <td>NVEIC</td>\n",
       "      <td>32007</td>\n",
       "      <td>US-NV</td>\n",
       "      <td>2020-NVECFX-010145</td>\n",
       "    </tr>\n",
       "    <tr>\n",
       "      <th>2</th>\n",
       "      <td>-108.193611</td>\n",
       "      <td>39.858486</td>\n",
       "      <td>2020-08-30 00:00:00+00:00</td>\n",
       "      <td>2020-09-10 14:00:00+00:00</td>\n",
       "      <td>0.1</td>\n",
       "      <td>1.0</td>\n",
       "      <td>Natural</td>\n",
       "      <td>2020-08-29 21:46:00+00:00</td>\n",
       "      <td>WF</td>\n",
       "      <td>FI</td>\n",
       "      <td>39.891710</td>\n",
       "      <td>-108.266500</td>\n",
       "      <td>{3568D344-E3FB-415C-8014-ED34ECEAAB25}</td>\n",
       "      <td>323</td>\n",
       "      <td>Rio Blanco</td>\n",
       "      <td>COCRC</td>\n",
       "      <td>8103</td>\n",
       "      <td>US-CO</td>\n",
       "      <td>2020-COWRD-000323</td>\n",
       "    </tr>\n",
       "    <tr>\n",
       "      <th>3</th>\n",
       "      <td>-109.703111</td>\n",
       "      <td>40.227646</td>\n",
       "      <td>2020-10-28 20:15:00+00:00</td>\n",
       "      <td>2020-10-28 20:15:00+00:00</td>\n",
       "      <td>0.1</td>\n",
       "      <td>0.1</td>\n",
       "      <td>Human</td>\n",
       "      <td>2020-10-28 19:37:00+00:00</td>\n",
       "      <td>WF</td>\n",
       "      <td>FI</td>\n",
       "      <td>40.227700</td>\n",
       "      <td>-109.703169</td>\n",
       "      <td>{4BEBC503-DACD-4198-A1D8-323B614DA555}</td>\n",
       "      <td>100463</td>\n",
       "      <td>Uintah</td>\n",
       "      <td>UTUBC</td>\n",
       "      <td>49047</td>\n",
       "      <td>US-UT</td>\n",
       "      <td>2020-UTNES-100463</td>\n",
       "    </tr>\n",
       "    <tr>\n",
       "      <th>4</th>\n",
       "      <td>-110.385511</td>\n",
       "      <td>31.961145</td>\n",
       "      <td>2020-07-10 18:14:59+00:00</td>\n",
       "      <td>2020-07-10 18:14:59+00:00</td>\n",
       "      <td>0.1</td>\n",
       "      <td>0.1</td>\n",
       "      <td>Human</td>\n",
       "      <td>2020-07-09 16:34:59+00:00</td>\n",
       "      <td>WF</td>\n",
       "      <td>FI</td>\n",
       "      <td>31.961200</td>\n",
       "      <td>-110.385600</td>\n",
       "      <td>{FB125AAC-0DE2-4547-A2D3-32891D98CB0F}</td>\n",
       "      <td>1263</td>\n",
       "      <td>Cochise</td>\n",
       "      <td>AZTDC</td>\n",
       "      <td>4003</td>\n",
       "      <td>US-AZ</td>\n",
       "      <td>2020-AZA3S-001263</td>\n",
       "    </tr>\n",
       "  </tbody>\n",
       "</table>\n",
       "</div>"
      ],
      "text/plain": [
       "            X          Y        ContainmentDateTime  \\\n",
       "0 -111.348611  33.195755  2020-07-23 05:29:59+00:00   \n",
       "1 -115.748812  40.617506  2020-08-03 23:00:00+00:00   \n",
       "2 -108.193611  39.858486  2020-08-30 00:00:00+00:00   \n",
       "3 -109.703111  40.227646  2020-10-28 20:15:00+00:00   \n",
       "4 -110.385511  31.961145  2020-07-10 18:14:59+00:00   \n",
       "\n",
       "             ControlDateTime  DailyAcres  DiscoveryAcres FireCause  \\\n",
       "0  2020-07-23 05:29:59+00:00         8.0             2.5     Human   \n",
       "1  2020-09-02 15:00:00+00:00      5985.9             5.0   Natural   \n",
       "2  2020-09-10 14:00:00+00:00         0.1             1.0   Natural   \n",
       "3  2020-10-28 20:15:00+00:00         0.1             0.1     Human   \n",
       "4  2020-07-10 18:14:59+00:00         0.1             0.1     Human   \n",
       "\n",
       "       FireDiscoveryDateTime IncidentTypeCategory IncidentTypeKind  \\\n",
       "0  2020-07-22 21:51:00+00:00                   WF               FI   \n",
       "1  2020-07-19 23:00:00+00:00                   WF               FI   \n",
       "2  2020-08-29 21:46:00+00:00                   WF               FI   \n",
       "3  2020-10-28 19:37:00+00:00                   WF               FI   \n",
       "4  2020-07-09 16:34:59+00:00                   WF               FI   \n",
       "\n",
       "   InitialLatitude  InitialLongitude                                 IrwinID  \\\n",
       "0        33.195810       -111.348700  {951823FA-0B72-4295-87C8-E042D602324E}   \n",
       "1        40.602563       -115.719777  {91E0CBAB-A24E-4590-B6C6-2B4A46907E8A}   \n",
       "2        39.891710       -108.266500  {3568D344-E3FB-415C-8014-ED34ECEAAB25}   \n",
       "3        40.227700       -109.703169  {4BEBC503-DACD-4198-A1D8-323B614DA555}   \n",
       "4        31.961200       -110.385600  {FB125AAC-0DE2-4547-A2D3-32891D98CB0F}   \n",
       "\n",
       "   LocalIncidentIdentifier   POOCounty POODispatchCenterID  POOFips POOState  \\\n",
       "0                     1450       Pinal               AZTDC     4021    US-AZ   \n",
       "1                    10145        Elko               NVEIC    32007    US-NV   \n",
       "2                      323  Rio Blanco               COCRC     8103    US-CO   \n",
       "3                   100463      Uintah               UTUBC    49047    US-UT   \n",
       "4                     1263     Cochise               AZTDC     4003    US-AZ   \n",
       "\n",
       "  UniqueFireIdentifier  \n",
       "0    2020-AZA3S-001450  \n",
       "1   2020-NVECFX-010145  \n",
       "2    2020-COWRD-000323  \n",
       "3    2020-UTNES-100463  \n",
       "4    2020-AZA3S-001263  "
      ]
     },
     "execution_count": 3,
     "metadata": {},
     "output_type": "execute_result"
    }
   ],
   "source": [
    "df.head()"
   ]
  },
  {
   "cell_type": "code",
   "execution_count": 4,
   "id": "e50213b0-40fe-4571-a5f1-4ada3a22abb1",
   "metadata": {},
   "outputs": [
    {
     "data": {
      "text/plain": [
       "<AxesSubplot: xlabel='FireCause', ylabel='Count'>"
      ]
     },
     "execution_count": 4,
     "metadata": {},
     "output_type": "execute_result"
    },
    {
     "data": {
      "image/png": "[encoded data removed]",
      "text/plain": [
       "<Figure size 640x480 with 1 Axes>"
      ]
     },
     "metadata": {},
     "output_type": "display_data"
    }
   ],
   "source": [
    "sns.histplot(df['FireCause'])"
   ]
  },
  {
   "cell_type": "code",
   "execution_count": 5,
   "id": "b1c2fe7b-2244-47e2-a754-01e9da13f91d",
   "metadata": {},
   "outputs": [
    {
     "data": {
      "image/png": "[encoded data removed]",
      "text/plain": [
       "<Figure size 640x480 with 1 Axes>"
      ]
     },
     "metadata": {},
     "output_type": "display_data"
    }
   ],
   "source": [
    "plt.hist(df['DailyAcres'], bins = 25);"
   ]
  },
  {
   "cell_type": "code",
   "execution_count": 6,
   "id": "5ae48b7e-ea03-486c-84a5-cea75e664490",
   "metadata": {},
   "outputs": [
    {
     "data": {
      "text/plain": [
       "<AxesSubplot: >"
      ]
     },
     "execution_count": 6,
     "metadata": {},
     "output_type": "execute_result"
    },
    {
     "data": {
      "image/png": "[encoded data removed]",
      "text/plain": [
       "<Figure size 640x480 with 1 Axes>"
      ]
     },
     "metadata": {},
     "output_type": "display_data"
    }
   ],
   "source": [
    "sns.boxplot(data = df['DailyAcres'])"
   ]
  },
  {
   "cell_type": "code",
   "execution_count": 7,
   "id": "440fc9ad-f208-47fd-9006-96f9bf600c94",
   "metadata": {},
   "outputs": [
    {
     "data": {
      "text/plain": [
       "307.96860695406514"
      ]
     },
     "execution_count": 7,
     "metadata": {},
     "output_type": "execute_result"
    }
   ],
   "source": [
    "df['DailyAcres'].mean()"
   ]
  },
  {
   "cell_type": "code",
   "execution_count": 8,
   "id": "c52a6ab6-0220-4e64-9ec2-e4f478e64acf",
   "metadata": {},
   "outputs": [
    {
     "data": {
      "text/plain": [
       "0.1"
      ]
     },
     "execution_count": 8,
     "metadata": {},
     "output_type": "execute_result"
    }
   ],
   "source": [
    "df['DailyAcres'].median()"
   ]
  },
  {
   "cell_type": "code",
   "execution_count": 9,
   "id": "779e663e-0926-4ae8-992c-70af5f9080f8",
   "metadata": {},
   "outputs": [],
   "source": [
    "df['FireDiscoveryDateTime'] = pd.to_datetime(df['FireDiscoveryDateTime'])\n",
    "df['ControlDateTime'] = pd.to_datetime(df['ControlDateTime'])\n",
    "df['ContainmentDateTime'] = pd.to_datetime(df['ContainmentDateTime'])"
   ]
  },
  {
   "cell_type": "code",
   "execution_count": 10,
   "id": "df2669be-250e-448c-b8b6-ac04a4d8f6fa",
   "metadata": {},
   "outputs": [],
   "source": [
    "df['TimeToContained'] = df['ContainmentDateTime'] - df['FireDiscoveryDateTime']\n",
    "df['TimeToControlled'] = df['ControlDateTime'] - df['FireDiscoveryDateTime']"
   ]
  },
  {
   "cell_type": "code",
   "execution_count": 11,
   "id": "7353dc6c-bb9f-4c59-9851-0341ef046d7d",
   "metadata": {},
   "outputs": [
    {
     "name": "stdout",
     "output_type": "stream",
     "text": [
      "Time to Controlled Mean: 3 days 05:55:11.278120792 and Median: 0 days 07:01:59\n",
      "Time to Contained Mean: 1 days 10:26:19.465762963 and Median: 0 days 02:07:01\n"
     ]
    }
   ],
   "source": [
    "print(f\"Time to Controlled Mean: {df['TimeToControlled'].mean()} and Median: {df['TimeToControlled'].median()}\")\n",
    "print(f\"Time to Contained Mean: {df['TimeToContained'].mean()} and Median: {df['TimeToContained'].median()}\")"
   ]
  },
  {
   "cell_type": "code",
   "execution_count": 12,
   "id": "f014ae6d-2e0e-4279-a22e-018a052b74ab",
   "metadata": {},
   "outputs": [
    {
     "data": {
      "text/plain": [
       "(1843, 21)"
      ]
     },
     "execution_count": 12,
     "metadata": {},
     "output_type": "execute_result"
    }
   ],
   "source": [
    "big = df[df['DailyAcres'] > 10]\n",
    "big.shape"
   ]
  },
  {
   "cell_type": "code",
   "execution_count": 13,
   "id": "75ffa31d-1ce4-47c8-9f69-81c74f306c89",
   "metadata": {},
   "outputs": [
    {
     "name": "stdout",
     "output_type": "stream",
     "text": [
      "Time to Controlled Mean: 15 days 00:17:09.180141074 and Median: 5 days 03:26:10\n",
      "Time to Contained Mean: 7 days 17:59:15.082474226 and Median: 2 days 00:00:59\n"
     ]
    }
   ],
   "source": [
    "print(f\"Time to Controlled Mean: {big['TimeToControlled'].mean()} and Median: {big['TimeToControlled'].median()}\")\n",
    "print(f\"Time to Contained Mean: {big['TimeToContained'].mean()} and Median: {big['TimeToContained'].median()}\")"
   ]
  },
  {
   "cell_type": "code",
   "execution_count": 14,
   "id": "d2bf81cc-5a6c-4e5c-a69f-7c40a0ede5fe",
   "metadata": {},
   "outputs": [
    {
     "data": {
      "text/plain": [
       "20.00     0.021161\n",
       "15.00     0.017363\n",
       "30.00     0.013022\n",
       "13.00     0.012480\n",
       "25.00     0.012480\n",
       "            ...   \n",
       "348.28    0.000543\n",
       "681.10    0.000543\n",
       "267.00    0.000543\n",
       "59.72     0.000543\n",
       "14.20     0.000543\n",
       "Name: DailyAcres, Length: 1039, dtype: float64"
      ]
     },
     "execution_count": 14,
     "metadata": {},
     "output_type": "execute_result"
    }
   ],
   "source": [
    "big['DailyAcres'].value_counts(normalize=True)"
   ]
  },
  {
   "cell_type": "code",
   "execution_count": 15,
   "id": "f621a058-1586-4cdd-bef0-a0ccccf2da62",
   "metadata": {},
   "outputs": [
    {
     "data": {
      "text/plain": [
       "<AxesSubplot: >"
      ]
     },
     "execution_count": 15,
     "metadata": {},
     "output_type": "execute_result"
    },
    {
     "data": {
      "image/png": "[encoded data removed]",
      "text/plain": [
       "<Figure size 640x480 with 1 Axes>"
      ]
     },
     "metadata": {},
     "output_type": "display_data"
    }
   ],
   "source": [
    "big.reset_index(drop = True, inplace = True)\n",
    "sns.boxplot(data = big['DailyAcres'])"
   ]
  },
  {
   "cell_type": "code",
   "execution_count": 16,
   "id": "28e5bce6-883a-4c80-80a6-c93279e22fe9",
   "metadata": {},
   "outputs": [
    {
     "data": {
      "text/plain": [
       "(3593.064546391755, 60.02)"
      ]
     },
     "execution_count": 16,
     "metadata": {},
     "output_type": "execute_result"
    }
   ],
   "source": [
    "big['DailyAcres'].mean(), big['DailyAcres'].median()"
   ]
  },
  {
   "cell_type": "code",
   "execution_count": 17,
   "id": "f1d25f70-142a-4e5e-80e2-0c22c3013356",
   "metadata": {},
   "outputs": [
    {
     "data": {
      "text/html": [
       "<div>\n",
       "<style scoped>\n",
       "    .dataframe tbody tr th:only-of-type {\n",
       "        vertical-align: middle;\n",
       "    }\n",
       "\n",
       "    .dataframe tbody tr th {\n",
       "        vertical-align: top;\n",
       "    }\n",
       "\n",
       "    .dataframe thead th {\n",
       "        text-align: right;\n",
       "    }\n",
       "</style>\n",
       "<table border=\"1\" class=\"dataframe\">\n",
       "  <thead>\n",
       "    <tr style=\"text-align: right;\">\n",
       "      <th></th>\n",
       "      <th>X</th>\n",
       "      <th>Y</th>\n",
       "      <th>ContainmentDateTime</th>\n",
       "      <th>ControlDateTime</th>\n",
       "      <th>DailyAcres</th>\n",
       "      <th>DiscoveryAcres</th>\n",
       "      <th>FireCause</th>\n",
       "      <th>FireDiscoveryDateTime</th>\n",
       "      <th>IncidentTypeCategory</th>\n",
       "      <th>IncidentTypeKind</th>\n",
       "      <th>...</th>\n",
       "      <th>InitialLongitude</th>\n",
       "      <th>IrwinID</th>\n",
       "      <th>LocalIncidentIdentifier</th>\n",
       "      <th>POOCounty</th>\n",
       "      <th>POODispatchCenterID</th>\n",
       "      <th>POOFips</th>\n",
       "      <th>POOState</th>\n",
       "      <th>UniqueFireIdentifier</th>\n",
       "      <th>TimeToContained</th>\n",
       "      <th>TimeToControlled</th>\n",
       "    </tr>\n",
       "  </thead>\n",
       "  <tbody>\n",
       "    <tr>\n",
       "      <th>0</th>\n",
       "      <td>-111.348611</td>\n",
       "      <td>33.195755</td>\n",
       "      <td>2020-07-23 05:29:59+00:00</td>\n",
       "      <td>2020-07-23 05:29:59+00:00</td>\n",
       "      <td>8.0</td>\n",
       "      <td>2.5</td>\n",
       "      <td>Human</td>\n",
       "      <td>2020-07-22 21:51:00+00:00</td>\n",
       "      <td>WF</td>\n",
       "      <td>FI</td>\n",
       "      <td>...</td>\n",
       "      <td>-111.348700</td>\n",
       "      <td>{951823FA-0B72-4295-87C8-E042D602324E}</td>\n",
       "      <td>1450</td>\n",
       "      <td>Pinal</td>\n",
       "      <td>AZTDC</td>\n",
       "      <td>4021</td>\n",
       "      <td>US-AZ</td>\n",
       "      <td>2020-AZA3S-001450</td>\n",
       "      <td>0 days 07:38:59</td>\n",
       "      <td>0 days 07:38:59</td>\n",
       "    </tr>\n",
       "    <tr>\n",
       "      <th>1</th>\n",
       "      <td>-115.748812</td>\n",
       "      <td>40.617506</td>\n",
       "      <td>2020-08-03 23:00:00+00:00</td>\n",
       "      <td>2020-09-02 15:00:00+00:00</td>\n",
       "      <td>5985.9</td>\n",
       "      <td>5.0</td>\n",
       "      <td>Natural</td>\n",
       "      <td>2020-07-19 23:00:00+00:00</td>\n",
       "      <td>WF</td>\n",
       "      <td>FI</td>\n",
       "      <td>...</td>\n",
       "      <td>-115.719777</td>\n",
       "      <td>{91E0CBAB-A24E-4590-B6C6-2B4A46907E8A}</td>\n",
       "      <td>10145</td>\n",
       "      <td>Elko</td>\n",
       "      <td>NVEIC</td>\n",
       "      <td>32007</td>\n",
       "      <td>US-NV</td>\n",
       "      <td>2020-NVECFX-010145</td>\n",
       "      <td>15 days 00:00:00</td>\n",
       "      <td>44 days 16:00:00</td>\n",
       "    </tr>\n",
       "    <tr>\n",
       "      <th>2</th>\n",
       "      <td>-108.193611</td>\n",
       "      <td>39.858486</td>\n",
       "      <td>2020-08-30 00:00:00+00:00</td>\n",
       "      <td>2020-09-10 14:00:00+00:00</td>\n",
       "      <td>0.1</td>\n",
       "      <td>1.0</td>\n",
       "      <td>Natural</td>\n",
       "      <td>2020-08-29 21:46:00+00:00</td>\n",
       "      <td>WF</td>\n",
       "      <td>FI</td>\n",
       "      <td>...</td>\n",
       "      <td>-108.266500</td>\n",
       "      <td>{3568D344-E3FB-415C-8014-ED34ECEAAB25}</td>\n",
       "      <td>323</td>\n",
       "      <td>Rio Blanco</td>\n",
       "      <td>COCRC</td>\n",
       "      <td>8103</td>\n",
       "      <td>US-CO</td>\n",
       "      <td>2020-COWRD-000323</td>\n",
       "      <td>0 days 02:14:00</td>\n",
       "      <td>11 days 16:14:00</td>\n",
       "    </tr>\n",
       "    <tr>\n",
       "      <th>3</th>\n",
       "      <td>-109.703111</td>\n",
       "      <td>40.227646</td>\n",
       "      <td>2020-10-28 20:15:00+00:00</td>\n",
       "      <td>2020-10-28 20:15:00+00:00</td>\n",
       "      <td>0.1</td>\n",
       "      <td>0.1</td>\n",
       "      <td>Human</td>\n",
       "      <td>2020-10-28 19:37:00+00:00</td>\n",
       "      <td>WF</td>\n",
       "      <td>FI</td>\n",
       "      <td>...</td>\n",
       "      <td>-109.703169</td>\n",
       "      <td>{4BEBC503-DACD-4198-A1D8-323B614DA555}</td>\n",
       "      <td>100463</td>\n",
       "      <td>Uintah</td>\n",
       "      <td>UTUBC</td>\n",
       "      <td>49047</td>\n",
       "      <td>US-UT</td>\n",
       "      <td>2020-UTNES-100463</td>\n",
       "      <td>0 days 00:38:00</td>\n",
       "      <td>0 days 00:38:00</td>\n",
       "    </tr>\n",
       "    <tr>\n",
       "      <th>4</th>\n",
       "      <td>-110.385511</td>\n",
       "      <td>31.961145</td>\n",
       "      <td>2020-07-10 18:14:59+00:00</td>\n",
       "      <td>2020-07-10 18:14:59+00:00</td>\n",
       "      <td>0.1</td>\n",
       "      <td>0.1</td>\n",
       "      <td>Human</td>\n",
       "      <td>2020-07-09 16:34:59+00:00</td>\n",
       "      <td>WF</td>\n",
       "      <td>FI</td>\n",
       "      <td>...</td>\n",
       "      <td>-110.385600</td>\n",
       "      <td>{FB125AAC-0DE2-4547-A2D3-32891D98CB0F}</td>\n",
       "      <td>1263</td>\n",
       "      <td>Cochise</td>\n",
       "      <td>AZTDC</td>\n",
       "      <td>4003</td>\n",
       "      <td>US-AZ</td>\n",
       "      <td>2020-AZA3S-001263</td>\n",
       "      <td>1 days 01:40:00</td>\n",
       "      <td>1 days 01:40:00</td>\n",
       "    </tr>\n",
       "  </tbody>\n",
       "</table>\n",
       "<p>5 rows × 21 columns</p>\n",
       "</div>"
      ],
      "text/plain": [
       "            X          Y       ContainmentDateTime           ControlDateTime  \\\n",
       "0 -111.348611  33.195755 2020-07-23 05:29:59+00:00 2020-07-23 05:29:59+00:00   \n",
       "1 -115.748812  40.617506 2020-08-03 23:00:00+00:00 2020-09-02 15:00:00+00:00   \n",
       "2 -108.193611  39.858486 2020-08-30 00:00:00+00:00 2020-09-10 14:00:00+00:00   \n",
       "3 -109.703111  40.227646 2020-10-28 20:15:00+00:00 2020-10-28 20:15:00+00:00   \n",
       "4 -110.385511  31.961145 2020-07-10 18:14:59+00:00 2020-07-10 18:14:59+00:00   \n",
       "\n",
       "   DailyAcres  DiscoveryAcres FireCause     FireDiscoveryDateTime  \\\n",
       "0         8.0             2.5     Human 2020-07-22 21:51:00+00:00   \n",
       "1      5985.9             5.0   Natural 2020-07-19 23:00:00+00:00   \n",
       "2         0.1             1.0   Natural 2020-08-29 21:46:00+00:00   \n",
       "3         0.1             0.1     Human 2020-10-28 19:37:00+00:00   \n",
       "4         0.1             0.1     Human 2020-07-09 16:34:59+00:00   \n",
       "\n",
       "  IncidentTypeCategory IncidentTypeKind  ...  InitialLongitude  \\\n",
       "0                   WF               FI  ...       -111.348700   \n",
       "1                   WF               FI  ...       -115.719777   \n",
       "2                   WF               FI  ...       -108.266500   \n",
       "3                   WF               FI  ...       -109.703169   \n",
       "4                   WF               FI  ...       -110.385600   \n",
       "\n",
       "                                  IrwinID LocalIncidentIdentifier   POOCounty  \\\n",
       "0  {951823FA-0B72-4295-87C8-E042D602324E}                    1450       Pinal   \n",
       "1  {91E0CBAB-A24E-4590-B6C6-2B4A46907E8A}                   10145        Elko   \n",
       "2  {3568D344-E3FB-415C-8014-ED34ECEAAB25}                     323  Rio Blanco   \n",
       "3  {4BEBC503-DACD-4198-A1D8-323B614DA555}                  100463      Uintah   \n",
       "4  {FB125AAC-0DE2-4547-A2D3-32891D98CB0F}                    1263     Cochise   \n",
       "\n",
       "  POODispatchCenterID POOFips  POOState UniqueFireIdentifier  TimeToContained  \\\n",
       "0               AZTDC    4021     US-AZ    2020-AZA3S-001450  0 days 07:38:59   \n",
       "1               NVEIC   32007     US-NV   2020-NVECFX-010145 15 days 00:00:00   \n",
       "2               COCRC    8103     US-CO    2020-COWRD-000323  0 days 02:14:00   \n",
       "3               UTUBC   49047     US-UT    2020-UTNES-100463  0 days 00:38:00   \n",
       "4               AZTDC    4003     US-AZ    2020-AZA3S-001263  1 days 01:40:00   \n",
       "\n",
       "  TimeToControlled  \n",
       "0  0 days 07:38:59  \n",
       "1 44 days 16:00:00  \n",
       "2 11 days 16:14:00  \n",
       "3  0 days 00:38:00  \n",
       "4  1 days 01:40:00  \n",
       "\n",
       "[5 rows x 21 columns]"
      ]
     },
     "execution_count": 17,
     "metadata": {},
     "output_type": "execute_result"
    }
   ],
   "source": [
    "df.head()"
   ]
  },
  {
   "cell_type": "code",
   "execution_count": null,
   "id": "d24dc182-5378-4377-8c9c-aa4f9fb14f59",
   "metadata": {},
   "outputs": [],
   "source": []
  },
  {
   "cell_type": "code",
   "execution_count": null,
   "id": "37faae7e-bd7f-4a25-8ec7-2538ef8e9841",
   "metadata": {},
   "outputs": [],
   "source": []
  }
 ],
 "metadata": {
  "kernelspec": {
   "display_name": "Python 3 (ipykernel)",
   "language": "python",
   "name": "python3"
  },
  "language_info": {
   "codemirror_mode": {
    "name": "ipython",
    "version": 3
   },
   "file_extension": ".py",
   "mimetype": "text/x-python",
   "name": "python",
   "nbconvert_exporter": "python",
   "pygments_lexer": "ipython3",
   "version": "3.9.13"
  }
 },
 "nbformat": 4,
 "nbformat_minor": 5
}
