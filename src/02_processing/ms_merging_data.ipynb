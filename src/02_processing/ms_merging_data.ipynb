{
 "cells": [
  {
   "cell_type": "markdown",
   "id": "07dab743-26b3-4599-9bb4-e500cd2da908",
   "metadata": {},
   "source": [
    "# Merging wildfires, land cover and meteorology data together\n",
    "This is a final step of data preprocessing before data to be fed into machine learning models."
   ]
  },
  {
   "cell_type": "code",
   "execution_count": 1,
   "id": "cdc4a422-769c-45d5-94cf-0348a1f7a659",
   "metadata": {},
   "outputs": [],
   "source": [
    "# Libraries imports\n",
    "import pandas as pd\n",
    "import numpy as np"
   ]
  },
  {
   "cell_type": "code",
   "execution_count": 2,
   "id": "84a7fae8-5922-4cc2-acb1-946ff80ce7c8",
   "metadata": {},
   "outputs": [],
   "source": [
    "# Data imports\n",
    "wildfires = pd.read_csv('../../data/cleaned/wildfires_all.csv')\n",
    "landcover = pd.read_csv('../../data/cleaned/landcover.csv')\n",
    "historical_precip = pd.read_csv('../../data/processed/meteorology_historical_rain_snow_sum_6mo.csv')\n",
    "weather = pd.read_csv('../../data/processed/wildfire_weather.csv')"
   ]
  },
  {
   "cell_type": "code",
   "execution_count": 3,
   "id": "1707fa96-0acd-4a0f-9587-fd30ef8b640b",
   "metadata": {},
   "outputs": [],
   "source": [
    "# Merging wildfires with historical precipitation\n",
    "data = historical_precip.merge(wildfires, on='UniqueFireIdentifier')"
   ]
  },
  {
   "cell_type": "code",
   "execution_count": 4,
   "id": "278203b1-a4b3-4438-bf7b-8eb1825367e4",
   "metadata": {},
   "outputs": [],
   "source": [
    "# Merging data with first day of the fire meteorological conditions\n",
    "data1 = data.merge(weather, left_on = 'id', right_on = 'id')"
   ]
  },
  {
   "cell_type": "code",
   "execution_count": 5,
   "id": "58319157-5d7e-42c7-af1e-a937d453c608",
   "metadata": {},
   "outputs": [],
   "source": [
    "# Merging data with vegetation types\n",
    "data2 = data1.merge(landcover, left_on = 'id', right_on = 'fire_id')"
   ]
  },
  {
   "cell_type": "code",
   "execution_count": 7,
   "id": "8b228fce-133c-4c8a-bb7e-a79275de665c",
   "metadata": {},
   "outputs": [],
   "source": [
    "# Filtering out columns not participating in fire acreage prediction\n",
    "master_dataset = data2.drop(columns = ['UniqueFireIdentifier', 'X', 'Y', 'ContainmentDateTime', 'ControlDateTime', 'DailyAcres', 'FireCause', 'FireDiscoveryDateTime',\n",
    "                      'IncidentTypeCategory', 'IncidentTypeKind', 'InitialLatitude', 'InitialLongitude','IrwinID','LocalIncidentIdentifier','POOCounty',\n",
    "                      'POODispatchCenterID','POOFips','POOState','fire_id_x','x','y','firecause','firediscoverydatetime','incidenttypecategory','containmentdatetime',\n",
    "                      'controldatetime','dailyacres','discoveryacres','incidenttypekind','initiallatitude','initiallongitude','rain_sum', 'fire_id_y',\n",
    "                     'irwinid','localincidentidentifier','poocounty','poodispatchcenterid','poofips','poostate','uniquefireidentifier','wind_speed_2m_mean',\t\n",
    "                      'wind_speed_2m_max_mean','wind_speed_10m_mean','wind_speed_10m_max_mean','humidity_mean','temp_2m_mean'])"
   ]
  },
  {
   "cell_type": "code",
   "execution_count": 11,
   "id": "31d0f069-ff6c-4894-b657-532ffac9983c",
   "metadata": {},
   "outputs": [],
   "source": [
    "# Setting id as index\n",
    "master_dataset.set_index('id', inplace = True)"
   ]
  },
  {
   "cell_type": "code",
   "execution_count": 12,
   "id": "bf0ca440-29a6-435b-9756-3d396339c833",
   "metadata": {},
   "outputs": [],
   "source": [
    "# Export of the final dataset to be used in modeling\n",
    "master_dataset.to_csv('../../data/processed/master_dataset.csv', index = False)"
   ]
  }
 ],
 "metadata": {
  "kernelspec": {
   "display_name": "Python 3 (ipykernel)",
   "language": "python",
   "name": "python3"
  },
  "language_info": {
   "codemirror_mode": {
    "name": "ipython",
    "version": 3
   },
   "file_extension": ".py",
   "mimetype": "text/x-python",
   "name": "python",
   "nbconvert_exporter": "python",
   "pygments_lexer": "ipython3",
   "version": "3.10.9"
  }
 },
 "nbformat": 4,
 "nbformat_minor": 5
}
